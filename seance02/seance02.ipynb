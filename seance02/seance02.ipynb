{
 "cells": [
  {
   "cell_type": "code",
   "execution_count": 1,
   "id": "b8066240-4f77-4fa9-a25d-f2725280c17f",
   "metadata": {},
   "outputs": [],
   "source": [
    "from enum import Enum\n",
    "from dataclasses import dataclass\n",
    "from rich import print\n",
    "from typing import TypeVar"
   ]
  },
  {
   "cell_type": "code",
   "execution_count": 3,
   "id": "bbbf110d-6bca-4304-bee2-a68a4e6f3547",
   "metadata": {},
   "outputs": [],
   "source": [
    "# code de la séance précédente\n",
    "\n",
    "class Rive(Enum):\n",
    "    GAUCHE = \"gauche\"\n",
    "    DROITE = \"droite\"\n",
    " \n",
    "# frozen pour pouvoir utiliser un Etat comme clef de dictionnaire\n",
    "@dataclass(frozen=True)\n",
    "class Etat:\n",
    "    berger: Rive\n",
    "    loup: Rive\n",
    "    mouton: Rive\n",
    "    chou: Rive\n",
    "    \n",
    "DEPART = Etat(\n",
    "    berger=Rive.GAUCHE, \n",
    "    loup=Rive.GAUCHE,\n",
    "    mouton=Rive.GAUCHE,\n",
    "    chou=Rive.GAUCHE,\n",
    ")\n",
    "\n",
    "ARRIVEE = Etat(\n",
    "    berger=Rive.DROITE, \n",
    "    loup=Rive.DROITE,\n",
    "    mouton=Rive.DROITE,\n",
    "    chou=Rive.DROITE,\n",
    ")\n",
    "\n",
    "etats = list()\n",
    "for cote_berger in (Rive.GAUCHE, Rive.DROITE):\n",
    "    for cote_loup in (Rive.GAUCHE, Rive.DROITE):\n",
    "        for cote_mouton in (Rive.GAUCHE, Rive.DROITE):\n",
    "            for cote_chou in (Rive.GAUCHE, Rive.DROITE):\n",
    "                etats.append(\n",
    "                    Etat(\n",
    "                        berger=cote_berger,\n",
    "                        loup=cote_loup,\n",
    "                        mouton=cote_mouton,\n",
    "                        chou = cote_chou,\n",
    "                    )\n",
    "                )\n",
    "                \n",
    "def est_valide(etat: Etat) -> bool:\n",
    "    if etat.loup == etat.mouton and etat.loup != etat.berger:\n",
    "        return False\n",
    "    if etat.mouton == etat.chou and etat.mouton != etat.berger:\n",
    "        return False\n",
    "    return True\n",
    "\n",
    "assert est_valide(etat=DEPART)\n",
    "probleme = Etat(\n",
    "    berger=Rive.GAUCHE,\n",
    "    loup=Rive.DROITE,\n",
    "    mouton=Rive.DROITE,\n",
    "    chou=Rive.GAUCHE,\n",
    ")\n",
    "assert not est_valide(etat=probleme)\n",
    "SOMMETS = [etat for etat in etats if est_valide(etat)]\n",
    "def sont_relies(etat1: Etat, etat2: Etat) -> bool:\n",
    "    if etat1.berger == etat2.berger:\n",
    "        return False\n",
    "    nombre_changements = 0\n",
    "    if etat1.loup != etat2.loup:\n",
    "        nombre_changements = nombre_changements + 1\n",
    "    if etat1.mouton != etat2.mouton:\n",
    "        nombre_changements = nombre_changements + 1\n",
    "    if etat1.chou != etat2.chou:\n",
    "        nombre_changements = nombre_changements + 1\n",
    "    if nombre_changements < 2:\n",
    "        return True\n",
    "    else:\n",
    "        return False\n",
    "    \n",
    "assert not sont_relies(\n",
    "    etat1=Etat(\n",
    "        berger=Rive.GAUCHE,\n",
    "        loup=Rive.GAUCHE,\n",
    "        mouton=Rive.GAUCHE,\n",
    "        chou=Rive.GAUCHE,\n",
    "    ),\n",
    "    etat2=Etat(\n",
    "        berger=Rive.GAUCHE,\n",
    "        loup=Rive.GAUCHE,\n",
    "        mouton=Rive.GAUCHE,\n",
    "        chou=Rive.GAUCHE,\n",
    "    ),\n",
    ")\n",
    "assert sont_relies(\n",
    "    etat1=Etat(\n",
    "        berger=Rive.GAUCHE,\n",
    "        loup=Rive.GAUCHE,\n",
    "        mouton=Rive.GAUCHE,\n",
    "        chou=Rive.GAUCHE,\n",
    "    ),\n",
    "    etat2=Etat(\n",
    "        berger=Rive.DROITE,\n",
    "        loup=Rive.GAUCHE,\n",
    "        mouton=Rive.DROITE,\n",
    "        chou=Rive.GAUCHE,\n",
    "    ),\n",
    ")\n",
    "\n",
    "ARRETES = [\n",
    "    (sommet1, sommet2)\n",
    "    for sommet1 in SOMMETS\n",
    "    for sommet2 in SOMMETS\n",
    "    if sont_relies(sommet1, sommet2)\n",
    "]\n",
    "assert len(ARRETES) == 20"
   ]
  },
  {
   "cell_type": "markdown",
   "id": "77a3c8a3-78ee-4d2e-a29d-12f6d4e4ad5c",
   "metadata": {},
   "source": [
    "## Début séance 02"
   ]
  },
  {
   "cell_type": "code",
   "execution_count": 4,
   "id": "ec9628fd-55c3-4c79-bfb7-6bf330cda5fa",
   "metadata": {},
   "outputs": [],
   "source": [
    "S = TypeVar(\"Sommet\")"
   ]
  },
  {
   "cell_type": "code",
   "execution_count": 5,
   "id": "1f74d01f-ee2e-401e-aa4b-81b68fb078f1",
   "metadata": {},
   "outputs": [],
   "source": [
    "def recupere_voisins(sommet: S, arretes: list[tuple[S, S]]) -> list[S]:\n",
    "    resultat = list()\n",
    "    for sommet1, sommet2 in arretes:\n",
    "        if sommet1 == sommet:\n",
    "            resultat.append(sommet2)\n",
    "    return resultat"
   ]
  },
  {
   "cell_type": "code",
   "execution_count": 6,
   "id": "8befc5fb-e178-4461-bc0c-57e9717c428e",
   "metadata": {},
   "outputs": [],
   "source": [
    "assert recupere_voisins(sommet=1, arretes=[(1, 2), (3, 1)]) == [2]\n",
    "assert (\n",
    "    recupere_voisins(\n",
    "        sommet=2, \n",
    "        arretes=[(1, 2), (2, 3), (2, 5), (3, 4), (4, 5), (5, 6), (6, 7), (8, 6)]) \n",
    "    == \n",
    "    [3, 5]\n",
    ")"
   ]
  },
  {
   "cell_type": "code",
   "execution_count": 7,
   "id": "7a3551a9-37e2-45b4-a5f2-c2125ecd97b2",
   "metadata": {},
   "outputs": [],
   "source": [
    "def sont_connectes(\n",
    "    depart: S, \n",
    "    arrivee: S,\n",
    "    sommets: list[S],\n",
    "    arretes: list[tuple[S, S]],\n",
    "    debug: bool=False,\n",
    ") -> bool:\n",
    "    a_visiter = [depart]\n",
    "    visites = []\n",
    "    while a_visiter:\n",
    "        if debug:\n",
    "            print(f\"{a_visiter=}\")\n",
    "            print(f\"{visites=}\")\n",
    "            print()\n",
    "        sommet_courant = a_visiter.pop()\n",
    "        visites.append(sommet_courant)\n",
    "        for voisin in recupere_voisins(sommet=sommet_courant, arretes=arretes):\n",
    "            if voisin not in visites:\n",
    "                a_visiter.append(voisin)\n",
    "        if sommet_courant == arrivee:\n",
    "            return True\n",
    "    return False"
   ]
  },
  {
   "cell_type": "code",
   "execution_count": 8,
   "id": "96fd4742-3da9-409e-a3bd-f2ccf132c787",
   "metadata": {},
   "outputs": [],
   "source": [
    "sommets = [1, 2, 3, 4, 5, 6, 7, 8]\n",
    "arretes = [(1, 2), (2, 3), (2, 5), (3, 4), (4, 5), (5, 6), (6, 7), (8, 6)]\n",
    "assert sont_connectes(depart=1, arrivee=7, sommets=sommets, arretes=arretes)\n",
    "assert not sont_connectes(depart=1, arrivee=8, sommets=sommets, arretes=arretes)"
   ]
  },
  {
   "cell_type": "code",
   "execution_count": 9,
   "id": "39d940b6-fce0-426b-92f2-aaa22ce94503",
   "metadata": {},
   "outputs": [
    {
     "data": {
      "text/html": [
       "<pre style=\"white-space:pre;overflow-x:auto;line-height:normal;font-family:Menlo,'DejaVu Sans Mono',consolas,'Courier New',monospace\"><span style=\"color: #808000; text-decoration-color: #808000\">a_visiter</span>=<span style=\"font-weight: bold\">[</span><span style=\"color: #008080; text-decoration-color: #008080; font-weight: bold\">1</span><span style=\"font-weight: bold\">]</span>\n",
       "</pre>\n"
      ],
      "text/plain": [
       "\u001b[33ma_visiter\u001b[0m=\u001b[1m[\u001b[0m\u001b[1;36m1\u001b[0m\u001b[1m]\u001b[0m\n"
      ]
     },
     "metadata": {},
     "output_type": "display_data"
    },
    {
     "data": {
      "text/html": [
       "<pre style=\"white-space:pre;overflow-x:auto;line-height:normal;font-family:Menlo,'DejaVu Sans Mono',consolas,'Courier New',monospace\"><span style=\"color: #808000; text-decoration-color: #808000\">visites</span>=<span style=\"font-weight: bold\">[]</span>\n",
       "</pre>\n"
      ],
      "text/plain": [
       "\u001b[33mvisites\u001b[0m=\u001b[1m[\u001b[0m\u001b[1m]\u001b[0m\n"
      ]
     },
     "metadata": {},
     "output_type": "display_data"
    },
    {
     "data": {
      "text/html": [
       "<pre style=\"white-space:pre;overflow-x:auto;line-height:normal;font-family:Menlo,'DejaVu Sans Mono',consolas,'Courier New',monospace\">\n",
       "</pre>\n"
      ],
      "text/plain": [
       "\n"
      ]
     },
     "metadata": {},
     "output_type": "display_data"
    },
    {
     "data": {
      "text/html": [
       "<pre style=\"white-space:pre;overflow-x:auto;line-height:normal;font-family:Menlo,'DejaVu Sans Mono',consolas,'Courier New',monospace\"><span style=\"color: #808000; text-decoration-color: #808000\">a_visiter</span>=<span style=\"font-weight: bold\">[</span><span style=\"color: #008080; text-decoration-color: #008080; font-weight: bold\">2</span><span style=\"font-weight: bold\">]</span>\n",
       "</pre>\n"
      ],
      "text/plain": [
       "\u001b[33ma_visiter\u001b[0m=\u001b[1m[\u001b[0m\u001b[1;36m2\u001b[0m\u001b[1m]\u001b[0m\n"
      ]
     },
     "metadata": {},
     "output_type": "display_data"
    },
    {
     "data": {
      "text/html": [
       "<pre style=\"white-space:pre;overflow-x:auto;line-height:normal;font-family:Menlo,'DejaVu Sans Mono',consolas,'Courier New',monospace\"><span style=\"color: #808000; text-decoration-color: #808000\">visites</span>=<span style=\"font-weight: bold\">[</span><span style=\"color: #008080; text-decoration-color: #008080; font-weight: bold\">1</span><span style=\"font-weight: bold\">]</span>\n",
       "</pre>\n"
      ],
      "text/plain": [
       "\u001b[33mvisites\u001b[0m=\u001b[1m[\u001b[0m\u001b[1;36m1\u001b[0m\u001b[1m]\u001b[0m\n"
      ]
     },
     "metadata": {},
     "output_type": "display_data"
    },
    {
     "data": {
      "text/html": [
       "<pre style=\"white-space:pre;overflow-x:auto;line-height:normal;font-family:Menlo,'DejaVu Sans Mono',consolas,'Courier New',monospace\">\n",
       "</pre>\n"
      ],
      "text/plain": [
       "\n"
      ]
     },
     "metadata": {},
     "output_type": "display_data"
    },
    {
     "data": {
      "text/html": [
       "<pre style=\"white-space:pre;overflow-x:auto;line-height:normal;font-family:Menlo,'DejaVu Sans Mono',consolas,'Courier New',monospace\"><span style=\"color: #808000; text-decoration-color: #808000\">a_visiter</span>=<span style=\"font-weight: bold\">[</span><span style=\"color: #008080; text-decoration-color: #008080; font-weight: bold\">3</span>, <span style=\"color: #008080; text-decoration-color: #008080; font-weight: bold\">5</span><span style=\"font-weight: bold\">]</span>\n",
       "</pre>\n"
      ],
      "text/plain": [
       "\u001b[33ma_visiter\u001b[0m=\u001b[1m[\u001b[0m\u001b[1;36m3\u001b[0m, \u001b[1;36m5\u001b[0m\u001b[1m]\u001b[0m\n"
      ]
     },
     "metadata": {},
     "output_type": "display_data"
    },
    {
     "data": {
      "text/html": [
       "<pre style=\"white-space:pre;overflow-x:auto;line-height:normal;font-family:Menlo,'DejaVu Sans Mono',consolas,'Courier New',monospace\"><span style=\"color: #808000; text-decoration-color: #808000\">visites</span>=<span style=\"font-weight: bold\">[</span><span style=\"color: #008080; text-decoration-color: #008080; font-weight: bold\">1</span>, <span style=\"color: #008080; text-decoration-color: #008080; font-weight: bold\">2</span><span style=\"font-weight: bold\">]</span>\n",
       "</pre>\n"
      ],
      "text/plain": [
       "\u001b[33mvisites\u001b[0m=\u001b[1m[\u001b[0m\u001b[1;36m1\u001b[0m, \u001b[1;36m2\u001b[0m\u001b[1m]\u001b[0m\n"
      ]
     },
     "metadata": {},
     "output_type": "display_data"
    },
    {
     "data": {
      "text/html": [
       "<pre style=\"white-space:pre;overflow-x:auto;line-height:normal;font-family:Menlo,'DejaVu Sans Mono',consolas,'Courier New',monospace\">\n",
       "</pre>\n"
      ],
      "text/plain": [
       "\n"
      ]
     },
     "metadata": {},
     "output_type": "display_data"
    },
    {
     "data": {
      "text/html": [
       "<pre style=\"white-space:pre;overflow-x:auto;line-height:normal;font-family:Menlo,'DejaVu Sans Mono',consolas,'Courier New',monospace\"><span style=\"color: #808000; text-decoration-color: #808000\">a_visiter</span>=<span style=\"font-weight: bold\">[</span><span style=\"color: #008080; text-decoration-color: #008080; font-weight: bold\">3</span>, <span style=\"color: #008080; text-decoration-color: #008080; font-weight: bold\">6</span><span style=\"font-weight: bold\">]</span>\n",
       "</pre>\n"
      ],
      "text/plain": [
       "\u001b[33ma_visiter\u001b[0m=\u001b[1m[\u001b[0m\u001b[1;36m3\u001b[0m, \u001b[1;36m6\u001b[0m\u001b[1m]\u001b[0m\n"
      ]
     },
     "metadata": {},
     "output_type": "display_data"
    },
    {
     "data": {
      "text/html": [
       "<pre style=\"white-space:pre;overflow-x:auto;line-height:normal;font-family:Menlo,'DejaVu Sans Mono',consolas,'Courier New',monospace\"><span style=\"color: #808000; text-decoration-color: #808000\">visites</span>=<span style=\"font-weight: bold\">[</span><span style=\"color: #008080; text-decoration-color: #008080; font-weight: bold\">1</span>, <span style=\"color: #008080; text-decoration-color: #008080; font-weight: bold\">2</span>, <span style=\"color: #008080; text-decoration-color: #008080; font-weight: bold\">5</span><span style=\"font-weight: bold\">]</span>\n",
       "</pre>\n"
      ],
      "text/plain": [
       "\u001b[33mvisites\u001b[0m=\u001b[1m[\u001b[0m\u001b[1;36m1\u001b[0m, \u001b[1;36m2\u001b[0m, \u001b[1;36m5\u001b[0m\u001b[1m]\u001b[0m\n"
      ]
     },
     "metadata": {},
     "output_type": "display_data"
    },
    {
     "data": {
      "text/html": [
       "<pre style=\"white-space:pre;overflow-x:auto;line-height:normal;font-family:Menlo,'DejaVu Sans Mono',consolas,'Courier New',monospace\">\n",
       "</pre>\n"
      ],
      "text/plain": [
       "\n"
      ]
     },
     "metadata": {},
     "output_type": "display_data"
    },
    {
     "data": {
      "text/html": [
       "<pre style=\"white-space:pre;overflow-x:auto;line-height:normal;font-family:Menlo,'DejaVu Sans Mono',consolas,'Courier New',monospace\"><span style=\"color: #808000; text-decoration-color: #808000\">a_visiter</span>=<span style=\"font-weight: bold\">[</span><span style=\"color: #008080; text-decoration-color: #008080; font-weight: bold\">3</span>, <span style=\"color: #008080; text-decoration-color: #008080; font-weight: bold\">7</span><span style=\"font-weight: bold\">]</span>\n",
       "</pre>\n"
      ],
      "text/plain": [
       "\u001b[33ma_visiter\u001b[0m=\u001b[1m[\u001b[0m\u001b[1;36m3\u001b[0m, \u001b[1;36m7\u001b[0m\u001b[1m]\u001b[0m\n"
      ]
     },
     "metadata": {},
     "output_type": "display_data"
    },
    {
     "data": {
      "text/html": [
       "<pre style=\"white-space:pre;overflow-x:auto;line-height:normal;font-family:Menlo,'DejaVu Sans Mono',consolas,'Courier New',monospace\"><span style=\"color: #808000; text-decoration-color: #808000\">visites</span>=<span style=\"font-weight: bold\">[</span><span style=\"color: #008080; text-decoration-color: #008080; font-weight: bold\">1</span>, <span style=\"color: #008080; text-decoration-color: #008080; font-weight: bold\">2</span>, <span style=\"color: #008080; text-decoration-color: #008080; font-weight: bold\">5</span>, <span style=\"color: #008080; text-decoration-color: #008080; font-weight: bold\">6</span><span style=\"font-weight: bold\">]</span>\n",
       "</pre>\n"
      ],
      "text/plain": [
       "\u001b[33mvisites\u001b[0m=\u001b[1m[\u001b[0m\u001b[1;36m1\u001b[0m, \u001b[1;36m2\u001b[0m, \u001b[1;36m5\u001b[0m, \u001b[1;36m6\u001b[0m\u001b[1m]\u001b[0m\n"
      ]
     },
     "metadata": {},
     "output_type": "display_data"
    },
    {
     "data": {
      "text/html": [
       "<pre style=\"white-space:pre;overflow-x:auto;line-height:normal;font-family:Menlo,'DejaVu Sans Mono',consolas,'Courier New',monospace\">\n",
       "</pre>\n"
      ],
      "text/plain": [
       "\n"
      ]
     },
     "metadata": {},
     "output_type": "display_data"
    },
    {
     "data": {
      "text/html": [
       "<pre style=\"white-space:pre;overflow-x:auto;line-height:normal;font-family:Menlo,'DejaVu Sans Mono',consolas,'Courier New',monospace\"><span style=\"color: #808000; text-decoration-color: #808000\">a_visiter</span>=<span style=\"font-weight: bold\">[</span><span style=\"color: #008080; text-decoration-color: #008080; font-weight: bold\">3</span><span style=\"font-weight: bold\">]</span>\n",
       "</pre>\n"
      ],
      "text/plain": [
       "\u001b[33ma_visiter\u001b[0m=\u001b[1m[\u001b[0m\u001b[1;36m3\u001b[0m\u001b[1m]\u001b[0m\n"
      ]
     },
     "metadata": {},
     "output_type": "display_data"
    },
    {
     "data": {
      "text/html": [
       "<pre style=\"white-space:pre;overflow-x:auto;line-height:normal;font-family:Menlo,'DejaVu Sans Mono',consolas,'Courier New',monospace\"><span style=\"color: #808000; text-decoration-color: #808000\">visites</span>=<span style=\"font-weight: bold\">[</span><span style=\"color: #008080; text-decoration-color: #008080; font-weight: bold\">1</span>, <span style=\"color: #008080; text-decoration-color: #008080; font-weight: bold\">2</span>, <span style=\"color: #008080; text-decoration-color: #008080; font-weight: bold\">5</span>, <span style=\"color: #008080; text-decoration-color: #008080; font-weight: bold\">6</span>, <span style=\"color: #008080; text-decoration-color: #008080; font-weight: bold\">7</span><span style=\"font-weight: bold\">]</span>\n",
       "</pre>\n"
      ],
      "text/plain": [
       "\u001b[33mvisites\u001b[0m=\u001b[1m[\u001b[0m\u001b[1;36m1\u001b[0m, \u001b[1;36m2\u001b[0m, \u001b[1;36m5\u001b[0m, \u001b[1;36m6\u001b[0m, \u001b[1;36m7\u001b[0m\u001b[1m]\u001b[0m\n"
      ]
     },
     "metadata": {},
     "output_type": "display_data"
    },
    {
     "data": {
      "text/html": [
       "<pre style=\"white-space:pre;overflow-x:auto;line-height:normal;font-family:Menlo,'DejaVu Sans Mono',consolas,'Courier New',monospace\">\n",
       "</pre>\n"
      ],
      "text/plain": [
       "\n"
      ]
     },
     "metadata": {},
     "output_type": "display_data"
    },
    {
     "data": {
      "text/html": [
       "<pre style=\"white-space:pre;overflow-x:auto;line-height:normal;font-family:Menlo,'DejaVu Sans Mono',consolas,'Courier New',monospace\"><span style=\"color: #808000; text-decoration-color: #808000\">a_visiter</span>=<span style=\"font-weight: bold\">[</span><span style=\"color: #008080; text-decoration-color: #008080; font-weight: bold\">4</span><span style=\"font-weight: bold\">]</span>\n",
       "</pre>\n"
      ],
      "text/plain": [
       "\u001b[33ma_visiter\u001b[0m=\u001b[1m[\u001b[0m\u001b[1;36m4\u001b[0m\u001b[1m]\u001b[0m\n"
      ]
     },
     "metadata": {},
     "output_type": "display_data"
    },
    {
     "data": {
      "text/html": [
       "<pre style=\"white-space:pre;overflow-x:auto;line-height:normal;font-family:Menlo,'DejaVu Sans Mono',consolas,'Courier New',monospace\"><span style=\"color: #808000; text-decoration-color: #808000\">visites</span>=<span style=\"font-weight: bold\">[</span><span style=\"color: #008080; text-decoration-color: #008080; font-weight: bold\">1</span>, <span style=\"color: #008080; text-decoration-color: #008080; font-weight: bold\">2</span>, <span style=\"color: #008080; text-decoration-color: #008080; font-weight: bold\">5</span>, <span style=\"color: #008080; text-decoration-color: #008080; font-weight: bold\">6</span>, <span style=\"color: #008080; text-decoration-color: #008080; font-weight: bold\">7</span>, <span style=\"color: #008080; text-decoration-color: #008080; font-weight: bold\">3</span><span style=\"font-weight: bold\">]</span>\n",
       "</pre>\n"
      ],
      "text/plain": [
       "\u001b[33mvisites\u001b[0m=\u001b[1m[\u001b[0m\u001b[1;36m1\u001b[0m, \u001b[1;36m2\u001b[0m, \u001b[1;36m5\u001b[0m, \u001b[1;36m6\u001b[0m, \u001b[1;36m7\u001b[0m, \u001b[1;36m3\u001b[0m\u001b[1m]\u001b[0m\n"
      ]
     },
     "metadata": {},
     "output_type": "display_data"
    },
    {
     "data": {
      "text/html": [
       "<pre style=\"white-space:pre;overflow-x:auto;line-height:normal;font-family:Menlo,'DejaVu Sans Mono',consolas,'Courier New',monospace\">\n",
       "</pre>\n"
      ],
      "text/plain": [
       "\n"
      ]
     },
     "metadata": {},
     "output_type": "display_data"
    },
    {
     "data": {
      "text/plain": [
       "False"
      ]
     },
     "execution_count": 9,
     "metadata": {},
     "output_type": "execute_result"
    }
   ],
   "source": [
    "sont_connectes(depart=1, arrivee=8, sommets=sommets, arretes=arretes, debug=True)"
   ]
  },
  {
   "cell_type": "markdown",
   "id": "5aca28f7-9e9d-4d29-a30c-e8ebc7395eab",
   "metadata": {},
   "source": [
    "## Exercice\n",
    "\n",
    "Transformez la fonction `sont_connectes` en une fonction `cherche_chemin` qui renvoie un chemin reliant les deux états s'il en existe un.\n",
    "\n",
    "**Indication** construire au fur et à mesure un dictionnaire représentant la relation entre sommets *a été vu en premier par*."
   ]
  },
  {
   "cell_type": "code",
   "execution_count": 10,
   "id": "aeb31acd-38e4-4ece-acac-3626f90ddc4c",
   "metadata": {},
   "outputs": [],
   "source": [
    "def determine_chemin(\n",
    "    depart: S, \n",
    "    arrivee: S, \n",
    "    vu_en_premier_par: dict[S, S | None]\n",
    ") -> list[S]:\n",
    "    resultat_intermediaire = list()\n",
    "    sommet_courant = arrivee\n",
    "    while sommet_courant is not None:\n",
    "        resultat_intermediaire.append(sommet_courant)\n",
    "        sommet_courant = vu_en_premier_par[sommet_courant]\n",
    "    return [sommet for sommet in reversed(resultat_intermediaire)]"
   ]
  },
  {
   "cell_type": "code",
   "execution_count": 11,
   "id": "0ba7888e-359f-4cb2-a41d-8eab9ebd6a6e",
   "metadata": {},
   "outputs": [],
   "source": [
    "assert determine_chemin(\n",
    "    depart=1, \n",
    "    arrivee=7, \n",
    "    vu_en_premier_par={\n",
    "        1: None,\n",
    "        2: 1,\n",
    "        3 : 2,\n",
    "        5: 2,\n",
    "        6: 5,\n",
    "        7: 6\n",
    "    }\n",
    ") == [1, 2, 5, 6, 7]"
   ]
  },
  {
   "cell_type": "code",
   "execution_count": 12,
   "id": "838d1e04-b6f1-4d95-ace9-e810a284158b",
   "metadata": {},
   "outputs": [],
   "source": [
    "class PasDeChemin(Exception):\n",
    "    ..."
   ]
  },
  {
   "cell_type": "code",
   "execution_count": 13,
   "id": "c0b1b746-20d1-4133-ad7a-f13c80687ab0",
   "metadata": {},
   "outputs": [],
   "source": [
    "def cherche_chemin(\n",
    "    depart: S,\n",
    "    arrivee: S,\n",
    "    sommets: list[S],\n",
    "    arretes: list[tuple[S, S]],\n",
    "    debug: bool = False,\n",
    ") -> list[S]:\n",
    "    a_visiter = [depart]\n",
    "    visites = []\n",
    "    vu_en_premier_par = dict()\n",
    "    vu_en_premier_par[depart] = None\n",
    "    while a_visiter:\n",
    "        if debug:\n",
    "            print(f\"{a_visiter=}\")\n",
    "            print(f\"{visites=}\")\n",
    "            print()\n",
    "        sommet_courant = a_visiter.pop()\n",
    "        visites.append(sommet_courant)\n",
    "        for voisin in recupere_voisins(sommet=sommet_courant, arretes=arretes):\n",
    "            if voisin not in visites:\n",
    "                a_visiter.append(voisin)\n",
    "                vu_en_premier_par[voisin] = sommet_courant\n",
    "        if sommet_courant == arrivee:\n",
    "            return determine_chemin(\n",
    "                depart=depart, \n",
    "                arrivee=arrivee, \n",
    "                vu_en_premier_par=vu_en_premier_par\n",
    "        )\n",
    "    raise PasDeChemin"
   ]
  },
  {
   "cell_type": "code",
   "execution_count": 14,
   "id": "3408fbd7-7323-414b-a69b-75c9cd816409",
   "metadata": {},
   "outputs": [],
   "source": [
    "sommets = [1, 2, 3, 4, 5, 6, 7, 8]\n",
    "arretes = [(1, 2), (2, 3), (2, 5), (3, 4), (4, 5), (5, 6), (6, 7), (8, 6)]\n",
    "assert (\n",
    "    cherche_chemin(depart=1, arrivee=7, sommets=sommets, arretes=arretes) \n",
    "    == \n",
    "    [1, 2, 5, 6, 7]\n",
    ")"
   ]
  },
  {
   "cell_type": "code",
   "execution_count": 15,
   "id": "7257cd18-fd69-4e10-80ab-117c2660ebd9",
   "metadata": {},
   "outputs": [
    {
     "ename": "PasDeChemin",
     "evalue": "",
     "output_type": "error",
     "traceback": [
      "\u001b[1;31m---------------------------------------------------------------------------\u001b[0m",
      "\u001b[1;31mPasDeChemin\u001b[0m                               Traceback (most recent call last)",
      "Cell \u001b[1;32mIn[15], line 4\u001b[0m\n\u001b[0;32m      1\u001b[0m sommets \u001b[38;5;241m=\u001b[39m [\u001b[38;5;241m1\u001b[39m, \u001b[38;5;241m2\u001b[39m, \u001b[38;5;241m3\u001b[39m, \u001b[38;5;241m4\u001b[39m, \u001b[38;5;241m5\u001b[39m, \u001b[38;5;241m6\u001b[39m, \u001b[38;5;241m7\u001b[39m, \u001b[38;5;241m8\u001b[39m]\n\u001b[0;32m      2\u001b[0m arretes \u001b[38;5;241m=\u001b[39m [(\u001b[38;5;241m1\u001b[39m, \u001b[38;5;241m2\u001b[39m), (\u001b[38;5;241m2\u001b[39m, \u001b[38;5;241m3\u001b[39m), (\u001b[38;5;241m2\u001b[39m, \u001b[38;5;241m5\u001b[39m), (\u001b[38;5;241m3\u001b[39m, \u001b[38;5;241m4\u001b[39m), (\u001b[38;5;241m4\u001b[39m, \u001b[38;5;241m5\u001b[39m), (\u001b[38;5;241m5\u001b[39m, \u001b[38;5;241m6\u001b[39m), (\u001b[38;5;241m6\u001b[39m, \u001b[38;5;241m7\u001b[39m), (\u001b[38;5;241m8\u001b[39m, \u001b[38;5;241m6\u001b[39m)]\n\u001b[0;32m      3\u001b[0m \u001b[38;5;28;01massert\u001b[39;00m (\n\u001b[1;32m----> 4\u001b[0m     \u001b[43mcherche_chemin\u001b[49m\u001b[43m(\u001b[49m\u001b[43mdepart\u001b[49m\u001b[38;5;241;43m=\u001b[39;49m\u001b[38;5;241;43m1\u001b[39;49m\u001b[43m,\u001b[49m\u001b[43m \u001b[49m\u001b[43marrivee\u001b[49m\u001b[38;5;241;43m=\u001b[39;49m\u001b[38;5;241;43m8\u001b[39;49m\u001b[43m,\u001b[49m\u001b[43m \u001b[49m\u001b[43msommets\u001b[49m\u001b[38;5;241;43m=\u001b[39;49m\u001b[43msommets\u001b[49m\u001b[43m,\u001b[49m\u001b[43m \u001b[49m\u001b[43marretes\u001b[49m\u001b[38;5;241;43m=\u001b[39;49m\u001b[43marretes\u001b[49m\u001b[43m)\u001b[49m \n\u001b[0;32m      5\u001b[0m     \u001b[38;5;241m==\u001b[39m \n\u001b[0;32m      6\u001b[0m     [\u001b[38;5;241m1\u001b[39m, \u001b[38;5;241m2\u001b[39m, \u001b[38;5;241m5\u001b[39m, \u001b[38;5;241m6\u001b[39m, \u001b[38;5;241m7\u001b[39m]\n\u001b[0;32m      7\u001b[0m )\n",
      "Cell \u001b[1;32mIn[13], line 29\u001b[0m, in \u001b[0;36mcherche_chemin\u001b[1;34m(depart, arrivee, sommets, arretes, debug)\u001b[0m\n\u001b[0;32m     23\u001b[0m     \u001b[38;5;28;01mif\u001b[39;00m sommet_courant \u001b[38;5;241m==\u001b[39m arrivee:\n\u001b[0;32m     24\u001b[0m         \u001b[38;5;28;01mreturn\u001b[39;00m determine_chemin(\n\u001b[0;32m     25\u001b[0m             depart\u001b[38;5;241m=\u001b[39mdepart, \n\u001b[0;32m     26\u001b[0m             arrivee\u001b[38;5;241m=\u001b[39marrivee, \n\u001b[0;32m     27\u001b[0m             vu_en_premier_par\u001b[38;5;241m=\u001b[39mvu_en_premier_par\n\u001b[0;32m     28\u001b[0m     )\n\u001b[1;32m---> 29\u001b[0m \u001b[38;5;28;01mraise\u001b[39;00m PasDeChemin\n",
      "\u001b[1;31mPasDeChemin\u001b[0m: "
     ]
    }
   ],
   "source": [
    "sommets = [1, 2, 3, 4, 5, 6, 7, 8]\n",
    "arretes = [(1, 2), (2, 3), (2, 5), (3, 4), (4, 5), (5, 6), (6, 7), (8, 6)]\n",
    "assert (\n",
    "    cherche_chemin(depart=1, arrivee=8, sommets=sommets, arretes=arretes) \n",
    "    == \n",
    "    [1, 2, 5, 6, 7]\n",
    ")"
   ]
  },
  {
   "cell_type": "markdown",
   "id": "4326fa37-452a-4d4d-803c-14f63194c711",
   "metadata": {},
   "source": [
    "## Résolution du problème de départ"
   ]
  },
  {
   "cell_type": "code",
   "execution_count": 17,
   "id": "1e44a60e-c7f2-40b7-9916-3188e0729631",
   "metadata": {},
   "outputs": [],
   "source": [
    "resultat = cherche_chemin(\n",
    "    depart=DEPART,\n",
    "    arrivee=ARRIVEE,\n",
    "    sommets=SOMMETS,\n",
    "    arretes=ARRETES,\n",
    ")"
   ]
  },
  {
   "cell_type": "code",
   "execution_count": 18,
   "id": "c7a097a4-8880-477a-b4b8-56d9d06c6c55",
   "metadata": {},
   "outputs": [
    {
     "data": {
      "text/html": [
       "<pre style=\"white-space:pre;overflow-x:auto;line-height:normal;font-family:Menlo,'DejaVu Sans Mono',consolas,'Courier New',monospace\"><span style=\"font-weight: bold\">[</span>\n",
       "    <span style=\"color: #800080; text-decoration-color: #800080; font-weight: bold\">Etat</span><span style=\"font-weight: bold\">(</span>\n",
       "        <span style=\"color: #808000; text-decoration-color: #808000\">berger</span>=<span style=\"font-weight: bold\">&lt;</span><span style=\"color: #ff00ff; text-decoration-color: #ff00ff; font-weight: bold\">Rive.GAUCHE:</span><span style=\"color: #000000; text-decoration-color: #000000\"> </span><span style=\"color: #008000; text-decoration-color: #008000\">'gauche'</span><span style=\"color: #000000; text-decoration-color: #000000\">&gt;,</span>\n",
       "<span style=\"color: #000000; text-decoration-color: #000000\">        </span><span style=\"color: #808000; text-decoration-color: #808000\">loup</span><span style=\"color: #000000; text-decoration-color: #000000\">=&lt;Rive.GAUCHE: </span><span style=\"color: #008000; text-decoration-color: #008000\">'gauche'</span><span style=\"color: #000000; text-decoration-color: #000000\">&gt;,</span>\n",
       "<span style=\"color: #000000; text-decoration-color: #000000\">        </span><span style=\"color: #808000; text-decoration-color: #808000\">mouton</span><span style=\"color: #000000; text-decoration-color: #000000\">=&lt;Rive.GAUCHE: </span><span style=\"color: #008000; text-decoration-color: #008000\">'gauche'</span><span style=\"color: #000000; text-decoration-color: #000000\">&gt;,</span>\n",
       "<span style=\"color: #000000; text-decoration-color: #000000\">        </span><span style=\"color: #808000; text-decoration-color: #808000\">chou</span><span style=\"color: #000000; text-decoration-color: #000000\">=&lt;Rive.GAUCHE: </span><span style=\"color: #008000; text-decoration-color: #008000\">'gauche'</span><span style=\"color: #000000; text-decoration-color: #000000\">&gt;</span>\n",
       "<span style=\"color: #000000; text-decoration-color: #000000\">    </span><span style=\"color: #000000; text-decoration-color: #000000; font-weight: bold\">)</span><span style=\"color: #000000; text-decoration-color: #000000\">,</span>\n",
       "<span style=\"color: #000000; text-decoration-color: #000000\">    </span><span style=\"color: #800080; text-decoration-color: #800080; font-weight: bold\">Etat</span><span style=\"color: #000000; text-decoration-color: #000000; font-weight: bold\">(</span>\n",
       "<span style=\"color: #000000; text-decoration-color: #000000\">        </span><span style=\"color: #808000; text-decoration-color: #808000\">berger</span><span style=\"color: #000000; text-decoration-color: #000000\">=&lt;Rive.DROITE: </span><span style=\"color: #008000; text-decoration-color: #008000\">'droite'</span><span style=\"color: #000000; text-decoration-color: #000000\">&gt;,</span>\n",
       "<span style=\"color: #000000; text-decoration-color: #000000\">        </span><span style=\"color: #808000; text-decoration-color: #808000\">loup</span><span style=\"color: #000000; text-decoration-color: #000000\">=&lt;Rive.GAUCHE: </span><span style=\"color: #008000; text-decoration-color: #008000\">'gauche'</span><span style=\"color: #000000; text-decoration-color: #000000\">&gt;,</span>\n",
       "<span style=\"color: #000000; text-decoration-color: #000000\">        </span><span style=\"color: #808000; text-decoration-color: #808000\">mouton</span><span style=\"color: #000000; text-decoration-color: #000000\">=&lt;Rive.DROITE: </span><span style=\"color: #008000; text-decoration-color: #008000\">'droite'</span><span style=\"color: #000000; text-decoration-color: #000000\">&gt;,</span>\n",
       "<span style=\"color: #000000; text-decoration-color: #000000\">        </span><span style=\"color: #808000; text-decoration-color: #808000\">chou</span><span style=\"color: #000000; text-decoration-color: #000000\">=&lt;Rive.GAUCHE: </span><span style=\"color: #008000; text-decoration-color: #008000\">'gauche'</span><span style=\"color: #000000; text-decoration-color: #000000\">&gt;</span>\n",
       "<span style=\"color: #000000; text-decoration-color: #000000\">    </span><span style=\"color: #000000; text-decoration-color: #000000; font-weight: bold\">)</span><span style=\"color: #000000; text-decoration-color: #000000\">,</span>\n",
       "<span style=\"color: #000000; text-decoration-color: #000000\">    </span><span style=\"color: #800080; text-decoration-color: #800080; font-weight: bold\">Etat</span><span style=\"color: #000000; text-decoration-color: #000000; font-weight: bold\">(</span>\n",
       "<span style=\"color: #000000; text-decoration-color: #000000\">        </span><span style=\"color: #808000; text-decoration-color: #808000\">berger</span><span style=\"color: #000000; text-decoration-color: #000000\">=&lt;Rive.GAUCHE: </span><span style=\"color: #008000; text-decoration-color: #008000\">'gauche'</span><span style=\"color: #000000; text-decoration-color: #000000\">&gt;,</span>\n",
       "<span style=\"color: #000000; text-decoration-color: #000000\">        </span><span style=\"color: #808000; text-decoration-color: #808000\">loup</span><span style=\"color: #000000; text-decoration-color: #000000\">=&lt;Rive.GAUCHE: </span><span style=\"color: #008000; text-decoration-color: #008000\">'gauche'</span><span style=\"color: #000000; text-decoration-color: #000000\">&gt;,</span>\n",
       "<span style=\"color: #000000; text-decoration-color: #000000\">        </span><span style=\"color: #808000; text-decoration-color: #808000\">mouton</span><span style=\"color: #000000; text-decoration-color: #000000\">=&lt;Rive.DROITE: </span><span style=\"color: #008000; text-decoration-color: #008000\">'droite'</span><span style=\"color: #000000; text-decoration-color: #000000\">&gt;,</span>\n",
       "<span style=\"color: #000000; text-decoration-color: #000000\">        </span><span style=\"color: #808000; text-decoration-color: #808000\">chou</span><span style=\"color: #000000; text-decoration-color: #000000\">=&lt;Rive.GAUCHE: </span><span style=\"color: #008000; text-decoration-color: #008000\">'gauche'</span><span style=\"color: #000000; text-decoration-color: #000000\">&gt;</span>\n",
       "<span style=\"color: #000000; text-decoration-color: #000000\">    </span><span style=\"color: #000000; text-decoration-color: #000000; font-weight: bold\">)</span><span style=\"color: #000000; text-decoration-color: #000000\">,</span>\n",
       "<span style=\"color: #000000; text-decoration-color: #000000\">    </span><span style=\"color: #800080; text-decoration-color: #800080; font-weight: bold\">Etat</span><span style=\"color: #000000; text-decoration-color: #000000; font-weight: bold\">(</span>\n",
       "<span style=\"color: #000000; text-decoration-color: #000000\">        </span><span style=\"color: #808000; text-decoration-color: #808000\">berger</span><span style=\"color: #000000; text-decoration-color: #000000\">=&lt;Rive.DROITE: </span><span style=\"color: #008000; text-decoration-color: #008000\">'droite'</span><span style=\"color: #000000; text-decoration-color: #000000\">&gt;,</span>\n",
       "<span style=\"color: #000000; text-decoration-color: #000000\">        </span><span style=\"color: #808000; text-decoration-color: #808000\">loup</span><span style=\"color: #000000; text-decoration-color: #000000\">=&lt;Rive.DROITE: </span><span style=\"color: #008000; text-decoration-color: #008000\">'droite'</span><span style=\"color: #000000; text-decoration-color: #000000\">&gt;,</span>\n",
       "<span style=\"color: #000000; text-decoration-color: #000000\">        </span><span style=\"color: #808000; text-decoration-color: #808000\">mouton</span><span style=\"color: #000000; text-decoration-color: #000000\">=&lt;Rive.DROITE: </span><span style=\"color: #008000; text-decoration-color: #008000\">'droite'</span><span style=\"color: #000000; text-decoration-color: #000000\">&gt;,</span>\n",
       "<span style=\"color: #000000; text-decoration-color: #000000\">        </span><span style=\"color: #808000; text-decoration-color: #808000\">chou</span><span style=\"color: #000000; text-decoration-color: #000000\">=&lt;Rive.GAUCHE: </span><span style=\"color: #008000; text-decoration-color: #008000\">'gauche'</span><span style=\"color: #000000; text-decoration-color: #000000\">&gt;</span>\n",
       "<span style=\"color: #000000; text-decoration-color: #000000\">    </span><span style=\"color: #000000; text-decoration-color: #000000; font-weight: bold\">)</span><span style=\"color: #000000; text-decoration-color: #000000\">,</span>\n",
       "<span style=\"color: #000000; text-decoration-color: #000000\">    </span><span style=\"color: #800080; text-decoration-color: #800080; font-weight: bold\">Etat</span><span style=\"color: #000000; text-decoration-color: #000000; font-weight: bold\">(</span>\n",
       "<span style=\"color: #000000; text-decoration-color: #000000\">        </span><span style=\"color: #808000; text-decoration-color: #808000\">berger</span><span style=\"color: #000000; text-decoration-color: #000000\">=&lt;Rive.GAUCHE: </span><span style=\"color: #008000; text-decoration-color: #008000\">'gauche'</span><span style=\"color: #000000; text-decoration-color: #000000\">&gt;,</span>\n",
       "<span style=\"color: #000000; text-decoration-color: #000000\">        </span><span style=\"color: #808000; text-decoration-color: #808000\">loup</span><span style=\"color: #000000; text-decoration-color: #000000\">=&lt;Rive.DROITE: </span><span style=\"color: #008000; text-decoration-color: #008000\">'droite'</span><span style=\"color: #000000; text-decoration-color: #000000\">&gt;,</span>\n",
       "<span style=\"color: #000000; text-decoration-color: #000000\">        </span><span style=\"color: #808000; text-decoration-color: #808000\">mouton</span><span style=\"color: #000000; text-decoration-color: #000000\">=&lt;Rive.GAUCHE: </span><span style=\"color: #008000; text-decoration-color: #008000\">'gauche'</span><span style=\"color: #000000; text-decoration-color: #000000\">&gt;,</span>\n",
       "<span style=\"color: #000000; text-decoration-color: #000000\">        </span><span style=\"color: #808000; text-decoration-color: #808000\">chou</span><span style=\"color: #000000; text-decoration-color: #000000\">=&lt;Rive.GAUCHE: </span><span style=\"color: #008000; text-decoration-color: #008000\">'gauche'</span><span style=\"color: #000000; text-decoration-color: #000000\">&gt;</span>\n",
       "<span style=\"color: #000000; text-decoration-color: #000000\">    </span><span style=\"color: #000000; text-decoration-color: #000000; font-weight: bold\">)</span><span style=\"color: #000000; text-decoration-color: #000000\">,</span>\n",
       "<span style=\"color: #000000; text-decoration-color: #000000\">    </span><span style=\"color: #800080; text-decoration-color: #800080; font-weight: bold\">Etat</span><span style=\"color: #000000; text-decoration-color: #000000; font-weight: bold\">(</span>\n",
       "<span style=\"color: #000000; text-decoration-color: #000000\">        </span><span style=\"color: #808000; text-decoration-color: #808000\">berger</span><span style=\"color: #000000; text-decoration-color: #000000\">=&lt;Rive.DROITE: </span><span style=\"color: #008000; text-decoration-color: #008000\">'droite'</span><span style=\"color: #000000; text-decoration-color: #000000\">&gt;,</span>\n",
       "<span style=\"color: #000000; text-decoration-color: #000000\">        </span><span style=\"color: #808000; text-decoration-color: #808000\">loup</span><span style=\"color: #000000; text-decoration-color: #000000\">=&lt;Rive.DROITE: </span><span style=\"color: #008000; text-decoration-color: #008000\">'droite'</span><span style=\"color: #000000; text-decoration-color: #000000\">&gt;,</span>\n",
       "<span style=\"color: #000000; text-decoration-color: #000000\">        </span><span style=\"color: #808000; text-decoration-color: #808000\">mouton</span><span style=\"color: #000000; text-decoration-color: #000000\">=&lt;Rive.GAUCHE: </span><span style=\"color: #008000; text-decoration-color: #008000\">'gauche'</span><span style=\"color: #000000; text-decoration-color: #000000\">&gt;,</span>\n",
       "<span style=\"color: #000000; text-decoration-color: #000000\">        </span><span style=\"color: #808000; text-decoration-color: #808000\">chou</span><span style=\"color: #000000; text-decoration-color: #000000\">=&lt;Rive.DROITE: </span><span style=\"color: #008000; text-decoration-color: #008000\">'droite'</span><span style=\"color: #000000; text-decoration-color: #000000\">&gt;</span>\n",
       "<span style=\"color: #000000; text-decoration-color: #000000\">    </span><span style=\"color: #000000; text-decoration-color: #000000; font-weight: bold\">)</span><span style=\"color: #000000; text-decoration-color: #000000\">,</span>\n",
       "<span style=\"color: #000000; text-decoration-color: #000000\">    </span><span style=\"color: #800080; text-decoration-color: #800080; font-weight: bold\">Etat</span><span style=\"color: #000000; text-decoration-color: #000000; font-weight: bold\">(</span>\n",
       "<span style=\"color: #000000; text-decoration-color: #000000\">        </span><span style=\"color: #808000; text-decoration-color: #808000\">berger</span><span style=\"color: #000000; text-decoration-color: #000000\">=&lt;Rive.GAUCHE: </span><span style=\"color: #008000; text-decoration-color: #008000\">'gauche'</span><span style=\"color: #000000; text-decoration-color: #000000\">&gt;,</span>\n",
       "<span style=\"color: #000000; text-decoration-color: #000000\">        </span><span style=\"color: #808000; text-decoration-color: #808000\">loup</span><span style=\"color: #000000; text-decoration-color: #000000\">=&lt;Rive.DROITE: </span><span style=\"color: #008000; text-decoration-color: #008000\">'droite'</span><span style=\"color: #000000; text-decoration-color: #000000\">&gt;,</span>\n",
       "<span style=\"color: #000000; text-decoration-color: #000000\">        </span><span style=\"color: #808000; text-decoration-color: #808000\">mouton</span><span style=\"color: #000000; text-decoration-color: #000000\">=&lt;Rive.GAUCHE: </span><span style=\"color: #008000; text-decoration-color: #008000\">'gauche'</span><span style=\"color: #000000; text-decoration-color: #000000\">&gt;,</span>\n",
       "<span style=\"color: #000000; text-decoration-color: #000000\">        </span><span style=\"color: #808000; text-decoration-color: #808000\">chou</span><span style=\"color: #000000; text-decoration-color: #000000\">=&lt;Rive.DROITE: </span><span style=\"color: #008000; text-decoration-color: #008000\">'droite'</span><span style=\"color: #000000; text-decoration-color: #000000\">&gt;</span>\n",
       "<span style=\"color: #000000; text-decoration-color: #000000\">    </span><span style=\"color: #000000; text-decoration-color: #000000; font-weight: bold\">)</span><span style=\"color: #000000; text-decoration-color: #000000\">,</span>\n",
       "<span style=\"color: #000000; text-decoration-color: #000000\">    </span><span style=\"color: #800080; text-decoration-color: #800080; font-weight: bold\">Etat</span><span style=\"color: #000000; text-decoration-color: #000000; font-weight: bold\">(</span>\n",
       "<span style=\"color: #000000; text-decoration-color: #000000\">        </span><span style=\"color: #808000; text-decoration-color: #808000\">berger</span><span style=\"color: #000000; text-decoration-color: #000000\">=&lt;Rive.DROITE: </span><span style=\"color: #008000; text-decoration-color: #008000\">'droite'</span><span style=\"color: #000000; text-decoration-color: #000000\">&gt;,</span>\n",
       "<span style=\"color: #000000; text-decoration-color: #000000\">        </span><span style=\"color: #808000; text-decoration-color: #808000\">loup</span><span style=\"color: #000000; text-decoration-color: #000000\">=&lt;Rive.DROITE: </span><span style=\"color: #008000; text-decoration-color: #008000\">'droite'</span><span style=\"color: #000000; text-decoration-color: #000000\">&gt;,</span>\n",
       "<span style=\"color: #000000; text-decoration-color: #000000\">        </span><span style=\"color: #808000; text-decoration-color: #808000\">mouton</span><span style=\"color: #000000; text-decoration-color: #000000\">=&lt;Rive.DROITE: </span><span style=\"color: #008000; text-decoration-color: #008000\">'droite'</span><span style=\"color: #000000; text-decoration-color: #000000\">&gt;,</span>\n",
       "<span style=\"color: #000000; text-decoration-color: #000000\">        </span><span style=\"color: #808000; text-decoration-color: #808000\">chou</span><span style=\"color: #000000; text-decoration-color: #000000\">=&lt;Rive.DROITE: </span><span style=\"color: #008000; text-decoration-color: #008000\">'droite'</span><span style=\"font-weight: bold\">&gt;</span>\n",
       "    <span style=\"font-weight: bold\">)</span>\n",
       "<span style=\"font-weight: bold\">]</span>\n",
       "</pre>\n"
      ],
      "text/plain": [
       "\u001b[1m[\u001b[0m\n",
       "    \u001b[1;35mEtat\u001b[0m\u001b[1m(\u001b[0m\n",
       "        \u001b[33mberger\u001b[0m=\u001b[1m<\u001b[0m\u001b[1;95mRive.GAUCHE:\u001b[0m\u001b[39m \u001b[0m\u001b[32m'gauche'\u001b[0m\u001b[39m>,\u001b[0m\n",
       "\u001b[39m        \u001b[0m\u001b[33mloup\u001b[0m\u001b[39m=<Rive.GAUCHE: \u001b[0m\u001b[32m'gauche'\u001b[0m\u001b[39m>,\u001b[0m\n",
       "\u001b[39m        \u001b[0m\u001b[33mmouton\u001b[0m\u001b[39m=<Rive.GAUCHE: \u001b[0m\u001b[32m'gauche'\u001b[0m\u001b[39m>,\u001b[0m\n",
       "\u001b[39m        \u001b[0m\u001b[33mchou\u001b[0m\u001b[39m=<Rive.GAUCHE: \u001b[0m\u001b[32m'gauche'\u001b[0m\u001b[39m>\u001b[0m\n",
       "\u001b[39m    \u001b[0m\u001b[1;39m)\u001b[0m\u001b[39m,\u001b[0m\n",
       "\u001b[39m    \u001b[0m\u001b[1;35mEtat\u001b[0m\u001b[1;39m(\u001b[0m\n",
       "\u001b[39m        \u001b[0m\u001b[33mberger\u001b[0m\u001b[39m=<Rive.DROITE: \u001b[0m\u001b[32m'droite'\u001b[0m\u001b[39m>,\u001b[0m\n",
       "\u001b[39m        \u001b[0m\u001b[33mloup\u001b[0m\u001b[39m=<Rive.GAUCHE: \u001b[0m\u001b[32m'gauche'\u001b[0m\u001b[39m>,\u001b[0m\n",
       "\u001b[39m        \u001b[0m\u001b[33mmouton\u001b[0m\u001b[39m=<Rive.DROITE: \u001b[0m\u001b[32m'droite'\u001b[0m\u001b[39m>,\u001b[0m\n",
       "\u001b[39m        \u001b[0m\u001b[33mchou\u001b[0m\u001b[39m=<Rive.GAUCHE: \u001b[0m\u001b[32m'gauche'\u001b[0m\u001b[39m>\u001b[0m\n",
       "\u001b[39m    \u001b[0m\u001b[1;39m)\u001b[0m\u001b[39m,\u001b[0m\n",
       "\u001b[39m    \u001b[0m\u001b[1;35mEtat\u001b[0m\u001b[1;39m(\u001b[0m\n",
       "\u001b[39m        \u001b[0m\u001b[33mberger\u001b[0m\u001b[39m=<Rive.GAUCHE: \u001b[0m\u001b[32m'gauche'\u001b[0m\u001b[39m>,\u001b[0m\n",
       "\u001b[39m        \u001b[0m\u001b[33mloup\u001b[0m\u001b[39m=<Rive.GAUCHE: \u001b[0m\u001b[32m'gauche'\u001b[0m\u001b[39m>,\u001b[0m\n",
       "\u001b[39m        \u001b[0m\u001b[33mmouton\u001b[0m\u001b[39m=<Rive.DROITE: \u001b[0m\u001b[32m'droite'\u001b[0m\u001b[39m>,\u001b[0m\n",
       "\u001b[39m        \u001b[0m\u001b[33mchou\u001b[0m\u001b[39m=<Rive.GAUCHE: \u001b[0m\u001b[32m'gauche'\u001b[0m\u001b[39m>\u001b[0m\n",
       "\u001b[39m    \u001b[0m\u001b[1;39m)\u001b[0m\u001b[39m,\u001b[0m\n",
       "\u001b[39m    \u001b[0m\u001b[1;35mEtat\u001b[0m\u001b[1;39m(\u001b[0m\n",
       "\u001b[39m        \u001b[0m\u001b[33mberger\u001b[0m\u001b[39m=<Rive.DROITE: \u001b[0m\u001b[32m'droite'\u001b[0m\u001b[39m>,\u001b[0m\n",
       "\u001b[39m        \u001b[0m\u001b[33mloup\u001b[0m\u001b[39m=<Rive.DROITE: \u001b[0m\u001b[32m'droite'\u001b[0m\u001b[39m>,\u001b[0m\n",
       "\u001b[39m        \u001b[0m\u001b[33mmouton\u001b[0m\u001b[39m=<Rive.DROITE: \u001b[0m\u001b[32m'droite'\u001b[0m\u001b[39m>,\u001b[0m\n",
       "\u001b[39m        \u001b[0m\u001b[33mchou\u001b[0m\u001b[39m=<Rive.GAUCHE: \u001b[0m\u001b[32m'gauche'\u001b[0m\u001b[39m>\u001b[0m\n",
       "\u001b[39m    \u001b[0m\u001b[1;39m)\u001b[0m\u001b[39m,\u001b[0m\n",
       "\u001b[39m    \u001b[0m\u001b[1;35mEtat\u001b[0m\u001b[1;39m(\u001b[0m\n",
       "\u001b[39m        \u001b[0m\u001b[33mberger\u001b[0m\u001b[39m=<Rive.GAUCHE: \u001b[0m\u001b[32m'gauche'\u001b[0m\u001b[39m>,\u001b[0m\n",
       "\u001b[39m        \u001b[0m\u001b[33mloup\u001b[0m\u001b[39m=<Rive.DROITE: \u001b[0m\u001b[32m'droite'\u001b[0m\u001b[39m>,\u001b[0m\n",
       "\u001b[39m        \u001b[0m\u001b[33mmouton\u001b[0m\u001b[39m=<Rive.GAUCHE: \u001b[0m\u001b[32m'gauche'\u001b[0m\u001b[39m>,\u001b[0m\n",
       "\u001b[39m        \u001b[0m\u001b[33mchou\u001b[0m\u001b[39m=<Rive.GAUCHE: \u001b[0m\u001b[32m'gauche'\u001b[0m\u001b[39m>\u001b[0m\n",
       "\u001b[39m    \u001b[0m\u001b[1;39m)\u001b[0m\u001b[39m,\u001b[0m\n",
       "\u001b[39m    \u001b[0m\u001b[1;35mEtat\u001b[0m\u001b[1;39m(\u001b[0m\n",
       "\u001b[39m        \u001b[0m\u001b[33mberger\u001b[0m\u001b[39m=<Rive.DROITE: \u001b[0m\u001b[32m'droite'\u001b[0m\u001b[39m>,\u001b[0m\n",
       "\u001b[39m        \u001b[0m\u001b[33mloup\u001b[0m\u001b[39m=<Rive.DROITE: \u001b[0m\u001b[32m'droite'\u001b[0m\u001b[39m>,\u001b[0m\n",
       "\u001b[39m        \u001b[0m\u001b[33mmouton\u001b[0m\u001b[39m=<Rive.GAUCHE: \u001b[0m\u001b[32m'gauche'\u001b[0m\u001b[39m>,\u001b[0m\n",
       "\u001b[39m        \u001b[0m\u001b[33mchou\u001b[0m\u001b[39m=<Rive.DROITE: \u001b[0m\u001b[32m'droite'\u001b[0m\u001b[39m>\u001b[0m\n",
       "\u001b[39m    \u001b[0m\u001b[1;39m)\u001b[0m\u001b[39m,\u001b[0m\n",
       "\u001b[39m    \u001b[0m\u001b[1;35mEtat\u001b[0m\u001b[1;39m(\u001b[0m\n",
       "\u001b[39m        \u001b[0m\u001b[33mberger\u001b[0m\u001b[39m=<Rive.GAUCHE: \u001b[0m\u001b[32m'gauche'\u001b[0m\u001b[39m>,\u001b[0m\n",
       "\u001b[39m        \u001b[0m\u001b[33mloup\u001b[0m\u001b[39m=<Rive.DROITE: \u001b[0m\u001b[32m'droite'\u001b[0m\u001b[39m>,\u001b[0m\n",
       "\u001b[39m        \u001b[0m\u001b[33mmouton\u001b[0m\u001b[39m=<Rive.GAUCHE: \u001b[0m\u001b[32m'gauche'\u001b[0m\u001b[39m>,\u001b[0m\n",
       "\u001b[39m        \u001b[0m\u001b[33mchou\u001b[0m\u001b[39m=<Rive.DROITE: \u001b[0m\u001b[32m'droite'\u001b[0m\u001b[39m>\u001b[0m\n",
       "\u001b[39m    \u001b[0m\u001b[1;39m)\u001b[0m\u001b[39m,\u001b[0m\n",
       "\u001b[39m    \u001b[0m\u001b[1;35mEtat\u001b[0m\u001b[1;39m(\u001b[0m\n",
       "\u001b[39m        \u001b[0m\u001b[33mberger\u001b[0m\u001b[39m=<Rive.DROITE: \u001b[0m\u001b[32m'droite'\u001b[0m\u001b[39m>,\u001b[0m\n",
       "\u001b[39m        \u001b[0m\u001b[33mloup\u001b[0m\u001b[39m=<Rive.DROITE: \u001b[0m\u001b[32m'droite'\u001b[0m\u001b[39m>,\u001b[0m\n",
       "\u001b[39m        \u001b[0m\u001b[33mmouton\u001b[0m\u001b[39m=<Rive.DROITE: \u001b[0m\u001b[32m'droite'\u001b[0m\u001b[39m>,\u001b[0m\n",
       "\u001b[39m        \u001b[0m\u001b[33mchou\u001b[0m\u001b[39m=<Rive.DROITE: \u001b[0m\u001b[32m'droite'\u001b[0m\u001b[1m>\u001b[0m\n",
       "    \u001b[1m)\u001b[0m\n",
       "\u001b[1m]\u001b[0m\n"
      ]
     },
     "metadata": {},
     "output_type": "display_data"
    }
   ],
   "source": [
    "print(resultat)"
   ]
  },
  {
   "cell_type": "code",
   "execution_count": 21,
   "id": "c7c712e3-fbad-4e1e-8e84-740a959b7286",
   "metadata": {},
   "outputs": [],
   "source": [
    "code = {etat: indice for indice, etat in enumerate(SOMMETS)}"
   ]
  },
  {
   "cell_type": "code",
   "execution_count": 22,
   "id": "d544ef48-154e-4dd9-abf6-4ea09f7f9d3b",
   "metadata": {},
   "outputs": [],
   "source": [
    "traduction = [(code[e1], code[e2]) for e1, e2 in ARRETES]"
   ]
  },
  {
   "cell_type": "code",
   "execution_count": 23,
   "id": "3e5aac81-ad16-4c44-b86d-b494773e63ed",
   "metadata": {},
   "outputs": [
    {
     "data": {
      "text/html": [
       "<pre style=\"white-space:pre;overflow-x:auto;line-height:normal;font-family:Menlo,'DejaVu Sans Mono',consolas,'Courier New',monospace\"><span style=\"font-weight: bold\">[</span>\n",
       "    <span style=\"font-weight: bold\">(</span><span style=\"color: #008080; text-decoration-color: #008080; font-weight: bold\">0</span>, <span style=\"color: #008080; text-decoration-color: #008080; font-weight: bold\">5</span><span style=\"font-weight: bold\">)</span>,\n",
       "    <span style=\"font-weight: bold\">(</span><span style=\"color: #008080; text-decoration-color: #008080; font-weight: bold\">1</span>, <span style=\"color: #008080; text-decoration-color: #008080; font-weight: bold\">6</span><span style=\"font-weight: bold\">)</span>,\n",
       "    <span style=\"font-weight: bold\">(</span><span style=\"color: #008080; text-decoration-color: #008080; font-weight: bold\">1</span>, <span style=\"color: #008080; text-decoration-color: #008080; font-weight: bold\">7</span><span style=\"font-weight: bold\">)</span>,\n",
       "    <span style=\"font-weight: bold\">(</span><span style=\"color: #008080; text-decoration-color: #008080; font-weight: bold\">2</span>, <span style=\"color: #008080; text-decoration-color: #008080; font-weight: bold\">5</span><span style=\"font-weight: bold\">)</span>,\n",
       "    <span style=\"font-weight: bold\">(</span><span style=\"color: #008080; text-decoration-color: #008080; font-weight: bold\">2</span>, <span style=\"color: #008080; text-decoration-color: #008080; font-weight: bold\">6</span><span style=\"font-weight: bold\">)</span>,\n",
       "    <span style=\"font-weight: bold\">(</span><span style=\"color: #008080; text-decoration-color: #008080; font-weight: bold\">2</span>, <span style=\"color: #008080; text-decoration-color: #008080; font-weight: bold\">8</span><span style=\"font-weight: bold\">)</span>,\n",
       "    <span style=\"font-weight: bold\">(</span><span style=\"color: #008080; text-decoration-color: #008080; font-weight: bold\">3</span>, <span style=\"color: #008080; text-decoration-color: #008080; font-weight: bold\">7</span><span style=\"font-weight: bold\">)</span>,\n",
       "    <span style=\"font-weight: bold\">(</span><span style=\"color: #008080; text-decoration-color: #008080; font-weight: bold\">3</span>, <span style=\"color: #008080; text-decoration-color: #008080; font-weight: bold\">8</span><span style=\"font-weight: bold\">)</span>,\n",
       "    <span style=\"font-weight: bold\">(</span><span style=\"color: #008080; text-decoration-color: #008080; font-weight: bold\">4</span>, <span style=\"color: #008080; text-decoration-color: #008080; font-weight: bold\">7</span><span style=\"font-weight: bold\">)</span>,\n",
       "    <span style=\"font-weight: bold\">(</span><span style=\"color: #008080; text-decoration-color: #008080; font-weight: bold\">4</span>, <span style=\"color: #008080; text-decoration-color: #008080; font-weight: bold\">9</span><span style=\"font-weight: bold\">)</span>,\n",
       "    <span style=\"font-weight: bold\">(</span><span style=\"color: #008080; text-decoration-color: #008080; font-weight: bold\">5</span>, <span style=\"color: #008080; text-decoration-color: #008080; font-weight: bold\">0</span><span style=\"font-weight: bold\">)</span>,\n",
       "    <span style=\"font-weight: bold\">(</span><span style=\"color: #008080; text-decoration-color: #008080; font-weight: bold\">5</span>, <span style=\"color: #008080; text-decoration-color: #008080; font-weight: bold\">2</span><span style=\"font-weight: bold\">)</span>,\n",
       "    <span style=\"font-weight: bold\">(</span><span style=\"color: #008080; text-decoration-color: #008080; font-weight: bold\">6</span>, <span style=\"color: #008080; text-decoration-color: #008080; font-weight: bold\">1</span><span style=\"font-weight: bold\">)</span>,\n",
       "    <span style=\"font-weight: bold\">(</span><span style=\"color: #008080; text-decoration-color: #008080; font-weight: bold\">6</span>, <span style=\"color: #008080; text-decoration-color: #008080; font-weight: bold\">2</span><span style=\"font-weight: bold\">)</span>,\n",
       "    <span style=\"font-weight: bold\">(</span><span style=\"color: #008080; text-decoration-color: #008080; font-weight: bold\">7</span>, <span style=\"color: #008080; text-decoration-color: #008080; font-weight: bold\">1</span><span style=\"font-weight: bold\">)</span>,\n",
       "    <span style=\"font-weight: bold\">(</span><span style=\"color: #008080; text-decoration-color: #008080; font-weight: bold\">7</span>, <span style=\"color: #008080; text-decoration-color: #008080; font-weight: bold\">3</span><span style=\"font-weight: bold\">)</span>,\n",
       "    <span style=\"font-weight: bold\">(</span><span style=\"color: #008080; text-decoration-color: #008080; font-weight: bold\">7</span>, <span style=\"color: #008080; text-decoration-color: #008080; font-weight: bold\">4</span><span style=\"font-weight: bold\">)</span>,\n",
       "    <span style=\"font-weight: bold\">(</span><span style=\"color: #008080; text-decoration-color: #008080; font-weight: bold\">8</span>, <span style=\"color: #008080; text-decoration-color: #008080; font-weight: bold\">2</span><span style=\"font-weight: bold\">)</span>,\n",
       "    <span style=\"font-weight: bold\">(</span><span style=\"color: #008080; text-decoration-color: #008080; font-weight: bold\">8</span>, <span style=\"color: #008080; text-decoration-color: #008080; font-weight: bold\">3</span><span style=\"font-weight: bold\">)</span>,\n",
       "    <span style=\"font-weight: bold\">(</span><span style=\"color: #008080; text-decoration-color: #008080; font-weight: bold\">9</span>, <span style=\"color: #008080; text-decoration-color: #008080; font-weight: bold\">4</span><span style=\"font-weight: bold\">)</span>\n",
       "<span style=\"font-weight: bold\">]</span>\n",
       "</pre>\n"
      ],
      "text/plain": [
       "\u001b[1m[\u001b[0m\n",
       "    \u001b[1m(\u001b[0m\u001b[1;36m0\u001b[0m, \u001b[1;36m5\u001b[0m\u001b[1m)\u001b[0m,\n",
       "    \u001b[1m(\u001b[0m\u001b[1;36m1\u001b[0m, \u001b[1;36m6\u001b[0m\u001b[1m)\u001b[0m,\n",
       "    \u001b[1m(\u001b[0m\u001b[1;36m1\u001b[0m, \u001b[1;36m7\u001b[0m\u001b[1m)\u001b[0m,\n",
       "    \u001b[1m(\u001b[0m\u001b[1;36m2\u001b[0m, \u001b[1;36m5\u001b[0m\u001b[1m)\u001b[0m,\n",
       "    \u001b[1m(\u001b[0m\u001b[1;36m2\u001b[0m, \u001b[1;36m6\u001b[0m\u001b[1m)\u001b[0m,\n",
       "    \u001b[1m(\u001b[0m\u001b[1;36m2\u001b[0m, \u001b[1;36m8\u001b[0m\u001b[1m)\u001b[0m,\n",
       "    \u001b[1m(\u001b[0m\u001b[1;36m3\u001b[0m, \u001b[1;36m7\u001b[0m\u001b[1m)\u001b[0m,\n",
       "    \u001b[1m(\u001b[0m\u001b[1;36m3\u001b[0m, \u001b[1;36m8\u001b[0m\u001b[1m)\u001b[0m,\n",
       "    \u001b[1m(\u001b[0m\u001b[1;36m4\u001b[0m, \u001b[1;36m7\u001b[0m\u001b[1m)\u001b[0m,\n",
       "    \u001b[1m(\u001b[0m\u001b[1;36m4\u001b[0m, \u001b[1;36m9\u001b[0m\u001b[1m)\u001b[0m,\n",
       "    \u001b[1m(\u001b[0m\u001b[1;36m5\u001b[0m, \u001b[1;36m0\u001b[0m\u001b[1m)\u001b[0m,\n",
       "    \u001b[1m(\u001b[0m\u001b[1;36m5\u001b[0m, \u001b[1;36m2\u001b[0m\u001b[1m)\u001b[0m,\n",
       "    \u001b[1m(\u001b[0m\u001b[1;36m6\u001b[0m, \u001b[1;36m1\u001b[0m\u001b[1m)\u001b[0m,\n",
       "    \u001b[1m(\u001b[0m\u001b[1;36m6\u001b[0m, \u001b[1;36m2\u001b[0m\u001b[1m)\u001b[0m,\n",
       "    \u001b[1m(\u001b[0m\u001b[1;36m7\u001b[0m, \u001b[1;36m1\u001b[0m\u001b[1m)\u001b[0m,\n",
       "    \u001b[1m(\u001b[0m\u001b[1;36m7\u001b[0m, \u001b[1;36m3\u001b[0m\u001b[1m)\u001b[0m,\n",
       "    \u001b[1m(\u001b[0m\u001b[1;36m7\u001b[0m, \u001b[1;36m4\u001b[0m\u001b[1m)\u001b[0m,\n",
       "    \u001b[1m(\u001b[0m\u001b[1;36m8\u001b[0m, \u001b[1;36m2\u001b[0m\u001b[1m)\u001b[0m,\n",
       "    \u001b[1m(\u001b[0m\u001b[1;36m8\u001b[0m, \u001b[1;36m3\u001b[0m\u001b[1m)\u001b[0m,\n",
       "    \u001b[1m(\u001b[0m\u001b[1;36m9\u001b[0m, \u001b[1;36m4\u001b[0m\u001b[1m)\u001b[0m\n",
       "\u001b[1m]\u001b[0m\n"
      ]
     },
     "metadata": {},
     "output_type": "display_data"
    }
   ],
   "source": [
    "print(traduction)"
   ]
  },
  {
   "cell_type": "code",
   "execution_count": 24,
   "id": "d2c0dcdc-7186-4882-9b03-7b120e6a8268",
   "metadata": {},
   "outputs": [
    {
     "data": {
      "text/html": [
       "<pre style=\"white-space:pre;overflow-x:auto;line-height:normal;font-family:Menlo,'DejaVu Sans Mono',consolas,'Courier New',monospace\"><span style=\"font-weight: bold\">[</span><span style=\"color: #008080; text-decoration-color: #008080; font-weight: bold\">0</span>, <span style=\"color: #008080; text-decoration-color: #008080; font-weight: bold\">5</span>, <span style=\"color: #008080; text-decoration-color: #008080; font-weight: bold\">2</span>, <span style=\"color: #008080; text-decoration-color: #008080; font-weight: bold\">8</span>, <span style=\"color: #008080; text-decoration-color: #008080; font-weight: bold\">3</span>, <span style=\"color: #008080; text-decoration-color: #008080; font-weight: bold\">7</span>, <span style=\"color: #008080; text-decoration-color: #008080; font-weight: bold\">4</span>, <span style=\"color: #008080; text-decoration-color: #008080; font-weight: bold\">9</span><span style=\"font-weight: bold\">]</span>\n",
       "</pre>\n"
      ],
      "text/plain": [
       "\u001b[1m[\u001b[0m\u001b[1;36m0\u001b[0m, \u001b[1;36m5\u001b[0m, \u001b[1;36m2\u001b[0m, \u001b[1;36m8\u001b[0m, \u001b[1;36m3\u001b[0m, \u001b[1;36m7\u001b[0m, \u001b[1;36m4\u001b[0m, \u001b[1;36m9\u001b[0m\u001b[1m]\u001b[0m\n"
      ]
     },
     "metadata": {},
     "output_type": "display_data"
    }
   ],
   "source": [
    "print([code[e] for e in resultat])"
   ]
  },
  {
   "cell_type": "code",
   "execution_count": null,
   "id": "3f77971f-c44f-4e48-a70c-f75f3c0f9a88",
   "metadata": {},
   "outputs": [],
   "source": []
  }
 ],
 "metadata": {
  "kernelspec": {
   "display_name": "Python 3 (ipykernel)",
   "language": "python",
   "name": "python3"
  },
  "language_info": {
   "codemirror_mode": {
    "name": "ipython",
    "version": 3
   },
   "file_extension": ".py",
   "mimetype": "text/x-python",
   "name": "python",
   "nbconvert_exporter": "python",
   "pygments_lexer": "ipython3",
   "version": "3.10.8"
  }
 },
 "nbformat": 4,
 "nbformat_minor": 5
}
