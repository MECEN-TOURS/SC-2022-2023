{
 "cells": [
  {
   "cell_type": "markdown",
   "id": "48f62cfd-68b7-49e4-ae75-4862dfb10797",
   "metadata": {},
   "source": [
    "# Objectifs\n",
    "\n",
    "1. Créer une interface utilisateur. \n",
    "  On utilisera la librairie `typer`.\n",
    "2. Documenter le module."
   ]
  },
  {
   "cell_type": "markdown",
   "id": "9307375e-2f21-4dd2-814f-cadc177f3265",
   "metadata": {},
   "source": [
    "## Exercice\n",
    "\n",
    "Prendre en main `typer` via la documentation en ligne."
   ]
  },
  {
   "cell_type": "markdown",
   "id": "1b45a4b9-e904-4c1a-a025-048ec863ac04",
   "metadata": {},
   "source": [
    "**ATTENTION** la variable `__name__` d'un module donne une idée de la façon dont il a été invoqué.\n",
    "Si le module a été invoqué directement par l'utilisateur, la variable vaut `__main__`.\n",
    "Sinon elle vaudra le nom du fichier."
   ]
  },
  {
   "cell_type": "markdown",
   "id": "433dc85f-298c-4caa-a723-68dae33825bc",
   "metadata": {},
   "source": [
    "## Exercice\n",
    "\n",
    "Rajouter la carte de France avec la librairie."
   ]
  },
  {
   "cell_type": "markdown",
   "id": "daea7f0b-b250-4967-a0fe-f2e0a7b33e72",
   "metadata": {},
   "source": [
    "## Exercice\n",
    "\n",
    "Compléter les commandes de l'application."
   ]
  },
  {
   "cell_type": "markdown",
   "id": "368d5fc9-930b-4d72-a8a2-c1afa816e878",
   "metadata": {},
   "source": [
    "## Exercice\n",
    "\n",
    "1. Rendre les affichages plus ergonomiques.\n",
    "   Pas besoin de visualiser les objets python.\n",
    "   On va utiliser des tables du modules `rich` pour un meilleur affichage.\n",
    "2. Valider les entrées utilisateurs pour fournir des messages d'erreurs intelligibles.\n",
    "3. Rajouter des tests de lib_format\n",
    "4. Rajouter des tests (dits d'intégration) de l'interface.\n",
    "5. Rajouter une option pour que l'utilisateur puisse fournir sa propre carte.\n",
    "6. Rajouter la documentation"
   ]
  }
 ],
 "metadata": {
  "kernelspec": {
   "display_name": "Python 3 (ipykernel)",
   "language": "python",
   "name": "python3"
  },
  "language_info": {
   "codemirror_mode": {
    "name": "ipython",
    "version": 3
   },
   "file_extension": ".py",
   "mimetype": "text/x-python",
   "name": "python",
   "nbconvert_exporter": "python",
   "pygments_lexer": "ipython3",
   "version": "3.10.8"
  }
 },
 "nbformat": 4,
 "nbformat_minor": 5
}
