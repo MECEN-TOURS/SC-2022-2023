{
 "cells": [
  {
   "cell_type": "code",
   "execution_count": 1,
   "id": "9451a801-7ddc-46ef-85d0-8d73740d80d9",
   "metadata": {},
   "outputs": [],
   "source": [
    "import lib_graphe as lg"
   ]
  },
  {
   "cell_type": "code",
   "execution_count": 2,
   "id": "13db7a3b-33e8-4503-a77f-b1a2cc30a027",
   "metadata": {},
   "outputs": [],
   "source": [
    "import lib_probleme as lp"
   ]
  },
  {
   "cell_type": "code",
   "execution_count": 8,
   "id": "2d50813f-9723-466d-bdb6-daa0b8b1c8f1",
   "metadata": {},
   "outputs": [],
   "source": [
    "from importlib import reload"
   ]
  },
  {
   "cell_type": "code",
   "execution_count": 9,
   "id": "ca15475e-afc8-42e8-98e2-70a55c12582f",
   "metadata": {},
   "outputs": [
    {
     "data": {
      "text/plain": [
       "<module 'lib_graphe' from 'C:\\\\Users\\\\perrollaz\\\\Documents\\\\sc03\\\\lib_graphe.py'>"
      ]
     },
     "execution_count": 9,
     "metadata": {},
     "output_type": "execute_result"
    }
   ],
   "source": [
    "reload(lg)"
   ]
  },
  {
   "cell_type": "code",
   "execution_count": 10,
   "id": "ee42e923-5c72-4f4c-8073-8d1a21325a4e",
   "metadata": {},
   "outputs": [
    {
     "data": {
      "text/plain": [
       "<module 'lib_probleme' from 'C:\\\\Users\\\\perrollaz\\\\Documents\\\\sc03\\\\lib_probleme.py'>"
      ]
     },
     "execution_count": 10,
     "metadata": {},
     "output_type": "execute_result"
    }
   ],
   "source": [
    "reload(lp)"
   ]
  },
  {
   "cell_type": "code",
   "execution_count": 3,
   "id": "e32d6751-5080-47f7-af33-826b48789e02",
   "metadata": {},
   "outputs": [
    {
     "data": {
      "text/plain": [
       "Etat(berger=<Rive.GAUCHE: 'gauche'>, loup=<Rive.GAUCHE: 'gauche'>, mouton=<Rive.GAUCHE: 'gauche'>, chou=<Rive.GAUCHE: 'gauche'>)"
      ]
     },
     "execution_count": 3,
     "metadata": {},
     "output_type": "execute_result"
    }
   ],
   "source": [
    "lp.DEPART"
   ]
  },
  {
   "cell_type": "code",
   "execution_count": 4,
   "id": "41dca04b-4c47-4f02-9124-24a0ed2f4b46",
   "metadata": {},
   "outputs": [
    {
     "data": {
      "text/plain": [
       "Etat(berger=<Rive.DROITE: 'droite'>, loup=<Rive.DROITE: 'droite'>, mouton=<Rive.DROITE: 'droite'>, chou=<Rive.DROITE: 'droite'>)"
      ]
     },
     "execution_count": 4,
     "metadata": {},
     "output_type": "execute_result"
    }
   ],
   "source": [
    "lp.ARRIVEE"
   ]
  },
  {
   "cell_type": "code",
   "execution_count": 5,
   "id": "e4cc201a-9949-4d20-aef2-0baaeabf3f73",
   "metadata": {},
   "outputs": [
    {
     "data": {
      "text/plain": [
       "[(Etat(berger=<Rive.GAUCHE: 'gauche'>, loup=<Rive.GAUCHE: 'gauche'>, mouton=<Rive.GAUCHE: 'gauche'>, chou=<Rive.GAUCHE: 'gauche'>),\n",
       "  Etat(berger=<Rive.DROITE: 'droite'>, loup=<Rive.GAUCHE: 'gauche'>, mouton=<Rive.DROITE: 'droite'>, chou=<Rive.GAUCHE: 'gauche'>)),\n",
       " (Etat(berger=<Rive.GAUCHE: 'gauche'>, loup=<Rive.GAUCHE: 'gauche'>, mouton=<Rive.GAUCHE: 'gauche'>, chou=<Rive.DROITE: 'droite'>),\n",
       "  Etat(berger=<Rive.DROITE: 'droite'>, loup=<Rive.GAUCHE: 'gauche'>, mouton=<Rive.DROITE: 'droite'>, chou=<Rive.DROITE: 'droite'>)),\n",
       " (Etat(berger=<Rive.GAUCHE: 'gauche'>, loup=<Rive.GAUCHE: 'gauche'>, mouton=<Rive.GAUCHE: 'gauche'>, chou=<Rive.DROITE: 'droite'>),\n",
       "  Etat(berger=<Rive.DROITE: 'droite'>, loup=<Rive.DROITE: 'droite'>, mouton=<Rive.GAUCHE: 'gauche'>, chou=<Rive.DROITE: 'droite'>)),\n",
       " (Etat(berger=<Rive.GAUCHE: 'gauche'>, loup=<Rive.GAUCHE: 'gauche'>, mouton=<Rive.DROITE: 'droite'>, chou=<Rive.GAUCHE: 'gauche'>),\n",
       "  Etat(berger=<Rive.DROITE: 'droite'>, loup=<Rive.GAUCHE: 'gauche'>, mouton=<Rive.DROITE: 'droite'>, chou=<Rive.GAUCHE: 'gauche'>)),\n",
       " (Etat(berger=<Rive.GAUCHE: 'gauche'>, loup=<Rive.GAUCHE: 'gauche'>, mouton=<Rive.DROITE: 'droite'>, chou=<Rive.GAUCHE: 'gauche'>),\n",
       "  Etat(berger=<Rive.DROITE: 'droite'>, loup=<Rive.GAUCHE: 'gauche'>, mouton=<Rive.DROITE: 'droite'>, chou=<Rive.DROITE: 'droite'>)),\n",
       " (Etat(berger=<Rive.GAUCHE: 'gauche'>, loup=<Rive.GAUCHE: 'gauche'>, mouton=<Rive.DROITE: 'droite'>, chou=<Rive.GAUCHE: 'gauche'>),\n",
       "  Etat(berger=<Rive.DROITE: 'droite'>, loup=<Rive.DROITE: 'droite'>, mouton=<Rive.DROITE: 'droite'>, chou=<Rive.GAUCHE: 'gauche'>)),\n",
       " (Etat(berger=<Rive.GAUCHE: 'gauche'>, loup=<Rive.DROITE: 'droite'>, mouton=<Rive.GAUCHE: 'gauche'>, chou=<Rive.GAUCHE: 'gauche'>),\n",
       "  Etat(berger=<Rive.DROITE: 'droite'>, loup=<Rive.DROITE: 'droite'>, mouton=<Rive.GAUCHE: 'gauche'>, chou=<Rive.DROITE: 'droite'>)),\n",
       " (Etat(berger=<Rive.GAUCHE: 'gauche'>, loup=<Rive.DROITE: 'droite'>, mouton=<Rive.GAUCHE: 'gauche'>, chou=<Rive.GAUCHE: 'gauche'>),\n",
       "  Etat(berger=<Rive.DROITE: 'droite'>, loup=<Rive.DROITE: 'droite'>, mouton=<Rive.DROITE: 'droite'>, chou=<Rive.GAUCHE: 'gauche'>)),\n",
       " (Etat(berger=<Rive.GAUCHE: 'gauche'>, loup=<Rive.DROITE: 'droite'>, mouton=<Rive.GAUCHE: 'gauche'>, chou=<Rive.DROITE: 'droite'>),\n",
       "  Etat(berger=<Rive.DROITE: 'droite'>, loup=<Rive.DROITE: 'droite'>, mouton=<Rive.GAUCHE: 'gauche'>, chou=<Rive.DROITE: 'droite'>)),\n",
       " (Etat(berger=<Rive.GAUCHE: 'gauche'>, loup=<Rive.DROITE: 'droite'>, mouton=<Rive.GAUCHE: 'gauche'>, chou=<Rive.DROITE: 'droite'>),\n",
       "  Etat(berger=<Rive.DROITE: 'droite'>, loup=<Rive.DROITE: 'droite'>, mouton=<Rive.DROITE: 'droite'>, chou=<Rive.DROITE: 'droite'>)),\n",
       " (Etat(berger=<Rive.DROITE: 'droite'>, loup=<Rive.GAUCHE: 'gauche'>, mouton=<Rive.DROITE: 'droite'>, chou=<Rive.GAUCHE: 'gauche'>),\n",
       "  Etat(berger=<Rive.GAUCHE: 'gauche'>, loup=<Rive.GAUCHE: 'gauche'>, mouton=<Rive.GAUCHE: 'gauche'>, chou=<Rive.GAUCHE: 'gauche'>)),\n",
       " (Etat(berger=<Rive.DROITE: 'droite'>, loup=<Rive.GAUCHE: 'gauche'>, mouton=<Rive.DROITE: 'droite'>, chou=<Rive.GAUCHE: 'gauche'>),\n",
       "  Etat(berger=<Rive.GAUCHE: 'gauche'>, loup=<Rive.GAUCHE: 'gauche'>, mouton=<Rive.DROITE: 'droite'>, chou=<Rive.GAUCHE: 'gauche'>)),\n",
       " (Etat(berger=<Rive.DROITE: 'droite'>, loup=<Rive.GAUCHE: 'gauche'>, mouton=<Rive.DROITE: 'droite'>, chou=<Rive.DROITE: 'droite'>),\n",
       "  Etat(berger=<Rive.GAUCHE: 'gauche'>, loup=<Rive.GAUCHE: 'gauche'>, mouton=<Rive.GAUCHE: 'gauche'>, chou=<Rive.DROITE: 'droite'>)),\n",
       " (Etat(berger=<Rive.DROITE: 'droite'>, loup=<Rive.GAUCHE: 'gauche'>, mouton=<Rive.DROITE: 'droite'>, chou=<Rive.DROITE: 'droite'>),\n",
       "  Etat(berger=<Rive.GAUCHE: 'gauche'>, loup=<Rive.GAUCHE: 'gauche'>, mouton=<Rive.DROITE: 'droite'>, chou=<Rive.GAUCHE: 'gauche'>)),\n",
       " (Etat(berger=<Rive.DROITE: 'droite'>, loup=<Rive.DROITE: 'droite'>, mouton=<Rive.GAUCHE: 'gauche'>, chou=<Rive.DROITE: 'droite'>),\n",
       "  Etat(berger=<Rive.GAUCHE: 'gauche'>, loup=<Rive.GAUCHE: 'gauche'>, mouton=<Rive.GAUCHE: 'gauche'>, chou=<Rive.DROITE: 'droite'>)),\n",
       " (Etat(berger=<Rive.DROITE: 'droite'>, loup=<Rive.DROITE: 'droite'>, mouton=<Rive.GAUCHE: 'gauche'>, chou=<Rive.DROITE: 'droite'>),\n",
       "  Etat(berger=<Rive.GAUCHE: 'gauche'>, loup=<Rive.DROITE: 'droite'>, mouton=<Rive.GAUCHE: 'gauche'>, chou=<Rive.GAUCHE: 'gauche'>)),\n",
       " (Etat(berger=<Rive.DROITE: 'droite'>, loup=<Rive.DROITE: 'droite'>, mouton=<Rive.GAUCHE: 'gauche'>, chou=<Rive.DROITE: 'droite'>),\n",
       "  Etat(berger=<Rive.GAUCHE: 'gauche'>, loup=<Rive.DROITE: 'droite'>, mouton=<Rive.GAUCHE: 'gauche'>, chou=<Rive.DROITE: 'droite'>)),\n",
       " (Etat(berger=<Rive.DROITE: 'droite'>, loup=<Rive.DROITE: 'droite'>, mouton=<Rive.DROITE: 'droite'>, chou=<Rive.GAUCHE: 'gauche'>),\n",
       "  Etat(berger=<Rive.GAUCHE: 'gauche'>, loup=<Rive.GAUCHE: 'gauche'>, mouton=<Rive.DROITE: 'droite'>, chou=<Rive.GAUCHE: 'gauche'>)),\n",
       " (Etat(berger=<Rive.DROITE: 'droite'>, loup=<Rive.DROITE: 'droite'>, mouton=<Rive.DROITE: 'droite'>, chou=<Rive.GAUCHE: 'gauche'>),\n",
       "  Etat(berger=<Rive.GAUCHE: 'gauche'>, loup=<Rive.DROITE: 'droite'>, mouton=<Rive.GAUCHE: 'gauche'>, chou=<Rive.GAUCHE: 'gauche'>)),\n",
       " (Etat(berger=<Rive.DROITE: 'droite'>, loup=<Rive.DROITE: 'droite'>, mouton=<Rive.DROITE: 'droite'>, chou=<Rive.DROITE: 'droite'>),\n",
       "  Etat(berger=<Rive.GAUCHE: 'gauche'>, loup=<Rive.DROITE: 'droite'>, mouton=<Rive.GAUCHE: 'gauche'>, chou=<Rive.DROITE: 'droite'>))]"
      ]
     },
     "execution_count": 5,
     "metadata": {},
     "output_type": "execute_result"
    }
   ],
   "source": [
    "lp.ARRETES"
   ]
  },
  {
   "cell_type": "code",
   "execution_count": 6,
   "id": "8092cf73-a124-4957-ba99-65583f637bba",
   "metadata": {},
   "outputs": [
    {
     "data": {
      "text/plain": [
       "[Etat(berger=<Rive.GAUCHE: 'gauche'>, loup=<Rive.GAUCHE: 'gauche'>, mouton=<Rive.GAUCHE: 'gauche'>, chou=<Rive.GAUCHE: 'gauche'>),\n",
       " Etat(berger=<Rive.GAUCHE: 'gauche'>, loup=<Rive.GAUCHE: 'gauche'>, mouton=<Rive.GAUCHE: 'gauche'>, chou=<Rive.DROITE: 'droite'>),\n",
       " Etat(berger=<Rive.GAUCHE: 'gauche'>, loup=<Rive.GAUCHE: 'gauche'>, mouton=<Rive.DROITE: 'droite'>, chou=<Rive.GAUCHE: 'gauche'>),\n",
       " Etat(berger=<Rive.GAUCHE: 'gauche'>, loup=<Rive.DROITE: 'droite'>, mouton=<Rive.GAUCHE: 'gauche'>, chou=<Rive.GAUCHE: 'gauche'>),\n",
       " Etat(berger=<Rive.GAUCHE: 'gauche'>, loup=<Rive.DROITE: 'droite'>, mouton=<Rive.GAUCHE: 'gauche'>, chou=<Rive.DROITE: 'droite'>),\n",
       " Etat(berger=<Rive.DROITE: 'droite'>, loup=<Rive.GAUCHE: 'gauche'>, mouton=<Rive.DROITE: 'droite'>, chou=<Rive.GAUCHE: 'gauche'>),\n",
       " Etat(berger=<Rive.DROITE: 'droite'>, loup=<Rive.GAUCHE: 'gauche'>, mouton=<Rive.DROITE: 'droite'>, chou=<Rive.DROITE: 'droite'>),\n",
       " Etat(berger=<Rive.DROITE: 'droite'>, loup=<Rive.DROITE: 'droite'>, mouton=<Rive.GAUCHE: 'gauche'>, chou=<Rive.DROITE: 'droite'>),\n",
       " Etat(berger=<Rive.DROITE: 'droite'>, loup=<Rive.DROITE: 'droite'>, mouton=<Rive.DROITE: 'droite'>, chou=<Rive.GAUCHE: 'gauche'>),\n",
       " Etat(berger=<Rive.DROITE: 'droite'>, loup=<Rive.DROITE: 'droite'>, mouton=<Rive.DROITE: 'droite'>, chou=<Rive.DROITE: 'droite'>)]"
      ]
     },
     "execution_count": 6,
     "metadata": {},
     "output_type": "execute_result"
    }
   ],
   "source": [
    "lp.SOMMETS"
   ]
  },
  {
   "cell_type": "code",
   "execution_count": 7,
   "id": "4c9facda-9733-46b3-b3ae-6b9ff6833d52",
   "metadata": {},
   "outputs": [
    {
     "data": {
      "text/plain": [
       "[Etat(berger=<Rive.GAUCHE: 'gauche'>, loup=<Rive.GAUCHE: 'gauche'>, mouton=<Rive.GAUCHE: 'gauche'>, chou=<Rive.GAUCHE: 'gauche'>),\n",
       " Etat(berger=<Rive.DROITE: 'droite'>, loup=<Rive.GAUCHE: 'gauche'>, mouton=<Rive.DROITE: 'droite'>, chou=<Rive.GAUCHE: 'gauche'>),\n",
       " Etat(berger=<Rive.GAUCHE: 'gauche'>, loup=<Rive.GAUCHE: 'gauche'>, mouton=<Rive.DROITE: 'droite'>, chou=<Rive.GAUCHE: 'gauche'>),\n",
       " Etat(berger=<Rive.DROITE: 'droite'>, loup=<Rive.DROITE: 'droite'>, mouton=<Rive.DROITE: 'droite'>, chou=<Rive.GAUCHE: 'gauche'>),\n",
       " Etat(berger=<Rive.GAUCHE: 'gauche'>, loup=<Rive.DROITE: 'droite'>, mouton=<Rive.GAUCHE: 'gauche'>, chou=<Rive.GAUCHE: 'gauche'>),\n",
       " Etat(berger=<Rive.DROITE: 'droite'>, loup=<Rive.DROITE: 'droite'>, mouton=<Rive.GAUCHE: 'gauche'>, chou=<Rive.DROITE: 'droite'>),\n",
       " Etat(berger=<Rive.GAUCHE: 'gauche'>, loup=<Rive.DROITE: 'droite'>, mouton=<Rive.GAUCHE: 'gauche'>, chou=<Rive.DROITE: 'droite'>),\n",
       " Etat(berger=<Rive.DROITE: 'droite'>, loup=<Rive.DROITE: 'droite'>, mouton=<Rive.DROITE: 'droite'>, chou=<Rive.DROITE: 'droite'>)]"
      ]
     },
     "execution_count": 7,
     "metadata": {},
     "output_type": "execute_result"
    }
   ],
   "source": [
    "lg.cherche_chemin(\n",
    "    depart=lp.DEPART,\n",
    "    arrivee=lp.ARRIVEE,\n",
    "    sommets=lp.SOMMETS,\n",
    "    arretes=lp.ARRETES,\n",
    "    debug=False,\n",
    ")"
   ]
  },
  {
   "cell_type": "markdown",
   "id": "fd0acf3d-fb8a-409b-8d00-078a2d867270",
   "metadata": {},
   "source": [
    "# Exercice\n",
    "\n",
    "Documenter l'interface publique des modules lib_graphe et lib_probleme avec des exemples."
   ]
  },
  {
   "cell_type": "markdown",
   "id": "261d9a79-2b93-4b55-8be4-327d40f00189",
   "metadata": {},
   "source": [
    "# Exercice \n",
    "Compléter les TODO des librairies."
   ]
  },
  {
   "cell_type": "markdown",
   "id": "2dc887d6-5b58-41f8-a18b-98df7555f2bf",
   "metadata": {},
   "source": [
    "# Nouveau problème\n",
    "\n",
    "Coder un solveur de sudoku 4x4 d'abord puis 9x9 ensuite.\n",
    "\n",
    "1. On a $4^{16}$ grilles donc le graphe ne peut pas tenir intégralement en mémoire.\n",
    "2. Il faut coder une classe Grille, représentant une grille 4x4 partiellement remplie.\n",
    "3. Il faut coder une fonction est_valide qui décider si une grille partiellement remplie respecte les règles du sudoku (pas de répétition sur ligne/colonne/sous grille)\n",
    "4. Une Grille sera voisine d'une autre s'il la première case vide a été remplie par 1, 2, 3 ou 4\n",
    "5. Il faut coder une fonction genere_voisins qui prend en entrée une grille et associe la liste des voisins.\n",
    "6. Il faut finalement adapter la fonction cherche_chemin.\n",
    "\n",
    "Le résultat final devra respecté\n",
    "- un bon typage de fonction et mypy ne signale pas d'erreurs\n",
    "- des tests automatiques sont présents et pytest ne signale pas d'erreur\n",
    "- l'interface publique est documentée\n",
    "- les modules sont formatés avec black\n",
    "- ruff et pylama ne signale pas de bogue."
   ]
  },
  {
   "cell_type": "code",
   "execution_count": 1,
   "id": "2857f4af-4d64-41c9-93ad-49adfb154ba8",
   "metadata": {},
   "outputs": [],
   "source": [
    "from dataclasses import dataclass"
   ]
  },
  {
   "cell_type": "code",
   "execution_count": 3,
   "id": "ee0133de-601b-4a64-a37d-8725f2cab23f",
   "metadata": {},
   "outputs": [],
   "source": [
    "@dataclass\n",
    "class Grille:\n",
    "    \"\"\"Grille partiellement remplie de Sudoku.\n",
    "    \n",
    "    0 représentera une case vide.\n",
    "    \"\"\"\n",
    "    cases: list[int]\n",
    "    \n",
    "    def __post_init__(self):\n",
    "        if len(self.cases) != 16:\n",
    "            raise ValueError(\"Il doit y avoir exactement 16 cases.\")\n",
    "        if any(case < 0 or case > 4 for case in self.cases):\n",
    "            raise ValueError(\"Les valeurs permises sont 0,1,2,3 ou 4!\")"
   ]
  },
  {
   "cell_type": "code",
   "execution_count": 4,
   "id": "dd606ba1-ebd7-4725-87ef-9a409bec59c6",
   "metadata": {},
   "outputs": [
    {
     "data": {
      "text/plain": [
       "Grille(cases=[0, 2, 3, 4, 3, 4, 0, 2, 2, 0, 0, 3, 4, 3, 2, 1])"
      ]
     },
     "execution_count": 4,
     "metadata": {},
     "output_type": "execute_result"
    }
   ],
   "source": [
    "Grille(\n",
    "    cases=[0, 2, 3, 4, 3, 4, 0, 2, 2, 0, 0, 3, 4, 3, 2, 1]\n",
    ")"
   ]
  },
  {
   "cell_type": "code",
   "execution_count": 5,
   "id": "4995532c-98cb-4b2f-9ff0-95f32e3fd5bc",
   "metadata": {},
   "outputs": [
    {
     "ename": "ValueError",
     "evalue": "Il doit y avoir exactement 16 cases.",
     "output_type": "error",
     "traceback": [
      "\u001b[1;31m---------------------------------------------------------------------------\u001b[0m",
      "\u001b[1;31mValueError\u001b[0m                                Traceback (most recent call last)",
      "Cell \u001b[1;32mIn[5], line 1\u001b[0m\n\u001b[1;32m----> 1\u001b[0m \u001b[43mGrille\u001b[49m\u001b[43m(\u001b[49m\n\u001b[0;32m      2\u001b[0m \u001b[43m    \u001b[49m\u001b[43mcases\u001b[49m\u001b[38;5;241;43m=\u001b[39;49m\u001b[43m[\u001b[49m\u001b[38;5;241;43m0\u001b[39;49m\u001b[43m,\u001b[49m\u001b[43m \u001b[49m\u001b[38;5;241;43m2\u001b[39;49m\u001b[43m,\u001b[49m\u001b[43m \u001b[49m\u001b[38;5;241;43m3\u001b[39;49m\u001b[43m,\u001b[49m\u001b[43m \u001b[49m\u001b[38;5;241;43m4\u001b[39;49m\u001b[43m,\u001b[49m\u001b[43m \u001b[49m\u001b[38;5;241;43m3\u001b[39;49m\u001b[43m,\u001b[49m\u001b[43m \u001b[49m\u001b[38;5;241;43m4\u001b[39;49m\u001b[43m,\u001b[49m\u001b[43m \u001b[49m\u001b[38;5;241;43m0\u001b[39;49m\u001b[43m,\u001b[49m\u001b[43m \u001b[49m\u001b[38;5;241;43m2\u001b[39;49m\u001b[43m,\u001b[49m\u001b[43m \u001b[49m\u001b[38;5;241;43m2\u001b[39;49m\u001b[43m,\u001b[49m\u001b[43m \u001b[49m\u001b[38;5;241;43m0\u001b[39;49m\u001b[43m,\u001b[49m\u001b[43m \u001b[49m\u001b[38;5;241;43m0\u001b[39;49m\u001b[43m,\u001b[49m\u001b[43m \u001b[49m\u001b[38;5;241;43m3\u001b[39;49m\u001b[43m,\u001b[49m\u001b[43m \u001b[49m\u001b[38;5;241;43m4\u001b[39;49m\u001b[43m,\u001b[49m\u001b[43m \u001b[49m\u001b[38;5;241;43m3\u001b[39;49m\u001b[43m,\u001b[49m\u001b[43m \u001b[49m\u001b[38;5;241;43m2\u001b[39;49m\u001b[43m,\u001b[49m\u001b[43m \u001b[49m\u001b[38;5;241;43m1\u001b[39;49m\u001b[43m,\u001b[49m\u001b[43m \u001b[49m\u001b[38;5;241;43m2\u001b[39;49m\u001b[43m]\u001b[49m\n\u001b[0;32m      3\u001b[0m \u001b[43m)\u001b[49m\n",
      "File \u001b[1;32m<string>:4\u001b[0m, in \u001b[0;36m__init__\u001b[1;34m(self, cases)\u001b[0m\n",
      "Cell \u001b[1;32mIn[3], line 11\u001b[0m, in \u001b[0;36mGrille.__post_init__\u001b[1;34m(self)\u001b[0m\n\u001b[0;32m      9\u001b[0m \u001b[38;5;28;01mdef\u001b[39;00m \u001b[38;5;21m__post_init__\u001b[39m(\u001b[38;5;28mself\u001b[39m):\n\u001b[0;32m     10\u001b[0m     \u001b[38;5;28;01mif\u001b[39;00m \u001b[38;5;28mlen\u001b[39m(\u001b[38;5;28mself\u001b[39m\u001b[38;5;241m.\u001b[39mcases) \u001b[38;5;241m!=\u001b[39m \u001b[38;5;241m16\u001b[39m:\n\u001b[1;32m---> 11\u001b[0m         \u001b[38;5;28;01mraise\u001b[39;00m \u001b[38;5;167;01mValueError\u001b[39;00m(\u001b[38;5;124m\"\u001b[39m\u001b[38;5;124mIl doit y avoir exactement 16 cases.\u001b[39m\u001b[38;5;124m\"\u001b[39m)\n\u001b[0;32m     12\u001b[0m     \u001b[38;5;28;01mif\u001b[39;00m \u001b[38;5;28many\u001b[39m(case \u001b[38;5;241m<\u001b[39m \u001b[38;5;241m0\u001b[39m \u001b[38;5;129;01mor\u001b[39;00m case \u001b[38;5;241m>\u001b[39m \u001b[38;5;241m4\u001b[39m \u001b[38;5;28;01mfor\u001b[39;00m case \u001b[38;5;129;01min\u001b[39;00m \u001b[38;5;28mself\u001b[39m\u001b[38;5;241m.\u001b[39mcases):\n\u001b[0;32m     13\u001b[0m         \u001b[38;5;28;01mraise\u001b[39;00m \u001b[38;5;167;01mValueError\u001b[39;00m(\u001b[38;5;124m\"\u001b[39m\u001b[38;5;124mLes valeurs permises sont 0,1,2,3 ou 4!\u001b[39m\u001b[38;5;124m\"\u001b[39m)\n",
      "\u001b[1;31mValueError\u001b[0m: Il doit y avoir exactement 16 cases."
     ]
    }
   ],
   "source": [
    "Grille(\n",
    "    cases=[0, 2, 3, 4, 3, 4, 0, 2, 2, 0, 0, 3, 4, 3, 2, 1, 2]\n",
    ")"
   ]
  },
  {
   "cell_type": "code",
   "execution_count": 6,
   "id": "38a8fe34-2e87-4090-89ba-ca8a48a8767b",
   "metadata": {},
   "outputs": [
    {
     "ename": "ValueError",
     "evalue": "Les valeurs permises sont 0,1,2,3 ou 4!",
     "output_type": "error",
     "traceback": [
      "\u001b[1;31m---------------------------------------------------------------------------\u001b[0m",
      "\u001b[1;31mValueError\u001b[0m                                Traceback (most recent call last)",
      "Cell \u001b[1;32mIn[6], line 1\u001b[0m\n\u001b[1;32m----> 1\u001b[0m \u001b[43mGrille\u001b[49m\u001b[43m(\u001b[49m\n\u001b[0;32m      2\u001b[0m \u001b[43m    \u001b[49m\u001b[43mcases\u001b[49m\u001b[38;5;241;43m=\u001b[39;49m\u001b[43m[\u001b[49m\u001b[38;5;241;43m0\u001b[39;49m\u001b[43m,\u001b[49m\u001b[43m \u001b[49m\u001b[38;5;241;43m2\u001b[39;49m\u001b[43m,\u001b[49m\u001b[43m \u001b[49m\u001b[38;5;241;43m3\u001b[39;49m\u001b[43m,\u001b[49m\u001b[43m \u001b[49m\u001b[38;5;241;43m4\u001b[39;49m\u001b[43m,\u001b[49m\u001b[43m \u001b[49m\u001b[38;5;241;43m3\u001b[39;49m\u001b[43m,\u001b[49m\u001b[43m \u001b[49m\u001b[38;5;241;43m4\u001b[39;49m\u001b[43m,\u001b[49m\u001b[43m \u001b[49m\u001b[38;5;241;43m0\u001b[39;49m\u001b[43m,\u001b[49m\u001b[43m \u001b[49m\u001b[38;5;241;43m2\u001b[39;49m\u001b[43m,\u001b[49m\u001b[43m \u001b[49m\u001b[38;5;241;43m2\u001b[39;49m\u001b[43m,\u001b[49m\u001b[43m \u001b[49m\u001b[38;5;241;43m0\u001b[39;49m\u001b[43m,\u001b[49m\u001b[43m \u001b[49m\u001b[38;5;241;43m0\u001b[39;49m\u001b[43m,\u001b[49m\u001b[43m \u001b[49m\u001b[38;5;241;43m3\u001b[39;49m\u001b[43m,\u001b[49m\u001b[43m \u001b[49m\u001b[38;5;241;43m4\u001b[39;49m\u001b[43m,\u001b[49m\u001b[43m \u001b[49m\u001b[38;5;241;43m3\u001b[39;49m\u001b[43m,\u001b[49m\u001b[43m \u001b[49m\u001b[38;5;241;43m2\u001b[39;49m\u001b[43m,\u001b[49m\u001b[43m \u001b[49m\u001b[38;5;241;43m5\u001b[39;49m\u001b[43m]\u001b[49m\n\u001b[0;32m      3\u001b[0m \u001b[43m)\u001b[49m\n",
      "File \u001b[1;32m<string>:4\u001b[0m, in \u001b[0;36m__init__\u001b[1;34m(self, cases)\u001b[0m\n",
      "Cell \u001b[1;32mIn[3], line 13\u001b[0m, in \u001b[0;36mGrille.__post_init__\u001b[1;34m(self)\u001b[0m\n\u001b[0;32m     11\u001b[0m     \u001b[38;5;28;01mraise\u001b[39;00m \u001b[38;5;167;01mValueError\u001b[39;00m(\u001b[38;5;124m\"\u001b[39m\u001b[38;5;124mIl doit y avoir exactement 16 cases.\u001b[39m\u001b[38;5;124m\"\u001b[39m)\n\u001b[0;32m     12\u001b[0m \u001b[38;5;28;01mif\u001b[39;00m \u001b[38;5;28many\u001b[39m(case \u001b[38;5;241m<\u001b[39m \u001b[38;5;241m0\u001b[39m \u001b[38;5;129;01mor\u001b[39;00m case \u001b[38;5;241m>\u001b[39m \u001b[38;5;241m4\u001b[39m \u001b[38;5;28;01mfor\u001b[39;00m case \u001b[38;5;129;01min\u001b[39;00m \u001b[38;5;28mself\u001b[39m\u001b[38;5;241m.\u001b[39mcases):\n\u001b[1;32m---> 13\u001b[0m     \u001b[38;5;28;01mraise\u001b[39;00m \u001b[38;5;167;01mValueError\u001b[39;00m(\u001b[38;5;124m\"\u001b[39m\u001b[38;5;124mLes valeurs permises sont 0,1,2,3 ou 4!\u001b[39m\u001b[38;5;124m\"\u001b[39m)\n",
      "\u001b[1;31mValueError\u001b[0m: Les valeurs permises sont 0,1,2,3 ou 4!"
     ]
    }
   ],
   "source": [
    "Grille(\n",
    "    cases=[0, 2, 3, 4, 3, 4, 0, 2, 2, 0, 0, 3, 4, 3, 2, 5]\n",
    ")"
   ]
  },
  {
   "cell_type": "code",
   "execution_count": null,
   "id": "d80d7849-695e-4e18-9081-2db3a52f102f",
   "metadata": {},
   "outputs": [],
   "source": []
  }
 ],
 "metadata": {
  "kernelspec": {
   "display_name": "Python 3 (ipykernel)",
   "language": "python",
   "name": "python3"
  },
  "language_info": {
   "codemirror_mode": {
    "name": "ipython",
    "version": 3
   },
   "file_extension": ".py",
   "mimetype": "text/x-python",
   "name": "python",
   "nbconvert_exporter": "python",
   "pygments_lexer": "ipython3",
   "version": "3.10.8"
  }
 },
 "nbformat": 4,
 "nbformat_minor": 5
}
