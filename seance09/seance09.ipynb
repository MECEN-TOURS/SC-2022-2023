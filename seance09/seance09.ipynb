{
 "cells": [
  {
   "cell_type": "markdown",
   "id": "56fff310-5f8e-4a14-a08a-5589e3556b15",
   "metadata": {},
   "source": [
    "# Exercice\n",
    "Reprendre la classe GraphePonderee de la dernière séance et coder une fonction `convertit_dot` permettant de représenter le graphe via la syntaxe dot."
   ]
  },
  {
   "cell_type": "code",
   "execution_count": 18,
   "id": "66a736c4-b480-42ba-8d32-bd677ae919a3",
   "metadata": {},
   "outputs": [],
   "source": [
    "import subprocess as sp\n",
    "from IPython.display import SVG"
   ]
  },
  {
   "cell_type": "code",
   "execution_count": 1,
   "id": "9cc2e6ca-aa45-4476-b190-a5d034b52abc",
   "metadata": {},
   "outputs": [],
   "source": [
    "from lib_graphe import GraphePondere"
   ]
  },
  {
   "cell_type": "code",
   "execution_count": 2,
   "id": "3fa9dd5c-c233-417b-84de-a787510f55b9",
   "metadata": {},
   "outputs": [],
   "source": [
    "sommets = list(\"ABC\")\n",
    "arretes = [\n",
    "    (\"A\", \"B\", 1),\n",
    "    (\"B\", \"C\", 2),\n",
    "    (\"C\", \"A\", 4),\n",
    "]\n",
    "gp = GraphePondere(sommets=sommets, arretes=arretes)"
   ]
  },
  {
   "cell_type": "code",
   "execution_count": 23,
   "id": "aa24af8c-f0a9-4529-a4fd-d6ee4fa573cc",
   "metadata": {},
   "outputs": [],
   "source": [
    "def convertit_dot(gp: GraphePondere) -> str:\n",
    "    lignes = [\"\\ndigraph gp {\"]\n",
    "    for sommet in gp.sommets:\n",
    "        lignes.append(f\"{sommet};\")\n",
    "    for depart, arrivee, poids in gp.arretes:\n",
    "        lignes.append(f\"{depart} -> {arrivee} [label={poids}];\")\n",
    "    lignes.append(\"}\\n\")\n",
    "    return \"\\n\".join(lignes)"
   ]
  },
  {
   "cell_type": "code",
   "execution_count": 24,
   "id": "3b4ab3ce-1c17-4a39-b111-f4dd48d41c9e",
   "metadata": {},
   "outputs": [
    {
     "data": {
      "text/plain": [
       "'\\ndigraph gp {\\nA;\\nB;\\nC;\\nA -> B [label=1];\\nB -> C [label=2];\\nC -> A [label=4];\\n}\\n'"
      ]
     },
     "execution_count": 24,
     "metadata": {},
     "output_type": "execute_result"
    }
   ],
   "source": [
    "attendu = \"\"\"\n",
    "digraph gp {\n",
    "A;\n",
    "B;\n",
    "C;\n",
    "A -> B [label=1];\n",
    "B -> C [label=2];\n",
    "C -> A [label=4];\n",
    "}\n",
    "\"\"\"\n",
    "attendu"
   ]
  },
  {
   "cell_type": "code",
   "execution_count": 25,
   "id": "8547fff8-059f-4285-b971-32c037600cee",
   "metadata": {},
   "outputs": [
    {
     "data": {
      "text/plain": [
       "'\\ndigraph gp {\\nA;\\nB;\\nC;\\nA -> B [label=1];\\nB -> C [label=2];\\nC -> A [label=4];\\n}\\n'"
      ]
     },
     "execution_count": 25,
     "metadata": {},
     "output_type": "execute_result"
    }
   ],
   "source": [
    "convertit_dot(gp)"
   ]
  },
  {
   "cell_type": "code",
   "execution_count": 26,
   "id": "3540cb8c-218d-444f-8112-297e0d1df0c7",
   "metadata": {},
   "outputs": [],
   "source": [
    "assert convertit_dot(gp) == attendu"
   ]
  },
  {
   "cell_type": "markdown",
   "id": "6fbce831-b759-43b4-9d3a-0c6899c3a378",
   "metadata": {},
   "source": [
    "# Exercice\n",
    "\n",
    "Coder une fonction `deserialize` qui prend un graphe au format dot et qui renvoie un objet de type `GraphePondere`"
   ]
  },
  {
   "cell_type": "code",
   "execution_count": 27,
   "id": "80f694a2-47f2-4a9b-8d5a-5acbef42d284",
   "metadata": {},
   "outputs": [],
   "source": [
    "def deserialize(dot_str: str) -> GraphePondere:\n",
    "    ..."
   ]
  },
  {
   "cell_type": "code",
   "execution_count": 28,
   "id": "30448b3d-44fa-4a47-b473-0c19a8fe7f3e",
   "metadata": {},
   "outputs": [],
   "source": [
    "sommets = list(\"ABC\")\n",
    "arretes = [\n",
    "    (\"A\", \"B\", 1),\n",
    "    (\"B\", \"C\", 2),\n",
    "    (\"C\", \"A\", 4),\n",
    "]\n",
    "gp = GraphePondere(sommets=sommets, arretes=arretes)"
   ]
  },
  {
   "cell_type": "code",
   "execution_count": 29,
   "id": "385b8bdc-1682-40f5-9db4-7cc44409c7aa",
   "metadata": {},
   "outputs": [
    {
     "name": "stdout",
     "output_type": "stream",
     "text": [
      "type\n"
     ]
    },
    {
     "ename": "AssertionError",
     "evalue": "",
     "output_type": "error",
     "traceback": [
      "\u001b[1;31m---------------------------------------------------------------------------\u001b[0m",
      "\u001b[1;31mAssertionError\u001b[0m                            Traceback (most recent call last)",
      "Cell \u001b[1;32mIn[29], line 1\u001b[0m\n\u001b[1;32m----> 1\u001b[0m \u001b[38;5;28;01massert\u001b[39;00m deserialize(convertit_dot(gp)) \u001b[38;5;241m==\u001b[39m gp\n",
      "\u001b[1;31mAssertionError\u001b[0m: "
     ]
    }
   ],
   "source": [
    "assert deserialize(convertit_dot(gp)) == gp"
   ]
  },
  {
   "cell_type": "markdown",
   "id": "f58ccaf7-4662-42d6-b715-285ea9ccd3f5",
   "metadata": {},
   "source": [
    "# Exercice\n",
    "\n",
    "Ecrire en python la sauvegarde de la chaine dot dans un fichier puis récupéré le code svg correspondant à la sortie de la commande dot."
   ]
  },
  {
   "cell_type": "markdown",
   "id": "e0a2a65b-194b-45d5-a5cb-90c20aa5d34e",
   "metadata": {},
   "source": [
    "**Pour interagir avec le système de fichier.**"
   ]
  },
  {
   "cell_type": "code",
   "execution_count": 30,
   "id": "ef6ba808-4c44-499e-96bf-1b12ce4f14e8",
   "metadata": {},
   "outputs": [],
   "source": [
    "from pathlib import Path"
   ]
  },
  {
   "cell_type": "code",
   "execution_count": 31,
   "id": "7523eef1-e6f3-444a-b641-de70ee8767bd",
   "metadata": {},
   "outputs": [],
   "source": [
    "courant = Path(\".\").resolve()"
   ]
  },
  {
   "cell_type": "code",
   "execution_count": 32,
   "id": "dee7e24c-1146-4e06-b892-d51704c4e822",
   "metadata": {},
   "outputs": [
    {
     "data": {
      "text/plain": [
       "WindowsPath('C:/Users/perrollaz/Documents/sc09')"
      ]
     },
     "execution_count": 32,
     "metadata": {},
     "output_type": "execute_result"
    }
   ],
   "source": [
    "courant"
   ]
  },
  {
   "cell_type": "code",
   "execution_count": 34,
   "id": "3dd6ad5c-dcc7-49a0-bd61-4852ce4e6d90",
   "metadata": {},
   "outputs": [
    {
     "data": {
      "text/plain": [
       "WindowsPath('C:/Users/perrollaz/Documents/sc09/symmetrique.dot')"
      ]
     },
     "execution_count": 34,
     "metadata": {},
     "output_type": "execute_result"
    }
   ],
   "source": [
    "fichier = courant / \"symmetrique.dot\"\n",
    "fichier"
   ]
  },
  {
   "cell_type": "code",
   "execution_count": 35,
   "id": "41b130a6-894f-4ec6-823e-bf47a32a08cb",
   "metadata": {},
   "outputs": [
    {
     "data": {
      "text/plain": [
       "True"
      ]
     },
     "execution_count": 35,
     "metadata": {},
     "output_type": "execute_result"
    }
   ],
   "source": [
    "fichier.exists()"
   ]
  },
  {
   "cell_type": "code",
   "execution_count": 36,
   "id": "caff54db-cdc8-4a88-a3fd-124bebe052ad",
   "metadata": {},
   "outputs": [
    {
     "data": {
      "text/plain": [
       "'\\ngraph symmetrique {\\nA -- B -- C;\\nA -- D -- B;\\n}\\n'"
      ]
     },
     "execution_count": 36,
     "metadata": {},
     "output_type": "execute_result"
    }
   ],
   "source": [
    "fichier.read_text()"
   ]
  },
  {
   "cell_type": "markdown",
   "id": "b2055153-c093-4abf-8833-01edaf487529",
   "metadata": {},
   "source": []
  }
 ],
 "metadata": {
  "kernelspec": {
   "display_name": "Python 3 (ipykernel)",
   "language": "python",
   "name": "python3"
  },
  "language_info": {
   "codemirror_mode": {
    "name": "ipython",
    "version": 3
   },
   "file_extension": ".py",
   "mimetype": "text/x-python",
   "name": "python",
   "nbconvert_exporter": "python",
   "pygments_lexer": "ipython3",
   "version": "3.10.8"
  }
 },
 "nbformat": 4,
 "nbformat_minor": 5
}
