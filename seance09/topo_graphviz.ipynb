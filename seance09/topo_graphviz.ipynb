{
 "cells": [
  {
   "cell_type": "code",
   "execution_count": 1,
   "id": "791ba493-de4f-40f6-a020-7cc1c7c88e67",
   "metadata": {},
   "outputs": [],
   "source": [
    "import subprocess as sp\n",
    "from IPython.display import SVG"
   ]
  },
  {
   "cell_type": "markdown",
   "id": "2637fa2a-0320-408b-bb1d-03b11681a62c",
   "metadata": {
    "tags": []
   },
   "source": [
    "# Introduction à graphviz"
   ]
  },
  {
   "cell_type": "markdown",
   "id": "a91e916a-5eb9-4f90-9345-c4548510d2ef",
   "metadata": {},
   "source": [
    "[Graphviz](https://graphviz.org/) est une suite logicielle permettant de faire des dessins de graphes.\n",
    "\n",
    "Elle n'est pas spécifique à python, mais de manière sous jacente les librairies de python (`networkx` ou `pygraphviz`) permettent de faire des dessins de graphe en sous-traitant à la librairie `graphviz`."
   ]
  },
  {
   "cell_type": "markdown",
   "id": "36d1f13f-55fe-47a4-9834-cb7935fe6f94",
   "metadata": {},
   "source": [
    "## Syntaxe dot de base"
   ]
  },
  {
   "cell_type": "code",
   "execution_count": 2,
   "id": "31e8f6f4-d4b3-4dd9-9b8f-b5d70f986e15",
   "metadata": {},
   "outputs": [
    {
     "name": "stdout",
     "output_type": "stream",
     "text": [
      "Overwriting symmetrique.dot\n"
     ]
    }
   ],
   "source": [
    "%%writefile symmetrique.dot\n",
    "\n",
    "graph symmetrique {\n",
    "A -- B -- C;\n",
    "A -- D -- B;\n",
    "}"
   ]
  },
  {
   "cell_type": "markdown",
   "id": "dd337092-b274-4cba-92c7-a2062e1fa9b2",
   "metadata": {},
   "source": [
    "Dans le terminal exécuter `dot -O symmetrique.dot -Tsvg`\n",
    "ou on utilise `subprocess`"
   ]
  },
  {
   "cell_type": "code",
   "execution_count": 3,
   "id": "64ca6261-f951-4f9d-b0b2-c39b98e01b30",
   "metadata": {},
   "outputs": [
    {
     "data": {
      "text/plain": [
       "CompletedProcess(args=['dot', '-O', 'symmetrique.dot', '-T', 'svg'], returncode=0)"
      ]
     },
     "execution_count": 3,
     "metadata": {},
     "output_type": "execute_result"
    }
   ],
   "source": [
    "sp.run([\"dot\", \"-O\", \"symmetrique.dot\", \"-T\", \"svg\"])"
   ]
  },
  {
   "cell_type": "code",
   "execution_count": 4,
   "id": "8be2bc28-850d-4521-aab3-2e6df18a23ef",
   "metadata": {},
   "outputs": [
    {
     "data": {
      "image/svg+xml": [
       "<svg xmlns=\"http://www.w3.org/2000/svg\" xmlns:xlink=\"http://www.w3.org/1999/xlink\" width=\"90pt\" height=\"260pt\" viewBox=\"0.00 0.00 90.00 260.00\">\n",
       "<g id=\"graph0\" class=\"graph\" transform=\"scale(1 1) rotate(0) translate(4 256)\">\n",
       "<title>symmetrique</title>\n",
       "<polygon fill=\"white\" stroke=\"transparent\" points=\"-4,4 -4,-256 86,-256 86,4 -4,4\"/>\n",
       "<!-- A -->\n",
       "<g id=\"node1\" class=\"node\">\n",
       "<title>A</title>\n",
       "<ellipse fill=\"none\" stroke=\"black\" cx=\"27\" cy=\"-234\" rx=\"27\" ry=\"18\"/>\n",
       "<text text-anchor=\"middle\" x=\"27\" y=\"-230.3\" font-family=\"Times New Roman,serif\" font-size=\"14.00\">A</text>\n",
       "</g>\n",
       "<!-- B -->\n",
       "<g id=\"node2\" class=\"node\">\n",
       "<title>B</title>\n",
       "<ellipse fill=\"none\" stroke=\"black\" cx=\"27\" cy=\"-90\" rx=\"27\" ry=\"18\"/>\n",
       "<text text-anchor=\"middle\" x=\"27\" y=\"-86.3\" font-family=\"Times New Roman,serif\" font-size=\"14.00\">B</text>\n",
       "</g>\n",
       "<!-- A&#45;&#45;B -->\n",
       "<g id=\"edge1\" class=\"edge\">\n",
       "<title>A--B</title>\n",
       "<path fill=\"none\" stroke=\"black\" d=\"M23.75,-215.89C21.95,-205.54 19.91,-192.06 19,-180 17.8,-164.04 17.8,-159.96 19,-144 19.91,-131.94 21.95,-118.46 23.75,-108.11\"/>\n",
       "</g>\n",
       "<!-- D -->\n",
       "<g id=\"node4\" class=\"node\">\n",
       "<title>D</title>\n",
       "<ellipse fill=\"none\" stroke=\"black\" cx=\"55\" cy=\"-162\" rx=\"27\" ry=\"18\"/>\n",
       "<text text-anchor=\"middle\" x=\"55\" y=\"-158.3\" font-family=\"Times New Roman,serif\" font-size=\"14.00\">D</text>\n",
       "</g>\n",
       "<!-- A&#45;&#45;D -->\n",
       "<g id=\"edge3\" class=\"edge\">\n",
       "<title>A--D</title>\n",
       "<path fill=\"none\" stroke=\"black\" d=\"M33.64,-216.41C38.1,-205.25 43.96,-190.6 48.41,-179.47\"/>\n",
       "</g>\n",
       "<!-- C -->\n",
       "<g id=\"node3\" class=\"node\">\n",
       "<title>C</title>\n",
       "<ellipse fill=\"none\" stroke=\"black\" cx=\"27\" cy=\"-18\" rx=\"27\" ry=\"18\"/>\n",
       "<text text-anchor=\"middle\" x=\"27\" y=\"-14.3\" font-family=\"Times New Roman,serif\" font-size=\"14.00\">C</text>\n",
       "</g>\n",
       "<!-- B&#45;&#45;C -->\n",
       "<g id=\"edge2\" class=\"edge\">\n",
       "<title>B--C</title>\n",
       "<path fill=\"none\" stroke=\"black\" d=\"M27,-71.7C27,-60.85 27,-46.92 27,-36.1\"/>\n",
       "</g>\n",
       "<!-- D&#45;&#45;B -->\n",
       "<g id=\"edge4\" class=\"edge\">\n",
       "<title>D--B</title>\n",
       "<path fill=\"none\" stroke=\"black\" d=\"M48.36,-144.41C43.9,-133.25 38.04,-118.6 33.59,-107.47\"/>\n",
       "</g>\n",
       "</g>\n",
       "</svg>"
      ],
      "text/plain": [
       "<IPython.core.display.SVG object>"
      ]
     },
     "execution_count": 4,
     "metadata": {},
     "output_type": "execute_result"
    }
   ],
   "source": [
    "SVG(\"symmetrique.dot.svg\")"
   ]
  },
  {
   "cell_type": "code",
   "execution_count": 5,
   "id": "40d21152-925f-4203-8160-d6e3e62ca819",
   "metadata": {},
   "outputs": [
    {
     "name": "stdout",
     "output_type": "stream",
     "text": [
      "Overwriting oriente.dot\n"
     ]
    }
   ],
   "source": [
    "%%writefile oriente.dot\n",
    "\n",
    "digraph ordonne {\n",
    "A -> B -> C;\n",
    "A -> D -> A; \n",
    "}"
   ]
  },
  {
   "cell_type": "markdown",
   "id": "eddaaa95-8203-44b8-8980-a9224c0fe7fb",
   "metadata": {},
   "source": [
    "On execute dans le terminal `dot symmetrique -o symmetrique.svg -T svg` ou on utilise depuis python:"
   ]
  },
  {
   "cell_type": "code",
   "execution_count": 6,
   "id": "c483cda9-c127-4faa-8fd8-f5b7a0fd75a0",
   "metadata": {},
   "outputs": [
    {
     "data": {
      "text/plain": [
       "CompletedProcess(args=['dot', 'symmetrique.dot', '-o', 'symmetrique.svg', '-T', 'svg'], returncode=0)"
      ]
     },
     "execution_count": 6,
     "metadata": {},
     "output_type": "execute_result"
    }
   ],
   "source": [
    "sp.run([\"dot\", \"symmetrique.dot\", \"-o\", \"symmetrique.svg\", \"-T\", \"svg\"])"
   ]
  },
  {
   "cell_type": "code",
   "execution_count": 7,
   "id": "ec970343-60dd-45b0-8fda-5479a77742a0",
   "metadata": {},
   "outputs": [
    {
     "data": {
      "image/svg+xml": [
       "<svg xmlns=\"http://www.w3.org/2000/svg\" xmlns:xlink=\"http://www.w3.org/1999/xlink\" width=\"134pt\" height=\"188pt\" viewBox=\"0.00 0.00 134.00 188.00\">\n",
       "<g id=\"graph0\" class=\"graph\" transform=\"scale(1 1) rotate(0) translate(4 184)\">\n",
       "<title>ordonne</title>\n",
       "<polygon fill=\"white\" stroke=\"transparent\" points=\"-4,4 -4,-184 130,-184 130,4 -4,4\"/>\n",
       "<!-- A -->\n",
       "<g id=\"node1\" class=\"node\">\n",
       "<title>A</title>\n",
       "<ellipse fill=\"none\" stroke=\"black\" cx=\"99\" cy=\"-162\" rx=\"27\" ry=\"18\"/>\n",
       "<text text-anchor=\"middle\" x=\"99\" y=\"-158.3\" font-family=\"Times New Roman,serif\" font-size=\"14.00\">A</text>\n",
       "</g>\n",
       "<!-- B -->\n",
       "<g id=\"node2\" class=\"node\">\n",
       "<title>B</title>\n",
       "<ellipse fill=\"none\" stroke=\"black\" cx=\"27\" cy=\"-90\" rx=\"27\" ry=\"18\"/>\n",
       "<text text-anchor=\"middle\" x=\"27\" y=\"-86.3\" font-family=\"Times New Roman,serif\" font-size=\"14.00\">B</text>\n",
       "</g>\n",
       "<!-- A&#45;&gt;B -->\n",
       "<g id=\"edge1\" class=\"edge\">\n",
       "<title>A-&gt;B</title>\n",
       "<path fill=\"none\" stroke=\"black\" d=\"M84.43,-146.83C74.25,-136.94 60.48,-123.55 48.97,-112.36\"/>\n",
       "<polygon fill=\"black\" stroke=\"black\" points=\"51.41,-109.85 41.8,-105.38 46.53,-114.87 51.41,-109.85\"/>\n",
       "</g>\n",
       "<!-- D -->\n",
       "<g id=\"node4\" class=\"node\">\n",
       "<title>D</title>\n",
       "<ellipse fill=\"none\" stroke=\"black\" cx=\"99\" cy=\"-90\" rx=\"27\" ry=\"18\"/>\n",
       "<text text-anchor=\"middle\" x=\"99\" y=\"-86.3\" font-family=\"Times New Roman,serif\" font-size=\"14.00\">D</text>\n",
       "</g>\n",
       "<!-- A&#45;&gt;D -->\n",
       "<g id=\"edge3\" class=\"edge\">\n",
       "<title>A-&gt;D</title>\n",
       "<path fill=\"none\" stroke=\"black\" d=\"M93.16,-144.41C92.3,-136.51 92.05,-126.85 92.41,-117.94\"/>\n",
       "<polygon fill=\"black\" stroke=\"black\" points=\"95.9,-118.18 93.12,-107.96 88.92,-117.68 95.9,-118.18\"/>\n",
       "</g>\n",
       "<!-- C -->\n",
       "<g id=\"node3\" class=\"node\">\n",
       "<title>C</title>\n",
       "<ellipse fill=\"none\" stroke=\"black\" cx=\"27\" cy=\"-18\" rx=\"27\" ry=\"18\"/>\n",
       "<text text-anchor=\"middle\" x=\"27\" y=\"-14.3\" font-family=\"Times New Roman,serif\" font-size=\"14.00\">C</text>\n",
       "</g>\n",
       "<!-- B&#45;&gt;C -->\n",
       "<g id=\"edge2\" class=\"edge\">\n",
       "<title>B-&gt;C</title>\n",
       "<path fill=\"none\" stroke=\"black\" d=\"M27,-71.7C27,-63.98 27,-54.71 27,-46.11\"/>\n",
       "<polygon fill=\"black\" stroke=\"black\" points=\"30.5,-46.1 27,-36.1 23.5,-46.1 30.5,-46.1\"/>\n",
       "</g>\n",
       "<!-- D&#45;&gt;A -->\n",
       "<g id=\"edge4\" class=\"edge\">\n",
       "<title>D-&gt;A</title>\n",
       "<path fill=\"none\" stroke=\"black\" d=\"M104.88,-107.96C105.71,-115.83 105.95,-125.37 105.58,-134.19\"/>\n",
       "<polygon fill=\"black\" stroke=\"black\" points=\"102.07,-134.18 104.84,-144.41 109.06,-134.69 102.07,-134.18\"/>\n",
       "</g>\n",
       "</g>\n",
       "</svg>"
      ],
      "text/plain": [
       "<IPython.core.display.SVG object>"
      ]
     },
     "execution_count": 7,
     "metadata": {},
     "output_type": "execute_result"
    }
   ],
   "source": [
    "SVG(\"oriente.svg\")"
   ]
  },
  {
   "cell_type": "markdown",
   "id": "0ac61419-12dd-42cc-9e27-983606122c1c",
   "metadata": {},
   "source": [
    "## Attributs"
   ]
  },
  {
   "cell_type": "markdown",
   "id": "8e378fa7-bbaa-447c-a300-bf492a3b0e0c",
   "metadata": {},
   "source": [
    "On peut fournir des **attributs** aux arrêtes ou aux sommets via l'ajout de `[]`"
   ]
  },
  {
   "cell_type": "code",
   "execution_count": 8,
   "id": "34741e65-b3b9-4750-9459-6c77e9abae70",
   "metadata": {},
   "outputs": [
    {
     "name": "stdout",
     "output_type": "stream",
     "text": [
      "Overwriting sophistique.dot\n"
     ]
    }
   ],
   "source": [
    "%%writefile sophistique.dot\n",
    "\n",
    "digraph ordonne {\n",
    "A [label=abracadabra];\n",
    "B [shape=box];\n",
    "A -> B -> C [color=blue];\n",
    "A -> D -> A; \n",
    "A -> E [label=10];\n",
    "}"
   ]
  },
  {
   "cell_type": "code",
   "execution_count": 9,
   "id": "18573ba0-0a29-4ba4-b1d1-45877ca45fec",
   "metadata": {},
   "outputs": [
    {
     "data": {
      "text/plain": [
       "CompletedProcess(args=('dot', 'sophistique.dot', '-T', 'svg', '-o', 'sophistique.svg'), returncode=0)"
      ]
     },
     "execution_count": 9,
     "metadata": {},
     "output_type": "execute_result"
    }
   ],
   "source": [
    "sp.run((\"dot\", \"sophistique.dot\", \"-T\", \"svg\", \"-o\", \"sophistique.svg\"))"
   ]
  },
  {
   "cell_type": "code",
   "execution_count": 10,
   "id": "21fe935e-39b8-43fc-8e10-0d951c320628",
   "metadata": {},
   "outputs": [
    {
     "data": {
      "image/svg+xml": [
       "<svg xmlns=\"http://www.w3.org/2000/svg\" xmlns:xlink=\"http://www.w3.org/1999/xlink\" width=\"206pt\" height=\"204pt\" viewBox=\"0.00 0.00 206.00 204.00\">\n",
       "<g id=\"graph0\" class=\"graph\" transform=\"scale(1 1) rotate(0) translate(4 200)\">\n",
       "<title>ordonne</title>\n",
       "<polygon fill=\"white\" stroke=\"transparent\" points=\"-4,4 -4,-200 202,-200 202,4 -4,4\"/>\n",
       "<!-- A -->\n",
       "<g id=\"node1\" class=\"node\">\n",
       "<title>A</title>\n",
       "<ellipse fill=\"none\" stroke=\"black\" cx=\"99\" cy=\"-178\" rx=\"53.09\" ry=\"18\"/>\n",
       "<text text-anchor=\"middle\" x=\"99\" y=\"-174.3\" font-family=\"Times New Roman,serif\" font-size=\"14.00\">abracadabra</text>\n",
       "</g>\n",
       "<!-- B -->\n",
       "<g id=\"node2\" class=\"node\">\n",
       "<title>B</title>\n",
       "<polygon fill=\"none\" stroke=\"black\" points=\"54,-109 0,-109 0,-73 54,-73 54,-109\"/>\n",
       "<text text-anchor=\"middle\" x=\"27\" y=\"-87.3\" font-family=\"Times New Roman,serif\" font-size=\"14.00\">B</text>\n",
       "</g>\n",
       "<!-- A&#45;&gt;B -->\n",
       "<g id=\"edge1\" class=\"edge\">\n",
       "<title>A-&gt;B</title>\n",
       "<path fill=\"none\" stroke=\"blue\" d=\"M85.12,-160.61C74.66,-148.27 60.15,-131.14 48.24,-117.08\"/>\n",
       "<polygon fill=\"blue\" stroke=\"blue\" points=\"50.72,-114.58 41.58,-109.21 45.37,-119.11 50.72,-114.58\"/>\n",
       "</g>\n",
       "<!-- D -->\n",
       "<g id=\"node4\" class=\"node\">\n",
       "<title>D</title>\n",
       "<ellipse fill=\"none\" stroke=\"black\" cx=\"99\" cy=\"-91\" rx=\"27\" ry=\"18\"/>\n",
       "<text text-anchor=\"middle\" x=\"99\" y=\"-87.3\" font-family=\"Times New Roman,serif\" font-size=\"14.00\">D</text>\n",
       "</g>\n",
       "<!-- A&#45;&gt;D -->\n",
       "<g id=\"edge3\" class=\"edge\">\n",
       "<title>A-&gt;D</title>\n",
       "<path fill=\"none\" stroke=\"black\" d=\"M93.45,-159.8C92.18,-148.09 91.92,-132.34 92.67,-118.97\"/>\n",
       "<polygon fill=\"black\" stroke=\"black\" points=\"96.17,-119.14 93.49,-108.89 89.19,-118.57 96.17,-119.14\"/>\n",
       "</g>\n",
       "<!-- E -->\n",
       "<g id=\"node5\" class=\"node\">\n",
       "<title>E</title>\n",
       "<ellipse fill=\"none\" stroke=\"black\" cx=\"171\" cy=\"-91\" rx=\"27\" ry=\"18\"/>\n",
       "<text text-anchor=\"middle\" x=\"171\" y=\"-87.3\" font-family=\"Times New Roman,serif\" font-size=\"14.00\">E</text>\n",
       "</g>\n",
       "<!-- A&#45;&gt;E -->\n",
       "<g id=\"edge5\" class=\"edge\">\n",
       "<title>A-&gt;E</title>\n",
       "<path fill=\"none\" stroke=\"black\" d=\"M112.88,-160.61C123.88,-147.63 139.38,-129.33 151.6,-114.9\"/>\n",
       "<polygon fill=\"black\" stroke=\"black\" points=\"154.57,-116.81 158.37,-106.92 149.23,-112.28 154.57,-116.81\"/>\n",
       "<text text-anchor=\"middle\" x=\"146\" y=\"-130.8\" font-family=\"Times New Roman,serif\" font-size=\"14.00\">10</text>\n",
       "</g>\n",
       "<!-- C -->\n",
       "<g id=\"node3\" class=\"node\">\n",
       "<title>C</title>\n",
       "<ellipse fill=\"none\" stroke=\"black\" cx=\"27\" cy=\"-18\" rx=\"27\" ry=\"18\"/>\n",
       "<text text-anchor=\"middle\" x=\"27\" y=\"-14.3\" font-family=\"Times New Roman,serif\" font-size=\"14.00\">C</text>\n",
       "</g>\n",
       "<!-- B&#45;&gt;C -->\n",
       "<g id=\"edge2\" class=\"edge\">\n",
       "<title>B-&gt;C</title>\n",
       "<path fill=\"none\" stroke=\"blue\" d=\"M27,-72.81C27,-64.79 27,-55.05 27,-46.07\"/>\n",
       "<polygon fill=\"blue\" stroke=\"blue\" points=\"30.5,-46.03 27,-36.03 23.5,-46.03 30.5,-46.03\"/>\n",
       "</g>\n",
       "<!-- D&#45;&gt;A -->\n",
       "<g id=\"edge4\" class=\"edge\">\n",
       "<title>D-&gt;A</title>\n",
       "<path fill=\"none\" stroke=\"black\" d=\"M104.51,-108.89C105.81,-120.53 106.08,-136.25 105.35,-149.66\"/>\n",
       "<polygon fill=\"black\" stroke=\"black\" points=\"101.85,-149.55 104.55,-159.8 108.83,-150.11 101.85,-149.55\"/>\n",
       "</g>\n",
       "</g>\n",
       "</svg>"
      ],
      "text/plain": [
       "<IPython.core.display.SVG object>"
      ]
     },
     "execution_count": 10,
     "metadata": {},
     "output_type": "execute_result"
    }
   ],
   "source": [
    "SVG(\"sophistique.svg\")"
   ]
  },
  {
   "cell_type": "markdown",
   "id": "34aeff85-c65b-438a-8fb8-5f5c7e851810",
   "metadata": {},
   "source": [
    "La documentation complète se trouve [ici](https://graphviz.org/doc/info/attrs.html)"
   ]
  },
  {
   "cell_type": "markdown",
   "id": "12758170-f13d-4898-860c-914ef91c0742",
   "metadata": {},
   "source": [
    "## Exercice\n",
    "\n",
    "Dessiner avec cette méthode le graphe de la france de la séance 07."
   ]
  },
  {
   "cell_type": "code",
   "execution_count": 11,
   "id": "dedd02b4-104e-4e61-9ece-8c2b5d46fa4d",
   "metadata": {},
   "outputs": [
    {
     "name": "stdout",
     "output_type": "stream",
     "text": [
      "Overwriting france.dot\n"
     ]
    }
   ],
   "source": [
    "%%writefile france.dot\n",
    "graph France {\n",
    "P [label=Paris]; \n",
    "L [label=Lyon];\n",
    "Tr [label=Tours]; \n",
    "Na [label=Nantes]; \n",
    "SE [label=StEtienne]; \n",
    "B [label=Bordeaux]; \n",
    "C [label=Clermont]; \n",
    "T [label=Toulouse]; \n",
    "Mo [label=Montpellier]; \n",
    "A [label=Avignon]; \n",
    "Ma [label=Marseille]; \n",
    "Ni [label=Nice];\n",
    "\n",
    "P -- Tr [label=1];\n",
    "P -- L [label=2];\n",
    "P -- SE [label=1];\n",
    "Tr -- Na [label=1];\n",
    "Tr -- B [label=1];\n",
    "Na -- B [label=1]\n",
    "B -- T [label=2];\n",
    "T -- Mo [label=4];\n",
    "Mo -- C [label=1];\n",
    "Mo -- A [label=2];\n",
    "C -- SE [label=1];\n",
    "A -- Ma [label=1];\n",
    "Ma -- Ni [label=10];\n",
    "A -- L [label=3];\n",
    "SE -- L [label=2];\n",
    "}"
   ]
  },
  {
   "cell_type": "code",
   "execution_count": 12,
   "id": "846e9074-7c52-43ba-819e-39f1664c9c4f",
   "metadata": {},
   "outputs": [
    {
     "data": {
      "text/plain": [
       "CompletedProcess(args=['dot', 'france.dot', '-T', 'svg', '-o', 'france_bis.svg'], returncode=0)"
      ]
     },
     "execution_count": 12,
     "metadata": {},
     "output_type": "execute_result"
    }
   ],
   "source": [
    "sp.run([\"dot\", \"france.dot\", \"-T\", \"svg\", \"-o\", \"france_bis.svg\"])"
   ]
  },
  {
   "cell_type": "code",
   "execution_count": 13,
   "id": "2ac2af97-f7c7-4867-beae-6c92ee4b0d80",
   "metadata": {},
   "outputs": [
    {
     "data": {
      "image/svg+xml": [
       "<svg xmlns=\"http://www.w3.org/2000/svg\" xmlns:xlink=\"http://www.w3.org/1999/xlink\" width=\"275pt\" height=\"740pt\" viewBox=\"0.00 0.00 275.20 740.00\">\n",
       "<g id=\"graph0\" class=\"graph\" transform=\"scale(1 1) rotate(0) translate(4 736)\">\n",
       "<title>France</title>\n",
       "<polygon fill=\"white\" stroke=\"transparent\" points=\"-4,4 -4,-736 271.2,-736 271.2,4 -4,4\"/>\n",
       "<!-- P -->\n",
       "<g id=\"node1\" class=\"node\">\n",
       "<title>P</title>\n",
       "<ellipse fill=\"none\" stroke=\"black\" cx=\"38\" cy=\"-714\" rx=\"28.7\" ry=\"18\"/>\n",
       "<text text-anchor=\"middle\" x=\"38\" y=\"-710.3\" font-family=\"Times New Roman,serif\" font-size=\"14.00\">Paris</text>\n",
       "</g>\n",
       "<!-- L -->\n",
       "<g id=\"node2\" class=\"node\">\n",
       "<title>L</title>\n",
       "<ellipse fill=\"none\" stroke=\"black\" cx=\"73\" cy=\"-18\" rx=\"28.7\" ry=\"18\"/>\n",
       "<text text-anchor=\"middle\" x=\"73\" y=\"-14.3\" font-family=\"Times New Roman,serif\" font-size=\"14.00\">Lyon</text>\n",
       "</g>\n",
       "<!-- P&#45;&#45;L -->\n",
       "<g id=\"edge2\" class=\"edge\">\n",
       "<title>P--L</title>\n",
       "<path fill=\"none\" stroke=\"black\" d=\"M26.18,-697.32C15.03,-680.93 0,-654.02 0,-628 0,-628 0,-628 0,-104 0,-71.51 31.07,-45.24 52.67,-30.9\"/>\n",
       "<text text-anchor=\"middle\" x=\"3.5\" y=\"-362.3\" font-family=\"Times New Roman,serif\" font-size=\"14.00\">2</text>\n",
       "</g>\n",
       "<!-- Tr -->\n",
       "<g id=\"node3\" class=\"node\">\n",
       "<title>Tr</title>\n",
       "<ellipse fill=\"none\" stroke=\"black\" cx=\"97\" cy=\"-627\" rx=\"30.59\" ry=\"18\"/>\n",
       "<text text-anchor=\"middle\" x=\"97\" y=\"-623.3\" font-family=\"Times New Roman,serif\" font-size=\"14.00\">Tours</text>\n",
       "</g>\n",
       "<!-- P&#45;&#45;Tr -->\n",
       "<g id=\"edge1\" class=\"edge\">\n",
       "<title>P--Tr</title>\n",
       "<path fill=\"none\" stroke=\"black\" d=\"M49.1,-697.01C59.65,-681.82 75.42,-659.09 85.95,-643.92\"/>\n",
       "<text text-anchor=\"middle\" x=\"75.5\" y=\"-666.8\" font-family=\"Times New Roman,serif\" font-size=\"14.00\">1</text>\n",
       "</g>\n",
       "<!-- SE -->\n",
       "<g id=\"node5\" class=\"node\">\n",
       "<title>SE</title>\n",
       "<ellipse fill=\"none\" stroke=\"black\" cx=\"73\" cy=\"-105\" rx=\"44.69\" ry=\"18\"/>\n",
       "<text text-anchor=\"middle\" x=\"73\" y=\"-101.3\" font-family=\"Times New Roman,serif\" font-size=\"14.00\">StEtienne</text>\n",
       "</g>\n",
       "<!-- P&#45;&#45;SE -->\n",
       "<g id=\"edge3\" class=\"edge\">\n",
       "<title>P--SE</title>\n",
       "<path fill=\"none\" stroke=\"black\" d=\"M38,-695.74C38,-678.57 38,-651.46 38,-628 38,-628 38,-628 38,-191 38,-165.63 51.5,-138.98 61.73,-122.43\"/>\n",
       "<text text-anchor=\"middle\" x=\"41.5\" y=\"-405.8\" font-family=\"Times New Roman,serif\" font-size=\"14.00\">1</text>\n",
       "</g>\n",
       "<!-- Na -->\n",
       "<g id=\"node4\" class=\"node\">\n",
       "<title>Na</title>\n",
       "<ellipse fill=\"none\" stroke=\"black\" cx=\"145\" cy=\"-540\" rx=\"35.19\" ry=\"18\"/>\n",
       "<text text-anchor=\"middle\" x=\"145\" y=\"-536.3\" font-family=\"Times New Roman,serif\" font-size=\"14.00\">Nantes</text>\n",
       "</g>\n",
       "<!-- Tr&#45;&#45;Na -->\n",
       "<g id=\"edge4\" class=\"edge\">\n",
       "<title>Tr--Na</title>\n",
       "<path fill=\"none\" stroke=\"black\" d=\"M106.25,-609.61C114.7,-594.66 127.12,-572.66 135.61,-557.63\"/>\n",
       "<text text-anchor=\"middle\" x=\"126.5\" y=\"-579.8\" font-family=\"Times New Roman,serif\" font-size=\"14.00\">1</text>\n",
       "</g>\n",
       "<!-- B -->\n",
       "<g id=\"node6\" class=\"node\">\n",
       "<title>B</title>\n",
       "<ellipse fill=\"none\" stroke=\"black\" cx=\"125\" cy=\"-453\" rx=\"44.69\" ry=\"18\"/>\n",
       "<text text-anchor=\"middle\" x=\"125\" y=\"-449.3\" font-family=\"Times New Roman,serif\" font-size=\"14.00\">Bordeaux</text>\n",
       "</g>\n",
       "<!-- Tr&#45;&#45;B -->\n",
       "<g id=\"edge5\" class=\"edge\">\n",
       "<title>Tr--B</title>\n",
       "<path fill=\"none\" stroke=\"black\" d=\"M94.01,-608.83C90.94,-588.02 87.48,-552.01 94,-522 98.02,-503.49 107.54,-483.97 114.97,-470.62\"/>\n",
       "<text text-anchor=\"middle\" x=\"97.5\" y=\"-536.3\" font-family=\"Times New Roman,serif\" font-size=\"14.00\">1</text>\n",
       "</g>\n",
       "<!-- Na&#45;&#45;B -->\n",
       "<g id=\"edge6\" class=\"edge\">\n",
       "<title>Na--B</title>\n",
       "<path fill=\"none\" stroke=\"black\" d=\"M140.95,-521.8C137.48,-507.05 132.51,-485.92 129.04,-471.18\"/>\n",
       "<text text-anchor=\"middle\" x=\"139.5\" y=\"-492.8\" font-family=\"Times New Roman,serif\" font-size=\"14.00\">1</text>\n",
       "</g>\n",
       "<!-- SE&#45;&#45;L -->\n",
       "<g id=\"edge15\" class=\"edge\">\n",
       "<title>SE--L</title>\n",
       "<path fill=\"none\" stroke=\"black\" d=\"M73,-86.8C73,-72.05 73,-50.92 73,-36.18\"/>\n",
       "<text text-anchor=\"middle\" x=\"76.5\" y=\"-57.8\" font-family=\"Times New Roman,serif\" font-size=\"14.00\">2</text>\n",
       "</g>\n",
       "<!-- T -->\n",
       "<g id=\"node8\" class=\"node\">\n",
       "<title>T</title>\n",
       "<ellipse fill=\"none\" stroke=\"black\" cx=\"125\" cy=\"-366\" rx=\"42.79\" ry=\"18\"/>\n",
       "<text text-anchor=\"middle\" x=\"125\" y=\"-362.3\" font-family=\"Times New Roman,serif\" font-size=\"14.00\">Toulouse</text>\n",
       "</g>\n",
       "<!-- B&#45;&#45;T -->\n",
       "<g id=\"edge7\" class=\"edge\">\n",
       "<title>B--T</title>\n",
       "<path fill=\"none\" stroke=\"black\" d=\"M125,-434.8C125,-420.05 125,-398.92 125,-384.18\"/>\n",
       "<text text-anchor=\"middle\" x=\"128.5\" y=\"-405.8\" font-family=\"Times New Roman,serif\" font-size=\"14.00\">2</text>\n",
       "</g>\n",
       "<!-- C -->\n",
       "<g id=\"node7\" class=\"node\">\n",
       "<title>C</title>\n",
       "<ellipse fill=\"none\" stroke=\"black\" cx=\"110\" cy=\"-192\" rx=\"44.39\" ry=\"18\"/>\n",
       "<text text-anchor=\"middle\" x=\"110\" y=\"-188.3\" font-family=\"Times New Roman,serif\" font-size=\"14.00\">Clermont</text>\n",
       "</g>\n",
       "<!-- C&#45;&#45;SE -->\n",
       "<g id=\"edge11\" class=\"edge\">\n",
       "<title>C--SE</title>\n",
       "<path fill=\"none\" stroke=\"black\" d=\"M102.69,-174.21C96.25,-159.4 86.9,-137.93 80.42,-123.05\"/>\n",
       "<text text-anchor=\"middle\" x=\"97.5\" y=\"-144.8\" font-family=\"Times New Roman,serif\" font-size=\"14.00\">1</text>\n",
       "</g>\n",
       "<!-- Mo -->\n",
       "<g id=\"node9\" class=\"node\">\n",
       "<title>Mo</title>\n",
       "<ellipse fill=\"none\" stroke=\"black\" cx=\"125\" cy=\"-279\" rx=\"52.79\" ry=\"18\"/>\n",
       "<text text-anchor=\"middle\" x=\"125\" y=\"-275.3\" font-family=\"Times New Roman,serif\" font-size=\"14.00\">Montpellier</text>\n",
       "</g>\n",
       "<!-- T&#45;&#45;Mo -->\n",
       "<g id=\"edge8\" class=\"edge\">\n",
       "<title>T--Mo</title>\n",
       "<path fill=\"none\" stroke=\"black\" d=\"M125,-347.8C125,-333.05 125,-311.92 125,-297.18\"/>\n",
       "<text text-anchor=\"middle\" x=\"128.5\" y=\"-318.8\" font-family=\"Times New Roman,serif\" font-size=\"14.00\">4</text>\n",
       "</g>\n",
       "<!-- Mo&#45;&#45;C -->\n",
       "<g id=\"edge9\" class=\"edge\">\n",
       "<title>Mo--C</title>\n",
       "<path fill=\"none\" stroke=\"black\" d=\"M121.96,-260.8C119.36,-246.05 115.63,-224.92 113.03,-210.18\"/>\n",
       "<text text-anchor=\"middle\" x=\"121.5\" y=\"-231.8\" font-family=\"Times New Roman,serif\" font-size=\"14.00\">1</text>\n",
       "</g>\n",
       "<!-- A -->\n",
       "<g id=\"node10\" class=\"node\">\n",
       "<title>A</title>\n",
       "<ellipse fill=\"none\" stroke=\"black\" cx=\"213\" cy=\"-192\" rx=\"40.89\" ry=\"18\"/>\n",
       "<text text-anchor=\"middle\" x=\"213\" y=\"-188.3\" font-family=\"Times New Roman,serif\" font-size=\"14.00\">Avignon</text>\n",
       "</g>\n",
       "<!-- Mo&#45;&#45;A -->\n",
       "<g id=\"edge10\" class=\"edge\">\n",
       "<title>Mo--A</title>\n",
       "<path fill=\"none\" stroke=\"black\" d=\"M141.97,-261.61C157.75,-246.37 181.11,-223.8 196.68,-208.76\"/>\n",
       "<text text-anchor=\"middle\" x=\"177.5\" y=\"-231.8\" font-family=\"Times New Roman,serif\" font-size=\"14.00\">2</text>\n",
       "</g>\n",
       "<!-- A&#45;&#45;L -->\n",
       "<g id=\"edge14\" class=\"edge\">\n",
       "<title>A--L</title>\n",
       "<path fill=\"none\" stroke=\"black\" d=\"M199.83,-174.82C172.87,-141.7 111.75,-66.6 85.43,-34.27\"/>\n",
       "<text text-anchor=\"middle\" x=\"159.5\" y=\"-101.3\" font-family=\"Times New Roman,serif\" font-size=\"14.00\">3</text>\n",
       "</g>\n",
       "<!-- Ma -->\n",
       "<g id=\"node11\" class=\"node\">\n",
       "<title>Ma</title>\n",
       "<ellipse fill=\"none\" stroke=\"black\" cx=\"223\" cy=\"-105\" rx=\"44.39\" ry=\"18\"/>\n",
       "<text text-anchor=\"middle\" x=\"223\" y=\"-101.3\" font-family=\"Times New Roman,serif\" font-size=\"14.00\">Marseille</text>\n",
       "</g>\n",
       "<!-- A&#45;&#45;Ma -->\n",
       "<g id=\"edge12\" class=\"edge\">\n",
       "<title>A--Ma</title>\n",
       "<path fill=\"none\" stroke=\"black\" d=\"M215.02,-173.8C216.76,-159.05 219.25,-137.92 220.98,-123.18\"/>\n",
       "<text text-anchor=\"middle\" x=\"221.5\" y=\"-144.8\" font-family=\"Times New Roman,serif\" font-size=\"14.00\">1</text>\n",
       "</g>\n",
       "<!-- Ni -->\n",
       "<g id=\"node12\" class=\"node\">\n",
       "<title>Ni</title>\n",
       "<ellipse fill=\"none\" stroke=\"black\" cx=\"223\" cy=\"-18\" rx=\"27.1\" ry=\"18\"/>\n",
       "<text text-anchor=\"middle\" x=\"223\" y=\"-14.3\" font-family=\"Times New Roman,serif\" font-size=\"14.00\">Nice</text>\n",
       "</g>\n",
       "<!-- Ma&#45;&#45;Ni -->\n",
       "<g id=\"edge13\" class=\"edge\">\n",
       "<title>Ma--Ni</title>\n",
       "<path fill=\"none\" stroke=\"black\" d=\"M223,-86.8C223,-72.05 223,-50.92 223,-36.18\"/>\n",
       "<text text-anchor=\"middle\" x=\"230\" y=\"-57.8\" font-family=\"Times New Roman,serif\" font-size=\"14.00\">10</text>\n",
       "</g>\n",
       "</g>\n",
       "</svg>"
      ],
      "text/plain": [
       "<IPython.core.display.SVG object>"
      ]
     },
     "execution_count": 13,
     "metadata": {},
     "output_type": "execute_result"
    }
   ],
   "source": [
    "SVG(\"france.svg\")"
   ]
  }
 ],
 "metadata": {
  "kernelspec": {
   "display_name": "Python 3 (ipykernel)",
   "language": "python",
   "name": "python3"
  },
  "language_info": {
   "codemirror_mode": {
    "name": "ipython",
    "version": 3
   },
   "file_extension": ".py",
   "mimetype": "text/x-python",
   "name": "python",
   "nbconvert_exporter": "python",
   "pygments_lexer": "ipython3",
   "version": "3.10.8"
  }
 },
 "nbformat": 4,
 "nbformat_minor": 5
}
