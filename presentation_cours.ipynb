{
 "cells": [
  {
   "cell_type": "markdown",
   "id": "3e0d8952-a946-4c9a-9ecb-67b5cb8a6f5e",
   "metadata": {},
   "source": [
    "# Cours de supply chain"
   ]
  },
  {
   "cell_type": "markdown",
   "id": "5ed5089b-2d9b-4bcb-bc6f-431434167547",
   "metadata": {},
   "source": [
    "## Présentation"
   ]
  },
  {
   "cell_type": "markdown",
   "id": "2776afe7-4c38-44df-be0c-ff9ff9d169b7",
   "metadata": {},
   "source": [
    "### Modalité\n",
    "\n",
    "- Dépôt du contenu sur github (https://github.com/MECEN-TOURS/SC-2022-2023)\n",
    "- Evaluation sur projet par groupes de 2: soutenance (présentation du projet) et envoi du code du projet\n",
    "- Projet complet\n",
    "1. problématique plus ou moins concrète\n",
    "2. modélisation par les techniques du cours\n",
    "3. création d'une librairie python pour résoudre le problème\n",
    "4. création d'une interface CLI ou TUI pour utiliser simplement la bibliothèque\n",
    "- Objectif avoir du code robuste qualité industrielle"
   ]
  },
  {
   "cell_type": "markdown",
   "id": "d1daface-0b5d-43ca-9b40-44478225a60f",
   "metadata": {},
   "source": [
    "### Aspects algorithmiques\n",
    "\n",
    "- Modélisation par des graphes\n",
    "- Représentations machines de graphes\n",
    "- Algorithmes de parcours de graphes DFS/BFS\n",
    "- Recherche des chemins les plus courts par Bellman-Ford\n",
    "- Flux maximal par programmation linéaire\n",
    "- Mariage stables"
   ]
  },
  {
   "cell_type": "markdown",
   "id": "97804eee-8828-4815-b1a5-f7f8bc503218",
   "metadata": {},
   "source": [
    "### Aspects ingéniérie logicielle: méthodologie et outillage\n",
    "\n",
    "- Programmation structurée: modules, fonctions  et objets\n",
    "- Récursion, générateurs, mémoization\n",
    "- Code smells: couplage (variable globales, fonctions difficiles à nommer, classes et fonction énormes, commentaires), effets de bords: ruff\n",
    "- Documentation: docstrings, exemples, lien avec signatures: pydoc\n",
    "- Typage des fonctions: mypy\n",
    "- Tests automatiques: pytest\n",
    "- Gestion des dépendances: poetry\n",
    "- CLI: typer, rich\n",
    "- TUI: textual, rich\n",
    "- Débogguage: pdb\n",
    "- Profilage\n",
    "- Github et intégration continue"
   ]
  }
 ],
 "metadata": {
  "kernelspec": {
   "display_name": "Python 3 (ipykernel)",
   "language": "python",
   "name": "python3"
  },
  "language_info": {
   "codemirror_mode": {
    "name": "ipython",
    "version": 3
   },
   "file_extension": ".py",
   "mimetype": "text/x-python",
   "name": "python",
   "nbconvert_exporter": "python",
   "pygments_lexer": "ipython3",
   "version": "3.10.8"
  }
 },
 "nbformat": 4,
 "nbformat_minor": 5
}
