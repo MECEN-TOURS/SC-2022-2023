{
 "cells": [
  {
   "cell_type": "markdown",
   "id": "71150493-0a69-46e1-aace-2780d8352dcf",
   "metadata": {},
   "source": [
    "# Objectif\n",
    "\n",
    "Coder une application en mode SNCF qui permette de fournir un trajet optimal.\n",
    "\n",
    "On va chercher à coder juste les passerelles vers networkx dans un librairie.\n",
    "\n",
    "Dans un second temps on codera une interface utilisateur simple.\n"
   ]
  },
  {
   "cell_type": "code",
   "execution_count": 1,
   "id": "f06010b8-f643-4ff3-9d3d-9dfaa685bc83",
   "metadata": {},
   "outputs": [],
   "source": [
    "import networkx as nx"
   ]
  },
  {
   "cell_type": "code",
   "execution_count": 11,
   "id": "69487042-259d-42e3-b05a-413be1b3c8f9",
   "metadata": {},
   "outputs": [],
   "source": [
    "from dataclasses import dataclass"
   ]
  },
  {
   "cell_type": "code",
   "execution_count": 12,
   "id": "a63e9dd7-08a7-4ee2-a8c9-878cc4026d66",
   "metadata": {},
   "outputs": [],
   "source": [
    "@dataclass\n",
    "class Gare:\n",
    "    \"\"\"Représente un endroit desservi par le réseau.\"\"\"\n",
    "    \n",
    "    nom: str"
   ]
  },
  {
   "cell_type": "code",
   "execution_count": 19,
   "id": "c558df7f-aafd-4360-a653-2b9c5961677e",
   "metadata": {},
   "outputs": [],
   "source": [
    "@dataclass\n",
    "class Itineraire:\n",
    "    \"\"\"Représente un voyage effectué par l'utilisateur.\"\"\"\n",
    "    \n",
    "    etapes: list[Gare]"
   ]
  },
  {
   "cell_type": "code",
   "execution_count": 15,
   "id": "5c8db275-119a-4156-bf8c-6fcdf8210dd9",
   "metadata": {},
   "outputs": [],
   "source": [
    "@dataclass\n",
    "class Carte:\n",
    "    \"\"\"Représentation de la carte de France pour les utilisateurs.\"\"\"\n",
    "    \n",
    "    gares: list[Gare]\n",
    "    connexions: list[tuple[Gare, Gare, float]]"
   ]
  },
  {
   "cell_type": "code",
   "execution_count": 10,
   "id": "e17a4181-210e-4c8c-81c2-f17e1ae5eee3",
   "metadata": {},
   "outputs": [],
   "source": [
    "def determine_trajet(\n",
    "    depart: Gare, \n",
    "    arrivee: Gare, \n",
    "    carte: Carte\n",
    ") -> Itineraire:\n",
    "    \"\"\"Détermine le trajet le plus court possible de depart à arrivee.\"\"\"\n",
    "    ..."
   ]
  },
  {
   "cell_type": "markdown",
   "id": "1d396b80-29a5-43e9-a7f9-f7d9872e4bc9",
   "metadata": {},
   "source": [
    "## Exercice\n",
    "\n",
    "Codez un test de la fonction `determine_trajet`."
   ]
  },
  {
   "cell_type": "code",
   "execution_count": 16,
   "id": "500d34c2-2dc3-46d3-adfc-3a96810c1d5b",
   "metadata": {},
   "outputs": [],
   "source": [
    "pa, to, bo, ly, mo, tls = gares = [\n",
    "    Gare(nom=\"Paris\"), \n",
    "    Gare(nom=\"Tours\"), \n",
    "    Gare(nom=\"Bordeaux\"), \n",
    "    Gare(nom=\"Lyon\"),\n",
    "    Gare(nom=\"Montpellier\"),\n",
    "    Gare(nom=\"Toulouse\"),\n",
    "]\n",
    "\n"
   ]
  },
  {
   "cell_type": "code",
   "execution_count": 18,
   "id": "e34394b7-43c1-42cf-ab84-4ebde7e68d7c",
   "metadata": {},
   "outputs": [],
   "source": [
    "carte_simple = Carte(\n",
    "    gares=gares,\n",
    "    connexions=[\n",
    "        (pa, to, 1),\n",
    "        (to, bo, 2),\n",
    "        (bo, tls, 4), \n",
    "        (tls, mo, 3), \n",
    "        (mo, ly, 2),\n",
    "        (ly, pa, 2),\n",
    "    ],\n",
    ")"
   ]
  },
  {
   "cell_type": "code",
   "execution_count": 20,
   "id": "8b263be7-b3e8-4dd0-ac27-e27a48a81a9d",
   "metadata": {},
   "outputs": [],
   "source": [
    "attendu = Itineraire(\n",
    "    etapes=[\n",
    "        bo,\n",
    "        to,\n",
    "        pa,\n",
    "        ly,\n",
    "        mo\n",
    "    ]\n",
    ")"
   ]
  },
  {
   "cell_type": "code",
   "execution_count": 21,
   "id": "e8c8ac72-0943-4bf4-a218-8f738d424462",
   "metadata": {},
   "outputs": [],
   "source": [
    "calcule = determine_trajet(\n",
    "    depart=bo,\n",
    "    arrivee=mo,\n",
    "    carte=carte_simple\n",
    ")"
   ]
  },
  {
   "cell_type": "code",
   "execution_count": 22,
   "id": "35f3ff2f-c750-42d8-9c71-79373be2bd8f",
   "metadata": {},
   "outputs": [
    {
     "ename": "AssertionError",
     "evalue": "",
     "output_type": "error",
     "traceback": [
      "\u001b[1;31m---------------------------------------------------------------------------\u001b[0m",
      "\u001b[1;31mAssertionError\u001b[0m                            Traceback (most recent call last)",
      "Cell \u001b[1;32mIn[22], line 1\u001b[0m\n\u001b[1;32m----> 1\u001b[0m \u001b[38;5;28;01massert\u001b[39;00m attendu \u001b[38;5;241m==\u001b[39m calcule\n",
      "\u001b[1;31mAssertionError\u001b[0m: "
     ]
    }
   ],
   "source": [
    "assert attendu == calcule"
   ]
  },
  {
   "cell_type": "markdown",
   "id": "50a952f4-f200-4ab9-b11f-98350f73e5cc",
   "metadata": {},
   "source": [
    "## Exercice\n",
    "\n",
    "Basculer le code en une librairie et un module de tests."
   ]
  },
  {
   "cell_type": "markdown",
   "id": "e74700bb-e5a9-4c62-9833-e805ad0e46a9",
   "metadata": {},
   "source": [
    "## Exercice \n",
    "\n",
    "Coder la fonction `convertit_en_nx`"
   ]
  },
  {
   "cell_type": "markdown",
   "id": "26c3a1fc-b885-44bf-a8df-745a93a14ba3",
   "metadata": {},
   "source": [
    "## Exercice\n",
    "\n",
    "Rajouter des tests qui \"doivent planter\".\n",
    "- On ne doit pas pouvoir créer des connexsions avec des poids négatifs.\n",
    "- Que se passe-t-il s'il n'y as pas d'Itineraire entre les deux gares?"
   ]
  },
  {
   "cell_type": "markdown",
   "id": "3d436335-40e4-4dd5-a432-6259319f0d3f",
   "metadata": {},
   "source": [
    "## Exercice\n",
    "\n",
    "- Documenter l'interface publique\n",
    "- Créer une interface utilisateur avec la librairie `typer`"
   ]
  }
 ],
 "metadata": {
  "kernelspec": {
   "display_name": "Python 3 (ipykernel)",
   "language": "python",
   "name": "python3"
  },
  "language_info": {
   "codemirror_mode": {
    "name": "ipython",
    "version": 3
   },
   "file_extension": ".py",
   "mimetype": "text/x-python",
   "name": "python",
   "nbconvert_exporter": "python",
   "pygments_lexer": "ipython3",
   "version": "3.10.8"
  }
 },
 "nbformat": 4,
 "nbformat_minor": 5
}
