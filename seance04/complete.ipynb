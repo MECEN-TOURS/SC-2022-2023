{
 "cells": [
  {
   "cell_type": "code",
   "execution_count": 1,
   "id": "69fb7f21-dbe3-46c6-a13e-614e579b124d",
   "metadata": {},
   "outputs": [],
   "source": [
    "from dataclasses import dataclass"
   ]
  },
  {
   "cell_type": "code",
   "execution_count": 2,
   "id": "28fd8688-4fca-4f1a-9b31-267f3831b602",
   "metadata": {},
   "outputs": [],
   "source": [
    "from typing import Generator"
   ]
  },
  {
   "cell_type": "markdown",
   "id": "fe69fdc1-bdf7-46b0-81e3-fbb879a5798e",
   "metadata": {},
   "source": [
    "# Présentations des thèmes suivants\n",
    "\n",
    "1. Slicing\n",
    "2. Gestion d'erreur\n",
    "3. Récursion\n",
    "4. Méthodes de list\n",
    "5. Attention à la mutation\n",
    "6. Itérateurs/Générateurs"
   ]
  },
  {
   "cell_type": "markdown",
   "id": "67d29458-4164-4ca0-9690-e91668dd35f5",
   "metadata": {},
   "source": [
    "## Méthodes de listes\n",
    "\n",
    "Les objets python arrivent avec diverses fonctionnalités auxquelles on accède grâce à des **méthodes**."
   ]
  },
  {
   "cell_type": "code",
   "execution_count": 3,
   "id": "5e435134-74a8-4e13-a174-34067ee52dd9",
   "metadata": {},
   "outputs": [
    {
     "data": {
      "text/plain": [
       "[1, 2, 3]"
      ]
     },
     "execution_count": 3,
     "metadata": {},
     "output_type": "execute_result"
    }
   ],
   "source": [
    "ma_liste = [1, 2, 3]\n",
    "ma_liste"
   ]
  },
  {
   "cell_type": "code",
   "execution_count": 4,
   "id": "17df4fd2-f38a-4629-820e-fe73bd16495f",
   "metadata": {},
   "outputs": [
    {
     "data": {
      "text/plain": [
       "[1, 2, 3, 4]"
      ]
     },
     "execution_count": 4,
     "metadata": {},
     "output_type": "execute_result"
    }
   ],
   "source": [
    "ma_liste.append(4)\n",
    "ma_liste"
   ]
  },
  {
   "cell_type": "markdown",
   "id": "893a2589-314a-43da-a242-12990f45d4dc",
   "metadata": {},
   "source": [
    "On peut accéder aux diverses méthodes disponibles soit en utilisant l'autocomplétion, soit en utilisant la fonction `dir`."
   ]
  },
  {
   "cell_type": "code",
   "execution_count": 5,
   "id": "b7a49c14-f5c4-4547-8123-c6b511110000",
   "metadata": {},
   "outputs": [
    {
     "data": {
      "text/plain": [
       "['__add__',\n",
       " '__class__',\n",
       " '__class_getitem__',\n",
       " '__contains__',\n",
       " '__delattr__',\n",
       " '__delitem__',\n",
       " '__dir__',\n",
       " '__doc__',\n",
       " '__eq__',\n",
       " '__format__',\n",
       " '__ge__',\n",
       " '__getattribute__',\n",
       " '__getitem__',\n",
       " '__getstate__',\n",
       " '__gt__',\n",
       " '__hash__',\n",
       " '__iadd__',\n",
       " '__imul__',\n",
       " '__init__',\n",
       " '__init_subclass__',\n",
       " '__iter__',\n",
       " '__le__',\n",
       " '__len__',\n",
       " '__lt__',\n",
       " '__mul__',\n",
       " '__ne__',\n",
       " '__new__',\n",
       " '__reduce__',\n",
       " '__reduce_ex__',\n",
       " '__repr__',\n",
       " '__reversed__',\n",
       " '__rmul__',\n",
       " '__setattr__',\n",
       " '__setitem__',\n",
       " '__sizeof__',\n",
       " '__str__',\n",
       " '__subclasshook__',\n",
       " 'append',\n",
       " 'clear',\n",
       " 'copy',\n",
       " 'count',\n",
       " 'extend',\n",
       " 'index',\n",
       " 'insert',\n",
       " 'pop',\n",
       " 'remove',\n",
       " 'reverse',\n",
       " 'sort']"
      ]
     },
     "execution_count": 5,
     "metadata": {},
     "output_type": "execute_result"
    }
   ],
   "source": [
    "dir(ma_liste)"
   ]
  },
  {
   "cell_type": "markdown",
   "id": "f3777760-d12a-4ae9-9d4e-067ce1edc0a0",
   "metadata": {},
   "source": [
    "On notera cependant que les méthodes dont le nom commence et finit par __ ne sont pas censés être directement utilisées.\n",
    "On verra plus tard leurs intérêts."
   ]
  },
  {
   "cell_type": "markdown",
   "id": "0861486a-fe63-4bb5-9958-aaea068ed174",
   "metadata": {},
   "source": [
    "## Slicing"
   ]
  },
  {
   "cell_type": "markdown",
   "id": "f62e7041-8f1d-47e3-9968-84f3fad87307",
   "metadata": {},
   "source": [
    "Il est possible de sélectionner une sous liste à partir d'une expression sur les indices."
   ]
  },
  {
   "cell_type": "code",
   "execution_count": 6,
   "id": "6ffc36df-c98b-4597-99b5-81178ff43c3f",
   "metadata": {},
   "outputs": [
    {
     "data": {
      "text/plain": [
       "[0, 1, 2, 3, 4, 5, 6, 7, 8, 9]"
      ]
     },
     "execution_count": 6,
     "metadata": {},
     "output_type": "execute_result"
    }
   ],
   "source": [
    "indices = [indice for indice in range(10)]\n",
    "indices"
   ]
  },
  {
   "cell_type": "code",
   "execution_count": 7,
   "id": "9778f5b2-641b-485f-828d-3f0ed55cb939",
   "metadata": {},
   "outputs": [
    {
     "data": {
      "text/plain": [
       "[2, 3, 4]"
      ]
     },
     "execution_count": 7,
     "metadata": {},
     "output_type": "execute_result"
    }
   ],
   "source": [
    "# syntaxe délimitant le premier indice sélectionné et le premier délaissé\n",
    "indices[2:5]"
   ]
  },
  {
   "cell_type": "code",
   "execution_count": 8,
   "id": "96bca911-330c-4553-92af-379bdcf448f0",
   "metadata": {},
   "outputs": [
    {
     "data": {
      "text/plain": [
       "[2, 3, 4, 5, 6, 7, 8, 9]"
      ]
     },
     "execution_count": 8,
     "metadata": {},
     "output_type": "execute_result"
    }
   ],
   "source": [
    "# en cas d'absence du deuxième indice on va le plus loin possible\n",
    "indices[2:]"
   ]
  },
  {
   "cell_type": "code",
   "execution_count": 9,
   "id": "e582dc47-72b9-4b8e-b372-97e4eac120f5",
   "metadata": {},
   "outputs": [
    {
     "data": {
      "text/plain": [
       "[0, 1, 2, 3, 4]"
      ]
     },
     "execution_count": 9,
     "metadata": {},
     "output_type": "execute_result"
    }
   ],
   "source": [
    "# en cas d'absence du premier on démarre le plut tôt possible\n",
    "indices[:5]"
   ]
  },
  {
   "cell_type": "code",
   "execution_count": 10,
   "id": "9cdd6a8f-5d62-44da-b002-0602f01c0b36",
   "metadata": {},
   "outputs": [
    {
     "data": {
      "text/plain": [
       "[7, 8]"
      ]
     },
     "execution_count": 10,
     "metadata": {},
     "output_type": "execute_result"
    }
   ],
   "source": [
    "# on peut utiliser des indices négatifs pour compter en partant de la fin\n",
    "indices[-3:-1]"
   ]
  },
  {
   "cell_type": "code",
   "execution_count": 11,
   "id": "de9c600e-7c39-48a5-a072-0d32ed82819e",
   "metadata": {},
   "outputs": [
    {
     "data": {
      "text/plain": [
       "[1, 3, 5, 7]"
      ]
     },
     "execution_count": 11,
     "metadata": {},
     "output_type": "execute_result"
    }
   ],
   "source": [
    "# on peut avoir un deuxième opérateur : pour sélectionner les pas entre les indices\n",
    "indices[1:9:2]"
   ]
  },
  {
   "cell_type": "code",
   "execution_count": 12,
   "id": "c81dabe3-c765-4937-9394-ba93f7835afe",
   "metadata": {},
   "outputs": [
    {
     "data": {
      "text/plain": [
       "[1, 3, 5, 7, 9]"
      ]
     },
     "execution_count": 12,
     "metadata": {},
     "output_type": "execute_result"
    }
   ],
   "source": [
    "indices[1::2]"
   ]
  },
  {
   "cell_type": "code",
   "execution_count": 13,
   "id": "e95679ab-51cb-4503-b68f-1f916ad937dc",
   "metadata": {},
   "outputs": [
    {
     "data": {
      "text/plain": [
       "[9, 8, 7, 6, 5, 4, 3, 2, 1, 0]"
      ]
     },
     "execution_count": 13,
     "metadata": {},
     "output_type": "execute_result"
    }
   ],
   "source": [
    "indices[::-1]"
   ]
  },
  {
   "cell_type": "markdown",
   "id": "2bc5ddea-1fb8-44f3-a269-069d5c67ece4",
   "metadata": {},
   "source": [
    "## Mutation\n",
    "\n",
    "Une source de bogue est le fait que par défaut l'opérateur `=` ne fait pas de copie"
   ]
  },
  {
   "cell_type": "code",
   "execution_count": 14,
   "id": "fb1257ab-3a80-4a3c-a207-bdc97af6b62b",
   "metadata": {},
   "outputs": [
    {
     "name": "stdout",
     "output_type": "stream",
     "text": [
      "[1, 2, 3]\n",
      "[1, 2, 3]\n",
      "[100, 2, 3]\n",
      "[100, 2, 3]\n"
     ]
    }
   ],
   "source": [
    "x = [1, 2, 3]\n",
    "print(x)\n",
    "y = x\n",
    "print(y)\n",
    "y[0] = 100\n",
    "print(y)\n",
    "print(x)"
   ]
  },
  {
   "cell_type": "markdown",
   "id": "f354a0cc-fab2-47ef-bc08-c53539316e9a",
   "metadata": {},
   "source": [
    "Il faut réaliser qu'après la ligne `x = y` on en fait toujours une seul liste mais les deux noms `x` et `y` pointent sur cette objet.\n",
    "Lorsqu'on utilise `y` pour le modifier, on voit aussi la différence en utilisant `x`."
   ]
  },
  {
   "cell_type": "markdown",
   "id": "3315db5b-ef3b-4888-a6d5-4418459eb41e",
   "metadata": {},
   "source": [
    "## Gestion d'erreur\n",
    "\n",
    "Certaines opérations en python peuvent occasioner des erreurs dans certaines situations.\n",
    "Plutôt que de laisser *planter* le programme on peut décider d'intercepter l'**exception** et de la gérer soit même."
   ]
  },
  {
   "cell_type": "code",
   "execution_count": 15,
   "id": "00d7c394-da2a-4c9e-bd22-911921655423",
   "metadata": {},
   "outputs": [
    {
     "data": {
      "text/plain": [
       "[0, 1, 2]"
      ]
     },
     "execution_count": 15,
     "metadata": {},
     "output_type": "execute_result"
    }
   ],
   "source": [
    "ls = [0, 1, 2]\n",
    "ls"
   ]
  },
  {
   "cell_type": "code",
   "execution_count": 16,
   "id": "f5b6914f-641f-40af-9e01-952d0943b7e5",
   "metadata": {},
   "outputs": [
    {
     "data": {
      "text/plain": [
       "2"
      ]
     },
     "execution_count": 16,
     "metadata": {},
     "output_type": "execute_result"
    }
   ],
   "source": [
    "ls[2]"
   ]
  },
  {
   "cell_type": "code",
   "execution_count": 17,
   "id": "7a088cf7-7ea0-4f6b-824f-2e601c8e3ec5",
   "metadata": {},
   "outputs": [
    {
     "ename": "IndexError",
     "evalue": "list index out of range",
     "output_type": "error",
     "traceback": [
      "\u001b[0;31m---------------------------------------------------------------------------\u001b[0m",
      "\u001b[0;31mIndexError\u001b[0m                                Traceback (most recent call last)",
      "Cell \u001b[0;32mIn[17], line 1\u001b[0m\n\u001b[0;32m----> 1\u001b[0m \u001b[43mls\u001b[49m\u001b[43m[\u001b[49m\u001b[38;5;241;43m5\u001b[39;49m\u001b[43m]\u001b[49m\n",
      "\u001b[0;31mIndexError\u001b[0m: list index out of range"
     ]
    }
   ],
   "source": [
    "ls[5]"
   ]
  },
  {
   "cell_type": "code",
   "execution_count": 18,
   "id": "50ddf7a9-d82d-4399-9282-43744541f1d0",
   "metadata": {},
   "outputs": [
    {
     "name": "stdout",
     "output_type": "stream",
     "text": [
      "il n'y a pas d'élément d'indice 5!\n"
     ]
    }
   ],
   "source": [
    "try:\n",
    "    ls[5]\n",
    "except IndexError:\n",
    "    print(\"il n'y a pas d'élément d'indice 5!\")"
   ]
  },
  {
   "cell_type": "markdown",
   "id": "a7f91aea-aaee-4763-a8b1-e85e21a50a3a",
   "metadata": {},
   "source": [
    "Notez qu'il est possible d'intercepter plusieurs exceptions."
   ]
  },
  {
   "cell_type": "code",
   "execution_count": 19,
   "id": "54f0cedc-e011-4db4-96d8-ac949ae60a94",
   "metadata": {},
   "outputs": [
    {
     "name": "stdout",
     "output_type": "stream",
     "text": [
      "La liste lss n'existe pas!\n"
     ]
    }
   ],
   "source": [
    "try:\n",
    "    lss[5]\n",
    "except IndexError:\n",
    "    print(\"il n'y a pas d'élément d'indice 5!\")\n",
    "except NameError:\n",
    "    print(\"La liste lss n'existe pas!\")"
   ]
  },
  {
   "cell_type": "markdown",
   "id": "4ba3328a-429f-450f-a5f3-68a3fcab22b0",
   "metadata": {},
   "source": [
    "Finalement si on veut qu'un bloc de code soit exécuté mais uniquement lorsqu'il n'y a pas eu d'erreur, on utilise `else`"
   ]
  },
  {
   "cell_type": "code",
   "execution_count": 20,
   "id": "3c0e33d4-e2df-49b5-ab81-541ed68ee7dc",
   "metadata": {},
   "outputs": [
    {
     "name": "stdout",
     "output_type": "stream",
     "text": [
      "Il n'y a pas d'élément à l'indice 5.\n"
     ]
    }
   ],
   "source": [
    "indice = 5\n",
    "try:\n",
    "    ls[indice]\n",
    "except IndexError:\n",
    "    print(f\"Il n'y a pas d'élément à l'indice {indice}.\")\n",
    "else:\n",
    "    print(\"Tout s'est bien passé.\")"
   ]
  },
  {
   "cell_type": "code",
   "execution_count": 21,
   "id": "7a75f10c-8773-4ef9-99bf-e5fc0de9f66b",
   "metadata": {},
   "outputs": [
    {
     "name": "stdout",
     "output_type": "stream",
     "text": [
      "Tout s'est bien passé.\n"
     ]
    }
   ],
   "source": [
    "indice = 2\n",
    "try:\n",
    "    ls[indice]\n",
    "except IndexError:\n",
    "    print(f\"Il n'y a pas d'élément à l'indice {indice}.\")\n",
    "else:\n",
    "    print(\"Tout s'est bien passé.\")"
   ]
  },
  {
   "cell_type": "markdown",
   "id": "99712a34-1aed-4b1a-9545-4fade7c62994",
   "metadata": {},
   "source": [
    "## Récursion\n",
    "\n",
    "Lorsqu'on définit une fonction, il est possible, et dans certains cas très utile, d'appeler la fonction elle même.\n",
    "\n",
    "Considérons par exemple la suite de fibonnacci $(F_n)_{n\\geq 0}$ qui est définie par\n",
    "\n",
    "\\begin{equation}\n",
    "\\forall n\\geq 0, \\qquad F_n:=\n",
    "\\begin{cases}\n",
    "0 & \\text{ si } n=0,\\\\\n",
    "1 & \\text{ si } n=1,\\\\\n",
    "F_{n-1} + F_{n-2} & \\text{ si } n\\geq 2.\\\\\n",
    "\\end{cases}\n",
    "\\end{equation}\n",
    "On peut la calculer de la façon suivante."
   ]
  },
  {
   "cell_type": "code",
   "execution_count": 22,
   "id": "0a8fcebf-758e-4ef5-aa79-3a909f471502",
   "metadata": {},
   "outputs": [],
   "source": [
    "def fibonacci(n: int) -> int:\n",
    "    \"\"\"Calcule du n-ième terme de la suite de Fibonacci.\"\"\"\n",
    "    if n < 2:\n",
    "        return n\n",
    "    return fibonacci(n-1) + fibonacci(n-2)"
   ]
  },
  {
   "cell_type": "code",
   "execution_count": 23,
   "id": "fd0cb467-51b7-46b6-98a1-65d6d6ce3ae3",
   "metadata": {},
   "outputs": [
    {
     "name": "stdout",
     "output_type": "stream",
     "text": [
      "F_0 = 0\n",
      "F_1 = 1\n",
      "F_2 = 1\n",
      "F_3 = 2\n",
      "F_4 = 3\n",
      "F_5 = 5\n",
      "F_6 = 8\n",
      "F_7 = 13\n",
      "F_8 = 21\n",
      "F_9 = 34\n"
     ]
    }
   ],
   "source": [
    "for n in range(10):\n",
    "    print(f\"F_{n} = {fibonacci(n)}\")"
   ]
  },
  {
   "cell_type": "markdown",
   "id": "cca8057b-a044-4739-9612-df3fed1d936b",
   "metadata": {},
   "source": [
    "Notez qu'il est possible et parfois préférable (trop lent ou trop d'appels récursifs) de trouver une façon alternative sans récursion.\n",
    "Mais ce n'est pas toujours évident."
   ]
  },
  {
   "cell_type": "code",
   "execution_count": 24,
   "id": "02744fe9-448f-43eb-b132-fe45a7930e05",
   "metadata": {},
   "outputs": [],
   "source": [
    "def fibonacci_bis(n: int) -> int:\n",
    "    \"\"\"Alternative sans récursion.\"\"\"\n",
    "    a, b = 0, 1\n",
    "    for _ in range(n):\n",
    "        a, b = b, a + b\n",
    "    return a"
   ]
  },
  {
   "cell_type": "markdown",
   "id": "3bc64bbd-30de-412c-b8eb-7bf6b30e6469",
   "metadata": {},
   "source": [
    "**REMARQUE** on pourra regarder le temps de calcul pour $F_{37}$ pour comprendre le problème."
   ]
  },
  {
   "cell_type": "markdown",
   "id": "37d5f93c-26c2-47e8-98bd-e425c99d8c92",
   "metadata": {},
   "source": [
    "## Itérateurs/Générateurs"
   ]
  },
  {
   "cell_type": "code",
   "execution_count": 25,
   "id": "ffa7d648-e38a-44cf-b282-b2e7b8dd8539",
   "metadata": {},
   "outputs": [
    {
     "name": "stdout",
     "output_type": "stream",
     "text": [
      "1\n",
      "2\n",
      "3\n"
     ]
    }
   ],
   "source": [
    "# on peut itérer sur les éléments d'un conteneur\n",
    "for i in (1, 2, 3):\n",
    "    print(i)"
   ]
  },
  {
   "cell_type": "code",
   "execution_count": 26,
   "id": "336a77a7-eeb7-453e-b6a6-e49bb59874b8",
   "metadata": {},
   "outputs": [
    {
     "name": "stdout",
     "output_type": "stream",
     "text": [
      "4\n",
      "5\n",
      "6\n"
     ]
    }
   ],
   "source": [
    "for i in [4, 5, 6]:\n",
    "    print(i)"
   ]
  },
  {
   "cell_type": "code",
   "execution_count": 27,
   "id": "72ae4ba3-cf29-49b8-9fb6-d94b65531dbe",
   "metadata": {},
   "outputs": [
    {
     "name": "stdout",
     "output_type": "stream",
     "text": [
      "8\n",
      "9\n",
      "7\n"
     ]
    }
   ],
   "source": [
    "for i in {7, 8, 9}:\n",
    "    print(i)"
   ]
  },
  {
   "cell_type": "markdown",
   "id": "5a51e29a-f6cd-4e6d-af8d-b4c7ac5b8185",
   "metadata": {},
   "source": [
    "Mais dans le cas d'une boucle `for`, il faut réaliser qu'on n'utilise les valeurs que les unes après les autres, et non simultanément.\n",
    "Il est donc possible d'utiliser dans une boucle `for` des objets plus généraux que des conteneurs, on parle d'itérables.\n",
    "La vrai syntaxe utilisée peut se voir dans le cas suivant."
   ]
  },
  {
   "cell_type": "code",
   "execution_count": 28,
   "id": "20182e68-eea6-40b7-96b7-7b5a4bf1e103",
   "metadata": {},
   "outputs": [
    {
     "data": {
      "text/plain": [
       "[1, 2, 3]"
      ]
     },
     "execution_count": 28,
     "metadata": {},
     "output_type": "execute_result"
    }
   ],
   "source": [
    "ma_liste = [1, 2, 3]\n",
    "ma_liste"
   ]
  },
  {
   "cell_type": "code",
   "execution_count": 29,
   "id": "ca9fd794-0510-487f-85ce-086d5fb620c9",
   "metadata": {},
   "outputs": [
    {
     "name": "stdout",
     "output_type": "stream",
     "text": [
      "1\n",
      "2\n",
      "3\n"
     ]
    }
   ],
   "source": [
    "for i in ma_liste:\n",
    "    print(i)"
   ]
  },
  {
   "cell_type": "code",
   "execution_count": 30,
   "id": "725a73bc-5d76-47db-a9cf-a72c67f730f6",
   "metadata": {},
   "outputs": [
    {
     "name": "stdout",
     "output_type": "stream",
     "text": [
      "1\n",
      "2\n",
      "3\n"
     ]
    }
   ],
   "source": [
    "it = iter(ma_liste)\n",
    "while True:\n",
    "    try:\n",
    "        i = next(it)\n",
    "    except StopIteration:\n",
    "        break\n",
    "    else:\n",
    "        print(i)"
   ]
  },
  {
   "cell_type": "markdown",
   "id": "011a36fa-b675-4f1a-9ff0-9c21a830866d",
   "metadata": {},
   "source": [
    "**REMARQUE** De fait, de nombreux objets utilisés par python ne sont pas des conteurs mais des itérables."
   ]
  },
  {
   "cell_type": "code",
   "execution_count": 31,
   "id": "4679132f-abef-42d8-9fa6-46b9b0c8692a",
   "metadata": {},
   "outputs": [],
   "source": [
    "r = iter(range(3))"
   ]
  },
  {
   "cell_type": "code",
   "execution_count": 32,
   "id": "6d97b994-3505-4cae-91f2-32bddb09bd23",
   "metadata": {},
   "outputs": [
    {
     "data": {
      "text/plain": [
       "0"
      ]
     },
     "execution_count": 32,
     "metadata": {},
     "output_type": "execute_result"
    }
   ],
   "source": [
    "next(r)"
   ]
  },
  {
   "cell_type": "code",
   "execution_count": 33,
   "id": "950f62d5-6605-4391-a982-95f8a3c90953",
   "metadata": {},
   "outputs": [
    {
     "data": {
      "text/plain": [
       "1"
      ]
     },
     "execution_count": 33,
     "metadata": {},
     "output_type": "execute_result"
    }
   ],
   "source": [
    "next(r)"
   ]
  },
  {
   "cell_type": "code",
   "execution_count": 34,
   "id": "c346ab57-2a13-49c7-a35a-5de7aec1b620",
   "metadata": {},
   "outputs": [
    {
     "data": {
      "text/plain": [
       "2"
      ]
     },
     "execution_count": 34,
     "metadata": {},
     "output_type": "execute_result"
    }
   ],
   "source": [
    "next(r)"
   ]
  },
  {
   "cell_type": "code",
   "execution_count": 35,
   "id": "5db69f08-adcb-4e99-9768-8644ac40ad92",
   "metadata": {},
   "outputs": [
    {
     "ename": "StopIteration",
     "evalue": "",
     "output_type": "error",
     "traceback": [
      "\u001b[0;31m---------------------------------------------------------------------------\u001b[0m",
      "\u001b[0;31mStopIteration\u001b[0m                             Traceback (most recent call last)",
      "Cell \u001b[0;32mIn[35], line 1\u001b[0m\n\u001b[0;32m----> 1\u001b[0m \u001b[38;5;28;43mnext\u001b[39;49m\u001b[43m(\u001b[49m\u001b[43mr\u001b[49m\u001b[43m)\u001b[49m\n",
      "\u001b[0;31mStopIteration\u001b[0m: "
     ]
    }
   ],
   "source": [
    "next(r)"
   ]
  },
  {
   "cell_type": "markdown",
   "id": "4be21308-701d-44b5-b987-fb6308281014",
   "metadata": {},
   "source": [
    "Une façon de définir relativement facilement ce genre d'objets est d'utiliser un **générateur**, à savoir une fonction qui superficiellement utilise `yield` au lieu de `return`"
   ]
  },
  {
   "cell_type": "code",
   "execution_count": 36,
   "id": "a3353b93-63bb-484e-a7a9-3b4ac4538fb8",
   "metadata": {},
   "outputs": [],
   "source": [
    "def mon_range():\n",
    "    yield 0\n",
    "    yield 1\n",
    "    yield 2"
   ]
  },
  {
   "cell_type": "code",
   "execution_count": 37,
   "id": "b6fa8241-d6cf-4df1-8f60-4cfc1c0b10aa",
   "metadata": {},
   "outputs": [],
   "source": [
    "r = iter(mon_range())"
   ]
  },
  {
   "cell_type": "code",
   "execution_count": 38,
   "id": "458b7a29-e058-4869-9077-23cfbf2a5736",
   "metadata": {},
   "outputs": [
    {
     "data": {
      "text/plain": [
       "0"
      ]
     },
     "execution_count": 38,
     "metadata": {},
     "output_type": "execute_result"
    }
   ],
   "source": [
    "next(r)"
   ]
  },
  {
   "cell_type": "code",
   "execution_count": 39,
   "id": "e88aa263-367a-4a1f-8634-830e5a11892d",
   "metadata": {},
   "outputs": [
    {
     "data": {
      "text/plain": [
       "1"
      ]
     },
     "execution_count": 39,
     "metadata": {},
     "output_type": "execute_result"
    }
   ],
   "source": [
    "next(r)"
   ]
  },
  {
   "cell_type": "code",
   "execution_count": 40,
   "id": "e972e905-1c3b-43ae-95d3-94521d232d30",
   "metadata": {},
   "outputs": [
    {
     "data": {
      "text/plain": [
       "2"
      ]
     },
     "execution_count": 40,
     "metadata": {},
     "output_type": "execute_result"
    }
   ],
   "source": [
    "next(r)"
   ]
  },
  {
   "cell_type": "code",
   "execution_count": 41,
   "id": "94d6e5c7-90ca-4937-9c42-c8d264aa79c0",
   "metadata": {},
   "outputs": [
    {
     "ename": "StopIteration",
     "evalue": "",
     "output_type": "error",
     "traceback": [
      "\u001b[0;31m---------------------------------------------------------------------------\u001b[0m",
      "\u001b[0;31mStopIteration\u001b[0m                             Traceback (most recent call last)",
      "Cell \u001b[0;32mIn[41], line 1\u001b[0m\n\u001b[0;32m----> 1\u001b[0m \u001b[38;5;28;43mnext\u001b[39;49m\u001b[43m(\u001b[49m\u001b[43mr\u001b[49m\u001b[43m)\u001b[49m\n",
      "\u001b[0;31mStopIteration\u001b[0m: "
     ]
    }
   ],
   "source": [
    "next(r)"
   ]
  },
  {
   "cell_type": "markdown",
   "id": "828d2512-00d9-4100-a7ce-d8b1feb556d2",
   "metadata": {},
   "source": [
    "**REMARQUE** l'idée est un peu que par rapport à une fonction qui s'arrête définitivement lorsqu'on tombe sur `return`, un générateur fait juste une pause en recontrant un `yield` et redémarre à cet endroit lorsque on appelle le terme suivant via la fonction  `next`."
   ]
  },
  {
   "cell_type": "markdown",
   "id": "6d7a227d-bbae-4dc7-ba62-357f89480a72",
   "metadata": {},
   "source": [
    "En plus de souvent simplifier le code et d'améliorer l'utilisation mémoire en plus du temps d'exécution, cela permet d'avoir des itérateurs infini."
   ]
  },
  {
   "cell_type": "code",
   "execution_count": 42,
   "id": "55380a7a-ff13-45aa-a3fa-e9068fa6db8f",
   "metadata": {},
   "outputs": [],
   "source": [
    "def fibogen() -> Generator[int, None, None]:\n",
    "    a, b = 0, 1\n",
    "    while True:\n",
    "        yield a\n",
    "        a, b = b, a + b"
   ]
  },
  {
   "cell_type": "code",
   "execution_count": 43,
   "id": "7ca34d2d-23f7-4a56-8154-599d4ba2cbfa",
   "metadata": {},
   "outputs": [
    {
     "name": "stdout",
     "output_type": "stream",
     "text": [
      "0 1 1 2 3 5 8 13 21 34 55 89 "
     ]
    }
   ],
   "source": [
    "for x in fibogen():\n",
    "    if x < 100:\n",
    "        print(x, end=\" \")\n",
    "    else:\n",
    "        break"
   ]
  },
  {
   "cell_type": "markdown",
   "id": "ea0bd805-4436-4907-9d74-c0002b9de1a7",
   "metadata": {},
   "source": [
    "**REMARQUE** comme on pourrait s'en douter en observant le type de sortir de `fibogen`, les générateurs ont en fait de nombreuses possibilités supplémentaires (associées aux deux `None` de la signature) et permettent en fait de faire de la programmation asynchrone.\n",
    "On ne s'intéressera pas à cette fonctionnalité très délicate dans ce cours."
   ]
  },
  {
   "cell_type": "markdown",
   "id": "ba8027f2-f962-43f2-b7fe-b7ffda878c05",
   "metadata": {},
   "source": [
    "# Reprise résolution de Sudoku"
   ]
  },
  {
   "cell_type": "code",
   "execution_count": 44,
   "id": "d8d50eb3-725c-42c7-bf21-29abd27af7a1",
   "metadata": {},
   "outputs": [],
   "source": [
    "@dataclass\n",
    "class Grille:\n",
    "    \"\"\"Grille partiellement remplie de Sudoku.\n",
    "    \n",
    "    0 représentera une case vide.\n",
    "    \"\"\"\n",
    "    cases: list[int]\n",
    "    \n",
    "    def __post_init__(self):\n",
    "        if len(self.cases) != 16:\n",
    "            raise ValueError(\"Il doit y avoir exactement 16 cases.\")\n",
    "        if any(case < 0 or case > 4 for case in self.cases):\n",
    "            raise ValueError(\"Les valeurs permises sont 0,1,2,3 ou 4!\")"
   ]
  },
  {
   "cell_type": "code",
   "execution_count": 45,
   "id": "dc633831-2c12-4c7c-809e-c257e25088d8",
   "metadata": {},
   "outputs": [],
   "source": [
    "def detecte_probleme_ligne(grille: Grille) -> bool:\n",
    "    \"\"\"Détecte la répétition sur une ligne.\"\"\"\n",
    "    for i in (0, 4, 8, 12):\n",
    "        for valeur in (1, 2, 3, 4):\n",
    "            if grille.cases[i:i+4].count(valeur) > 1:\n",
    "                return True\n",
    "    return False"
   ]
  },
  {
   "cell_type": "code",
   "execution_count": 46,
   "id": "de4986fd-fe7a-4f15-a012-b0cc2ae5b79e",
   "metadata": {},
   "outputs": [],
   "source": [
    "def detecte_probleme_colonne(grille: Grille) -> bool:\n",
    "    \"\"\"Détecte la répétition sur une colonne.\"\"\"\n",
    "    for i in (0, 1, 2, 3):\n",
    "        for valeur in (1, 2, 3, 4):\n",
    "            if grille.cases[i::4].count(valeur) > 1:\n",
    "                return True\n",
    "    return False"
   ]
  },
  {
   "cell_type": "code",
   "execution_count": 47,
   "id": "f505fa96-89f3-4958-93d6-d0e5dd3e88e4",
   "metadata": {},
   "outputs": [],
   "source": [
    "def detecte_probleme_bloc(grille: Grille) -> bool:\n",
    "    \"\"\"Détecte la répétition sur un bloc.\"\"\"\n",
    "    for i in (0, 2, 8, 10):\n",
    "        for valeur in (1, 2, 3, 4):\n",
    "            if [grille.cases[i+j] for j in (0, 1, 4, 5)].count(valeur) > 1:\n",
    "                return True\n",
    "    return False"
   ]
  },
  {
   "cell_type": "code",
   "execution_count": 48,
   "id": "9cbb97ab-23de-47fc-86eb-aa694b008db9",
   "metadata": {},
   "outputs": [],
   "source": [
    "def est_valide(grille: Grille) -> bool:\n",
    "    \"\"\"Détecte les répétition lignes/colonnes/sousgrilles.\"\"\"\n",
    "    if detecte_probleme_ligne(grille):\n",
    "        return False\n",
    "    if detecte_probleme_colonne(grille):\n",
    "        return False\n",
    "    if detecte_probleme_bloc(grille):\n",
    "        return False\n",
    "    return True"
   ]
  },
  {
   "cell_type": "markdown",
   "id": "3f8b9984-96de-4293-a82f-b2e965ec4dbb",
   "metadata": {},
   "source": [
    "# Exercice\n",
    "\n",
    "1. Codez 4 tests pour la fonction `est_valide` avec \n",
    "   - grille valide\n",
    "   - répétition ligne\n",
    "   - répétition colonne\n",
    "   - répétition sous-grille\n",
    "2. Codez la fonction"
   ]
  },
  {
   "cell_type": "code",
   "execution_count": 49,
   "id": "debbbf2f-ee3a-410c-8366-513744b0dad3",
   "metadata": {},
   "outputs": [],
   "source": [
    "assert True == est_valide(\n",
    "    grille=Grille(\n",
    "        cases=[1, 2, 0, 0, 3, 0, 0, 0, 0, 0, 0, 0, 0, 0, 0, 0]\n",
    "    )\n",
    ")"
   ]
  },
  {
   "cell_type": "code",
   "execution_count": 50,
   "id": "9de4b0c7-4eae-4c47-b37c-d134b6e0ed7a",
   "metadata": {},
   "outputs": [],
   "source": [
    "assert False == est_valide(\n",
    "    grille=Grille(\n",
    "        cases=[1, 2, 1, 0, 3, 0, 0, 0, 0, 0, 0, 0, 0, 0, 0, 0]\n",
    "    )\n",
    ")"
   ]
  },
  {
   "cell_type": "code",
   "execution_count": 51,
   "id": "afb45edd-5a04-4fdd-844c-657c65adef4c",
   "metadata": {},
   "outputs": [],
   "source": [
    "assert False == est_valide(\n",
    "    grille=Grille(\n",
    "        cases=[1, 2, 0, 0, 3, 0, 0, 0, 1, 0, 0, 0, 0, 0, 0, 0]\n",
    "    )\n",
    ")"
   ]
  },
  {
   "cell_type": "code",
   "execution_count": 52,
   "id": "32b711dc-ea36-4852-a579-eb6fa7e4a3ef",
   "metadata": {},
   "outputs": [],
   "source": [
    "assert False == est_valide(\n",
    "    grille=Grille(\n",
    "        cases=[1, 2, 0, 0, 3, 1, 0, 0, 0, 0, 0, 0, 0, 0, 0, 0]\n",
    "    )\n",
    ")"
   ]
  },
  {
   "cell_type": "markdown",
   "id": "ba18cd70-da1a-4ff8-9a97-2f38df110d6b",
   "metadata": {},
   "source": [
    "# Exercice\n",
    "\n",
    "1. Codez une fonction `est_remplie` détectant si il reste des cases vides\n",
    "2. Adaptez la fonction `cherche_chemin` pour aller d'une grille initiale et à une grille remplie valide."
   ]
  },
  {
   "cell_type": "code",
   "execution_count": 53,
   "id": "07c7faa6-dba7-478e-857b-8aae093c7070",
   "metadata": {},
   "outputs": [],
   "source": [
    "def est_remplie(grille: Grille) -> bool:\n",
    "    \"\"\"Détecte l'absence de case vide.\"\"\"\n",
    "    return grille.cases.count(0) == 0\n",
    "        "
   ]
  },
  {
   "cell_type": "code",
   "execution_count": 54,
   "id": "7055e043-b9f4-4216-99de-a691356302db",
   "metadata": {},
   "outputs": [],
   "source": [
    "assert False == est_remplie(\n",
    "    grille=Grille(\n",
    "        cases=[1, 2, 0, 0, 3, 1, 0, 0, 0, 0, 0, 0, 0, 0, 0, 0]\n",
    "    )\n",
    ")"
   ]
  },
  {
   "cell_type": "code",
   "execution_count": 55,
   "id": "7ac26f81-c4c1-4685-8d9d-ae12477ed44d",
   "metadata": {},
   "outputs": [],
   "source": [
    "assert True == est_remplie(\n",
    "    grille=Grille(\n",
    "        cases=[1, 2, 3, 4, 3, 4, 1, 2, 2, 1, 4, 3, 4, 3, 2, 1]\n",
    "    )\n",
    ")"
   ]
  },
  {
   "cell_type": "code",
   "execution_count": 56,
   "id": "6d323775-ddc3-42cb-bffc-d9afa155fa20",
   "metadata": {},
   "outputs": [],
   "source": [
    "class PasDeSolution(Exception):\n",
    "    \"\"\"Représente l'absence de solution au Sudoku.\"\"\"\n",
    "    pass"
   ]
  },
  {
   "cell_type": "code",
   "execution_count": 57,
   "id": "384a7249-6615-418c-b64c-4bf88fecb4ef",
   "metadata": {},
   "outputs": [],
   "source": [
    "def genere_voisines(grille: Grille) -> Generator[Grille, None, None]:\n",
    "    \"\"\"Renvoie les 4 façons de remplir la première case.\"\"\"\n",
    "    nouvelle_cases = [case for case in grille.cases]\n",
    "    try:\n",
    "        position_zero = nouvelle_cases.index(0) #attention peut planter\n",
    "    except ValueError:\n",
    "        raise ValueError(\"La grille est déjà remplie.\")\n",
    "    for remplissage  in  (1, 2, 3, 4):\n",
    "        nouvelle_cases[position_zero] = remplissage\n",
    "        yield Grille(cases=nouvelle_cases)"
   ]
  },
  {
   "cell_type": "code",
   "execution_count": 62,
   "id": "638a2e86-22ca-4927-9246-34185374bbdf",
   "metadata": {},
   "outputs": [],
   "source": [
    "it = genere_voisines(\n",
    "    grille=Grille(\n",
    "        cases=[0, 2, 3, 4, 3, 0, 1, 2, 2, 1, 4, 3, 4, 3, 2, 1],\n",
    "    )\n",
    ")\n",
    "assert next(it) ==  Grille(\n",
    "    cases=[1, 2, 3, 4, 3, 0, 1, 2, 2, 1, 4, 3, 4, 3, 2, 1],\n",
    ")\n",
    "assert next(it) ==  Grille(\n",
    "    cases=[2, 2, 3, 4, 3, 0, 1, 2, 2, 1, 4, 3, 4, 3, 2, 1],\n",
    ")\n",
    "assert next(it) ==  Grille(\n",
    "    cases=[3, 2, 3, 4, 3, 0, 1, 2, 2, 1, 4, 3, 4, 3, 2, 1],\n",
    ")\n",
    "assert next(it) ==  Grille(\n",
    "    cases=[4, 2, 3, 4, 3, 0, 1, 2, 2, 1, 4, 3, 4, 3, 2, 1],\n",
    ")"
   ]
  },
  {
   "cell_type": "code",
   "execution_count": 63,
   "id": "4ab44a49-6e32-4653-8c2d-cd9d57fca54d",
   "metadata": {},
   "outputs": [],
   "source": [
    "def resoud_sudoku(grille: Grille) -> Grille:\n",
    "    \"\"\"Resoud le sudoku correspondant à grille au départ.\n",
    "    \n",
    "    Genere PasDeSolution s'il le problème n'est pas soluble.\n",
    "    \"\"\"\n",
    "    if est_remplie(grille):\n",
    "        if est_valide(grille):\n",
    "            return grille\n",
    "        else:\n",
    "            raise PasDeSolution\n",
    "    else:\n",
    "        for voisine in genere_voisines(grille):\n",
    "            if est_valide(voisine):\n",
    "                try:\n",
    "                    solution = resoud_sudoku(voisine)\n",
    "                except PasDeSolution:\n",
    "                    pass\n",
    "                else:\n",
    "                    return solution\n",
    "        raise PasDeSolution       "
   ]
  },
  {
   "cell_type": "code",
   "execution_count": 64,
   "id": "8a7d31a8-596e-4747-b5d1-6b67f04edb35",
   "metadata": {},
   "outputs": [],
   "source": [
    "assert resoud_sudoku(\n",
    "    grille=Grille(\n",
    "        cases=[1, 2, 3, 4, 3, 4, 1, 2, 2, 1, 4, 3, 4, 3, 2, 1],\n",
    "    )\n",
    ") == Grille(\n",
    "        cases=[1, 2, 3, 4, 3, 4, 1, 2, 2, 1, 4, 3, 4, 3, 2, 1],\n",
    "    )"
   ]
  },
  {
   "cell_type": "code",
   "execution_count": 65,
   "id": "accc88ab-22bc-4c7e-a26d-21029caf6d5e",
   "metadata": {},
   "outputs": [],
   "source": [
    "assert resoud_sudoku(\n",
    "    grille=Grille(\n",
    "        cases=[0, 2, 3, 4, 3, 0, 1, 2, 2, 1, 4, 3, 4, 3, 2, 1],\n",
    "    )\n",
    ") == Grille(\n",
    "        cases=[1, 2, 3, 4, 3, 4, 1, 2, 2, 1, 4, 3, 4, 3, 2, 1],\n",
    "    )"
   ]
  }
 ],
 "metadata": {
  "kernelspec": {
   "display_name": "Python 3 (ipykernel)",
   "language": "python",
   "name": "python3"
  },
  "language_info": {
   "codemirror_mode": {
    "name": "ipython",
    "version": 3
   },
   "file_extension": ".py",
   "mimetype": "text/x-python",
   "name": "python",
   "nbconvert_exporter": "python",
   "pygments_lexer": "ipython3",
   "version": "3.11.0"
  }
 },
 "nbformat": 4,
 "nbformat_minor": 5
}
