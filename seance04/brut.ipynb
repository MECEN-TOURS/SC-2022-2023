{
 "cells": [
  {
   "cell_type": "code",
   "execution_count": 1,
   "id": "69fb7f21-dbe3-46c6-a13e-614e579b124d",
   "metadata": {},
   "outputs": [],
   "source": [
    "from dataclasses import dataclass\n"
   ]
  },
  {
   "cell_type": "code",
   "execution_count": 75,
   "id": "28fd8688-4fca-4f1a-9b31-267f3831b602",
   "metadata": {},
   "outputs": [],
   "source": [
    "from typing import Generator"
   ]
  },
  {
   "cell_type": "code",
   "execution_count": 2,
   "id": "d8d50eb3-725c-42c7-bf21-29abd27af7a1",
   "metadata": {},
   "outputs": [],
   "source": [
    "@dataclass\n",
    "class Grille:\n",
    "    \"\"\"Grille partiellement remplie de Sudoku.\n",
    "    \n",
    "    0 représentera une case vide.\n",
    "    \"\"\"\n",
    "    cases: list[int]\n",
    "    \n",
    "    def __post_init__(self):\n",
    "        if len(self.cases) != 16:\n",
    "            raise ValueError(\"Il doit y avoir exactement 16 cases.\")\n",
    "        if any(case < 0 or case > 4 for case in self.cases):\n",
    "            raise ValueError(\"Les valeurs permises sont 0,1,2,3 ou 4!\")"
   ]
  },
  {
   "cell_type": "code",
   "execution_count": 25,
   "id": "dc633831-2c12-4c7c-809e-c257e25088d8",
   "metadata": {},
   "outputs": [],
   "source": [
    "def detecte_probleme_ligne(grille: Grille) -> bool:\n",
    "    \"\"\"Détecte la répétition sur une ligne.\"\"\"\n",
    "    for i in (0, 4, 8, 12):\n",
    "        for valeur in (1, 2, 3, 4):\n",
    "            if grille.cases[i:i+4].count(valeur) > 1:\n",
    "                return True\n",
    "    return False"
   ]
  },
  {
   "cell_type": "code",
   "execution_count": 33,
   "id": "de4986fd-fe7a-4f15-a012-b0cc2ae5b79e",
   "metadata": {},
   "outputs": [],
   "source": [
    "def detecte_probleme_colonne(grille: Grille) -> bool:\n",
    "    \"\"\"Détecte la répétition sur une colonne.\"\"\"\n",
    "    for i in (0, 1, 2, 3):\n",
    "        for valeur in (1, 2, 3, 4):\n",
    "            if grille.cases[i::4].count(valeur) > 1:\n",
    "                return True\n",
    "    return False"
   ]
  },
  {
   "cell_type": "code",
   "execution_count": 35,
   "id": "f505fa96-89f3-4958-93d6-d0e5dd3e88e4",
   "metadata": {},
   "outputs": [],
   "source": [
    "def detecte_probleme_bloc(grille: Grille) -> bool:\n",
    "    \"\"\"Détecte la répétition sur un bloc.\"\"\"\n",
    "    for i in (0, 2, 8, 10):\n",
    "        for valeur in (1, 2, 3, 4):\n",
    "            if [grille.cases[i+j] for j in (0, 1, 4, 5)].count(valeur) > 1:\n",
    "                return True\n",
    "    return False"
   ]
  },
  {
   "cell_type": "code",
   "execution_count": 15,
   "id": "9cbb97ab-23de-47fc-86eb-aa694b008db9",
   "metadata": {},
   "outputs": [],
   "source": [
    "def est_valide(grille: Grille) -> bool:\n",
    "    \"\"\"Détecte les répétition lignes/colonnes/sousgrilles.\"\"\"\n",
    "    if detecte_probleme_ligne(grille):\n",
    "        return False\n",
    "    if detecte_probleme_colonne(grille):\n",
    "        return False\n",
    "    if detecte_probleme_bloc(grille):\n",
    "        return False\n",
    "    return True"
   ]
  },
  {
   "cell_type": "markdown",
   "id": "3f8b9984-96de-4293-a82f-b2e965ec4dbb",
   "metadata": {},
   "source": [
    "# Exercice\n",
    "\n",
    "1. Codez 4 tests pour la fonction `est_valide` avec \n",
    "   - grille valide\n",
    "   - répétition ligne\n",
    "   - répétition colonne\n",
    "   - répétition sous-grille\n",
    "2. Codez la fonction"
   ]
  },
  {
   "cell_type": "code",
   "execution_count": 37,
   "id": "debbbf2f-ee3a-410c-8366-513744b0dad3",
   "metadata": {},
   "outputs": [],
   "source": [
    "assert True == est_valide(\n",
    "    grille=Grille(\n",
    "        cases=[1, 2, 0, 0, 3, 0, 0, 0, 0, 0, 0, 0, 0, 0, 0, 0]\n",
    "    )\n",
    ")"
   ]
  },
  {
   "cell_type": "code",
   "execution_count": 38,
   "id": "9de4b0c7-4eae-4c47-b37c-d134b6e0ed7a",
   "metadata": {},
   "outputs": [],
   "source": [
    "assert False == est_valide(\n",
    "    grille=Grille(\n",
    "        cases=[1, 2, 1, 0, 3, 0, 0, 0, 0, 0, 0, 0, 0, 0, 0, 0]\n",
    "    )\n",
    ")"
   ]
  },
  {
   "cell_type": "code",
   "execution_count": 39,
   "id": "afb45edd-5a04-4fdd-844c-657c65adef4c",
   "metadata": {},
   "outputs": [],
   "source": [
    "assert False == est_valide(\n",
    "    grille=Grille(\n",
    "        cases=[1, 2, 0, 0, 3, 0, 0, 0, 1, 0, 0, 0, 0, 0, 0, 0]\n",
    "    )\n",
    ")"
   ]
  },
  {
   "cell_type": "code",
   "execution_count": 40,
   "id": "32b711dc-ea36-4852-a579-eb6fa7e4a3ef",
   "metadata": {},
   "outputs": [],
   "source": [
    "assert False == est_valide(\n",
    "    grille=Grille(\n",
    "        cases=[1, 2, 0, 0, 3, 1, 0, 0, 0, 0, 0, 0, 0, 0, 0, 0]\n",
    "    )\n",
    ")"
   ]
  },
  {
   "cell_type": "markdown",
   "id": "ba18cd70-da1a-4ff8-9a97-2f38df110d6b",
   "metadata": {},
   "source": [
    "# Exercice\n",
    "\n",
    "1. Codez une fonction `est_remplie` détectant si il reste des cases vides\n",
    "2. Adaptez la fonction `cherche_chemin` pour aller d'une grille initiale et à une grille remplie valide."
   ]
  },
  {
   "cell_type": "code",
   "execution_count": 42,
   "id": "07c7faa6-dba7-478e-857b-8aae093c7070",
   "metadata": {},
   "outputs": [],
   "source": [
    "def est_remplie(grille: Grille) -> bool:\n",
    "    \"\"\"Détecte l'absence de case vide.\"\"\"\n",
    "    return grille.cases.count(0) == 0\n",
    "        "
   ]
  },
  {
   "cell_type": "code",
   "execution_count": 43,
   "id": "7055e043-b9f4-4216-99de-a691356302db",
   "metadata": {},
   "outputs": [],
   "source": [
    "assert False == est_remplie(\n",
    "    grille=Grille(\n",
    "        cases=[1, 2, 0, 0, 3, 1, 0, 0, 0, 0, 0, 0, 0, 0, 0, 0]\n",
    "    )\n",
    ")"
   ]
  },
  {
   "cell_type": "code",
   "execution_count": 44,
   "id": "7ac26f81-c4c1-4685-8d9d-ae12477ed44d",
   "metadata": {},
   "outputs": [],
   "source": [
    "assert True == est_remplie(\n",
    "    grille=Grille(\n",
    "        cases=[1, 2, 3, 4, 3, 4, 1, 2, 2, 1, 4, 3, 4, 3, 2, 1]\n",
    "    )\n",
    ")"
   ]
  },
  {
   "cell_type": "code",
   "execution_count": 45,
   "id": "6d323775-ddc3-42cb-bffc-d9afa155fa20",
   "metadata": {},
   "outputs": [],
   "source": [
    "class PasDeSolution(Exception):\n",
    "    \"\"\"Représente l'absence de solution au Sudoku.\"\"\"\n",
    "    pass"
   ]
  },
  {
   "cell_type": "code",
   "execution_count": 76,
   "id": "384a7249-6615-418c-b64c-4bf88fecb4ef",
   "metadata": {},
   "outputs": [],
   "source": [
    "def genere_voisines(grille: Grille) -> Generator[Grille, None, None]:\n",
    "    \"\"\"Renvoie les 4 façons de remplir la première case.\"\"\"\n",
    "    nouvelle_cases = [case for case in grille.cases]\n",
    "    position_zero = nouvelle_cases.index(0) #attention peut planter\n",
    "    \n",
    "    for remplissage  in  (1, 2, 3, 4):\n",
    "        nouvelle_cases[position_zero] = remplissage\n",
    "        yield Grille(cases=nouvelle_cases)\n",
    "                \n",
    "    "
   ]
  },
  {
   "cell_type": "code",
   "execution_count": 71,
   "id": "638a2e86-22ca-4927-9246-34185374bbdf",
   "metadata": {},
   "outputs": [
    {
     "name": "stdout",
     "output_type": "stream",
     "text": [
      "[Grille(cases=[4, 2, 3, 4, 3, 0, 1, 2, 2, 1, 4, 3, 4, 3, 2, 1]), Grille(cases=[4, 2, 3, 4, 3, 0, 1, 2, 2, 1, 4, 3, 4, 3, 2, 1]), Grille(cases=[4, 2, 3, 4, 3, 0, 1, 2, 2, 1, 4, 3, 4, 3, 2, 1]), Grille(cases=[4, 2, 3, 4, 3, 0, 1, 2, 2, 1, 4, 3, 4, 3, 2, 1])]\n"
     ]
    },
    {
     "ename": "AssertionError",
     "evalue": "",
     "output_type": "error",
     "traceback": [
      "\u001b[1;31m---------------------------------------------------------------------------\u001b[0m",
      "\u001b[1;31mAssertionError\u001b[0m                            Traceback (most recent call last)",
      "Cell \u001b[1;32mIn[71], line 1\u001b[0m\n\u001b[1;32m----> 1\u001b[0m \u001b[38;5;28;01massert\u001b[39;00m genere_voisines(\n\u001b[0;32m      2\u001b[0m     grille\u001b[38;5;241m=\u001b[39mGrille(\n\u001b[0;32m      3\u001b[0m         cases\u001b[38;5;241m=\u001b[39m[\u001b[38;5;241m0\u001b[39m, \u001b[38;5;241m2\u001b[39m, \u001b[38;5;241m3\u001b[39m, \u001b[38;5;241m4\u001b[39m, \u001b[38;5;241m3\u001b[39m, \u001b[38;5;241m0\u001b[39m, \u001b[38;5;241m1\u001b[39m, \u001b[38;5;241m2\u001b[39m, \u001b[38;5;241m2\u001b[39m, \u001b[38;5;241m1\u001b[39m, \u001b[38;5;241m4\u001b[39m, \u001b[38;5;241m3\u001b[39m, \u001b[38;5;241m4\u001b[39m, \u001b[38;5;241m3\u001b[39m, \u001b[38;5;241m2\u001b[39m, \u001b[38;5;241m1\u001b[39m],\n\u001b[0;32m      4\u001b[0m     )\n\u001b[0;32m      5\u001b[0m ) \u001b[38;5;241m==\u001b[39m [\n\u001b[0;32m      6\u001b[0m     Grille(\n\u001b[0;32m      7\u001b[0m         cases\u001b[38;5;241m=\u001b[39m[\u001b[38;5;241m1\u001b[39m, \u001b[38;5;241m2\u001b[39m, \u001b[38;5;241m3\u001b[39m, \u001b[38;5;241m4\u001b[39m, \u001b[38;5;241m3\u001b[39m, \u001b[38;5;241m0\u001b[39m, \u001b[38;5;241m1\u001b[39m, \u001b[38;5;241m2\u001b[39m, \u001b[38;5;241m2\u001b[39m, \u001b[38;5;241m1\u001b[39m, \u001b[38;5;241m4\u001b[39m, \u001b[38;5;241m3\u001b[39m, \u001b[38;5;241m4\u001b[39m, \u001b[38;5;241m3\u001b[39m, \u001b[38;5;241m2\u001b[39m, \u001b[38;5;241m1\u001b[39m],\n\u001b[0;32m      8\u001b[0m     ),\n\u001b[0;32m      9\u001b[0m     Grille(\n\u001b[0;32m     10\u001b[0m         cases\u001b[38;5;241m=\u001b[39m[\u001b[38;5;241m2\u001b[39m, \u001b[38;5;241m2\u001b[39m, \u001b[38;5;241m3\u001b[39m, \u001b[38;5;241m4\u001b[39m, \u001b[38;5;241m3\u001b[39m, \u001b[38;5;241m0\u001b[39m, \u001b[38;5;241m1\u001b[39m, \u001b[38;5;241m2\u001b[39m, \u001b[38;5;241m2\u001b[39m, \u001b[38;5;241m1\u001b[39m, \u001b[38;5;241m4\u001b[39m, \u001b[38;5;241m3\u001b[39m, \u001b[38;5;241m4\u001b[39m, \u001b[38;5;241m3\u001b[39m, \u001b[38;5;241m2\u001b[39m, \u001b[38;5;241m1\u001b[39m],\n\u001b[0;32m     11\u001b[0m     ),\n\u001b[0;32m     12\u001b[0m     Grille(\n\u001b[0;32m     13\u001b[0m         cases\u001b[38;5;241m=\u001b[39m[\u001b[38;5;241m3\u001b[39m, \u001b[38;5;241m2\u001b[39m, \u001b[38;5;241m3\u001b[39m, \u001b[38;5;241m4\u001b[39m, \u001b[38;5;241m3\u001b[39m, \u001b[38;5;241m0\u001b[39m, \u001b[38;5;241m1\u001b[39m, \u001b[38;5;241m2\u001b[39m, \u001b[38;5;241m2\u001b[39m, \u001b[38;5;241m1\u001b[39m, \u001b[38;5;241m4\u001b[39m, \u001b[38;5;241m3\u001b[39m, \u001b[38;5;241m4\u001b[39m, \u001b[38;5;241m3\u001b[39m, \u001b[38;5;241m2\u001b[39m, \u001b[38;5;241m1\u001b[39m],\n\u001b[0;32m     14\u001b[0m     ),\n\u001b[0;32m     15\u001b[0m     Grille(\n\u001b[0;32m     16\u001b[0m         cases\u001b[38;5;241m=\u001b[39m[\u001b[38;5;241m4\u001b[39m, \u001b[38;5;241m2\u001b[39m, \u001b[38;5;241m3\u001b[39m, \u001b[38;5;241m4\u001b[39m, \u001b[38;5;241m3\u001b[39m, \u001b[38;5;241m0\u001b[39m, \u001b[38;5;241m1\u001b[39m, \u001b[38;5;241m2\u001b[39m, \u001b[38;5;241m2\u001b[39m, \u001b[38;5;241m1\u001b[39m, \u001b[38;5;241m4\u001b[39m, \u001b[38;5;241m3\u001b[39m, \u001b[38;5;241m4\u001b[39m, \u001b[38;5;241m3\u001b[39m, \u001b[38;5;241m2\u001b[39m, \u001b[38;5;241m1\u001b[39m],\n\u001b[0;32m     17\u001b[0m     )\n\u001b[0;32m     18\u001b[0m ]\n",
      "\u001b[1;31mAssertionError\u001b[0m: "
     ]
    }
   ],
   "source": [
    "# A modifier\n",
    "assert genere_voisines(\n",
    "    grille=Grille(\n",
    "        cases=[0, 2, 3, 4, 3, 0, 1, 2, 2, 1, 4, 3, 4, 3, 2, 1],\n",
    "    )\n",
    ") == [\n",
    "    Grille(\n",
    "        cases=[1, 2, 3, 4, 3, 0, 1, 2, 2, 1, 4, 3, 4, 3, 2, 1],\n",
    "    ),\n",
    "    Grille(\n",
    "        cases=[2, 2, 3, 4, 3, 0, 1, 2, 2, 1, 4, 3, 4, 3, 2, 1],\n",
    "    ),\n",
    "    Grille(\n",
    "        cases=[3, 2, 3, 4, 3, 0, 1, 2, 2, 1, 4, 3, 4, 3, 2, 1],\n",
    "    ),\n",
    "    Grille(\n",
    "        cases=[4, 2, 3, 4, 3, 0, 1, 2, 2, 1, 4, 3, 4, 3, 2, 1],\n",
    "    )\n",
    "]"
   ]
  },
  {
   "cell_type": "code",
   "execution_count": 46,
   "id": "4ab44a49-6e32-4653-8c2d-cd9d57fca54d",
   "metadata": {},
   "outputs": [],
   "source": [
    "def resoud_sudoku(grille: Grille) -> Grille:\n",
    "    \"\"\"Resoud le sudoku correspondant à grille au départ.\n",
    "    \n",
    "    Genere PasDeSolution s'il le problème n'est pas soluble.\n",
    "    \"\"\"\n",
    "    if est_remplie(grille):\n",
    "        if est_valide(grille):\n",
    "            return grille\n",
    "        else:\n",
    "            raise PasDeSolution\n",
    "    else:\n",
    "        for voisine in genere_voisines(grille):\n",
    "            if est_valide(voisine):\n",
    "                try:\n",
    "                    solution = resoud_sudoku(voisine)\n",
    "                except PasDeSolution:\n",
    "                    pass\n",
    "                else:\n",
    "                    return solution\n",
    "        raise PasDeSolution       "
   ]
  },
  {
   "cell_type": "code",
   "execution_count": 55,
   "id": "8a7d31a8-596e-4747-b5d1-6b67f04edb35",
   "metadata": {},
   "outputs": [
    {
     "ename": "AssertionError",
     "evalue": "",
     "output_type": "error",
     "traceback": [
      "\u001b[1;31m---------------------------------------------------------------------------\u001b[0m",
      "\u001b[1;31mAssertionError\u001b[0m                            Traceback (most recent call last)",
      "Cell \u001b[1;32mIn[55], line 1\u001b[0m\n\u001b[1;32m----> 1\u001b[0m \u001b[38;5;28;01massert\u001b[39;00m resoud_sudoku(\n\u001b[0;32m      2\u001b[0m     grille\u001b[38;5;241m=\u001b[39mGrille(\n\u001b[0;32m      3\u001b[0m         cases\u001b[38;5;241m=\u001b[39m[\u001b[38;5;241m1\u001b[39m, \u001b[38;5;241m2\u001b[39m, \u001b[38;5;241m3\u001b[39m, \u001b[38;5;241m4\u001b[39m, \u001b[38;5;241m3\u001b[39m, \u001b[38;5;241m4\u001b[39m, \u001b[38;5;241m1\u001b[39m, \u001b[38;5;241m2\u001b[39m, \u001b[38;5;241m2\u001b[39m, \u001b[38;5;241m1\u001b[39m, \u001b[38;5;241m4\u001b[39m, \u001b[38;5;241m3\u001b[39m, \u001b[38;5;241m4\u001b[39m, \u001b[38;5;241m3\u001b[39m, \u001b[38;5;241m2\u001b[39m, \u001b[38;5;241m1\u001b[39m],\n\u001b[0;32m      4\u001b[0m     )\n\u001b[0;32m      5\u001b[0m ) \u001b[38;5;241m==\u001b[39m Grille(\n\u001b[0;32m      6\u001b[0m         cases\u001b[38;5;241m=\u001b[39m[\u001b[38;5;241m1\u001b[39m, \u001b[38;5;241m2\u001b[39m, \u001b[38;5;241m3\u001b[39m, \u001b[38;5;241m4\u001b[39m, \u001b[38;5;241m3\u001b[39m, \u001b[38;5;241m4\u001b[39m, \u001b[38;5;241m1\u001b[39m, \u001b[38;5;241m2\u001b[39m, \u001b[38;5;241m2\u001b[39m, \u001b[38;5;241m1\u001b[39m, \u001b[38;5;241m4\u001b[39m, \u001b[38;5;241m3\u001b[39m, \u001b[38;5;241m4\u001b[39m, \u001b[38;5;241m3\u001b[39m, \u001b[38;5;241m2\u001b[39m, \u001b[38;5;241m1\u001b[39m],\n\u001b[0;32m      7\u001b[0m     )\n",
      "\u001b[1;31mAssertionError\u001b[0m: "
     ]
    }
   ],
   "source": [
    "assert resoud_sudoku(\n",
    "    grille=Grille(\n",
    "        cases=[1, 2, 3, 4, 3, 4, 1, 2, 2, 1, 4, 3, 4, 3, 2, 1],\n",
    "    )\n",
    ") == Grille(\n",
    "        cases=[1, 2, 3, 4, 3, 4, 1, 2, 2, 1, 4, 3, 4, 3, 2, 1],\n",
    "    )"
   ]
  },
  {
   "cell_type": "code",
   "execution_count": 56,
   "id": "accc88ab-22bc-4c7e-a26d-21029caf6d5e",
   "metadata": {},
   "outputs": [
    {
     "ename": "AssertionError",
     "evalue": "",
     "output_type": "error",
     "traceback": [
      "\u001b[1;31m---------------------------------------------------------------------------\u001b[0m",
      "\u001b[1;31mAssertionError\u001b[0m                            Traceback (most recent call last)",
      "Cell \u001b[1;32mIn[56], line 1\u001b[0m\n\u001b[1;32m----> 1\u001b[0m \u001b[38;5;28;01massert\u001b[39;00m resoud_sudoku(\n\u001b[0;32m      2\u001b[0m     grille\u001b[38;5;241m=\u001b[39mGrille(\n\u001b[0;32m      3\u001b[0m         cases\u001b[38;5;241m=\u001b[39m[\u001b[38;5;241m0\u001b[39m, \u001b[38;5;241m2\u001b[39m, \u001b[38;5;241m3\u001b[39m, \u001b[38;5;241m4\u001b[39m, \u001b[38;5;241m3\u001b[39m, \u001b[38;5;241m0\u001b[39m, \u001b[38;5;241m1\u001b[39m, \u001b[38;5;241m2\u001b[39m, \u001b[38;5;241m2\u001b[39m, \u001b[38;5;241m1\u001b[39m, \u001b[38;5;241m4\u001b[39m, \u001b[38;5;241m3\u001b[39m, \u001b[38;5;241m4\u001b[39m, \u001b[38;5;241m3\u001b[39m, \u001b[38;5;241m2\u001b[39m, \u001b[38;5;241m1\u001b[39m],\n\u001b[0;32m      4\u001b[0m     )\n\u001b[0;32m      5\u001b[0m ) \u001b[38;5;241m==\u001b[39m Grille(\n\u001b[0;32m      6\u001b[0m         cases\u001b[38;5;241m=\u001b[39m[\u001b[38;5;241m1\u001b[39m, \u001b[38;5;241m2\u001b[39m, \u001b[38;5;241m3\u001b[39m, \u001b[38;5;241m4\u001b[39m, \u001b[38;5;241m3\u001b[39m, \u001b[38;5;241m4\u001b[39m, \u001b[38;5;241m1\u001b[39m, \u001b[38;5;241m2\u001b[39m, \u001b[38;5;241m2\u001b[39m, \u001b[38;5;241m1\u001b[39m, \u001b[38;5;241m4\u001b[39m, \u001b[38;5;241m3\u001b[39m, \u001b[38;5;241m4\u001b[39m, \u001b[38;5;241m3\u001b[39m, \u001b[38;5;241m2\u001b[39m, \u001b[38;5;241m1\u001b[39m],\n\u001b[0;32m      7\u001b[0m     )\n",
      "\u001b[1;31mAssertionError\u001b[0m: "
     ]
    }
   ],
   "source": [
    "assert resoud_sudoku(\n",
    "    grille=Grille(\n",
    "        cases=[0, 2, 3, 4, 3, 0, 1, 2, 2, 1, 4, 3, 4, 3, 2, 1],\n",
    "    )\n",
    ") == Grille(\n",
    "        cases=[1, 2, 3, 4, 3, 4, 1, 2, 2, 1, 4, 3, 4, 3, 2, 1],\n",
    "    )"
   ]
  },
  {
   "cell_type": "markdown",
   "id": "7bcf1b75-209b-4233-8531-d28f3d07d5eb",
   "metadata": {},
   "source": [
    "# Rajouter les topos sur\n",
    "\n",
    "1. Slicing\n",
    "2. Gestion d'erreur\n",
    "3. Récursion\n",
    "4. Méthodes de list\n",
    "5. Attention à la mutation\n",
    "6. Itérateurs/Générateurs"
   ]
  },
  {
   "cell_type": "code",
   "execution_count": 77,
   "id": "6d226ea5-0734-4e70-b410-bd9bb3ddbc7a",
   "metadata": {},
   "outputs": [
    {
     "name": "stdout",
     "output_type": "stream",
     "text": [
      "[1, 2, 3]\n",
      "[1, 2, 3]\n",
      "[100, 2, 3]\n",
      "[100, 2, 3]\n"
     ]
    }
   ],
   "source": [
    "x = [1, 2, 3]\n",
    "print(x)\n",
    "y = x\n",
    "print(y)\n",
    "y[0] = 100\n",
    "print(y)\n",
    "print(x)"
   ]
  },
  {
   "cell_type": "code",
   "execution_count": 78,
   "id": "71895483-168d-4432-8b84-f29a52094bef",
   "metadata": {},
   "outputs": [
    {
     "name": "stdout",
     "output_type": "stream",
     "text": [
      "100\n",
      "2\n",
      "3\n"
     ]
    }
   ],
   "source": [
    "for i in x:\n",
    "    print(i)"
   ]
  },
  {
   "cell_type": "code",
   "execution_count": 79,
   "id": "bf0eb3b8-3910-4d1d-9456-f5fd1e34ebe3",
   "metadata": {},
   "outputs": [
    {
     "name": "stdout",
     "output_type": "stream",
     "text": [
      "100\n",
      "2\n",
      "3\n"
     ]
    }
   ],
   "source": [
    "it = iter(x)\n",
    "while True:\n",
    "    try:\n",
    "        i = next(it)\n",
    "    except StopIteration:\n",
    "        break\n",
    "    else:\n",
    "        print(i)"
   ]
  },
  {
   "cell_type": "code",
   "execution_count": 80,
   "id": "ce1f9958-1f23-49bc-918d-d93ea4f590c8",
   "metadata": {},
   "outputs": [],
   "source": [
    "def fibonacci():\n",
    "    a, b = 0, 1\n",
    "    while True:\n",
    "        yield a\n",
    "        a, b = b, a + b"
   ]
  },
  {
   "cell_type": "code",
   "execution_count": 81,
   "id": "57057d1a-45d0-4911-930a-b43db5794678",
   "metadata": {},
   "outputs": [],
   "source": [
    "fib = fibonacci()"
   ]
  },
  {
   "cell_type": "code",
   "execution_count": 111,
   "id": "bf0ed019-bdf4-465a-9197-436109b467fd",
   "metadata": {},
   "outputs": [
    {
     "data": {
      "text/plain": [
       "514229"
      ]
     },
     "execution_count": 111,
     "metadata": {},
     "output_type": "execute_result"
    }
   ],
   "source": [
    "next(fib)"
   ]
  },
  {
   "cell_type": "code",
   "execution_count": null,
   "id": "db540cb9-7f09-4316-a26a-2d886e180c51",
   "metadata": {},
   "outputs": [],
   "source": []
  }
 ],
 "metadata": {
  "kernelspec": {
   "display_name": "Python 3 (ipykernel)",
   "language": "python",
   "name": "python3"
  },
  "language_info": {
   "codemirror_mode": {
    "name": "ipython",
    "version": 3
   },
   "file_extension": ".py",
   "mimetype": "text/x-python",
   "name": "python",
   "nbconvert_exporter": "python",
   "pygments_lexer": "ipython3",
   "version": "3.10.8"
  }
 },
 "nbformat": 4,
 "nbformat_minor": 5
}
