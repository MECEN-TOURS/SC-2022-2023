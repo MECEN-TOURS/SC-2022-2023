{
 "cells": [
  {
   "cell_type": "markdown",
   "id": "46f13ee1-414d-4e0f-97d6-65068ee8d0ee",
   "metadata": {},
   "source": [
    "# Destructuration"
   ]
  },
  {
   "cell_type": "code",
   "execution_count": 2,
   "id": "6a101c6d-21c1-4e90-bae2-6b1fbdee2d8e",
   "metadata": {},
   "outputs": [
    {
     "data": {
      "text/plain": [
       "(1, 2)"
      ]
     },
     "execution_count": 2,
     "metadata": {},
     "output_type": "execute_result"
    }
   ],
   "source": [
    "x = (1, 2)\n",
    "x"
   ]
  },
  {
   "cell_type": "code",
   "execution_count": 3,
   "id": "2cd193db-4116-4f83-97cb-84ae0660ca10",
   "metadata": {},
   "outputs": [
    {
     "name": "stdout",
     "output_type": "stream",
     "text": [
      "1\n",
      "2\n"
     ]
    }
   ],
   "source": [
    "a, b = x\n",
    "print(a)\n",
    "print(b)"
   ]
  },
  {
   "cell_type": "code",
   "execution_count": 4,
   "id": "abd883c0-914f-488d-8e53-38756079d4a5",
   "metadata": {},
   "outputs": [
    {
     "data": {
      "text/plain": [
       "[1, 2]"
      ]
     },
     "execution_count": 4,
     "metadata": {},
     "output_type": "execute_result"
    }
   ],
   "source": [
    "x = [1, 2]\n",
    "x"
   ]
  },
  {
   "cell_type": "code",
   "execution_count": 5,
   "id": "b3f34820-7a8b-4b6d-9b9a-5571a2fa6f6f",
   "metadata": {},
   "outputs": [
    {
     "name": "stdout",
     "output_type": "stream",
     "text": [
      "1\n",
      "2\n"
     ]
    }
   ],
   "source": [
    "a, b = x\n",
    "print(a)\n",
    "print(b)"
   ]
  },
  {
   "cell_type": "markdown",
   "id": "e2bc6af2-b013-4429-9bd7-5a017c7f8304",
   "metadata": {},
   "source": [
    "**REMARQUE** pour récupérer le premier/dernier élément d'un conteneur dont on ne connait pas la taille"
   ]
  },
  {
   "cell_type": "code",
   "execution_count": 6,
   "id": "975c215d-3ce5-4f00-9c75-651aa41f2bed",
   "metadata": {},
   "outputs": [],
   "source": [
    "from random import randint"
   ]
  },
  {
   "cell_type": "code",
   "execution_count": 32,
   "id": "04ab5c9e-4e29-4fc7-8a04-46b7828e7c8b",
   "metadata": {},
   "outputs": [
    {
     "name": "stdout",
     "output_type": "stream",
     "text": [
      "[9, 7, 6, 8, 18, 20, 13, 10, 15, 16, 17, 14, 20, 12]\n"
     ]
    },
    {
     "ename": "ValueError",
     "evalue": "too many values to unpack (expected 2)",
     "output_type": "error",
     "traceback": [
      "\u001b[1;31m---------------------------------------------------------------------------\u001b[0m",
      "\u001b[1;31mValueError\u001b[0m                                Traceback (most recent call last)",
      "Cell \u001b[1;32mIn[32], line 3\u001b[0m\n\u001b[0;32m      1\u001b[0m conteneur \u001b[38;5;241m=\u001b[39m [randint(\u001b[38;5;241m0\u001b[39m, \u001b[38;5;241m20\u001b[39m) \u001b[38;5;28;01mfor\u001b[39;00m _ \u001b[38;5;129;01min\u001b[39;00m \u001b[38;5;28mrange\u001b[39m(randint(\u001b[38;5;241m10\u001b[39m, \u001b[38;5;241m20\u001b[39m))]\n\u001b[0;32m      2\u001b[0m \u001b[38;5;28mprint\u001b[39m(conteneur)\n\u001b[1;32m----> 3\u001b[0m premier, reste \u001b[38;5;241m=\u001b[39m conteneur\n\u001b[0;32m      4\u001b[0m \u001b[38;5;28mprint\u001b[39m(premier)\n",
      "\u001b[1;31mValueError\u001b[0m: too many values to unpack (expected 2)"
     ]
    }
   ],
   "source": [
    "conteneur = [randint(0, 20) for _ in range(randint(10, 20))]\n",
    "print(conteneur)\n",
    "premier, reste = conteneur\n",
    "print(premier)"
   ]
  },
  {
   "cell_type": "code",
   "execution_count": 57,
   "id": "44825d3e-5cde-4b49-8c84-95ac4d92afd7",
   "metadata": {},
   "outputs": [
    {
     "name": "stdout",
     "output_type": "stream",
     "text": [
      "[3, 16, 19, 3, 16, 11, 2, 13, 4, 12, 8, 13, 17, 8]\n",
      "3\n",
      "[16, 19, 3, 16, 11, 2, 13, 4, 12, 8, 13, 17, 8]\n"
     ]
    }
   ],
   "source": [
    "conteneur = [randint(0, 20) for _ in range(randint(10, 20))]\n",
    "print(conteneur)\n",
    "premier, *reste = conteneur\n",
    "print(premier)\n",
    "print(reste)"
   ]
  },
  {
   "cell_type": "code",
   "execution_count": 59,
   "id": "459917bd-0851-417e-8eb3-ab0e44bba803",
   "metadata": {},
   "outputs": [
    {
     "name": "stdout",
     "output_type": "stream",
     "text": [
      "[2, 20, 1, 18, 11, 4, 4, 2, 9, 18, 0, 20, 8, 11, 16, 7]\n",
      "2\n",
      "20\n",
      "[1, 18, 11, 4, 4, 2, 9, 18, 0, 20, 8, 11, 16]\n",
      "7\n"
     ]
    }
   ],
   "source": [
    "conteneur = [randint(0, 20) for _ in range(randint(10, 20))]\n",
    "print(conteneur)\n",
    "premier, second,*milieu, dernier = conteneur\n",
    "print(premier)\n",
    "print(second)\n",
    "print(milieu)\n",
    "print(dernier)"
   ]
  },
  {
   "cell_type": "code",
   "execution_count": 60,
   "id": "664cbd2b-d203-4dd9-85fc-3263b4623509",
   "metadata": {},
   "outputs": [
    {
     "name": "stdout",
     "output_type": "stream",
     "text": [
      "1\n",
      "2\n",
      "[]\n",
      "3\n"
     ]
    }
   ],
   "source": [
    "premier, second,*milieu, dernier = [1, 2, 3]\n",
    "print(premier)\n",
    "print(second)\n",
    "print(milieu)\n",
    "print(dernier)"
   ]
  },
  {
   "cell_type": "markdown",
   "id": "1f2193fa-ded2-4f1e-a080-57841ceebcca",
   "metadata": {},
   "source": [
    "**REMARQUE** l'opérateur `*` permet aussi de faire *sauter* un conteneur."
   ]
  },
  {
   "cell_type": "code",
   "execution_count": 62,
   "id": "cd85a79d-a2b3-474b-ba99-24c9b433e9b1",
   "metadata": {},
   "outputs": [
    {
     "name": "stdout",
     "output_type": "stream",
     "text": [
      "[1, 2, 3]\n",
      "1 2 3\n"
     ]
    }
   ],
   "source": [
    "conteneur = [1, 2, 3]\n",
    "print(conteneur) # print([1, 2, 3])\n",
    "print(*conteneur) # print(1, 2, 3)"
   ]
  },
  {
   "cell_type": "markdown",
   "id": "ecabaeaf-9d78-4845-9702-47312950db32",
   "metadata": {},
   "source": [
    "**REMARQUE** fonctions variadiques, le nombre d'arguments peut changer."
   ]
  },
  {
   "cell_type": "code",
   "execution_count": 63,
   "id": "807efa14-e522-4bf1-8bc9-56c0770eb929",
   "metadata": {},
   "outputs": [
    {
     "name": "stdout",
     "output_type": "stream",
     "text": [
      "1 2\n"
     ]
    }
   ],
   "source": [
    "print(1, 2)"
   ]
  },
  {
   "cell_type": "code",
   "execution_count": 64,
   "id": "995e9aa0-479c-4b5f-9702-abb6b2f3d5d3",
   "metadata": {},
   "outputs": [
    {
     "name": "stdout",
     "output_type": "stream",
     "text": [
      "1 2 3\n"
     ]
    }
   ],
   "source": [
    "print(1, 2, 3)"
   ]
  },
  {
   "cell_type": "code",
   "execution_count": 65,
   "id": "ded7771a-07a3-4722-a932-34e947cb9cf6",
   "metadata": {},
   "outputs": [],
   "source": [
    "def ma_fonction_variadique(*args):\n",
    "    for arg in args:\n",
    "        print(arg)"
   ]
  },
  {
   "cell_type": "code",
   "execution_count": 66,
   "id": "691d8505-622f-4256-9104-226b153b6b97",
   "metadata": {},
   "outputs": [
    {
     "name": "stdout",
     "output_type": "stream",
     "text": [
      "1\n",
      "2\n"
     ]
    }
   ],
   "source": [
    "ma_fonction_variadique(1, 2)"
   ]
  },
  {
   "cell_type": "code",
   "execution_count": 67,
   "id": "982768ae-360a-4418-b8b8-c66986c0048c",
   "metadata": {},
   "outputs": [
    {
     "name": "stdout",
     "output_type": "stream",
     "text": [
      "1\n",
      "2\n",
      "3\n",
      "4\n"
     ]
    }
   ],
   "source": [
    "ma_fonction_variadique(1, 2, 3, 4)"
   ]
  },
  {
   "cell_type": "markdown",
   "id": "596b9025-bf65-4401-be19-f4c2b3f7d486",
   "metadata": {},
   "source": [
    "**ATTENTION** quant on utilise des *keywords arguments*"
   ]
  },
  {
   "cell_type": "code",
   "execution_count": 69,
   "id": "55cab929-397f-4c10-b24a-f0277221a094",
   "metadata": {},
   "outputs": [],
   "source": [
    "def soustrait(gauche: int, droite: int) -> int:\n",
    "    return gauche - droite"
   ]
  },
  {
   "cell_type": "code",
   "execution_count": 71,
   "id": "efc89552-a167-46c3-9f98-f0b29d5198bb",
   "metadata": {},
   "outputs": [
    {
     "data": {
      "text/plain": [
       "1"
      ]
     },
     "execution_count": 71,
     "metadata": {},
     "output_type": "execute_result"
    }
   ],
   "source": [
    "soustrait(3, 2)"
   ]
  },
  {
   "cell_type": "code",
   "execution_count": 73,
   "id": "82bf5f4b-638b-4a13-b711-e37058e1eb35",
   "metadata": {},
   "outputs": [
    {
     "data": {
      "text/plain": [
       "1"
      ]
     },
     "execution_count": 73,
     "metadata": {},
     "output_type": "execute_result"
    }
   ],
   "source": [
    "soustrait(droite=2, gauche=3)"
   ]
  },
  {
   "cell_type": "code",
   "execution_count": 74,
   "id": "4bf67e9b-8347-414e-9ce1-26506e9ddb62",
   "metadata": {},
   "outputs": [
    {
     "ename": "TypeError",
     "evalue": "ma_fonction_variadique() got an unexpected keyword argument 'a'",
     "output_type": "error",
     "traceback": [
      "\u001b[1;31m---------------------------------------------------------------------------\u001b[0m",
      "\u001b[1;31mTypeError\u001b[0m                                 Traceback (most recent call last)",
      "Cell \u001b[1;32mIn[74], line 1\u001b[0m\n\u001b[1;32m----> 1\u001b[0m \u001b[43mma_fonction_variadique\u001b[49m\u001b[43m(\u001b[49m\u001b[38;5;241;43m1\u001b[39;49m\u001b[43m,\u001b[49m\u001b[43m \u001b[49m\u001b[38;5;241;43m2\u001b[39;49m\u001b[43m,\u001b[49m\u001b[43m \u001b[49m\u001b[43ma\u001b[49m\u001b[38;5;241;43m=\u001b[39;49m\u001b[38;5;241;43m2\u001b[39;49m\u001b[43m)\u001b[49m\n",
      "\u001b[1;31mTypeError\u001b[0m: ma_fonction_variadique() got an unexpected keyword argument 'a'"
     ]
    }
   ],
   "source": [
    "ma_fonction_variadique(1, 2, a=2)"
   ]
  },
  {
   "cell_type": "code",
   "execution_count": 79,
   "id": "e7df55c2-ca29-4b8c-a2e1-8bf130f97886",
   "metadata": {},
   "outputs": [],
   "source": [
    "def nouvelle_variadique(*args, **kwargs):\n",
    "    print(f\"arguments positionnels : {args=}\")\n",
    "    print(f\"arguments nommés: {kwargs=}\")"
   ]
  },
  {
   "cell_type": "code",
   "execution_count": 80,
   "id": "7cf35a2a-f7e1-46a8-a4e5-f6e4c3fe48b0",
   "metadata": {},
   "outputs": [
    {
     "name": "stdout",
     "output_type": "stream",
     "text": [
      "arguments positionnels : args=(1, 2, 3)\n",
      "arguments nommés: kwargs={'a': 1}\n"
     ]
    }
   ],
   "source": [
    "nouvelle_variadique(1, 2, 3, a=1)"
   ]
  },
  {
   "cell_type": "code",
   "execution_count": 81,
   "id": "de698c62-c5e9-4aa6-add6-cccdeb5cfae1",
   "metadata": {},
   "outputs": [
    {
     "ename": "SyntaxError",
     "evalue": "positional argument follows keyword argument (1298886764.py, line 1)",
     "output_type": "error",
     "traceback": [
      "\u001b[1;36m  Cell \u001b[1;32mIn[81], line 1\u001b[1;36m\u001b[0m\n\u001b[1;33m    nouvelle_variadique(1, 2, a=3, 4)\u001b[0m\n\u001b[1;37m                                    ^\u001b[0m\n\u001b[1;31mSyntaxError\u001b[0m\u001b[1;31m:\u001b[0m positional argument follows keyword argument\n"
     ]
    }
   ],
   "source": [
    "nouvelle_variadique(1, 2, a=3, 4)"
   ]
  },
  {
   "cell_type": "markdown",
   "id": "4bfdccd7-6c77-463c-8b98-3821e33adac8",
   "metadata": {},
   "source": [
    "# Décorateurs"
   ]
  },
  {
   "cell_type": "markdown",
   "id": "5bbfa643-8eb8-46f1-8f25-cfa121c534a1",
   "metadata": {},
   "source": [
    "tels que `@dataclass`, `@pytest.fixture`"
   ]
  },
  {
   "cell_type": "code",
   "execution_count": 90,
   "id": "10fc6641-85e2-431d-8a29-b061ceaa4a3a",
   "metadata": {},
   "outputs": [],
   "source": [
    "from time import sleep, time"
   ]
  },
  {
   "cell_type": "code",
   "execution_count": 87,
   "id": "685275cc-85c9-46fd-831a-7da5f646caca",
   "metadata": {},
   "outputs": [],
   "source": [
    "def lente():\n",
    "    sommeil = randint(1, 10)\n",
    "    print(f\"début de sieste pour {sommeil} secondes\")\n",
    "    sleep(sommeil)\n",
    "    print(\"fin de sieste\")"
   ]
  },
  {
   "cell_type": "code",
   "execution_count": 88,
   "id": "f9619088-2859-4137-a408-78a6787d1606",
   "metadata": {},
   "outputs": [
    {
     "name": "stdout",
     "output_type": "stream",
     "text": [
      "début de sieste pour 2 secondes\n",
      "fin de sieste\n"
     ]
    }
   ],
   "source": [
    "lente()"
   ]
  },
  {
   "cell_type": "code",
   "execution_count": 89,
   "id": "cec59c91-d289-47ec-b0e9-567c05614418",
   "metadata": {},
   "outputs": [
    {
     "name": "stdout",
     "output_type": "stream",
     "text": [
      "début de sieste pour 4 secondes\n",
      "fin de sieste\n"
     ]
    }
   ],
   "source": [
    "lente()"
   ]
  },
  {
   "cell_type": "code",
   "execution_count": 101,
   "id": "d5157701-7780-45c6-b2f2-ed7a1a2d622d",
   "metadata": {},
   "outputs": [],
   "source": [
    "from typing import Callable"
   ]
  },
  {
   "cell_type": "code",
   "execution_count": 102,
   "id": "218efbe0-e1d9-4b79-9567-e4beaf41c991",
   "metadata": {},
   "outputs": [],
   "source": [
    "def mesure_duree(fonction_a_decorer: Callable) -> Callable:\n",
    "    def nouvelle(*args, **kwargs):\n",
    "        debut = time()\n",
    "        fonction_a_decorer(*args, **kwargs)\n",
    "        fin = time()\n",
    "        print(f\"durée d'exécution: {fin - debut}\")\n",
    "    return nouvelle"
   ]
  },
  {
   "cell_type": "code",
   "execution_count": 95,
   "id": "49cfac80-c0d9-4579-a5de-f96a6fdd5e5f",
   "metadata": {},
   "outputs": [],
   "source": [
    "@mesure_duree\n",
    "def lente_bis():\n",
    "    sommeil = randint(1, 10)\n",
    "    print(f\"début de sieste pour {sommeil} secondes\")\n",
    "    sleep(sommeil)\n",
    "    print(\"fin de sieste\")\n",
    "    \n"
   ]
  },
  {
   "cell_type": "code",
   "execution_count": 96,
   "id": "3851dbf8-bf57-41e2-bb3b-009aeda2d73d",
   "metadata": {},
   "outputs": [
    {
     "name": "stdout",
     "output_type": "stream",
     "text": [
      "début de sieste pour 10 secondes\n",
      "fin de sieste\n",
      "durée d'exécution: 10.003820896148682\n"
     ]
    }
   ],
   "source": [
    "lente_bis()"
   ]
  },
  {
   "cell_type": "code",
   "execution_count": 97,
   "id": "3d195934-185f-40b5-9160-f304a591ebec",
   "metadata": {},
   "outputs": [
    {
     "name": "stdout",
     "output_type": "stream",
     "text": [
      "début de sieste pour 9 secondes\n",
      "fin de sieste\n",
      "durée d'exécution: 9.006383419036865\n"
     ]
    }
   ],
   "source": [
    "lente_bis()"
   ]
  },
  {
   "cell_type": "code",
   "execution_count": 98,
   "id": "78787e4c-8bc0-406b-ac3a-6d4e5bfd5415",
   "metadata": {},
   "outputs": [
    {
     "name": "stdout",
     "output_type": "stream",
     "text": [
      "début de sieste pour 2 secondes\n",
      "fin de sieste\n",
      "durée d'exécution: 2.009446144104004\n"
     ]
    }
   ],
   "source": [
    "lente_bis()"
   ]
  },
  {
   "cell_type": "code",
   "execution_count": 99,
   "id": "7f94d933-7af2-49ed-b2ed-c9b1266e7f46",
   "metadata": {},
   "outputs": [],
   "source": [
    "# @ est juste une syntaxe signifiant:\n",
    "def lente_tierce():\n",
    "    sommeil = randint(1, 10)\n",
    "    print(f\"début de sieste pour {sommeil} secondes\")\n",
    "    sleep(sommeil)\n",
    "    print(\"fin de sieste\")\n",
    "    \n",
    "lente_tierce = mesure_duree(lente_tierce)"
   ]
  },
  {
   "cell_type": "code",
   "execution_count": 100,
   "id": "5b0bc6ae-7138-419d-bf98-346f80fe11ac",
   "metadata": {},
   "outputs": [
    {
     "name": "stdout",
     "output_type": "stream",
     "text": [
      "début de sieste pour 4 secondes\n",
      "fin de sieste\n",
      "durée d'exécution: 4.010831832885742\n"
     ]
    }
   ],
   "source": [
    "lente_tierce()"
   ]
  },
  {
   "cell_type": "code",
   "execution_count": 103,
   "id": "8d603509-f1e8-48c0-9acd-77e9f2ba2c63",
   "metadata": {},
   "outputs": [],
   "source": [
    "from functools import lru_cache"
   ]
  },
  {
   "cell_type": "code",
   "execution_count": 104,
   "id": "a3b7e288-4ba9-4f22-b5ec-38f2261dcd80",
   "metadata": {},
   "outputs": [],
   "source": [
    "def fibo(n):\n",
    "    if n < 2:\n",
    "        return n\n",
    "    else:\n",
    "        return fibo(n-1) + fibo(n-2)"
   ]
  },
  {
   "cell_type": "code",
   "execution_count": 105,
   "id": "8d314126-43d7-4659-9a6d-d6d666f9a4d2",
   "metadata": {},
   "outputs": [
    {
     "name": "stdout",
     "output_type": "stream",
     "text": [
      "CPU times: total: 4.23 s\n",
      "Wall time: 4.24 s\n"
     ]
    },
    {
     "data": {
      "text/plain": [
       "9227465"
      ]
     },
     "execution_count": 105,
     "metadata": {},
     "output_type": "execute_result"
    }
   ],
   "source": [
    "%%time\n",
    "\n",
    "fibo(35)"
   ]
  },
  {
   "cell_type": "code",
   "execution_count": 108,
   "id": "103c7e28-a3d7-4aa1-9f82-502dddaaa005",
   "metadata": {},
   "outputs": [],
   "source": [
    "@lru_cache\n",
    "def fibo_bis(n):\n",
    "    if n < 2:\n",
    "        return n\n",
    "    else:\n",
    "        return fibo_bis(n-1) + fibo_bis(n-2)"
   ]
  },
  {
   "cell_type": "code",
   "execution_count": 109,
   "id": "07579121-ef86-4d2f-81d2-356c0a04637c",
   "metadata": {},
   "outputs": [
    {
     "name": "stdout",
     "output_type": "stream",
     "text": [
      "CPU times: total: 0 ns\n",
      "Wall time: 0 ns\n"
     ]
    },
    {
     "data": {
      "text/plain": [
       "9227465"
      ]
     },
     "execution_count": 109,
     "metadata": {},
     "output_type": "execute_result"
    }
   ],
   "source": [
    "%%time\n",
    "\n",
    "fibo_bis(35)"
   ]
  },
  {
   "cell_type": "markdown",
   "id": "84508dde-3cb0-4f0a-a16d-c5695c7f654f",
   "metadata": {
    "tags": []
   },
   "source": [
    "# Objets et méta programmation"
   ]
  },
  {
   "cell_type": "markdown",
   "id": "eb67b3a6-959e-4bb8-a5ac-ed1eb9f262a5",
   "metadata": {},
   "source": [
    "**A SUIVRE**"
   ]
  }
 ],
 "metadata": {
  "kernelspec": {
   "display_name": "Python 3 (ipykernel)",
   "language": "python",
   "name": "python3"
  },
  "language_info": {
   "codemirror_mode": {
    "name": "ipython",
    "version": 3
   },
   "file_extension": ".py",
   "mimetype": "text/x-python",
   "name": "python",
   "nbconvert_exporter": "python",
   "pygments_lexer": "ipython3",
   "version": "3.10.8"
  }
 },
 "nbformat": 4,
 "nbformat_minor": 5
}
