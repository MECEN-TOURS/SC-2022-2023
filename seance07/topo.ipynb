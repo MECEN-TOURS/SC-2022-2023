{
 "cells": [
  {
   "cell_type": "markdown",
   "id": "8d8fc5a8-1b15-458c-9958-2f87f04f4018",
   "metadata": {},
   "source": [
    "# Programmation objet"
   ]
  },
  {
   "cell_type": "markdown",
   "id": "b8a32031-e31c-4c6b-87c6-d2cc0025b2d2",
   "metadata": {},
   "source": [
    "## Syntaxe minimale"
   ]
  },
  {
   "cell_type": "code",
   "execution_count": 1,
   "id": "9187b3bc-c5da-4b5f-b593-d93c4abdb6be",
   "metadata": {},
   "outputs": [],
   "source": [
    "class MaClasse:\n",
    "    ..."
   ]
  },
  {
   "cell_type": "code",
   "execution_count": 2,
   "id": "85fb4818-543b-4272-bc75-11b8953d4c8f",
   "metadata": {},
   "outputs": [],
   "source": [
    "mon_objet = MaClasse()"
   ]
  },
  {
   "cell_type": "code",
   "execution_count": 3,
   "id": "416c03f2-eceb-4cb2-9a9b-22cfc9b20676",
   "metadata": {},
   "outputs": [
    {
     "data": {
      "text/plain": [
       "['__class__',\n",
       " '__delattr__',\n",
       " '__dict__',\n",
       " '__dir__',\n",
       " '__doc__',\n",
       " '__eq__',\n",
       " '__format__',\n",
       " '__ge__',\n",
       " '__getattribute__',\n",
       " '__gt__',\n",
       " '__hash__',\n",
       " '__init__',\n",
       " '__init_subclass__',\n",
       " '__le__',\n",
       " '__lt__',\n",
       " '__module__',\n",
       " '__ne__',\n",
       " '__new__',\n",
       " '__reduce__',\n",
       " '__reduce_ex__',\n",
       " '__repr__',\n",
       " '__setattr__',\n",
       " '__sizeof__',\n",
       " '__str__',\n",
       " '__subclasshook__',\n",
       " '__weakref__']"
      ]
     },
     "execution_count": 3,
     "metadata": {},
     "output_type": "execute_result"
    }
   ],
   "source": [
    "dir(mon_objet)"
   ]
  },
  {
   "cell_type": "code",
   "execution_count": 4,
   "id": "04b41bc9-eaaf-4852-8a81-1f205b0dd2d2",
   "metadata": {},
   "outputs": [
    {
     "data": {
      "text/plain": [
       "__main__.MaClasse"
      ]
     },
     "execution_count": 4,
     "metadata": {},
     "output_type": "execute_result"
    }
   ],
   "source": [
    "type(mon_objet)"
   ]
  },
  {
   "cell_type": "code",
   "execution_count": 5,
   "id": "ae73299a-a93f-49d9-bbab-e93d71d1aca8",
   "metadata": {},
   "outputs": [],
   "source": [
    "deuxieme_objet = MaClasse()"
   ]
  },
  {
   "cell_type": "code",
   "execution_count": 6,
   "id": "2b0feb19-1c43-4031-9317-c72d4909fb0b",
   "metadata": {},
   "outputs": [
    {
     "data": {
      "text/plain": [
       "True"
      ]
     },
     "execution_count": 6,
     "metadata": {},
     "output_type": "execute_result"
    }
   ],
   "source": [
    "isinstance(deuxieme_objet, MaClasse)"
   ]
  },
  {
   "cell_type": "code",
   "execution_count": 7,
   "id": "ed780669-4a9a-4152-b102-37fe56a2a24d",
   "metadata": {},
   "outputs": [],
   "source": [
    "mon_objet.x = 1"
   ]
  },
  {
   "cell_type": "code",
   "execution_count": 8,
   "id": "6fea0a2d-3962-4b33-8eff-eac7ac68a7e5",
   "metadata": {},
   "outputs": [
    {
     "data": {
      "text/plain": [
       "['__class__',\n",
       " '__delattr__',\n",
       " '__dict__',\n",
       " '__dir__',\n",
       " '__doc__',\n",
       " '__eq__',\n",
       " '__format__',\n",
       " '__ge__',\n",
       " '__getattribute__',\n",
       " '__gt__',\n",
       " '__hash__',\n",
       " '__init__',\n",
       " '__init_subclass__',\n",
       " '__le__',\n",
       " '__lt__',\n",
       " '__module__',\n",
       " '__ne__',\n",
       " '__new__',\n",
       " '__reduce__',\n",
       " '__reduce_ex__',\n",
       " '__repr__',\n",
       " '__setattr__',\n",
       " '__sizeof__',\n",
       " '__str__',\n",
       " '__subclasshook__',\n",
       " '__weakref__',\n",
       " 'x']"
      ]
     },
     "execution_count": 8,
     "metadata": {},
     "output_type": "execute_result"
    }
   ],
   "source": [
    "dir(mon_objet)"
   ]
  },
  {
   "cell_type": "markdown",
   "id": "4ace2ff7-5736-4ffa-b052-8563c05e3093",
   "metadata": {},
   "source": [
    "## Méthode __init__ : pour l'initialisation des objets"
   ]
  },
  {
   "cell_type": "code",
   "execution_count": 9,
   "id": "c22c9144-22e2-4c7c-8168-f7ba873c24b0",
   "metadata": {},
   "outputs": [],
   "source": [
    "class Rectangle:\n",
    "    ..."
   ]
  },
  {
   "cell_type": "code",
   "execution_count": 10,
   "id": "a0ac363b-ddb2-4989-8bed-76d3a5185af2",
   "metadata": {},
   "outputs": [],
   "source": [
    "rc = Rectangle()"
   ]
  },
  {
   "cell_type": "code",
   "execution_count": 11,
   "id": "7f6cfa52-0a5f-446d-838f-2d159e06eb3e",
   "metadata": {},
   "outputs": [
    {
     "data": {
      "text/plain": [
       "__main__.Rectangle"
      ]
     },
     "execution_count": 11,
     "metadata": {},
     "output_type": "execute_result"
    }
   ],
   "source": [
    "type(rc)"
   ]
  },
  {
   "cell_type": "code",
   "execution_count": 12,
   "id": "d4ba9cf6-b28e-47ae-8b86-b26a12b6285b",
   "metadata": {},
   "outputs": [],
   "source": [
    "rc.longueur = 5\n",
    "rc.largeur = 3"
   ]
  },
  {
   "cell_type": "code",
   "execution_count": 13,
   "id": "371516da-1b68-4856-a8f7-7e262b6f41ec",
   "metadata": {},
   "outputs": [
    {
     "name": "stdout",
     "output_type": "stream",
     "text": [
      "<__main__.Rectangle object at 0x0000018B135302E0>\n"
     ]
    }
   ],
   "source": [
    "print(rc)"
   ]
  },
  {
   "cell_type": "code",
   "execution_count": 14,
   "id": "254dd70a-a121-4dcb-a5f3-c8bdcc955835",
   "metadata": {},
   "outputs": [],
   "source": [
    "class Rectangle:\n",
    "    def __init__(self, largeur: int|float, longueur: int|float):\n",
    "        self.longueur = float(longueur)\n",
    "        self.largeur = float(largeur)"
   ]
  },
  {
   "cell_type": "code",
   "execution_count": 15,
   "id": "f847737a-c9a3-410d-9a7c-88cd24699889",
   "metadata": {},
   "outputs": [
    {
     "ename": "TypeError",
     "evalue": "Rectangle.__init__() missing 2 required positional arguments: 'largeur' and 'longueur'",
     "output_type": "error",
     "traceback": [
      "\u001b[1;31m---------------------------------------------------------------------------\u001b[0m",
      "\u001b[1;31mTypeError\u001b[0m                                 Traceback (most recent call last)",
      "Cell \u001b[1;32mIn[15], line 1\u001b[0m\n\u001b[1;32m----> 1\u001b[0m \u001b[43mRectangle\u001b[49m\u001b[43m(\u001b[49m\u001b[43m)\u001b[49m\n",
      "\u001b[1;31mTypeError\u001b[0m: Rectangle.__init__() missing 2 required positional arguments: 'largeur' and 'longueur'"
     ]
    }
   ],
   "source": [
    "Rectangle()"
   ]
  },
  {
   "cell_type": "code",
   "execution_count": 16,
   "id": "6d47b816-4fa4-4d3a-87e5-b9f3f64934bb",
   "metadata": {},
   "outputs": [],
   "source": [
    "rct = Rectangle(longueur=5, largeur=3)"
   ]
  },
  {
   "cell_type": "code",
   "execution_count": 17,
   "id": "c71a89b3-1f30-4353-aaca-0f92a1a109e8",
   "metadata": {},
   "outputs": [
    {
     "data": {
      "text/plain": [
       "<__main__.Rectangle at 0x18b13abd570>"
      ]
     },
     "execution_count": 17,
     "metadata": {},
     "output_type": "execute_result"
    }
   ],
   "source": [
    "Rectangle(longueur=-1, largeur=2)"
   ]
  },
  {
   "cell_type": "code",
   "execution_count": 21,
   "id": "e47304bb-134d-4892-aa06-2e42856f432c",
   "metadata": {},
   "outputs": [],
   "source": [
    "class Rectangle:\n",
    "    \"\"\"Représente un rectangle.\n",
    "    \n",
    "    longueur et largeur doivent être positives\n",
    "    \"\"\"\n",
    "    def __init__(self, largeur: int|float, longueur: int|float):\n",
    "        if largeur < 0:\n",
    "            raise ValueError(\"La largeur doit être positive!\")\n",
    "        if longueur < 0:\n",
    "            raise ValueError(\"La Longueur doit être positive!\")\n",
    "        self.longueur = float(longueur)\n",
    "        self.largeur = float(largeur)"
   ]
  },
  {
   "cell_type": "code",
   "execution_count": 22,
   "id": "0c9ee513-d20d-47b2-ba5d-ffbdd435ff49",
   "metadata": {},
   "outputs": [
    {
     "ename": "ValueError",
     "evalue": "La Longueur doit être positive!",
     "output_type": "error",
     "traceback": [
      "\u001b[1;31m---------------------------------------------------------------------------\u001b[0m",
      "\u001b[1;31mValueError\u001b[0m                                Traceback (most recent call last)",
      "Cell \u001b[1;32mIn[22], line 1\u001b[0m\n\u001b[1;32m----> 1\u001b[0m \u001b[43mRectangle\u001b[49m\u001b[43m(\u001b[49m\u001b[43mlongueur\u001b[49m\u001b[38;5;241;43m=\u001b[39;49m\u001b[38;5;241;43m-\u001b[39;49m\u001b[38;5;241;43m1\u001b[39;49m\u001b[43m,\u001b[49m\u001b[43m \u001b[49m\u001b[43mlargeur\u001b[49m\u001b[38;5;241;43m=\u001b[39;49m\u001b[38;5;241;43m2\u001b[39;49m\u001b[43m)\u001b[49m\n",
      "Cell \u001b[1;32mIn[21], line 10\u001b[0m, in \u001b[0;36mRectangle.__init__\u001b[1;34m(self, largeur, longueur)\u001b[0m\n\u001b[0;32m      8\u001b[0m     \u001b[38;5;28;01mraise\u001b[39;00m \u001b[38;5;167;01mValueError\u001b[39;00m(\u001b[38;5;124m\"\u001b[39m\u001b[38;5;124mLa largeur doit être positive!\u001b[39m\u001b[38;5;124m\"\u001b[39m)\n\u001b[0;32m      9\u001b[0m \u001b[38;5;28;01mif\u001b[39;00m longueur \u001b[38;5;241m<\u001b[39m \u001b[38;5;241m0\u001b[39m:\n\u001b[1;32m---> 10\u001b[0m     \u001b[38;5;28;01mraise\u001b[39;00m \u001b[38;5;167;01mValueError\u001b[39;00m(\u001b[38;5;124m\"\u001b[39m\u001b[38;5;124mLa Longueur doit être positive!\u001b[39m\u001b[38;5;124m\"\u001b[39m)\n\u001b[0;32m     11\u001b[0m \u001b[38;5;28mself\u001b[39m\u001b[38;5;241m.\u001b[39mlongueur \u001b[38;5;241m=\u001b[39m \u001b[38;5;28mfloat\u001b[39m(longueur)\n\u001b[0;32m     12\u001b[0m \u001b[38;5;28mself\u001b[39m\u001b[38;5;241m.\u001b[39mlargeur \u001b[38;5;241m=\u001b[39m \u001b[38;5;28mfloat\u001b[39m(largeur)\n",
      "\u001b[1;31mValueError\u001b[0m: La Longueur doit être positive!"
     ]
    }
   ],
   "source": [
    "Rectangle(longueur=-1, largeur=2)"
   ]
  },
  {
   "cell_type": "markdown",
   "id": "fb2672bd-6e5f-47d4-95e6-64ff6435981b",
   "metadata": {},
   "source": [
    "**ATTENTION**:\n",
    "- La docstring montrée est celle de la classe\n",
    "- La signature montrée est celle de la méthode `__init__`"
   ]
  },
  {
   "cell_type": "markdown",
   "id": "a5b2593d-57a5-4591-a6e8-12f918025cb4",
   "metadata": {},
   "source": [
    "## Représentation des objets"
   ]
  },
  {
   "cell_type": "code",
   "execution_count": 23,
   "id": "f7b1784c-c1b0-476c-bbe0-fe6f7973f6eb",
   "metadata": {},
   "outputs": [
    {
     "name": "stdout",
     "output_type": "stream",
     "text": [
      "<__main__.Rectangle object at 0x0000018B139ECBB0>\n"
     ]
    }
   ],
   "source": [
    "rc = Rectangle(longueur=5, largeur=3.)\n",
    "print(rc)"
   ]
  },
  {
   "cell_type": "markdown",
   "id": "42064b09-68f0-48a8-9102-9ee3c34403ee",
   "metadata": {},
   "source": [
    "**ATTENTION** il y a deux méthodes pour \"convertir\" un objets en chaîne de caractères.\n",
    "\n",
    "1. `__repr__`: pour déboguer du code.\n",
    "2. `__str__`: qui permet si besoin est de faire un affichage *joli*"
   ]
  },
  {
   "cell_type": "code",
   "execution_count": 42,
   "id": "dc110cef-3349-4263-b780-f693d708c092",
   "metadata": {},
   "outputs": [],
   "source": [
    "class Rectangle:\n",
    "    \"\"\"Représente un rectangle.\n",
    "    \n",
    "    longueur et largeur doivent être positives\n",
    "    \"\"\"\n",
    "    def __init__(self, largeur: int|float, longueur: int|float):\n",
    "        if largeur < 0:\n",
    "            raise ValueError(\"La largeur doit être positive!\")\n",
    "        if longueur < 0:\n",
    "            raise ValueError(\"La Longueur doit être positive!\")\n",
    "        self.longueur = float(longueur)\n",
    "        self.largeur = float(largeur)\n",
    "        \n",
    "    def __repr__(self) -> str:\n",
    "        return f\"Rectangle(longueur={self.longueur}, largeur={self.largeur})\""
   ]
  },
  {
   "cell_type": "code",
   "execution_count": 43,
   "id": "8fbee581-54af-4f36-bbc6-35015d8e8182",
   "metadata": {},
   "outputs": [
    {
     "name": "stdout",
     "output_type": "stream",
     "text": [
      "Rectangle(longueur=5.0, largeur=3.0)\n"
     ]
    }
   ],
   "source": [
    "rc = Rectangle(longueur=5, largeur=3)\n",
    "print(rc)"
   ]
  },
  {
   "cell_type": "code",
   "execution_count": 27,
   "id": "49ee2d65-8c79-4566-8777-e773388217ff",
   "metadata": {},
   "outputs": [
    {
     "data": {
      "text/plain": [
       "Rectangle(self.longueur=5.0, self.largeur=3.0)"
      ]
     },
     "execution_count": 27,
     "metadata": {},
     "output_type": "execute_result"
    }
   ],
   "source": [
    "rc"
   ]
  },
  {
   "cell_type": "markdown",
   "id": "2581b7bd-5f82-4376-94dc-7ad1c2d09be1",
   "metadata": {},
   "source": [
    "**ATTENTION** `rep(objet)` doit le plus possible être le code python permettant de générer l'objet"
   ]
  },
  {
   "cell_type": "code",
   "execution_count": 46,
   "id": "59b90c41-c677-4362-a7b8-5cac600ee09e",
   "metadata": {},
   "outputs": [
    {
     "name": "stdout",
     "output_type": "stream",
     "text": [
      "<class 'str'>\n",
      "<class '__main__.Rectangle'>\n"
     ]
    }
   ],
   "source": [
    "rc = Rectangle(largeur=3, longueur=5)\n",
    "encodee = repr(rc)\n",
    "print(type(encodee))\n",
    "nouveau = eval(encodee)\n",
    "print(type(nouveau))"
   ]
  },
  {
   "cell_type": "markdown",
   "id": "d78f728b-c06d-44b3-8417-9766364f7663",
   "metadata": {},
   "source": [
    "## __str__"
   ]
  },
  {
   "cell_type": "code",
   "execution_count": 28,
   "id": "c011507b-04b9-47a8-ad12-4fa0df92b00b",
   "metadata": {},
   "outputs": [],
   "source": [
    "class Rectangle:\n",
    "    \"\"\"Représente un rectangle.\n",
    "    \n",
    "    longueur et largeur doivent être positives\n",
    "    \"\"\"\n",
    "    def __init__(self, largeur: int|float, longueur: int|float):\n",
    "        if largeur < 0:\n",
    "            raise ValueError(\"La largeur doit être positive!\")\n",
    "        if longueur < 0:\n",
    "            raise ValueError(\"La Longueur doit être positive!\")\n",
    "        self.longueur = float(longueur)\n",
    "        self.largeur = float(largeur)\n",
    "        \n",
    "    def __repr__(self) -> str:\n",
    "        return f\"Rectangle({self.longueur=}, {self.largeur=})\"\n",
    "    \n",
    "    def __str__(self) -> str:\n",
    "        return f\"\"\"Rectangle de \n",
    "longueur: {self.longueur}\n",
    "largeur: {self.largeur}\n",
    "aire: {self.longueur * self.largeur}\n",
    "\"\"\""
   ]
  },
  {
   "cell_type": "code",
   "execution_count": 29,
   "id": "8d595b67-f775-46c2-a2ae-054916e436bb",
   "metadata": {},
   "outputs": [],
   "source": [
    "rc = Rectangle(longueur=5, largeur=3)"
   ]
  },
  {
   "cell_type": "code",
   "execution_count": 30,
   "id": "ac282979-3140-4801-9d27-376e1616a0ef",
   "metadata": {},
   "outputs": [
    {
     "data": {
      "text/plain": [
       "Rectangle(self.longueur=5.0, self.largeur=3.0)"
      ]
     },
     "execution_count": 30,
     "metadata": {},
     "output_type": "execute_result"
    }
   ],
   "source": [
    "rc # -> print(repr(rc)) -> print(rc.__repr__()) -> print(Rectangle.__rect__(rc))"
   ]
  },
  {
   "cell_type": "code",
   "execution_count": 31,
   "id": "aa9ca1bc-fc7a-433a-94b9-b57d777f6a96",
   "metadata": {},
   "outputs": [
    {
     "name": "stdout",
     "output_type": "stream",
     "text": [
      "Rectangle de \n",
      "longueur: 5.0\n",
      "largeur: 3.0\n",
      "aire: 15.0\n",
      "\n"
     ]
    }
   ],
   "source": [
    "print(rc) # -> print(str(rc)) -> print(rc.__str__()) -> print(Rectangle.__str__(rc))"
   ]
  },
  {
   "cell_type": "code",
   "execution_count": 33,
   "id": "f5478568-5544-4ba5-a527-d1a07e8307de",
   "metadata": {},
   "outputs": [
    {
     "name": "stdout",
     "output_type": "stream",
     "text": [
      "Rectangle(self.longueur=5.0, self.largeur=3.0)\n",
      "Rectangle de \n",
      "longueur: 5.0\n",
      "largeur: 3.0\n",
      "aire: 15.0\n",
      "\n"
     ]
    }
   ],
   "source": [
    "print(repr(rc))\n",
    "print(str(rc))"
   ]
  },
  {
   "cell_type": "markdown",
   "id": "43feeeae-ac1f-4ba7-94d1-4bd84b4454cb",
   "metadata": {},
   "source": [
    "## Méthodes additionnelles"
   ]
  },
  {
   "cell_type": "code",
   "execution_count": 34,
   "id": "5ed94a29-3d56-43af-a9e8-a13a9b7662fa",
   "metadata": {},
   "outputs": [],
   "source": [
    "class Rectangle:\n",
    "    \"\"\"Représente un rectangle.\n",
    "    \n",
    "    longueur et largeur doivent être positives\n",
    "    \"\"\"\n",
    "    def __init__(self, largeur: int|float, longueur: int|float):\n",
    "        if largeur < 0:\n",
    "            raise ValueError(\"La largeur doit être positive!\")\n",
    "        if longueur < 0:\n",
    "            raise ValueError(\"La Longueur doit être positive!\")\n",
    "        self.longueur = float(longueur)\n",
    "        self.largeur = float(largeur)\n",
    "        \n",
    "    def __repr__(self) -> str:\n",
    "        return f\"Rectangle({self.longueur=}, {self.largeur=})\"\n",
    "    \n",
    "    def __str__(self) -> str:\n",
    "        return f\"\"\"Rectangle de \n",
    "longueur: {self.longueur}\n",
    "largeur: {self.largeur}\n",
    "aire: {self.calcule_aire()}\n",
    "\"\"\"\n",
    "    def calcule_aire(self) -> float:\n",
    "        return self.largeur * self.longueur"
   ]
  },
  {
   "cell_type": "code",
   "execution_count": 35,
   "id": "448ef8d0-3f7e-422b-b70e-e193757ec22c",
   "metadata": {},
   "outputs": [
    {
     "name": "stdout",
     "output_type": "stream",
     "text": [
      "15.0\n"
     ]
    }
   ],
   "source": [
    "rc = Rectangle(largeur=3, longueur=5)\n",
    "print(rc.calcule_aire()) # -> print(Rectangle.calcule_aire(rc))"
   ]
  },
  {
   "cell_type": "markdown",
   "id": "ef42f31e-7360-4012-b1dd-31a8a16f9a71",
   "metadata": {},
   "source": [
    "## Méthodes de classes"
   ]
  },
  {
   "cell_type": "code",
   "execution_count": 40,
   "id": "94e1c2ac-f0fd-4f3a-be33-2b25ecbe92b4",
   "metadata": {},
   "outputs": [],
   "source": [
    "class Rectangle:\n",
    "    \"\"\"Représente un rectangle.\n",
    "    \n",
    "    longueur et largeur doivent être positives\n",
    "    \"\"\"\n",
    "    def __init__(self, largeur: int|float, longueur: int|float):\n",
    "        if largeur < 0:\n",
    "            raise ValueError(\"La largeur doit être positive!\")\n",
    "        if longueur < 0:\n",
    "            raise ValueError(\"La Longueur doit être positive!\")\n",
    "        self.longueur = float(longueur)\n",
    "        self.largeur = float(largeur)\n",
    "        \n",
    "    def __repr__(self) -> str:\n",
    "        return f\"Rectangle(longueur={self.longueur}, largeur={self.largeur})\"\n",
    "    \n",
    "    def __str__(self) -> str:\n",
    "        return f\"\"\"Rectangle de \n",
    "longueur: {self.longueur}\n",
    "largeur: {self.largeur}\n",
    "aire: {self.calcule_aire()}\n",
    "\"\"\"\n",
    "    def calcule_aire(self) -> float:\n",
    "        return self.largeur * self.longueur\n",
    "    \n",
    "    @classmethod\n",
    "    def construit_carre(cls, cote: float|int) -> \"Rectangle\":\n",
    "        return cls(largeur=cote, longueur=cote)"
   ]
  },
  {
   "cell_type": "code",
   "execution_count": 41,
   "id": "5606dcc6-6095-4359-af59-c9a4d46ea6a8",
   "metadata": {},
   "outputs": [
    {
     "data": {
      "text/plain": [
       "Rectangle(longueur=5.0, largeur=5.0)"
      ]
     },
     "execution_count": 41,
     "metadata": {},
     "output_type": "execute_result"
    }
   ],
   "source": [
    "rc = Rectangle(largeur=2, longueur=3)\n",
    "rc.construit_carre(cote=5) # -> Rectangle.construit_carre(Rectangle, 5) -> Rectangle(largeur=5, longueur=5)"
   ]
  },
  {
   "cell_type": "code",
   "execution_count": 39,
   "id": "c218a598-eb25-4c0d-a3a4-96f66bb4e697",
   "metadata": {},
   "outputs": [
    {
     "name": "stdout",
     "output_type": "stream",
     "text": [
      "Rectangle de \n",
      "longueur: 3.0\n",
      "largeur: 2.0\n",
      "aire: 6.0\n",
      "\n"
     ]
    }
   ],
   "source": [
    "print(rc)"
   ]
  },
  {
   "cell_type": "markdown",
   "id": "0c84ae1e-99f2-433d-8fc3-a8afba4ca802",
   "metadata": {},
   "source": [
    "# Métaprotocoles: introduction"
   ]
  },
  {
   "cell_type": "markdown",
   "id": "039a33d5-cdac-41a5-82f8-c5a2abbe1ce5",
   "metadata": {},
   "source": [
    "[lien vers le datamodel complet](https://docs.python.org/3/reference/datamodel.html)"
   ]
  },
  {
   "cell_type": "markdown",
   "id": "45aad8e9-7123-44c1-b547-aed24ae47178",
   "metadata": {},
   "source": [
    "## `__eq__`"
   ]
  },
  {
   "cell_type": "code",
   "execution_count": 47,
   "id": "ec9d6de2-656e-4ee4-9e3b-fc84dad02d3f",
   "metadata": {},
   "outputs": [],
   "source": [
    "rc1 = Rectangle(largeur=3, longueur=5)\n",
    "rc2 = Rectangle(largeur=3, longueur=5)"
   ]
  },
  {
   "cell_type": "code",
   "execution_count": 48,
   "id": "b9fd2fde-28c5-4852-bddd-ed2da81ba8d0",
   "metadata": {},
   "outputs": [
    {
     "data": {
      "text/plain": [
       "False"
      ]
     },
     "execution_count": 48,
     "metadata": {},
     "output_type": "execute_result"
    }
   ],
   "source": [
    "rc1 is rc2"
   ]
  },
  {
   "cell_type": "code",
   "execution_count": 49,
   "id": "eea6cc5a-be7f-4cb5-922c-0eb0798e6b29",
   "metadata": {},
   "outputs": [
    {
     "data": {
      "text/plain": [
       "1696840644448"
      ]
     },
     "execution_count": 49,
     "metadata": {},
     "output_type": "execute_result"
    }
   ],
   "source": [
    "id(rc1)"
   ]
  },
  {
   "cell_type": "code",
   "execution_count": 50,
   "id": "deca0cf3-41b7-4583-ac37-61bb0450be2b",
   "metadata": {},
   "outputs": [
    {
     "data": {
      "text/plain": [
       "1696848178928"
      ]
     },
     "execution_count": 50,
     "metadata": {},
     "output_type": "execute_result"
    }
   ],
   "source": [
    "id(rc2)"
   ]
  },
  {
   "cell_type": "code",
   "execution_count": 51,
   "id": "efa723b6-5e98-4c2c-ba1b-71837b8ba23b",
   "metadata": {},
   "outputs": [
    {
     "data": {
      "text/plain": [
       "False"
      ]
     },
     "execution_count": 51,
     "metadata": {},
     "output_type": "execute_result"
    }
   ],
   "source": [
    "rc1 == rc2"
   ]
  },
  {
   "cell_type": "code",
   "execution_count": 52,
   "id": "3860a75e-eea4-4ec7-b629-6c83d15e9686",
   "metadata": {},
   "outputs": [],
   "source": [
    "class Rectangle:\n",
    "    \"\"\"Représente un rectangle.\n",
    "    \n",
    "    longueur et largeur doivent être positives\n",
    "    \"\"\"\n",
    "    def __init__(self, largeur: int|float, longueur: int|float):\n",
    "        if largeur < 0:\n",
    "            raise ValueError(\"La largeur doit être positive!\")\n",
    "        if longueur < 0:\n",
    "            raise ValueError(\"La Longueur doit être positive!\")\n",
    "        self.longueur = float(longueur)\n",
    "        self.largeur = float(largeur)\n",
    "        \n",
    "    def __repr__(self) -> str:\n",
    "        return f\"Rectangle(longueur={self.longueur}, largeur={self.largeur})\"\n",
    "    \n",
    "    def __str__(self) -> str:\n",
    "        return f\"\"\"Rectangle de \n",
    "longueur: {self.longueur}\n",
    "largeur: {self.largeur}\n",
    "aire: {self.calcule_aire()}\n",
    "\"\"\"\n",
    "    \n",
    "    def __eq__(self, autre: \"Rectangle\") -> bool:\n",
    "        return self.largeur == autre.largeur and self.longueur == autre.longueur\n",
    "    \n",
    "    def calcule_aire(self) -> float:\n",
    "        return self.largeur * self.longueur\n",
    "    \n",
    "    @classmethod\n",
    "    def construit_carre(cls, cote: float|int) -> \"Rectangle\":\n",
    "        return cls(largeur=cote, longueur=cote)"
   ]
  },
  {
   "cell_type": "code",
   "execution_count": 53,
   "id": "73c128f8-f49a-4f44-a57a-cfba138ad066",
   "metadata": {},
   "outputs": [
    {
     "data": {
      "text/plain": [
       "True"
      ]
     },
     "execution_count": 53,
     "metadata": {},
     "output_type": "execute_result"
    }
   ],
   "source": [
    "rc1 = Rectangle(largeur=3, longueur=5)\n",
    "rc2 = Rectangle(largeur=3, longueur=5)\n",
    "rc1 == rc2 # -> rc1.__eq__(rc2) -> Rectangle.__eq__(rc1, rc2)"
   ]
  },
  {
   "cell_type": "code",
   "execution_count": 54,
   "id": "dcf4c2cf-324b-4d4c-8f25-4a6e539f1614",
   "metadata": {},
   "outputs": [
    {
     "data": {
      "text/plain": [
       "False"
      ]
     },
     "execution_count": 54,
     "metadata": {},
     "output_type": "execute_result"
    }
   ],
   "source": [
    "rc1 is rc2"
   ]
  },
  {
   "cell_type": "code",
   "execution_count": 55,
   "id": "3d0ed94c-c646-4e4b-a1b4-91f1e3cc75be",
   "metadata": {},
   "outputs": [
    {
     "data": {
      "text/plain": [
       "True"
      ]
     },
     "execution_count": 55,
     "metadata": {},
     "output_type": "execute_result"
    }
   ],
   "source": [
    "x = [1, 2, 3]\n",
    "y = x\n",
    "x is y"
   ]
  },
  {
   "cell_type": "code",
   "execution_count": 56,
   "id": "b702a69c-4229-415b-9c4a-747d3533c949",
   "metadata": {},
   "outputs": [
    {
     "data": {
      "text/plain": [
       "1696868848384"
      ]
     },
     "execution_count": 56,
     "metadata": {},
     "output_type": "execute_result"
    }
   ],
   "source": [
    "id(x)"
   ]
  },
  {
   "cell_type": "code",
   "execution_count": 57,
   "id": "4c720b2b-1c83-4a4f-bec6-e79aac3a7f16",
   "metadata": {},
   "outputs": [
    {
     "data": {
      "text/plain": [
       "1696868848384"
      ]
     },
     "execution_count": 57,
     "metadata": {},
     "output_type": "execute_result"
    }
   ],
   "source": [
    "id(y)"
   ]
  },
  {
   "cell_type": "markdown",
   "id": "f77e0c9a-5c60-4e3a-b25b-06d2df6b1421",
   "metadata": {},
   "source": [
    "## `__hash__`"
   ]
  },
  {
   "cell_type": "code",
   "execution_count": 58,
   "id": "2562061a-1af3-46e0-9274-cfd8e0ff7a8c",
   "metadata": {},
   "outputs": [],
   "source": [
    "rc1 = Rectangle(longueur=2, largeur=3)"
   ]
  },
  {
   "cell_type": "code",
   "execution_count": 59,
   "id": "54fa1264-8b29-4e4a-b72c-70aff89fd6f0",
   "metadata": {},
   "outputs": [
    {
     "ename": "TypeError",
     "evalue": "unhashable type: 'Rectangle'",
     "output_type": "error",
     "traceback": [
      "\u001b[1;31m---------------------------------------------------------------------------\u001b[0m",
      "\u001b[1;31mTypeError\u001b[0m                                 Traceback (most recent call last)",
      "Cell \u001b[1;32mIn[59], line 1\u001b[0m\n\u001b[1;32m----> 1\u001b[0m {rc1: \u001b[38;5;124m\"\u001b[39m\u001b[38;5;124mpremier_rectangle\u001b[39m\u001b[38;5;124m\"\u001b[39m}\n",
      "\u001b[1;31mTypeError\u001b[0m: unhashable type: 'Rectangle'"
     ]
    }
   ],
   "source": [
    "{rc1: \"premier_rectangle\"}"
   ]
  },
  {
   "cell_type": "code",
   "execution_count": 60,
   "id": "55ef8de2-9819-4c7d-9d72-3e32e6d3402f",
   "metadata": {},
   "outputs": [
    {
     "ename": "TypeError",
     "evalue": "unhashable type: 'Rectangle'",
     "output_type": "error",
     "traceback": [
      "\u001b[1;31m---------------------------------------------------------------------------\u001b[0m",
      "\u001b[1;31mTypeError\u001b[0m                                 Traceback (most recent call last)",
      "Cell \u001b[1;32mIn[60], line 1\u001b[0m\n\u001b[1;32m----> 1\u001b[0m \u001b[38;5;28;43mhash\u001b[39;49m\u001b[43m(\u001b[49m\u001b[43mrc1\u001b[49m\u001b[43m)\u001b[49m\n",
      "\u001b[1;31mTypeError\u001b[0m: unhashable type: 'Rectangle'"
     ]
    }
   ],
   "source": [
    "hash(rc1)"
   ]
  },
  {
   "cell_type": "code",
   "execution_count": 61,
   "id": "4593d9f9-e7c1-4a72-9fc7-c826ac964cd9",
   "metadata": {},
   "outputs": [],
   "source": [
    "class Rectangle:\n",
    "    \"\"\"Représente un rectangle.\n",
    "    \n",
    "    longueur et largeur doivent être positives\n",
    "    \"\"\"\n",
    "    def __init__(self, largeur: int|float, longueur: int|float):\n",
    "        if largeur < 0:\n",
    "            raise ValueError(\"La largeur doit être positive!\")\n",
    "        if longueur < 0:\n",
    "            raise ValueError(\"La Longueur doit être positive!\")\n",
    "        self.longueur = float(longueur)\n",
    "        self.largeur = float(largeur)\n",
    "        \n",
    "    def __repr__(self) -> str:\n",
    "        return f\"Rectangle(longueur={self.longueur}, largeur={self.largeur})\"\n",
    "    \n",
    "    def __str__(self) -> str:\n",
    "        return f\"\"\"Rectangle de \n",
    "longueur: {self.longueur}\n",
    "largeur: {self.largeur}\n",
    "aire: {self.calcule_aire()}\n",
    "\"\"\"\n",
    "    \n",
    "    def __eq__(self, autre: \"Rectangle\") -> bool:\n",
    "        return self.largeur == autre.largeur and self.longueur == autre.longueur\n",
    "    \n",
    "    def calcule_aire(self) -> float:\n",
    "        return self.largeur * self.longueur\n",
    "    \n",
    "    @classmethod\n",
    "    def construit_carre(cls, cote: float|int) -> \"Rectangle\":\n",
    "        return cls(largeur=cote, longueur=cote)\n",
    "    \n",
    "    def __hash__(self):\n",
    "        return hash(repr(self))"
   ]
  },
  {
   "cell_type": "code",
   "execution_count": 62,
   "id": "d5d29a88-ce63-4361-a016-475c8d8838d3",
   "metadata": {},
   "outputs": [],
   "source": [
    "rc1 = Rectangle(longueur=2, largeur=3)\n",
    "mon_dico = {rc1: \"premier rectangle\"}"
   ]
  },
  {
   "cell_type": "code",
   "execution_count": 63,
   "id": "b00e54a1-fc3d-4958-b47d-3eaf45264547",
   "metadata": {},
   "outputs": [
    {
     "data": {
      "text/plain": [
       "'premier rectangle'"
      ]
     },
     "execution_count": 63,
     "metadata": {},
     "output_type": "execute_result"
    }
   ],
   "source": [
    "mon_dico[rc1]"
   ]
  },
  {
   "cell_type": "code",
   "execution_count": 64,
   "id": "63ba359f-2fb0-4c86-ac9b-49c3a7bf7413",
   "metadata": {},
   "outputs": [
    {
     "data": {
      "text/plain": [
       "False"
      ]
     },
     "execution_count": 64,
     "metadata": {},
     "output_type": "execute_result"
    }
   ],
   "source": [
    "rc2 = Rectangle(longueur=2, largeur=3)\n",
    "rc1 is rc2"
   ]
  },
  {
   "cell_type": "code",
   "execution_count": 65,
   "id": "2bb80e5b-ecab-4923-bdcc-bd3c8a16acf7",
   "metadata": {},
   "outputs": [
    {
     "data": {
      "text/plain": [
       "'premier rectangle'"
      ]
     },
     "execution_count": 65,
     "metadata": {},
     "output_type": "execute_result"
    }
   ],
   "source": [
    "mon_dico[rc2]"
   ]
  },
  {
   "cell_type": "markdown",
   "id": "24de19c5-a2fa-4107-a57b-c4485689fbb5",
   "metadata": {},
   "source": [
    "**ATTENTION** le hash ne permet pas de distinguer deux objets égaux."
   ]
  },
  {
   "cell_type": "code",
   "execution_count": 66,
   "id": "8aa60f77-b027-47f3-ae5e-74c57b395e32",
   "metadata": {},
   "outputs": [],
   "source": [
    "rc1.largeur = 10"
   ]
  },
  {
   "cell_type": "code",
   "execution_count": 67,
   "id": "678ab2c4-adc7-4a5a-b225-883c214fe4c9",
   "metadata": {},
   "outputs": [
    {
     "data": {
      "text/plain": [
       "Rectangle(longueur=2.0, largeur=10)"
      ]
     },
     "execution_count": 67,
     "metadata": {},
     "output_type": "execute_result"
    }
   ],
   "source": [
    "rc1"
   ]
  },
  {
   "cell_type": "code",
   "execution_count": 68,
   "id": "8e61d533-e236-46b7-a79f-0b12615cfd9c",
   "metadata": {},
   "outputs": [
    {
     "ename": "KeyError",
     "evalue": "Rectangle(longueur=2.0, largeur=10)",
     "output_type": "error",
     "traceback": [
      "\u001b[1;31m---------------------------------------------------------------------------\u001b[0m",
      "\u001b[1;31mKeyError\u001b[0m                                  Traceback (most recent call last)",
      "Cell \u001b[1;32mIn[68], line 1\u001b[0m\n\u001b[1;32m----> 1\u001b[0m \u001b[43mmon_dico\u001b[49m\u001b[43m[\u001b[49m\u001b[43mrc1\u001b[49m\u001b[43m]\u001b[49m\n",
      "\u001b[1;31mKeyError\u001b[0m: Rectangle(longueur=2.0, largeur=10)"
     ]
    }
   ],
   "source": [
    "mon_dico[rc1]"
   ]
  },
  {
   "cell_type": "markdown",
   "id": "de5519f1-9ffd-4ade-89bf-253157cdf93e",
   "metadata": {},
   "source": [
    "**ATTENTION** on ne doit *hasher* que des objets qui ne sont pas modifiables!!!!!!"
   ]
  },
  {
   "cell_type": "code",
   "execution_count": 69,
   "id": "f928ab70-9564-40fa-985b-d085f6ee168a",
   "metadata": {},
   "outputs": [],
   "source": [
    "mon_tuple = (1, 2, 3)\n"
   ]
  },
  {
   "cell_type": "code",
   "execution_count": 70,
   "id": "22533d79-3ed2-4577-b5eb-1c0be8ce6e85",
   "metadata": {},
   "outputs": [
    {
     "ename": "TypeError",
     "evalue": "'tuple' object does not support item assignment",
     "output_type": "error",
     "traceback": [
      "\u001b[1;31m---------------------------------------------------------------------------\u001b[0m",
      "\u001b[1;31mTypeError\u001b[0m                                 Traceback (most recent call last)",
      "Cell \u001b[1;32mIn[70], line 1\u001b[0m\n\u001b[1;32m----> 1\u001b[0m \u001b[43mmon_tuple\u001b[49m\u001b[43m[\u001b[49m\u001b[38;5;241;43m0\u001b[39;49m\u001b[43m]\u001b[49m \u001b[38;5;241m=\u001b[39m \u001b[38;5;241m2\u001b[39m\n",
      "\u001b[1;31mTypeError\u001b[0m: 'tuple' object does not support item assignment"
     ]
    }
   ],
   "source": [
    "mon_tuple[0] = 2"
   ]
  },
  {
   "cell_type": "code",
   "execution_count": 71,
   "id": "23ff0cc1-ad11-4cef-bb24-40bc1c8b924f",
   "metadata": {},
   "outputs": [],
   "source": [
    "dico = {mon_tuple: \"les tuples ne sont pas mutables, on peut les hasher\"}\n"
   ]
  },
  {
   "cell_type": "code",
   "execution_count": 73,
   "id": "47a1113e-bf2c-4db2-a1d6-13b6c3750f1f",
   "metadata": {},
   "outputs": [
    {
     "ename": "TypeError",
     "evalue": "unhashable type: 'list'",
     "output_type": "error",
     "traceback": [
      "\u001b[1;31m---------------------------------------------------------------------------\u001b[0m",
      "\u001b[1;31mTypeError\u001b[0m                                 Traceback (most recent call last)",
      "Cell \u001b[1;32mIn[73], line 2\u001b[0m\n\u001b[0;32m      1\u001b[0m ma_liste \u001b[38;5;241m=\u001b[39m  [\u001b[38;5;241m1\u001b[39m, \u001b[38;5;241m2\u001b[39m, \u001b[38;5;241m3\u001b[39m]\n\u001b[1;32m----> 2\u001b[0m dico \u001b[38;5;241m=\u001b[39m {ma_liste: \u001b[38;5;124m\"\u001b[39m\u001b[38;5;124mpour les listes problème\u001b[39m\u001b[38;5;124m\"\u001b[39m}\n",
      "\u001b[1;31mTypeError\u001b[0m: unhashable type: 'list'"
     ]
    }
   ],
   "source": [
    "ma_liste =  [1, 2, 3]\n",
    "dico = {ma_liste: \"pour les listes problème\"}"
   ]
  },
  {
   "cell_type": "markdown",
   "id": "f3730f4e-b611-499d-880c-a4c82c88543b",
   "metadata": {},
   "source": [
    "**REMARQUE** si on modifie une liste on modifierait son hash et on ne pourrait plus retrouver la valeur correspondante dans le dictionnaire."
   ]
  },
  {
   "cell_type": "markdown",
   "id": "dce1332a-fcc6-405d-97a2-dbd5bdce6473",
   "metadata": {},
   "source": [
    "# Correspondance dataclass"
   ]
  },
  {
   "cell_type": "code",
   "execution_count": 74,
   "id": "bc654773-3955-4a70-a876-5ecf624ca915",
   "metadata": {},
   "outputs": [],
   "source": [
    "from dataclasses import dataclass"
   ]
  },
  {
   "cell_type": "code",
   "execution_count": 75,
   "id": "9018f489-7bcf-4dd2-9102-bdad99bac6d3",
   "metadata": {},
   "outputs": [],
   "source": [
    "@dataclass\n",
    "class Rect:\n",
    "    largeur: float\n",
    "    longueur: float\n",
    "    \n",
    "    def __post_init__(self):\n",
    "        if self.largeur < 0 or self.longueur < 0:\n",
    "            raise ValueError(\"largeur et longueur doivent être positives!\")\n",
    "    \n",
    "    def calcule_aire(self) -> float:\n",
    "        return self.largeur * self.longueur"
   ]
  },
  {
   "cell_type": "code",
   "execution_count": 76,
   "id": "642fbb71-9760-4795-871c-3258335783a6",
   "metadata": {},
   "outputs": [
    {
     "name": "stdout",
     "output_type": "stream",
     "text": [
      "Rect(largeur=2, longueur=3)\n",
      "Rect(largeur=2, longueur=3)\n"
     ]
    }
   ],
   "source": [
    "rc1 = Rect(largeur=2, longueur=3)\n",
    "print(repr(rc1))\n",
    "print(str(rc1))"
   ]
  },
  {
   "cell_type": "code",
   "execution_count": 77,
   "id": "8bf66070-9667-48ef-b959-4a42e178bafc",
   "metadata": {},
   "outputs": [
    {
     "data": {
      "text/plain": [
       "True"
      ]
     },
     "execution_count": 77,
     "metadata": {},
     "output_type": "execute_result"
    }
   ],
   "source": [
    "rc2 = Rect(largeur=2, longueur=3)\n",
    "rc1 == rc2"
   ]
  },
  {
   "cell_type": "code",
   "execution_count": 78,
   "id": "65d08831-a421-4c2a-9220-a2a20b1a2d3d",
   "metadata": {},
   "outputs": [
    {
     "data": {
      "text/plain": [
       "False"
      ]
     },
     "execution_count": 78,
     "metadata": {},
     "output_type": "execute_result"
    }
   ],
   "source": [
    "rc1 is rc2"
   ]
  },
  {
   "cell_type": "code",
   "execution_count": 79,
   "id": "0dcb3473-8509-40f8-b24a-04cca490cf6b",
   "metadata": {},
   "outputs": [
    {
     "ename": "TypeError",
     "evalue": "unhashable type: 'Rect'",
     "output_type": "error",
     "traceback": [
      "\u001b[1;31m---------------------------------------------------------------------------\u001b[0m",
      "\u001b[1;31mTypeError\u001b[0m                                 Traceback (most recent call last)",
      "Cell \u001b[1;32mIn[79], line 1\u001b[0m\n\u001b[1;32m----> 1\u001b[0m \u001b[38;5;28;43mhash\u001b[39;49m\u001b[43m(\u001b[49m\u001b[43mrc1\u001b[49m\u001b[43m)\u001b[49m\n",
      "\u001b[1;31mTypeError\u001b[0m: unhashable type: 'Rect'"
     ]
    }
   ],
   "source": [
    "hash(rc1)"
   ]
  },
  {
   "cell_type": "code",
   "execution_count": 80,
   "id": "616910de-7a3b-450a-9a44-3cf5678f8748",
   "metadata": {},
   "outputs": [],
   "source": [
    "rc1.largeur = 100"
   ]
  },
  {
   "cell_type": "code",
   "execution_count": 81,
   "id": "ea7512c9-3fe1-403e-90bd-827723f5c9c9",
   "metadata": {},
   "outputs": [
    {
     "data": {
      "text/plain": [
       "Rect(largeur=100, longueur=3)"
      ]
     },
     "execution_count": 81,
     "metadata": {},
     "output_type": "execute_result"
    }
   ],
   "source": [
    "rc1"
   ]
  },
  {
   "cell_type": "code",
   "execution_count": 82,
   "id": "0cd9e6ab-5af2-4da5-8a47-c0525d24885a",
   "metadata": {},
   "outputs": [],
   "source": [
    "@dataclass(frozen=True)\n",
    "class Rect:\n",
    "    largeur: float\n",
    "    longueur: float\n",
    "    \n",
    "    def __post_init__(self):\n",
    "        if self.largeur < 0 or self.longueur < 0:\n",
    "            raise ValueError(\"largeur et longueur doivent être positives!\")\n",
    "    \n",
    "    def calcule_aire(self) -> float:\n",
    "        return self.largeur * self.longueur"
   ]
  },
  {
   "cell_type": "code",
   "execution_count": 83,
   "id": "21784888-1bde-41dd-84ca-6fdfbdb38860",
   "metadata": {},
   "outputs": [],
   "source": [
    "rc1 = Rect(largeur=3, longueur=5)"
   ]
  },
  {
   "cell_type": "code",
   "execution_count": 84,
   "id": "72808f7c-f910-42f5-b570-55b964d1bf7e",
   "metadata": {},
   "outputs": [
    {
     "ename": "FrozenInstanceError",
     "evalue": "cannot assign to field 'largeur'",
     "output_type": "error",
     "traceback": [
      "\u001b[1;31m---------------------------------------------------------------------------\u001b[0m",
      "\u001b[1;31mFrozenInstanceError\u001b[0m                       Traceback (most recent call last)",
      "Cell \u001b[1;32mIn[84], line 1\u001b[0m\n\u001b[1;32m----> 1\u001b[0m \u001b[43mrc1\u001b[49m\u001b[38;5;241;43m.\u001b[39;49m\u001b[43mlargeur\u001b[49m \u001b[38;5;241m=\u001b[39m \u001b[38;5;241m100\u001b[39m\n",
      "File \u001b[1;32m<string>:4\u001b[0m, in \u001b[0;36m__setattr__\u001b[1;34m(self, name, value)\u001b[0m\n",
      "\u001b[1;31mFrozenInstanceError\u001b[0m: cannot assign to field 'largeur'"
     ]
    }
   ],
   "source": [
    "rc1.largeur = 100"
   ]
  },
  {
   "cell_type": "code",
   "execution_count": 85,
   "id": "d8178bf1-da0c-48d6-a512-fc6186af8f92",
   "metadata": {},
   "outputs": [
    {
     "data": {
      "text/plain": [
       "7586885779985432798"
      ]
     },
     "execution_count": 85,
     "metadata": {},
     "output_type": "execute_result"
    }
   ],
   "source": [
    "hash(rc1)"
   ]
  },
  {
   "cell_type": "markdown",
   "id": "0be2f5a6-80ff-481e-9c04-a62f57860afb",
   "metadata": {},
   "source": [
    "**REMARQUE** il existe énormément d'autres méthodes *dunder* c'est à dire commençant et finissant par **__**.\n",
    "On verra par exemple `__iter__`, `__set_item__` et `__get_item__` pour les graphes pondérés."
   ]
  }
 ],
 "metadata": {
  "kernelspec": {
   "display_name": "Python 3 (ipykernel)",
   "language": "python",
   "name": "python3"
  },
  "language_info": {
   "codemirror_mode": {
    "name": "ipython",
    "version": 3
   },
   "file_extension": ".py",
   "mimetype": "text/x-python",
   "name": "python",
   "nbconvert_exporter": "python",
   "pygments_lexer": "ipython3",
   "version": "3.10.8"
  }
 },
 "nbformat": 4,
 "nbformat_minor": 5
}
