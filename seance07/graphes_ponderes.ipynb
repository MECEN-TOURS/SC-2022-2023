{
 "cells": [
  {
   "cell_type": "markdown",
   "id": "10b41980-4675-498c-b7d5-84330e54753b",
   "metadata": {},
   "source": [
    "# Probleme"
   ]
  },
  {
   "cell_type": "markdown",
   "id": "bcd4a534-a5ea-4739-bb90-e62ef05a59dd",
   "metadata": {},
   "source": [
    "On a un graphe pondéré représentant le réseaux SNCF avec les temps de parcours entre sommets.\n",
    "\n",
    "1. On veut le représenter en mémoire.\n",
    "2. Puis coder une fonction prenant le graphe, le départ et l'arrivée et donnant l'itinéraire le plus rapide."
   ]
  },
  {
   "cell_type": "markdown",
   "id": "1e03cf0e-8573-47cc-83f2-17f7d46eb75a",
   "metadata": {},
   "source": [
    "# Classe GraphePondere"
   ]
  },
  {
   "cell_type": "code",
   "execution_count": 1,
   "id": "2f99af85-d925-4846-bcfb-31042448f0a3",
   "metadata": {},
   "outputs": [],
   "source": [
    "from dataclasses import dataclass"
   ]
  },
  {
   "cell_type": "code",
   "execution_count": 13,
   "id": "10ec4ea3-4916-46f7-b592-f44252273116",
   "metadata": {},
   "outputs": [],
   "source": [
    "@dataclass\n",
    "class GraphePondere:\n",
    "    sommets: list[str]\n",
    "    arretes: list[tuple[str, str, float]]\n",
    "\n",
    "    def __post_init__(self):\n",
    "        sommets_a_tester = set(self.sommets)\n",
    "        for depart,arrivee,poids in self.arretes:\n",
    "            if poids < 0:\n",
    "                raise ValueError(\"Les poids doivent être positifs ou nuls!\")\n",
    "            if depart not in sommets_a_tester or arrivee not in sommets_a_tester:\n",
    "                raise ValueError(\"Les arrêtes doivent relier des sommets valables.\")"
   ]
  },
  {
   "cell_type": "code",
   "execution_count": 14,
   "id": "839534b6-2b17-4ae1-8397-bbeff2670dfe",
   "metadata": {},
   "outputs": [
    {
     "ename": "ValueError",
     "evalue": "Les poids doivent être positifs ou nuls!",
     "output_type": "error",
     "traceback": [
      "\u001b[1;31m---------------------------------------------------------------------------\u001b[0m",
      "\u001b[1;31mValueError\u001b[0m                                Traceback (most recent call last)",
      "Cell \u001b[1;32mIn[14], line 1\u001b[0m\n\u001b[1;32m----> 1\u001b[0m essai \u001b[38;5;241m=\u001b[39m \u001b[43mGraphePondere\u001b[49m\u001b[43m(\u001b[49m\n\u001b[0;32m      2\u001b[0m \u001b[43m    \u001b[49m\u001b[43msommets\u001b[49m\u001b[38;5;241;43m=\u001b[39;49m\u001b[43m[\u001b[49m\u001b[38;5;124;43m\"\u001b[39;49m\u001b[38;5;124;43mParis\u001b[39;49m\u001b[38;5;124;43m\"\u001b[39;49m\u001b[43m,\u001b[49m\u001b[43m \u001b[49m\u001b[38;5;124;43m\"\u001b[39;49m\u001b[38;5;124;43mTours\u001b[39;49m\u001b[38;5;124;43m\"\u001b[39;49m\u001b[43m,\u001b[49m\u001b[43m \u001b[49m\u001b[38;5;124;43m\"\u001b[39;49m\u001b[38;5;124;43mLyon\u001b[39;49m\u001b[38;5;124;43m\"\u001b[39;49m\u001b[43m]\u001b[49m\u001b[43m,\u001b[49m\n\u001b[0;32m      3\u001b[0m \u001b[43m    \u001b[49m\u001b[43marretes\u001b[49m\u001b[38;5;241;43m=\u001b[39;49m\u001b[43m[\u001b[49m\n\u001b[0;32m      4\u001b[0m \u001b[43m        \u001b[49m\u001b[43m(\u001b[49m\u001b[38;5;124;43m\"\u001b[39;49m\u001b[38;5;124;43mParis\u001b[39;49m\u001b[38;5;124;43m\"\u001b[39;49m\u001b[43m,\u001b[49m\u001b[43m \u001b[49m\u001b[38;5;124;43m\"\u001b[39;49m\u001b[38;5;124;43mTours\u001b[39;49m\u001b[38;5;124;43m\"\u001b[39;49m\u001b[43m,\u001b[49m\u001b[43m \u001b[49m\u001b[38;5;241;43m1.\u001b[39;49m\u001b[43m)\u001b[49m\u001b[43m,\u001b[49m\n\u001b[0;32m      5\u001b[0m \u001b[43m        \u001b[49m\u001b[43m(\u001b[49m\u001b[38;5;124;43m\"\u001b[39;49m\u001b[38;5;124;43mParis\u001b[39;49m\u001b[38;5;124;43m\"\u001b[39;49m\u001b[43m,\u001b[49m\u001b[43m \u001b[49m\u001b[38;5;124;43m\"\u001b[39;49m\u001b[38;5;124;43mLyon\u001b[39;49m\u001b[38;5;124;43m\"\u001b[39;49m\u001b[43m,\u001b[49m\u001b[43m \u001b[49m\u001b[38;5;241;43m2.\u001b[39;49m\u001b[43m)\u001b[49m\u001b[43m,\u001b[49m\n\u001b[0;32m      6\u001b[0m \u001b[43m        \u001b[49m\u001b[43m(\u001b[49m\u001b[38;5;124;43m\"\u001b[39;49m\u001b[38;5;124;43mLyon\u001b[39;49m\u001b[38;5;124;43m\"\u001b[39;49m\u001b[43m,\u001b[49m\u001b[43m \u001b[49m\u001b[38;5;124;43m\"\u001b[39;49m\u001b[38;5;124;43mParis\u001b[39;49m\u001b[38;5;124;43m\"\u001b[39;49m\u001b[43m,\u001b[49m\u001b[43m \u001b[49m\u001b[38;5;241;43m1.\u001b[39;49m\u001b[43m)\u001b[49m\u001b[43m,\u001b[49m\n\u001b[0;32m      7\u001b[0m \u001b[43m        \u001b[49m\u001b[43m(\u001b[49m\u001b[38;5;124;43m\"\u001b[39;49m\u001b[38;5;124;43mTours\u001b[39;49m\u001b[38;5;124;43m\"\u001b[39;49m\u001b[43m,\u001b[49m\u001b[43m \u001b[49m\u001b[38;5;124;43m\"\u001b[39;49m\u001b[38;5;124;43mParis\u001b[39;49m\u001b[38;5;124;43m\"\u001b[39;49m\u001b[43m,\u001b[49m\u001b[43m \u001b[49m\u001b[38;5;241;43m-\u001b[39;49m\u001b[38;5;241;43m2.\u001b[39;49m\u001b[43m)\u001b[49m\u001b[43m,\u001b[49m\n\u001b[0;32m      8\u001b[0m \u001b[43m    \u001b[49m\u001b[43m]\u001b[49m\n\u001b[0;32m      9\u001b[0m \u001b[43m)\u001b[49m\n",
      "File \u001b[1;32m<string>:5\u001b[0m, in \u001b[0;36m__init__\u001b[1;34m(self, sommets, arretes)\u001b[0m\n",
      "Cell \u001b[1;32mIn[13], line 10\u001b[0m, in \u001b[0;36mGraphePondere.__post_init__\u001b[1;34m(self)\u001b[0m\n\u001b[0;32m      8\u001b[0m \u001b[38;5;28;01mfor\u001b[39;00m depart,arrivee,poids \u001b[38;5;129;01min\u001b[39;00m \u001b[38;5;28mself\u001b[39m\u001b[38;5;241m.\u001b[39marretes:\n\u001b[0;32m      9\u001b[0m     \u001b[38;5;28;01mif\u001b[39;00m poids \u001b[38;5;241m<\u001b[39m \u001b[38;5;241m0\u001b[39m:\n\u001b[1;32m---> 10\u001b[0m         \u001b[38;5;28;01mraise\u001b[39;00m \u001b[38;5;167;01mValueError\u001b[39;00m(\u001b[38;5;124m\"\u001b[39m\u001b[38;5;124mLes poids doivent être positifs ou nuls!\u001b[39m\u001b[38;5;124m\"\u001b[39m)\n\u001b[0;32m     11\u001b[0m     \u001b[38;5;28;01mif\u001b[39;00m depart \u001b[38;5;129;01mnot\u001b[39;00m \u001b[38;5;129;01min\u001b[39;00m sommets_a_tester \u001b[38;5;129;01mor\u001b[39;00m arrivee \u001b[38;5;129;01mnot\u001b[39;00m \u001b[38;5;129;01min\u001b[39;00m sommets_a_tester:\n\u001b[0;32m     12\u001b[0m         \u001b[38;5;28;01mraise\u001b[39;00m \u001b[38;5;167;01mValueError\u001b[39;00m(\u001b[38;5;124m\"\u001b[39m\u001b[38;5;124mLes arrêtes doivent relier des sommets valables.\u001b[39m\u001b[38;5;124m\"\u001b[39m)\n",
      "\u001b[1;31mValueError\u001b[0m: Les poids doivent être positifs ou nuls!"
     ]
    }
   ],
   "source": [
    "essai = GraphePondere(\n",
    "    sommets=[\"Paris\", \"Tours\", \"Lyon\"],\n",
    "    arretes=[\n",
    "        (\"Paris\", \"Tours\", 1.),\n",
    "        (\"Paris\", \"Lyon\", 2.),\n",
    "        (\"Lyon\", \"Paris\", 1.),\n",
    "        (\"Tours\", \"Paris\", -2.),\n",
    "    ]\n",
    ")"
   ]
  },
  {
   "cell_type": "code",
   "execution_count": 15,
   "id": "639442ba-fe27-4f6f-a5aa-fa8329224c10",
   "metadata": {},
   "outputs": [
    {
     "ename": "ValueError",
     "evalue": "Les arrêtes doivent relier des sommets valables.",
     "output_type": "error",
     "traceback": [
      "\u001b[1;31m---------------------------------------------------------------------------\u001b[0m",
      "\u001b[1;31mValueError\u001b[0m                                Traceback (most recent call last)",
      "Cell \u001b[1;32mIn[15], line 1\u001b[0m\n\u001b[1;32m----> 1\u001b[0m essai \u001b[38;5;241m=\u001b[39m \u001b[43mGraphePondere\u001b[49m\u001b[43m(\u001b[49m\n\u001b[0;32m      2\u001b[0m \u001b[43m    \u001b[49m\u001b[43msommets\u001b[49m\u001b[38;5;241;43m=\u001b[39;49m\u001b[43m[\u001b[49m\u001b[38;5;124;43m\"\u001b[39;49m\u001b[38;5;124;43mParis\u001b[39;49m\u001b[38;5;124;43m\"\u001b[39;49m\u001b[43m,\u001b[49m\u001b[43m \u001b[49m\u001b[38;5;124;43m\"\u001b[39;49m\u001b[38;5;124;43mTours\u001b[39;49m\u001b[38;5;124;43m\"\u001b[39;49m\u001b[43m,\u001b[49m\u001b[43m \u001b[49m\u001b[38;5;124;43m\"\u001b[39;49m\u001b[38;5;124;43mLyon\u001b[39;49m\u001b[38;5;124;43m\"\u001b[39;49m\u001b[43m]\u001b[49m\u001b[43m,\u001b[49m\n\u001b[0;32m      3\u001b[0m \u001b[43m    \u001b[49m\u001b[43marretes\u001b[49m\u001b[38;5;241;43m=\u001b[39;49m\u001b[43m[\u001b[49m\n\u001b[0;32m      4\u001b[0m \u001b[43m        \u001b[49m\u001b[43m(\u001b[49m\u001b[38;5;124;43m\"\u001b[39;49m\u001b[38;5;124;43mParis\u001b[39;49m\u001b[38;5;124;43m\"\u001b[39;49m\u001b[43m,\u001b[49m\u001b[43m \u001b[49m\u001b[38;5;124;43m\"\u001b[39;49m\u001b[38;5;124;43mTours\u001b[39;49m\u001b[38;5;124;43m\"\u001b[39;49m\u001b[43m,\u001b[49m\u001b[43m \u001b[49m\u001b[38;5;241;43m1.\u001b[39;49m\u001b[43m)\u001b[49m\u001b[43m,\u001b[49m\n\u001b[0;32m      5\u001b[0m \u001b[43m        \u001b[49m\u001b[43m(\u001b[49m\u001b[38;5;124;43m\"\u001b[39;49m\u001b[38;5;124;43mParis\u001b[39;49m\u001b[38;5;124;43m\"\u001b[39;49m\u001b[43m,\u001b[49m\u001b[43m \u001b[49m\u001b[38;5;124;43m\"\u001b[39;49m\u001b[38;5;124;43mLyon\u001b[39;49m\u001b[38;5;124;43m\"\u001b[39;49m\u001b[43m,\u001b[49m\u001b[43m \u001b[49m\u001b[38;5;241;43m2.\u001b[39;49m\u001b[43m)\u001b[49m\u001b[43m,\u001b[49m\n\u001b[0;32m      6\u001b[0m \u001b[43m        \u001b[49m\u001b[43m(\u001b[49m\u001b[38;5;124;43m\"\u001b[39;49m\u001b[38;5;124;43mLyon\u001b[39;49m\u001b[38;5;124;43m\"\u001b[39;49m\u001b[43m,\u001b[49m\u001b[43m \u001b[49m\u001b[38;5;124;43m\"\u001b[39;49m\u001b[38;5;124;43mParis\u001b[39;49m\u001b[38;5;124;43m\"\u001b[39;49m\u001b[43m,\u001b[49m\u001b[43m \u001b[49m\u001b[38;5;241;43m1.\u001b[39;49m\u001b[43m)\u001b[49m\u001b[43m,\u001b[49m\n\u001b[0;32m      7\u001b[0m \u001b[43m        \u001b[49m\u001b[43m(\u001b[49m\u001b[38;5;124;43m\"\u001b[39;49m\u001b[38;5;124;43mTours\u001b[39;49m\u001b[38;5;124;43m\"\u001b[39;49m\u001b[43m,\u001b[49m\u001b[43m \u001b[49m\u001b[38;5;124;43m\"\u001b[39;49m\u001b[38;5;124;43mPari\u001b[39;49m\u001b[38;5;124;43m\"\u001b[39;49m\u001b[43m,\u001b[49m\u001b[43m \u001b[49m\u001b[38;5;241;43m3.\u001b[39;49m\u001b[43m)\u001b[49m\u001b[43m,\u001b[49m\n\u001b[0;32m      8\u001b[0m \u001b[43m    \u001b[49m\u001b[43m]\u001b[49m\n\u001b[0;32m      9\u001b[0m \u001b[43m)\u001b[49m\n",
      "File \u001b[1;32m<string>:5\u001b[0m, in \u001b[0;36m__init__\u001b[1;34m(self, sommets, arretes)\u001b[0m\n",
      "Cell \u001b[1;32mIn[13], line 12\u001b[0m, in \u001b[0;36mGraphePondere.__post_init__\u001b[1;34m(self)\u001b[0m\n\u001b[0;32m     10\u001b[0m     \u001b[38;5;28;01mraise\u001b[39;00m \u001b[38;5;167;01mValueError\u001b[39;00m(\u001b[38;5;124m\"\u001b[39m\u001b[38;5;124mLes poids doivent être positifs ou nuls!\u001b[39m\u001b[38;5;124m\"\u001b[39m)\n\u001b[0;32m     11\u001b[0m \u001b[38;5;28;01mif\u001b[39;00m depart \u001b[38;5;129;01mnot\u001b[39;00m \u001b[38;5;129;01min\u001b[39;00m sommets_a_tester \u001b[38;5;129;01mor\u001b[39;00m arrivee \u001b[38;5;129;01mnot\u001b[39;00m \u001b[38;5;129;01min\u001b[39;00m sommets_a_tester:\n\u001b[1;32m---> 12\u001b[0m     \u001b[38;5;28;01mraise\u001b[39;00m \u001b[38;5;167;01mValueError\u001b[39;00m(\u001b[38;5;124m\"\u001b[39m\u001b[38;5;124mLes arrêtes doivent relier des sommets valables.\u001b[39m\u001b[38;5;124m\"\u001b[39m)\n",
      "\u001b[1;31mValueError\u001b[0m: Les arrêtes doivent relier des sommets valables."
     ]
    }
   ],
   "source": [
    "essai = GraphePondere(\n",
    "    sommets=[\"Paris\", \"Tours\", \"Lyon\"],\n",
    "    arretes=[\n",
    "        (\"Paris\", \"Tours\", 1.),\n",
    "        (\"Paris\", \"Lyon\", 2.),\n",
    "        (\"Lyon\", \"Paris\", 1.),\n",
    "        (\"Tours\", \"Pari\", 3.),\n",
    "    ]\n",
    ")"
   ]
  },
  {
   "cell_type": "markdown",
   "id": "bd4379b7-1e52-41e8-bbc0-9b49e92137aa",
   "metadata": {},
   "source": [
    "# Constructeurs alternatifs"
   ]
  },
  {
   "cell_type": "code",
   "execution_count": 19,
   "id": "8daf24c9-0b58-4b74-a64d-9afed861aa63",
   "metadata": {},
   "outputs": [],
   "source": [
    "@dataclass\n",
    "class GraphePondere:\n",
    "    sommets: list[str]\n",
    "    arretes: list[tuple[str, str, float]]\n",
    "\n",
    "    def __post_init__(self):\n",
    "        sommets_a_tester = set(self.sommets)\n",
    "        for depart,arrivee,poids in self.arretes:\n",
    "            if poids < 0:\n",
    "                raise ValueError(\"Les poids doivent être positifs ou nuls!\")\n",
    "            if depart not in sommets_a_tester or arrivee not in sommets_a_tester:\n",
    "                raise ValueError(\"Les arrêtes doivent relier des sommets valables.\")\n",
    "                \n",
    "    @classmethod\n",
    "    def symetrique(cls, sommets, arretes):\n",
    "        doublees = list()\n",
    "        for depart, arrivee, poids in arretes:\n",
    "            doublees.append((depart, arrivee, poids))\n",
    "            doublees.append((arrivee, depart, poids))\n",
    "        return cls(sommets=sommets, arretes=doublees)"
   ]
  },
  {
   "cell_type": "code",
   "execution_count": 21,
   "id": "01120759-c0f2-475c-80d7-964bacb1260d",
   "metadata": {},
   "outputs": [
    {
     "data": {
      "text/plain": [
       "GraphePondere(sommets=['Paris', 'Lyon', 'Tours'], arretes=[('Paris', 'Tours', 1), ('Tours', 'Paris', 1), ('Paris', 'Lyon', 2), ('Lyon', 'Paris', 2)])"
      ]
     },
     "execution_count": 21,
     "metadata": {},
     "output_type": "execute_result"
    }
   ],
   "source": [
    "gp1 = GraphePondere.symetrique(\n",
    "    sommets=[\"Paris\", \"Lyon\", \"Tours\"],\n",
    "    arretes=[\n",
    "        (\"Paris\", \"Tours\", 1),\n",
    "        (\"Paris\", \"Lyon\", 2),\n",
    "    ]\n",
    ")\n",
    "gp1"
   ]
  },
  {
   "cell_type": "markdown",
   "id": "09cc72de-134d-44c4-b8f0-f5063b96b530",
   "metadata": {},
   "source": [
    "# Probleme avec l'égalité"
   ]
  },
  {
   "cell_type": "code",
   "execution_count": 22,
   "id": "19d5d35e-9f6d-4049-9227-ea8f553e5b50",
   "metadata": {},
   "outputs": [
    {
     "data": {
      "text/plain": [
       "GraphePondere(sommets=['Paris', 'Tours', 'Lyon'], arretes=[('Paris', 'Tours', 1), ('Tours', 'Paris', 1), ('Paris', 'Lyon', 2), ('Lyon', 'Paris', 2)])"
      ]
     },
     "execution_count": 22,
     "metadata": {},
     "output_type": "execute_result"
    }
   ],
   "source": [
    "gp2 = GraphePondere.symetrique(\n",
    "    sommets=[\"Paris\", \"Tours\", \"Lyon\"],\n",
    "    arretes=[\n",
    "        (\"Paris\", \"Tours\", 1),\n",
    "        (\"Paris\", \"Lyon\", 2),\n",
    "    ]\n",
    ")\n",
    "gp2"
   ]
  },
  {
   "cell_type": "code",
   "execution_count": 23,
   "id": "723a7197-f3e6-4af4-a16a-b4f5d7b99c96",
   "metadata": {},
   "outputs": [
    {
     "data": {
      "text/plain": [
       "False"
      ]
     },
     "execution_count": 23,
     "metadata": {},
     "output_type": "execute_result"
    }
   ],
   "source": [
    "gp1 == gp2"
   ]
  },
  {
   "cell_type": "code",
   "execution_count": 30,
   "id": "bdd08efe-c7c5-40c2-a575-c1851efabe79",
   "metadata": {},
   "outputs": [],
   "source": [
    "@dataclass\n",
    "class GraphePondere:\n",
    "    sommets: list[str]\n",
    "    arretes: list[tuple[str, str, float]]\n",
    "\n",
    "    def __post_init__(self):\n",
    "        sommets_a_tester = set(self.sommets)\n",
    "        for depart,arrivee,poids in self.arretes:\n",
    "            if poids < 0:\n",
    "                raise ValueError(\"Les poids doivent être positifs ou nuls!\")\n",
    "            if depart not in sommets_a_tester or arrivee not in sommets_a_tester:\n",
    "                raise ValueError(\"Les arrêtes doivent relier des sommets valables.\")\n",
    "                \n",
    "    @classmethod\n",
    "    def symetrique(cls, sommets, arretes):\n",
    "        doublees = list()\n",
    "        for depart, arrivee, poids in arretes:\n",
    "            doublees.append((depart, arrivee, poids))\n",
    "            doublees.append((arrivee, depart, poids))\n",
    "        return cls(sommets=sommets, arretes=doublees)\n",
    "    \n",
    "    def __eq__(self, autre) -> bool:\n",
    "        if type(autre) != type(self):\n",
    "            print(\"type\")\n",
    "            return False\n",
    "        if set(self.sommets) != set(autre.sommets):\n",
    "            print(\"sommets\")\n",
    "            return False\n",
    "        if set(self.arretes) != set(autre.arretes):\n",
    "            print(\"arretes\")\n",
    "            return False\n",
    "        return True"
   ]
  },
  {
   "cell_type": "code",
   "execution_count": 39,
   "id": "d79600dd-825f-4b26-be8a-bf4221c01e39",
   "metadata": {},
   "outputs": [
    {
     "data": {
      "text/plain": [
       "GraphePondere(sommets=['Paris', 'Lyon', 'Tours'], arretes=[('Paris', 'Tours', 1), ('Tours', 'Paris', 1), ('Paris', 'Lyon', 2), ('Lyon', 'Paris', 2)])"
      ]
     },
     "execution_count": 39,
     "metadata": {},
     "output_type": "execute_result"
    }
   ],
   "source": [
    "gp1 = GraphePondere.symetrique(\n",
    "    sommets=[\"Paris\", \"Lyon\", \"Tours\"],\n",
    "    arretes=[\n",
    "        (\"Paris\", \"Tours\", 1),\n",
    "        (\"Paris\", \"Lyon\", 2),\n",
    "    ]\n",
    ")\n",
    "gp1"
   ]
  },
  {
   "cell_type": "code",
   "execution_count": 40,
   "id": "3b91e119-2cff-4977-80ac-664ea80ff2e9",
   "metadata": {},
   "outputs": [
    {
     "data": {
      "text/plain": [
       "GraphePondere(sommets=['Paris', 'Tours', 'Lyon'], arretes=[('Paris', 'Tours', 1.0), ('Paris', 'Lyon', 2.0), ('Lyon', 'Paris', 2.0), ('Tours', 'Paris', 1.0)])"
      ]
     },
     "execution_count": 40,
     "metadata": {},
     "output_type": "execute_result"
    }
   ],
   "source": [
    "gp2 = GraphePondere(\n",
    "    sommets=[\"Paris\", \"Tours\", \"Lyon\"],\n",
    "    arretes=[\n",
    "        (\"Paris\", \"Tours\", 1.),\n",
    "        (\"Paris\", \"Lyon\", 2.),\n",
    "        (\"Lyon\", \"Paris\", 2.),\n",
    "        (\"Tours\", \"Paris\", 1.),\n",
    "    ]\n",
    ")\n",
    "gp2"
   ]
  },
  {
   "cell_type": "code",
   "execution_count": 41,
   "id": "16b7bb4d-7c40-4036-8ea7-6dfb955c38a6",
   "metadata": {},
   "outputs": [
    {
     "data": {
      "text/plain": [
       "False"
      ]
     },
     "execution_count": 41,
     "metadata": {},
     "output_type": "execute_result"
    }
   ],
   "source": [
    "gp1 is gp2"
   ]
  },
  {
   "cell_type": "code",
   "execution_count": 42,
   "id": "8abd485f-32d3-45e1-bfee-121258c812bd",
   "metadata": {},
   "outputs": [
    {
     "data": {
      "text/plain": [
       "True"
      ]
     },
     "execution_count": 42,
     "metadata": {},
     "output_type": "execute_result"
    }
   ],
   "source": [
    "gp1 == gp2"
   ]
  },
  {
   "cell_type": "markdown",
   "id": "14573171-0d54-4fbc-b2a3-76ece9f20898",
   "metadata": {},
   "source": [
    "# \"Vrai\" graphe"
   ]
  },
  {
   "cell_type": "code",
   "execution_count": 46,
   "id": "43338438-fc3a-4e9c-9626-2b710da95f94",
   "metadata": {},
   "outputs": [
    {
     "data": {
      "text/plain": [
       "GraphePondere(sommets=['Paris', 'Lyon', 'Tours', 'Nantes', 'StEtienne', 'Bordeaux', 'Clermont', 'Toulouse', 'Montpellier', 'Avignon', 'Marseille', 'Nice'], arretes=[('Paris', 'Tours', 1), ('Tours', 'Paris', 1), ('Paris', 'Lyon', 2), ('Lyon', 'Paris', 2), ('Paris', 'StEtienne', 1), ('StEtienne', 'Paris', 1), ('Tours', 'Nantes', 1), ('Nantes', 'Tours', 1), ('Tours', 'Bordeaux', 1), ('Bordeaux', 'Tours', 1), ('Nantes', 'Bordeaux', 1), ('Bordeaux', 'Nantes', 1), ('Bordeaux', 'Toulouse', 2), ('Toulouse', 'Bordeaux', 2), ('Toulouse', 'Montpellier', 4), ('Montpellier', 'Toulouse', 4), ('Montpellier', 'Clermont', 1), ('Clermont', 'Montpellier', 1), ('Montpellier', 'Avignon', 2), ('Avignon', 'Montpellier', 2), ('Clermont', 'StEtienne', 1), ('StEtienne', 'Clermont', 1), ('Avignon', 'Marseille', 1), ('Marseille', 'Avignon', 1), ('Marseille', 'Nice', 10), ('Nice', 'Marseille', 10), ('Avignon', 'Lyon', 3), ('Lyon', 'Avignon', 3), ('StEtienne', 'Lyon', 2), ('Lyon', 'StEtienne', 2)])"
      ]
     },
     "execution_count": 46,
     "metadata": {},
     "output_type": "execute_result"
    }
   ],
   "source": [
    "sncf = GraphePondere.symetrique(\n",
    "    sommets=[\n",
    "        \"Paris\", \n",
    "        \"Lyon\", \n",
    "        \"Tours\", \n",
    "        \"Nantes\", \n",
    "        \"StEtienne\", \n",
    "        \"Bordeaux\", \n",
    "        \"Clermont\", \n",
    "        \"Toulouse\", \n",
    "        \"Montpellier\", \n",
    "        \"Avignon\", \n",
    "        \"Marseille\", \n",
    "        \"Nice\"\n",
    "    ],\n",
    "    arretes=[\n",
    "        (\"Paris\", \"Tours\", 1),\n",
    "        (\"Paris\", \"Lyon\", 2),\n",
    "        (\"Paris\", \"StEtienne\", 1),\n",
    "        (\"Tours\", \"Nantes\", 1),\n",
    "        (\"Tours\", \"Bordeaux\", 1),\n",
    "        (\"Nantes\", \"Bordeaux\", 1),\n",
    "        (\"Bordeaux\", \"Toulouse\", 2),\n",
    "        (\"Toulouse\", \"Montpellier\", 4),\n",
    "        (\"Montpellier\", \"Clermont\", 1),\n",
    "        (\"Montpellier\", \"Avignon\", 2),\n",
    "        (\"Clermont\", \"StEtienne\", 1),\n",
    "        (\"Avignon\", \"Marseille\", 1),\n",
    "        (\"Marseille\", \"Nice\", 10),\n",
    "        (\"Avignon\", \"Lyon\", 3),\n",
    "        (\"StEtienne\", \"Lyon\", 2),\n",
    "    ]\n",
    ")\n",
    "sncf"
   ]
  },
  {
   "cell_type": "markdown",
   "id": "78401107-9724-442b-82fc-d01cb0f01a3d",
   "metadata": {},
   "source": [
    "# Algorithme Bellman-Ford\n",
    "\n",
    "1. Equation fonctionnelle sur la fonction distance.\n",
    "2. Distances approximées de façon récurrente."
   ]
  }
 ],
 "metadata": {
  "kernelspec": {
   "display_name": "Python 3 (ipykernel)",
   "language": "python",
   "name": "python3"
  },
  "language_info": {
   "codemirror_mode": {
    "name": "ipython",
    "version": 3
   },
   "file_extension": ".py",
   "mimetype": "text/x-python",
   "name": "python",
   "nbconvert_exporter": "python",
   "pygments_lexer": "ipython3",
   "version": "3.10.8"
  }
 },
 "nbformat": 4,
 "nbformat_minor": 5
}
