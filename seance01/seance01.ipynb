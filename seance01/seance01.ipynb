{
 "cells": [
  {
   "cell_type": "markdown",
   "id": "da218fa8-2493-4a3d-aed0-3931fd71a6f8",
   "metadata": {},
   "source": [
    "# Présentation d'un problème jouet\n",
    "\n",
    "- Un berger, un loup, un mouton et un chou cherche à traverser une rivière.\n",
    "- Il y a une barque avec deux places.\n",
    "- Seul le berger sait ramer.\n",
    "- Le loup et le mouton ne peuvent être laisser sans surveillance.\n",
    "- Le mouton et le chou ne peuvent pas non plus être laisser sans surveillance.\n",
    "\n",
    "Comment faut-il planifier les traversées?\n"
   ]
  },
  {
   "cell_type": "code",
   "execution_count": 39,
   "id": "8d652b63-97a7-4e5f-a597-69d95d39fcf1",
   "metadata": {},
   "outputs": [],
   "source": [
    "from enum import Enum\n",
    "from dataclasses import dataclass\n",
    "from rich import print\n",
    "from typing import TypeVar"
   ]
  },
  {
   "cell_type": "markdown",
   "id": "db8439fc-b903-443b-8402-e9fbe0554298",
   "metadata": {},
   "source": [
    "## Représentation des états"
   ]
  },
  {
   "cell_type": "code",
   "execution_count": 8,
   "id": "ebed1805-eb9a-4b09-be2f-8aa38427417f",
   "metadata": {},
   "outputs": [],
   "source": [
    "class Rive(Enum):\n",
    "    GAUCHE = \"gauche\"\n",
    "    DROITE = \"droite\""
   ]
  },
  {
   "cell_type": "code",
   "execution_count": 9,
   "id": "ca7bf240-1c43-47b0-84e4-67aa04b5fd1f",
   "metadata": {},
   "outputs": [
    {
     "data": {
      "text/plain": [
       "<Rive.GAUCHE: 'gauche'>"
      ]
     },
     "execution_count": 9,
     "metadata": {},
     "output_type": "execute_result"
    }
   ],
   "source": [
    "Rive.GAUCHE"
   ]
  },
  {
   "cell_type": "code",
   "execution_count": 10,
   "id": "aa0fdd64-1adc-41d1-b6ee-e640078f8748",
   "metadata": {},
   "outputs": [
    {
     "data": {
      "text/plain": [
       "<Rive.DROITE: 'droite'>"
      ]
     },
     "execution_count": 10,
     "metadata": {},
     "output_type": "execute_result"
    }
   ],
   "source": [
    "Rive.DROITE"
   ]
  },
  {
   "cell_type": "code",
   "execution_count": 7,
   "id": "78001ad3-436b-4f4f-be36-17b6db87f74d",
   "metadata": {},
   "outputs": [],
   "source": [
    "@dataclass\n",
    "class Etat:\n",
    "    berger: Rive\n",
    "    loup: Rive\n",
    "    mouton: Rive\n",
    "    chou: Rive\n",
    "    "
   ]
  },
  {
   "cell_type": "code",
   "execution_count": 12,
   "id": "7fff7f0f-ec26-4658-ae96-dbf3185192bd",
   "metadata": {},
   "outputs": [],
   "source": [
    "DEPART = Etat(\n",
    "    berger=Rive.GAUCHE, \n",
    "    loup=Rive.GAUCHE,\n",
    "    mouton=Rive.GAUCHE,\n",
    "    chou=Rive.GAUCHE,\n",
    ")"
   ]
  },
  {
   "cell_type": "code",
   "execution_count": 13,
   "id": "7f7e83f3-3e42-43f1-b548-6fce90706bb0",
   "metadata": {},
   "outputs": [
    {
     "data": {
      "text/plain": [
       "Etat(berger=<Rive.GAUCHE: 'gauche'>, loup=<Rive.GAUCHE: 'gauche'>, mouton=<Rive.GAUCHE: 'gauche'>, chou=<Rive.GAUCHE: 'gauche'>)"
      ]
     },
     "execution_count": 13,
     "metadata": {},
     "output_type": "execute_result"
    }
   ],
   "source": [
    "DEPART"
   ]
  },
  {
   "cell_type": "markdown",
   "id": "f1c207de-e58d-4f6d-a139-a70768a0e006",
   "metadata": {},
   "source": [
    "## Exercice\n",
    "\n",
    "Avec des boucles générer la liste de tous les états possibles."
   ]
  },
  {
   "cell_type": "code",
   "execution_count": 14,
   "id": "11380963-1432-4538-a1fb-e7e48925d58d",
   "metadata": {},
   "outputs": [],
   "source": [
    "etats = list()\n",
    "for cote_berger in (Rive.GAUCHE, Rive.DROITE):\n",
    "    for cote_loup in (Rive.GAUCHE, Rive.DROITE):\n",
    "        for cote_mouton in (Rive.GAUCHE, Rive.DROITE):\n",
    "            for cote_chou in (Rive.GAUCHE, Rive.DROITE):\n",
    "                etats.append(\n",
    "                    Etat(\n",
    "                        berger=cote_berger,\n",
    "                        loup=cote_loup,\n",
    "                        mouton=cote_mouton,\n",
    "                        chou = cote_chou,\n",
    "                    )\n",
    "                )\n",
    "\n",
    "    "
   ]
  },
  {
   "cell_type": "code",
   "execution_count": 15,
   "id": "57142a06-ad69-4b10-9a94-c8db6581be26",
   "metadata": {},
   "outputs": [
    {
     "data": {
      "text/plain": [
       "[Etat(berger=<Rive.GAUCHE: 'gauche'>, loup=<Rive.GAUCHE: 'gauche'>, mouton=<Rive.GAUCHE: 'gauche'>, chou=<Rive.GAUCHE: 'gauche'>),\n",
       " Etat(berger=<Rive.GAUCHE: 'gauche'>, loup=<Rive.GAUCHE: 'gauche'>, mouton=<Rive.GAUCHE: 'gauche'>, chou=<Rive.DROITE: 'droite'>),\n",
       " Etat(berger=<Rive.GAUCHE: 'gauche'>, loup=<Rive.GAUCHE: 'gauche'>, mouton=<Rive.DROITE: 'droite'>, chou=<Rive.GAUCHE: 'gauche'>),\n",
       " Etat(berger=<Rive.GAUCHE: 'gauche'>, loup=<Rive.GAUCHE: 'gauche'>, mouton=<Rive.DROITE: 'droite'>, chou=<Rive.DROITE: 'droite'>),\n",
       " Etat(berger=<Rive.GAUCHE: 'gauche'>, loup=<Rive.DROITE: 'droite'>, mouton=<Rive.GAUCHE: 'gauche'>, chou=<Rive.GAUCHE: 'gauche'>),\n",
       " Etat(berger=<Rive.GAUCHE: 'gauche'>, loup=<Rive.DROITE: 'droite'>, mouton=<Rive.GAUCHE: 'gauche'>, chou=<Rive.DROITE: 'droite'>),\n",
       " Etat(berger=<Rive.GAUCHE: 'gauche'>, loup=<Rive.DROITE: 'droite'>, mouton=<Rive.DROITE: 'droite'>, chou=<Rive.GAUCHE: 'gauche'>),\n",
       " Etat(berger=<Rive.GAUCHE: 'gauche'>, loup=<Rive.DROITE: 'droite'>, mouton=<Rive.DROITE: 'droite'>, chou=<Rive.DROITE: 'droite'>),\n",
       " Etat(berger=<Rive.DROITE: 'droite'>, loup=<Rive.GAUCHE: 'gauche'>, mouton=<Rive.GAUCHE: 'gauche'>, chou=<Rive.GAUCHE: 'gauche'>),\n",
       " Etat(berger=<Rive.DROITE: 'droite'>, loup=<Rive.GAUCHE: 'gauche'>, mouton=<Rive.GAUCHE: 'gauche'>, chou=<Rive.DROITE: 'droite'>),\n",
       " Etat(berger=<Rive.DROITE: 'droite'>, loup=<Rive.GAUCHE: 'gauche'>, mouton=<Rive.DROITE: 'droite'>, chou=<Rive.GAUCHE: 'gauche'>),\n",
       " Etat(berger=<Rive.DROITE: 'droite'>, loup=<Rive.GAUCHE: 'gauche'>, mouton=<Rive.DROITE: 'droite'>, chou=<Rive.DROITE: 'droite'>),\n",
       " Etat(berger=<Rive.DROITE: 'droite'>, loup=<Rive.DROITE: 'droite'>, mouton=<Rive.GAUCHE: 'gauche'>, chou=<Rive.GAUCHE: 'gauche'>),\n",
       " Etat(berger=<Rive.DROITE: 'droite'>, loup=<Rive.DROITE: 'droite'>, mouton=<Rive.GAUCHE: 'gauche'>, chou=<Rive.DROITE: 'droite'>),\n",
       " Etat(berger=<Rive.DROITE: 'droite'>, loup=<Rive.DROITE: 'droite'>, mouton=<Rive.DROITE: 'droite'>, chou=<Rive.GAUCHE: 'gauche'>),\n",
       " Etat(berger=<Rive.DROITE: 'droite'>, loup=<Rive.DROITE: 'droite'>, mouton=<Rive.DROITE: 'droite'>, chou=<Rive.DROITE: 'droite'>)]"
      ]
     },
     "execution_count": 15,
     "metadata": {},
     "output_type": "execute_result"
    }
   ],
   "source": [
    "etats"
   ]
  },
  {
   "cell_type": "code",
   "execution_count": 17,
   "id": "e4fba9ba-c5e7-44b6-80f0-1de9b6136dc9",
   "metadata": {},
   "outputs": [
    {
     "data": {
      "text/html": [
       "<pre style=\"white-space:pre;overflow-x:auto;line-height:normal;font-family:Menlo,'DejaVu Sans Mono',consolas,'Courier New',monospace\"><span style=\"font-weight: bold\">[</span>\n",
       "    <span style=\"color: #800080; text-decoration-color: #800080; font-weight: bold\">Etat</span><span style=\"font-weight: bold\">(</span>\n",
       "        <span style=\"color: #808000; text-decoration-color: #808000\">berger</span>=<span style=\"font-weight: bold\">&lt;</span><span style=\"color: #ff00ff; text-decoration-color: #ff00ff; font-weight: bold\">Rive.GAUCHE:</span><span style=\"color: #000000; text-decoration-color: #000000\"> </span><span style=\"color: #008000; text-decoration-color: #008000\">'gauche'</span><span style=\"color: #000000; text-decoration-color: #000000\">&gt;,</span>\n",
       "<span style=\"color: #000000; text-decoration-color: #000000\">        </span><span style=\"color: #808000; text-decoration-color: #808000\">loup</span><span style=\"color: #000000; text-decoration-color: #000000\">=&lt;Rive.GAUCHE: </span><span style=\"color: #008000; text-decoration-color: #008000\">'gauche'</span><span style=\"color: #000000; text-decoration-color: #000000\">&gt;,</span>\n",
       "<span style=\"color: #000000; text-decoration-color: #000000\">        </span><span style=\"color: #808000; text-decoration-color: #808000\">mouton</span><span style=\"color: #000000; text-decoration-color: #000000\">=&lt;Rive.GAUCHE: </span><span style=\"color: #008000; text-decoration-color: #008000\">'gauche'</span><span style=\"color: #000000; text-decoration-color: #000000\">&gt;,</span>\n",
       "<span style=\"color: #000000; text-decoration-color: #000000\">        </span><span style=\"color: #808000; text-decoration-color: #808000\">chou</span><span style=\"color: #000000; text-decoration-color: #000000\">=&lt;Rive.GAUCHE: </span><span style=\"color: #008000; text-decoration-color: #008000\">'gauche'</span><span style=\"color: #000000; text-decoration-color: #000000\">&gt;</span>\n",
       "<span style=\"color: #000000; text-decoration-color: #000000\">    </span><span style=\"color: #000000; text-decoration-color: #000000; font-weight: bold\">)</span><span style=\"color: #000000; text-decoration-color: #000000\">,</span>\n",
       "<span style=\"color: #000000; text-decoration-color: #000000\">    </span><span style=\"color: #800080; text-decoration-color: #800080; font-weight: bold\">Etat</span><span style=\"color: #000000; text-decoration-color: #000000; font-weight: bold\">(</span>\n",
       "<span style=\"color: #000000; text-decoration-color: #000000\">        </span><span style=\"color: #808000; text-decoration-color: #808000\">berger</span><span style=\"color: #000000; text-decoration-color: #000000\">=&lt;Rive.GAUCHE: </span><span style=\"color: #008000; text-decoration-color: #008000\">'gauche'</span><span style=\"color: #000000; text-decoration-color: #000000\">&gt;,</span>\n",
       "<span style=\"color: #000000; text-decoration-color: #000000\">        </span><span style=\"color: #808000; text-decoration-color: #808000\">loup</span><span style=\"color: #000000; text-decoration-color: #000000\">=&lt;Rive.GAUCHE: </span><span style=\"color: #008000; text-decoration-color: #008000\">'gauche'</span><span style=\"color: #000000; text-decoration-color: #000000\">&gt;,</span>\n",
       "<span style=\"color: #000000; text-decoration-color: #000000\">        </span><span style=\"color: #808000; text-decoration-color: #808000\">mouton</span><span style=\"color: #000000; text-decoration-color: #000000\">=&lt;Rive.GAUCHE: </span><span style=\"color: #008000; text-decoration-color: #008000\">'gauche'</span><span style=\"color: #000000; text-decoration-color: #000000\">&gt;,</span>\n",
       "<span style=\"color: #000000; text-decoration-color: #000000\">        </span><span style=\"color: #808000; text-decoration-color: #808000\">chou</span><span style=\"color: #000000; text-decoration-color: #000000\">=&lt;Rive.DROITE: </span><span style=\"color: #008000; text-decoration-color: #008000\">'droite'</span><span style=\"color: #000000; text-decoration-color: #000000\">&gt;</span>\n",
       "<span style=\"color: #000000; text-decoration-color: #000000\">    </span><span style=\"color: #000000; text-decoration-color: #000000; font-weight: bold\">)</span><span style=\"color: #000000; text-decoration-color: #000000\">,</span>\n",
       "<span style=\"color: #000000; text-decoration-color: #000000\">    </span><span style=\"color: #800080; text-decoration-color: #800080; font-weight: bold\">Etat</span><span style=\"color: #000000; text-decoration-color: #000000; font-weight: bold\">(</span>\n",
       "<span style=\"color: #000000; text-decoration-color: #000000\">        </span><span style=\"color: #808000; text-decoration-color: #808000\">berger</span><span style=\"color: #000000; text-decoration-color: #000000\">=&lt;Rive.GAUCHE: </span><span style=\"color: #008000; text-decoration-color: #008000\">'gauche'</span><span style=\"color: #000000; text-decoration-color: #000000\">&gt;,</span>\n",
       "<span style=\"color: #000000; text-decoration-color: #000000\">        </span><span style=\"color: #808000; text-decoration-color: #808000\">loup</span><span style=\"color: #000000; text-decoration-color: #000000\">=&lt;Rive.GAUCHE: </span><span style=\"color: #008000; text-decoration-color: #008000\">'gauche'</span><span style=\"color: #000000; text-decoration-color: #000000\">&gt;,</span>\n",
       "<span style=\"color: #000000; text-decoration-color: #000000\">        </span><span style=\"color: #808000; text-decoration-color: #808000\">mouton</span><span style=\"color: #000000; text-decoration-color: #000000\">=&lt;Rive.DROITE: </span><span style=\"color: #008000; text-decoration-color: #008000\">'droite'</span><span style=\"color: #000000; text-decoration-color: #000000\">&gt;,</span>\n",
       "<span style=\"color: #000000; text-decoration-color: #000000\">        </span><span style=\"color: #808000; text-decoration-color: #808000\">chou</span><span style=\"color: #000000; text-decoration-color: #000000\">=&lt;Rive.GAUCHE: </span><span style=\"color: #008000; text-decoration-color: #008000\">'gauche'</span><span style=\"color: #000000; text-decoration-color: #000000\">&gt;</span>\n",
       "<span style=\"color: #000000; text-decoration-color: #000000\">    </span><span style=\"color: #000000; text-decoration-color: #000000; font-weight: bold\">)</span><span style=\"color: #000000; text-decoration-color: #000000\">,</span>\n",
       "<span style=\"color: #000000; text-decoration-color: #000000\">    </span><span style=\"color: #800080; text-decoration-color: #800080; font-weight: bold\">Etat</span><span style=\"color: #000000; text-decoration-color: #000000; font-weight: bold\">(</span>\n",
       "<span style=\"color: #000000; text-decoration-color: #000000\">        </span><span style=\"color: #808000; text-decoration-color: #808000\">berger</span><span style=\"color: #000000; text-decoration-color: #000000\">=&lt;Rive.GAUCHE: </span><span style=\"color: #008000; text-decoration-color: #008000\">'gauche'</span><span style=\"color: #000000; text-decoration-color: #000000\">&gt;,</span>\n",
       "<span style=\"color: #000000; text-decoration-color: #000000\">        </span><span style=\"color: #808000; text-decoration-color: #808000\">loup</span><span style=\"color: #000000; text-decoration-color: #000000\">=&lt;Rive.GAUCHE: </span><span style=\"color: #008000; text-decoration-color: #008000\">'gauche'</span><span style=\"color: #000000; text-decoration-color: #000000\">&gt;,</span>\n",
       "<span style=\"color: #000000; text-decoration-color: #000000\">        </span><span style=\"color: #808000; text-decoration-color: #808000\">mouton</span><span style=\"color: #000000; text-decoration-color: #000000\">=&lt;Rive.DROITE: </span><span style=\"color: #008000; text-decoration-color: #008000\">'droite'</span><span style=\"color: #000000; text-decoration-color: #000000\">&gt;,</span>\n",
       "<span style=\"color: #000000; text-decoration-color: #000000\">        </span><span style=\"color: #808000; text-decoration-color: #808000\">chou</span><span style=\"color: #000000; text-decoration-color: #000000\">=&lt;Rive.DROITE: </span><span style=\"color: #008000; text-decoration-color: #008000\">'droite'</span><span style=\"color: #000000; text-decoration-color: #000000\">&gt;</span>\n",
       "<span style=\"color: #000000; text-decoration-color: #000000\">    </span><span style=\"color: #000000; text-decoration-color: #000000; font-weight: bold\">)</span><span style=\"color: #000000; text-decoration-color: #000000\">,</span>\n",
       "<span style=\"color: #000000; text-decoration-color: #000000\">    </span><span style=\"color: #800080; text-decoration-color: #800080; font-weight: bold\">Etat</span><span style=\"color: #000000; text-decoration-color: #000000; font-weight: bold\">(</span>\n",
       "<span style=\"color: #000000; text-decoration-color: #000000\">        </span><span style=\"color: #808000; text-decoration-color: #808000\">berger</span><span style=\"color: #000000; text-decoration-color: #000000\">=&lt;Rive.GAUCHE: </span><span style=\"color: #008000; text-decoration-color: #008000\">'gauche'</span><span style=\"color: #000000; text-decoration-color: #000000\">&gt;,</span>\n",
       "<span style=\"color: #000000; text-decoration-color: #000000\">        </span><span style=\"color: #808000; text-decoration-color: #808000\">loup</span><span style=\"color: #000000; text-decoration-color: #000000\">=&lt;Rive.DROITE: </span><span style=\"color: #008000; text-decoration-color: #008000\">'droite'</span><span style=\"color: #000000; text-decoration-color: #000000\">&gt;,</span>\n",
       "<span style=\"color: #000000; text-decoration-color: #000000\">        </span><span style=\"color: #808000; text-decoration-color: #808000\">mouton</span><span style=\"color: #000000; text-decoration-color: #000000\">=&lt;Rive.GAUCHE: </span><span style=\"color: #008000; text-decoration-color: #008000\">'gauche'</span><span style=\"color: #000000; text-decoration-color: #000000\">&gt;,</span>\n",
       "<span style=\"color: #000000; text-decoration-color: #000000\">        </span><span style=\"color: #808000; text-decoration-color: #808000\">chou</span><span style=\"color: #000000; text-decoration-color: #000000\">=&lt;Rive.GAUCHE: </span><span style=\"color: #008000; text-decoration-color: #008000\">'gauche'</span><span style=\"color: #000000; text-decoration-color: #000000\">&gt;</span>\n",
       "<span style=\"color: #000000; text-decoration-color: #000000\">    </span><span style=\"color: #000000; text-decoration-color: #000000; font-weight: bold\">)</span><span style=\"color: #000000; text-decoration-color: #000000\">,</span>\n",
       "<span style=\"color: #000000; text-decoration-color: #000000\">    </span><span style=\"color: #800080; text-decoration-color: #800080; font-weight: bold\">Etat</span><span style=\"color: #000000; text-decoration-color: #000000; font-weight: bold\">(</span>\n",
       "<span style=\"color: #000000; text-decoration-color: #000000\">        </span><span style=\"color: #808000; text-decoration-color: #808000\">berger</span><span style=\"color: #000000; text-decoration-color: #000000\">=&lt;Rive.GAUCHE: </span><span style=\"color: #008000; text-decoration-color: #008000\">'gauche'</span><span style=\"color: #000000; text-decoration-color: #000000\">&gt;,</span>\n",
       "<span style=\"color: #000000; text-decoration-color: #000000\">        </span><span style=\"color: #808000; text-decoration-color: #808000\">loup</span><span style=\"color: #000000; text-decoration-color: #000000\">=&lt;Rive.DROITE: </span><span style=\"color: #008000; text-decoration-color: #008000\">'droite'</span><span style=\"color: #000000; text-decoration-color: #000000\">&gt;,</span>\n",
       "<span style=\"color: #000000; text-decoration-color: #000000\">        </span><span style=\"color: #808000; text-decoration-color: #808000\">mouton</span><span style=\"color: #000000; text-decoration-color: #000000\">=&lt;Rive.GAUCHE: </span><span style=\"color: #008000; text-decoration-color: #008000\">'gauche'</span><span style=\"color: #000000; text-decoration-color: #000000\">&gt;,</span>\n",
       "<span style=\"color: #000000; text-decoration-color: #000000\">        </span><span style=\"color: #808000; text-decoration-color: #808000\">chou</span><span style=\"color: #000000; text-decoration-color: #000000\">=&lt;Rive.DROITE: </span><span style=\"color: #008000; text-decoration-color: #008000\">'droite'</span><span style=\"color: #000000; text-decoration-color: #000000\">&gt;</span>\n",
       "<span style=\"color: #000000; text-decoration-color: #000000\">    </span><span style=\"color: #000000; text-decoration-color: #000000; font-weight: bold\">)</span><span style=\"color: #000000; text-decoration-color: #000000\">,</span>\n",
       "<span style=\"color: #000000; text-decoration-color: #000000\">    </span><span style=\"color: #800080; text-decoration-color: #800080; font-weight: bold\">Etat</span><span style=\"color: #000000; text-decoration-color: #000000; font-weight: bold\">(</span>\n",
       "<span style=\"color: #000000; text-decoration-color: #000000\">        </span><span style=\"color: #808000; text-decoration-color: #808000\">berger</span><span style=\"color: #000000; text-decoration-color: #000000\">=&lt;Rive.GAUCHE: </span><span style=\"color: #008000; text-decoration-color: #008000\">'gauche'</span><span style=\"color: #000000; text-decoration-color: #000000\">&gt;,</span>\n",
       "<span style=\"color: #000000; text-decoration-color: #000000\">        </span><span style=\"color: #808000; text-decoration-color: #808000\">loup</span><span style=\"color: #000000; text-decoration-color: #000000\">=&lt;Rive.DROITE: </span><span style=\"color: #008000; text-decoration-color: #008000\">'droite'</span><span style=\"color: #000000; text-decoration-color: #000000\">&gt;,</span>\n",
       "<span style=\"color: #000000; text-decoration-color: #000000\">        </span><span style=\"color: #808000; text-decoration-color: #808000\">mouton</span><span style=\"color: #000000; text-decoration-color: #000000\">=&lt;Rive.DROITE: </span><span style=\"color: #008000; text-decoration-color: #008000\">'droite'</span><span style=\"color: #000000; text-decoration-color: #000000\">&gt;,</span>\n",
       "<span style=\"color: #000000; text-decoration-color: #000000\">        </span><span style=\"color: #808000; text-decoration-color: #808000\">chou</span><span style=\"color: #000000; text-decoration-color: #000000\">=&lt;Rive.GAUCHE: </span><span style=\"color: #008000; text-decoration-color: #008000\">'gauche'</span><span style=\"color: #000000; text-decoration-color: #000000\">&gt;</span>\n",
       "<span style=\"color: #000000; text-decoration-color: #000000\">    </span><span style=\"color: #000000; text-decoration-color: #000000; font-weight: bold\">)</span><span style=\"color: #000000; text-decoration-color: #000000\">,</span>\n",
       "<span style=\"color: #000000; text-decoration-color: #000000\">    </span><span style=\"color: #800080; text-decoration-color: #800080; font-weight: bold\">Etat</span><span style=\"color: #000000; text-decoration-color: #000000; font-weight: bold\">(</span>\n",
       "<span style=\"color: #000000; text-decoration-color: #000000\">        </span><span style=\"color: #808000; text-decoration-color: #808000\">berger</span><span style=\"color: #000000; text-decoration-color: #000000\">=&lt;Rive.GAUCHE: </span><span style=\"color: #008000; text-decoration-color: #008000\">'gauche'</span><span style=\"color: #000000; text-decoration-color: #000000\">&gt;,</span>\n",
       "<span style=\"color: #000000; text-decoration-color: #000000\">        </span><span style=\"color: #808000; text-decoration-color: #808000\">loup</span><span style=\"color: #000000; text-decoration-color: #000000\">=&lt;Rive.DROITE: </span><span style=\"color: #008000; text-decoration-color: #008000\">'droite'</span><span style=\"color: #000000; text-decoration-color: #000000\">&gt;,</span>\n",
       "<span style=\"color: #000000; text-decoration-color: #000000\">        </span><span style=\"color: #808000; text-decoration-color: #808000\">mouton</span><span style=\"color: #000000; text-decoration-color: #000000\">=&lt;Rive.DROITE: </span><span style=\"color: #008000; text-decoration-color: #008000\">'droite'</span><span style=\"color: #000000; text-decoration-color: #000000\">&gt;,</span>\n",
       "<span style=\"color: #000000; text-decoration-color: #000000\">        </span><span style=\"color: #808000; text-decoration-color: #808000\">chou</span><span style=\"color: #000000; text-decoration-color: #000000\">=&lt;Rive.DROITE: </span><span style=\"color: #008000; text-decoration-color: #008000\">'droite'</span><span style=\"color: #000000; text-decoration-color: #000000\">&gt;</span>\n",
       "<span style=\"color: #000000; text-decoration-color: #000000\">    </span><span style=\"color: #000000; text-decoration-color: #000000; font-weight: bold\">)</span><span style=\"color: #000000; text-decoration-color: #000000\">,</span>\n",
       "<span style=\"color: #000000; text-decoration-color: #000000\">    </span><span style=\"color: #800080; text-decoration-color: #800080; font-weight: bold\">Etat</span><span style=\"color: #000000; text-decoration-color: #000000; font-weight: bold\">(</span>\n",
       "<span style=\"color: #000000; text-decoration-color: #000000\">        </span><span style=\"color: #808000; text-decoration-color: #808000\">berger</span><span style=\"color: #000000; text-decoration-color: #000000\">=&lt;Rive.DROITE: </span><span style=\"color: #008000; text-decoration-color: #008000\">'droite'</span><span style=\"color: #000000; text-decoration-color: #000000\">&gt;,</span>\n",
       "<span style=\"color: #000000; text-decoration-color: #000000\">        </span><span style=\"color: #808000; text-decoration-color: #808000\">loup</span><span style=\"color: #000000; text-decoration-color: #000000\">=&lt;Rive.GAUCHE: </span><span style=\"color: #008000; text-decoration-color: #008000\">'gauche'</span><span style=\"color: #000000; text-decoration-color: #000000\">&gt;,</span>\n",
       "<span style=\"color: #000000; text-decoration-color: #000000\">        </span><span style=\"color: #808000; text-decoration-color: #808000\">mouton</span><span style=\"color: #000000; text-decoration-color: #000000\">=&lt;Rive.GAUCHE: </span><span style=\"color: #008000; text-decoration-color: #008000\">'gauche'</span><span style=\"color: #000000; text-decoration-color: #000000\">&gt;,</span>\n",
       "<span style=\"color: #000000; text-decoration-color: #000000\">        </span><span style=\"color: #808000; text-decoration-color: #808000\">chou</span><span style=\"color: #000000; text-decoration-color: #000000\">=&lt;Rive.GAUCHE: </span><span style=\"color: #008000; text-decoration-color: #008000\">'gauche'</span><span style=\"color: #000000; text-decoration-color: #000000\">&gt;</span>\n",
       "<span style=\"color: #000000; text-decoration-color: #000000\">    </span><span style=\"color: #000000; text-decoration-color: #000000; font-weight: bold\">)</span><span style=\"color: #000000; text-decoration-color: #000000\">,</span>\n",
       "<span style=\"color: #000000; text-decoration-color: #000000\">    </span><span style=\"color: #800080; text-decoration-color: #800080; font-weight: bold\">Etat</span><span style=\"color: #000000; text-decoration-color: #000000; font-weight: bold\">(</span>\n",
       "<span style=\"color: #000000; text-decoration-color: #000000\">        </span><span style=\"color: #808000; text-decoration-color: #808000\">berger</span><span style=\"color: #000000; text-decoration-color: #000000\">=&lt;Rive.DROITE: </span><span style=\"color: #008000; text-decoration-color: #008000\">'droite'</span><span style=\"color: #000000; text-decoration-color: #000000\">&gt;,</span>\n",
       "<span style=\"color: #000000; text-decoration-color: #000000\">        </span><span style=\"color: #808000; text-decoration-color: #808000\">loup</span><span style=\"color: #000000; text-decoration-color: #000000\">=&lt;Rive.GAUCHE: </span><span style=\"color: #008000; text-decoration-color: #008000\">'gauche'</span><span style=\"color: #000000; text-decoration-color: #000000\">&gt;,</span>\n",
       "<span style=\"color: #000000; text-decoration-color: #000000\">        </span><span style=\"color: #808000; text-decoration-color: #808000\">mouton</span><span style=\"color: #000000; text-decoration-color: #000000\">=&lt;Rive.GAUCHE: </span><span style=\"color: #008000; text-decoration-color: #008000\">'gauche'</span><span style=\"color: #000000; text-decoration-color: #000000\">&gt;,</span>\n",
       "<span style=\"color: #000000; text-decoration-color: #000000\">        </span><span style=\"color: #808000; text-decoration-color: #808000\">chou</span><span style=\"color: #000000; text-decoration-color: #000000\">=&lt;Rive.DROITE: </span><span style=\"color: #008000; text-decoration-color: #008000\">'droite'</span><span style=\"color: #000000; text-decoration-color: #000000\">&gt;</span>\n",
       "<span style=\"color: #000000; text-decoration-color: #000000\">    </span><span style=\"color: #000000; text-decoration-color: #000000; font-weight: bold\">)</span><span style=\"color: #000000; text-decoration-color: #000000\">,</span>\n",
       "<span style=\"color: #000000; text-decoration-color: #000000\">    </span><span style=\"color: #800080; text-decoration-color: #800080; font-weight: bold\">Etat</span><span style=\"color: #000000; text-decoration-color: #000000; font-weight: bold\">(</span>\n",
       "<span style=\"color: #000000; text-decoration-color: #000000\">        </span><span style=\"color: #808000; text-decoration-color: #808000\">berger</span><span style=\"color: #000000; text-decoration-color: #000000\">=&lt;Rive.DROITE: </span><span style=\"color: #008000; text-decoration-color: #008000\">'droite'</span><span style=\"color: #000000; text-decoration-color: #000000\">&gt;,</span>\n",
       "<span style=\"color: #000000; text-decoration-color: #000000\">        </span><span style=\"color: #808000; text-decoration-color: #808000\">loup</span><span style=\"color: #000000; text-decoration-color: #000000\">=&lt;Rive.GAUCHE: </span><span style=\"color: #008000; text-decoration-color: #008000\">'gauche'</span><span style=\"color: #000000; text-decoration-color: #000000\">&gt;,</span>\n",
       "<span style=\"color: #000000; text-decoration-color: #000000\">        </span><span style=\"color: #808000; text-decoration-color: #808000\">mouton</span><span style=\"color: #000000; text-decoration-color: #000000\">=&lt;Rive.DROITE: </span><span style=\"color: #008000; text-decoration-color: #008000\">'droite'</span><span style=\"color: #000000; text-decoration-color: #000000\">&gt;,</span>\n",
       "<span style=\"color: #000000; text-decoration-color: #000000\">        </span><span style=\"color: #808000; text-decoration-color: #808000\">chou</span><span style=\"color: #000000; text-decoration-color: #000000\">=&lt;Rive.GAUCHE: </span><span style=\"color: #008000; text-decoration-color: #008000\">'gauche'</span><span style=\"color: #000000; text-decoration-color: #000000\">&gt;</span>\n",
       "<span style=\"color: #000000; text-decoration-color: #000000\">    </span><span style=\"color: #000000; text-decoration-color: #000000; font-weight: bold\">)</span><span style=\"color: #000000; text-decoration-color: #000000\">,</span>\n",
       "<span style=\"color: #000000; text-decoration-color: #000000\">    </span><span style=\"color: #800080; text-decoration-color: #800080; font-weight: bold\">Etat</span><span style=\"color: #000000; text-decoration-color: #000000; font-weight: bold\">(</span>\n",
       "<span style=\"color: #000000; text-decoration-color: #000000\">        </span><span style=\"color: #808000; text-decoration-color: #808000\">berger</span><span style=\"color: #000000; text-decoration-color: #000000\">=&lt;Rive.DROITE: </span><span style=\"color: #008000; text-decoration-color: #008000\">'droite'</span><span style=\"color: #000000; text-decoration-color: #000000\">&gt;,</span>\n",
       "<span style=\"color: #000000; text-decoration-color: #000000\">        </span><span style=\"color: #808000; text-decoration-color: #808000\">loup</span><span style=\"color: #000000; text-decoration-color: #000000\">=&lt;Rive.GAUCHE: </span><span style=\"color: #008000; text-decoration-color: #008000\">'gauche'</span><span style=\"color: #000000; text-decoration-color: #000000\">&gt;,</span>\n",
       "<span style=\"color: #000000; text-decoration-color: #000000\">        </span><span style=\"color: #808000; text-decoration-color: #808000\">mouton</span><span style=\"color: #000000; text-decoration-color: #000000\">=&lt;Rive.DROITE: </span><span style=\"color: #008000; text-decoration-color: #008000\">'droite'</span><span style=\"color: #000000; text-decoration-color: #000000\">&gt;,</span>\n",
       "<span style=\"color: #000000; text-decoration-color: #000000\">        </span><span style=\"color: #808000; text-decoration-color: #808000\">chou</span><span style=\"color: #000000; text-decoration-color: #000000\">=&lt;Rive.DROITE: </span><span style=\"color: #008000; text-decoration-color: #008000\">'droite'</span><span style=\"color: #000000; text-decoration-color: #000000\">&gt;</span>\n",
       "<span style=\"color: #000000; text-decoration-color: #000000\">    </span><span style=\"color: #000000; text-decoration-color: #000000; font-weight: bold\">)</span><span style=\"color: #000000; text-decoration-color: #000000\">,</span>\n",
       "<span style=\"color: #000000; text-decoration-color: #000000\">    </span><span style=\"color: #800080; text-decoration-color: #800080; font-weight: bold\">Etat</span><span style=\"color: #000000; text-decoration-color: #000000; font-weight: bold\">(</span>\n",
       "<span style=\"color: #000000; text-decoration-color: #000000\">        </span><span style=\"color: #808000; text-decoration-color: #808000\">berger</span><span style=\"color: #000000; text-decoration-color: #000000\">=&lt;Rive.DROITE: </span><span style=\"color: #008000; text-decoration-color: #008000\">'droite'</span><span style=\"color: #000000; text-decoration-color: #000000\">&gt;,</span>\n",
       "<span style=\"color: #000000; text-decoration-color: #000000\">        </span><span style=\"color: #808000; text-decoration-color: #808000\">loup</span><span style=\"color: #000000; text-decoration-color: #000000\">=&lt;Rive.DROITE: </span><span style=\"color: #008000; text-decoration-color: #008000\">'droite'</span><span style=\"color: #000000; text-decoration-color: #000000\">&gt;,</span>\n",
       "<span style=\"color: #000000; text-decoration-color: #000000\">        </span><span style=\"color: #808000; text-decoration-color: #808000\">mouton</span><span style=\"color: #000000; text-decoration-color: #000000\">=&lt;Rive.GAUCHE: </span><span style=\"color: #008000; text-decoration-color: #008000\">'gauche'</span><span style=\"color: #000000; text-decoration-color: #000000\">&gt;,</span>\n",
       "<span style=\"color: #000000; text-decoration-color: #000000\">        </span><span style=\"color: #808000; text-decoration-color: #808000\">chou</span><span style=\"color: #000000; text-decoration-color: #000000\">=&lt;Rive.GAUCHE: </span><span style=\"color: #008000; text-decoration-color: #008000\">'gauche'</span><span style=\"color: #000000; text-decoration-color: #000000\">&gt;</span>\n",
       "<span style=\"color: #000000; text-decoration-color: #000000\">    </span><span style=\"color: #000000; text-decoration-color: #000000; font-weight: bold\">)</span><span style=\"color: #000000; text-decoration-color: #000000\">,</span>\n",
       "<span style=\"color: #000000; text-decoration-color: #000000\">    </span><span style=\"color: #800080; text-decoration-color: #800080; font-weight: bold\">Etat</span><span style=\"color: #000000; text-decoration-color: #000000; font-weight: bold\">(</span>\n",
       "<span style=\"color: #000000; text-decoration-color: #000000\">        </span><span style=\"color: #808000; text-decoration-color: #808000\">berger</span><span style=\"color: #000000; text-decoration-color: #000000\">=&lt;Rive.DROITE: </span><span style=\"color: #008000; text-decoration-color: #008000\">'droite'</span><span style=\"color: #000000; text-decoration-color: #000000\">&gt;,</span>\n",
       "<span style=\"color: #000000; text-decoration-color: #000000\">        </span><span style=\"color: #808000; text-decoration-color: #808000\">loup</span><span style=\"color: #000000; text-decoration-color: #000000\">=&lt;Rive.DROITE: </span><span style=\"color: #008000; text-decoration-color: #008000\">'droite'</span><span style=\"color: #000000; text-decoration-color: #000000\">&gt;,</span>\n",
       "<span style=\"color: #000000; text-decoration-color: #000000\">        </span><span style=\"color: #808000; text-decoration-color: #808000\">mouton</span><span style=\"color: #000000; text-decoration-color: #000000\">=&lt;Rive.GAUCHE: </span><span style=\"color: #008000; text-decoration-color: #008000\">'gauche'</span><span style=\"color: #000000; text-decoration-color: #000000\">&gt;,</span>\n",
       "<span style=\"color: #000000; text-decoration-color: #000000\">        </span><span style=\"color: #808000; text-decoration-color: #808000\">chou</span><span style=\"color: #000000; text-decoration-color: #000000\">=&lt;Rive.DROITE: </span><span style=\"color: #008000; text-decoration-color: #008000\">'droite'</span><span style=\"color: #000000; text-decoration-color: #000000\">&gt;</span>\n",
       "<span style=\"color: #000000; text-decoration-color: #000000\">    </span><span style=\"color: #000000; text-decoration-color: #000000; font-weight: bold\">)</span><span style=\"color: #000000; text-decoration-color: #000000\">,</span>\n",
       "<span style=\"color: #000000; text-decoration-color: #000000\">    </span><span style=\"color: #800080; text-decoration-color: #800080; font-weight: bold\">Etat</span><span style=\"color: #000000; text-decoration-color: #000000; font-weight: bold\">(</span>\n",
       "<span style=\"color: #000000; text-decoration-color: #000000\">        </span><span style=\"color: #808000; text-decoration-color: #808000\">berger</span><span style=\"color: #000000; text-decoration-color: #000000\">=&lt;Rive.DROITE: </span><span style=\"color: #008000; text-decoration-color: #008000\">'droite'</span><span style=\"color: #000000; text-decoration-color: #000000\">&gt;,</span>\n",
       "<span style=\"color: #000000; text-decoration-color: #000000\">        </span><span style=\"color: #808000; text-decoration-color: #808000\">loup</span><span style=\"color: #000000; text-decoration-color: #000000\">=&lt;Rive.DROITE: </span><span style=\"color: #008000; text-decoration-color: #008000\">'droite'</span><span style=\"color: #000000; text-decoration-color: #000000\">&gt;,</span>\n",
       "<span style=\"color: #000000; text-decoration-color: #000000\">        </span><span style=\"color: #808000; text-decoration-color: #808000\">mouton</span><span style=\"color: #000000; text-decoration-color: #000000\">=&lt;Rive.DROITE: </span><span style=\"color: #008000; text-decoration-color: #008000\">'droite'</span><span style=\"color: #000000; text-decoration-color: #000000\">&gt;,</span>\n",
       "<span style=\"color: #000000; text-decoration-color: #000000\">        </span><span style=\"color: #808000; text-decoration-color: #808000\">chou</span><span style=\"color: #000000; text-decoration-color: #000000\">=&lt;Rive.GAUCHE: </span><span style=\"color: #008000; text-decoration-color: #008000\">'gauche'</span><span style=\"color: #000000; text-decoration-color: #000000\">&gt;</span>\n",
       "<span style=\"color: #000000; text-decoration-color: #000000\">    </span><span style=\"color: #000000; text-decoration-color: #000000; font-weight: bold\">)</span><span style=\"color: #000000; text-decoration-color: #000000\">,</span>\n",
       "<span style=\"color: #000000; text-decoration-color: #000000\">    </span><span style=\"color: #800080; text-decoration-color: #800080; font-weight: bold\">Etat</span><span style=\"color: #000000; text-decoration-color: #000000; font-weight: bold\">(</span>\n",
       "<span style=\"color: #000000; text-decoration-color: #000000\">        </span><span style=\"color: #808000; text-decoration-color: #808000\">berger</span><span style=\"color: #000000; text-decoration-color: #000000\">=&lt;Rive.DROITE: </span><span style=\"color: #008000; text-decoration-color: #008000\">'droite'</span><span style=\"color: #000000; text-decoration-color: #000000\">&gt;,</span>\n",
       "<span style=\"color: #000000; text-decoration-color: #000000\">        </span><span style=\"color: #808000; text-decoration-color: #808000\">loup</span><span style=\"color: #000000; text-decoration-color: #000000\">=&lt;Rive.DROITE: </span><span style=\"color: #008000; text-decoration-color: #008000\">'droite'</span><span style=\"color: #000000; text-decoration-color: #000000\">&gt;,</span>\n",
       "<span style=\"color: #000000; text-decoration-color: #000000\">        </span><span style=\"color: #808000; text-decoration-color: #808000\">mouton</span><span style=\"color: #000000; text-decoration-color: #000000\">=&lt;Rive.DROITE: </span><span style=\"color: #008000; text-decoration-color: #008000\">'droite'</span><span style=\"color: #000000; text-decoration-color: #000000\">&gt;,</span>\n",
       "<span style=\"color: #000000; text-decoration-color: #000000\">        </span><span style=\"color: #808000; text-decoration-color: #808000\">chou</span><span style=\"color: #000000; text-decoration-color: #000000\">=&lt;Rive.DROITE: </span><span style=\"color: #008000; text-decoration-color: #008000\">'droite'</span><span style=\"font-weight: bold\">&gt;</span>\n",
       "    <span style=\"font-weight: bold\">)</span>\n",
       "<span style=\"font-weight: bold\">]</span>\n",
       "</pre>\n"
      ],
      "text/plain": [
       "\u001b[1m[\u001b[0m\n",
       "    \u001b[1;35mEtat\u001b[0m\u001b[1m(\u001b[0m\n",
       "        \u001b[33mberger\u001b[0m=\u001b[1m<\u001b[0m\u001b[1;95mRive.GAUCHE:\u001b[0m\u001b[39m \u001b[0m\u001b[32m'gauche'\u001b[0m\u001b[39m>,\u001b[0m\n",
       "\u001b[39m        \u001b[0m\u001b[33mloup\u001b[0m\u001b[39m=<Rive.GAUCHE: \u001b[0m\u001b[32m'gauche'\u001b[0m\u001b[39m>,\u001b[0m\n",
       "\u001b[39m        \u001b[0m\u001b[33mmouton\u001b[0m\u001b[39m=<Rive.GAUCHE: \u001b[0m\u001b[32m'gauche'\u001b[0m\u001b[39m>,\u001b[0m\n",
       "\u001b[39m        \u001b[0m\u001b[33mchou\u001b[0m\u001b[39m=<Rive.GAUCHE: \u001b[0m\u001b[32m'gauche'\u001b[0m\u001b[39m>\u001b[0m\n",
       "\u001b[39m    \u001b[0m\u001b[1;39m)\u001b[0m\u001b[39m,\u001b[0m\n",
       "\u001b[39m    \u001b[0m\u001b[1;35mEtat\u001b[0m\u001b[1;39m(\u001b[0m\n",
       "\u001b[39m        \u001b[0m\u001b[33mberger\u001b[0m\u001b[39m=<Rive.GAUCHE: \u001b[0m\u001b[32m'gauche'\u001b[0m\u001b[39m>,\u001b[0m\n",
       "\u001b[39m        \u001b[0m\u001b[33mloup\u001b[0m\u001b[39m=<Rive.GAUCHE: \u001b[0m\u001b[32m'gauche'\u001b[0m\u001b[39m>,\u001b[0m\n",
       "\u001b[39m        \u001b[0m\u001b[33mmouton\u001b[0m\u001b[39m=<Rive.GAUCHE: \u001b[0m\u001b[32m'gauche'\u001b[0m\u001b[39m>,\u001b[0m\n",
       "\u001b[39m        \u001b[0m\u001b[33mchou\u001b[0m\u001b[39m=<Rive.DROITE: \u001b[0m\u001b[32m'droite'\u001b[0m\u001b[39m>\u001b[0m\n",
       "\u001b[39m    \u001b[0m\u001b[1;39m)\u001b[0m\u001b[39m,\u001b[0m\n",
       "\u001b[39m    \u001b[0m\u001b[1;35mEtat\u001b[0m\u001b[1;39m(\u001b[0m\n",
       "\u001b[39m        \u001b[0m\u001b[33mberger\u001b[0m\u001b[39m=<Rive.GAUCHE: \u001b[0m\u001b[32m'gauche'\u001b[0m\u001b[39m>,\u001b[0m\n",
       "\u001b[39m        \u001b[0m\u001b[33mloup\u001b[0m\u001b[39m=<Rive.GAUCHE: \u001b[0m\u001b[32m'gauche'\u001b[0m\u001b[39m>,\u001b[0m\n",
       "\u001b[39m        \u001b[0m\u001b[33mmouton\u001b[0m\u001b[39m=<Rive.DROITE: \u001b[0m\u001b[32m'droite'\u001b[0m\u001b[39m>,\u001b[0m\n",
       "\u001b[39m        \u001b[0m\u001b[33mchou\u001b[0m\u001b[39m=<Rive.GAUCHE: \u001b[0m\u001b[32m'gauche'\u001b[0m\u001b[39m>\u001b[0m\n",
       "\u001b[39m    \u001b[0m\u001b[1;39m)\u001b[0m\u001b[39m,\u001b[0m\n",
       "\u001b[39m    \u001b[0m\u001b[1;35mEtat\u001b[0m\u001b[1;39m(\u001b[0m\n",
       "\u001b[39m        \u001b[0m\u001b[33mberger\u001b[0m\u001b[39m=<Rive.GAUCHE: \u001b[0m\u001b[32m'gauche'\u001b[0m\u001b[39m>,\u001b[0m\n",
       "\u001b[39m        \u001b[0m\u001b[33mloup\u001b[0m\u001b[39m=<Rive.GAUCHE: \u001b[0m\u001b[32m'gauche'\u001b[0m\u001b[39m>,\u001b[0m\n",
       "\u001b[39m        \u001b[0m\u001b[33mmouton\u001b[0m\u001b[39m=<Rive.DROITE: \u001b[0m\u001b[32m'droite'\u001b[0m\u001b[39m>,\u001b[0m\n",
       "\u001b[39m        \u001b[0m\u001b[33mchou\u001b[0m\u001b[39m=<Rive.DROITE: \u001b[0m\u001b[32m'droite'\u001b[0m\u001b[39m>\u001b[0m\n",
       "\u001b[39m    \u001b[0m\u001b[1;39m)\u001b[0m\u001b[39m,\u001b[0m\n",
       "\u001b[39m    \u001b[0m\u001b[1;35mEtat\u001b[0m\u001b[1;39m(\u001b[0m\n",
       "\u001b[39m        \u001b[0m\u001b[33mberger\u001b[0m\u001b[39m=<Rive.GAUCHE: \u001b[0m\u001b[32m'gauche'\u001b[0m\u001b[39m>,\u001b[0m\n",
       "\u001b[39m        \u001b[0m\u001b[33mloup\u001b[0m\u001b[39m=<Rive.DROITE: \u001b[0m\u001b[32m'droite'\u001b[0m\u001b[39m>,\u001b[0m\n",
       "\u001b[39m        \u001b[0m\u001b[33mmouton\u001b[0m\u001b[39m=<Rive.GAUCHE: \u001b[0m\u001b[32m'gauche'\u001b[0m\u001b[39m>,\u001b[0m\n",
       "\u001b[39m        \u001b[0m\u001b[33mchou\u001b[0m\u001b[39m=<Rive.GAUCHE: \u001b[0m\u001b[32m'gauche'\u001b[0m\u001b[39m>\u001b[0m\n",
       "\u001b[39m    \u001b[0m\u001b[1;39m)\u001b[0m\u001b[39m,\u001b[0m\n",
       "\u001b[39m    \u001b[0m\u001b[1;35mEtat\u001b[0m\u001b[1;39m(\u001b[0m\n",
       "\u001b[39m        \u001b[0m\u001b[33mberger\u001b[0m\u001b[39m=<Rive.GAUCHE: \u001b[0m\u001b[32m'gauche'\u001b[0m\u001b[39m>,\u001b[0m\n",
       "\u001b[39m        \u001b[0m\u001b[33mloup\u001b[0m\u001b[39m=<Rive.DROITE: \u001b[0m\u001b[32m'droite'\u001b[0m\u001b[39m>,\u001b[0m\n",
       "\u001b[39m        \u001b[0m\u001b[33mmouton\u001b[0m\u001b[39m=<Rive.GAUCHE: \u001b[0m\u001b[32m'gauche'\u001b[0m\u001b[39m>,\u001b[0m\n",
       "\u001b[39m        \u001b[0m\u001b[33mchou\u001b[0m\u001b[39m=<Rive.DROITE: \u001b[0m\u001b[32m'droite'\u001b[0m\u001b[39m>\u001b[0m\n",
       "\u001b[39m    \u001b[0m\u001b[1;39m)\u001b[0m\u001b[39m,\u001b[0m\n",
       "\u001b[39m    \u001b[0m\u001b[1;35mEtat\u001b[0m\u001b[1;39m(\u001b[0m\n",
       "\u001b[39m        \u001b[0m\u001b[33mberger\u001b[0m\u001b[39m=<Rive.GAUCHE: \u001b[0m\u001b[32m'gauche'\u001b[0m\u001b[39m>,\u001b[0m\n",
       "\u001b[39m        \u001b[0m\u001b[33mloup\u001b[0m\u001b[39m=<Rive.DROITE: \u001b[0m\u001b[32m'droite'\u001b[0m\u001b[39m>,\u001b[0m\n",
       "\u001b[39m        \u001b[0m\u001b[33mmouton\u001b[0m\u001b[39m=<Rive.DROITE: \u001b[0m\u001b[32m'droite'\u001b[0m\u001b[39m>,\u001b[0m\n",
       "\u001b[39m        \u001b[0m\u001b[33mchou\u001b[0m\u001b[39m=<Rive.GAUCHE: \u001b[0m\u001b[32m'gauche'\u001b[0m\u001b[39m>\u001b[0m\n",
       "\u001b[39m    \u001b[0m\u001b[1;39m)\u001b[0m\u001b[39m,\u001b[0m\n",
       "\u001b[39m    \u001b[0m\u001b[1;35mEtat\u001b[0m\u001b[1;39m(\u001b[0m\n",
       "\u001b[39m        \u001b[0m\u001b[33mberger\u001b[0m\u001b[39m=<Rive.GAUCHE: \u001b[0m\u001b[32m'gauche'\u001b[0m\u001b[39m>,\u001b[0m\n",
       "\u001b[39m        \u001b[0m\u001b[33mloup\u001b[0m\u001b[39m=<Rive.DROITE: \u001b[0m\u001b[32m'droite'\u001b[0m\u001b[39m>,\u001b[0m\n",
       "\u001b[39m        \u001b[0m\u001b[33mmouton\u001b[0m\u001b[39m=<Rive.DROITE: \u001b[0m\u001b[32m'droite'\u001b[0m\u001b[39m>,\u001b[0m\n",
       "\u001b[39m        \u001b[0m\u001b[33mchou\u001b[0m\u001b[39m=<Rive.DROITE: \u001b[0m\u001b[32m'droite'\u001b[0m\u001b[39m>\u001b[0m\n",
       "\u001b[39m    \u001b[0m\u001b[1;39m)\u001b[0m\u001b[39m,\u001b[0m\n",
       "\u001b[39m    \u001b[0m\u001b[1;35mEtat\u001b[0m\u001b[1;39m(\u001b[0m\n",
       "\u001b[39m        \u001b[0m\u001b[33mberger\u001b[0m\u001b[39m=<Rive.DROITE: \u001b[0m\u001b[32m'droite'\u001b[0m\u001b[39m>,\u001b[0m\n",
       "\u001b[39m        \u001b[0m\u001b[33mloup\u001b[0m\u001b[39m=<Rive.GAUCHE: \u001b[0m\u001b[32m'gauche'\u001b[0m\u001b[39m>,\u001b[0m\n",
       "\u001b[39m        \u001b[0m\u001b[33mmouton\u001b[0m\u001b[39m=<Rive.GAUCHE: \u001b[0m\u001b[32m'gauche'\u001b[0m\u001b[39m>,\u001b[0m\n",
       "\u001b[39m        \u001b[0m\u001b[33mchou\u001b[0m\u001b[39m=<Rive.GAUCHE: \u001b[0m\u001b[32m'gauche'\u001b[0m\u001b[39m>\u001b[0m\n",
       "\u001b[39m    \u001b[0m\u001b[1;39m)\u001b[0m\u001b[39m,\u001b[0m\n",
       "\u001b[39m    \u001b[0m\u001b[1;35mEtat\u001b[0m\u001b[1;39m(\u001b[0m\n",
       "\u001b[39m        \u001b[0m\u001b[33mberger\u001b[0m\u001b[39m=<Rive.DROITE: \u001b[0m\u001b[32m'droite'\u001b[0m\u001b[39m>,\u001b[0m\n",
       "\u001b[39m        \u001b[0m\u001b[33mloup\u001b[0m\u001b[39m=<Rive.GAUCHE: \u001b[0m\u001b[32m'gauche'\u001b[0m\u001b[39m>,\u001b[0m\n",
       "\u001b[39m        \u001b[0m\u001b[33mmouton\u001b[0m\u001b[39m=<Rive.GAUCHE: \u001b[0m\u001b[32m'gauche'\u001b[0m\u001b[39m>,\u001b[0m\n",
       "\u001b[39m        \u001b[0m\u001b[33mchou\u001b[0m\u001b[39m=<Rive.DROITE: \u001b[0m\u001b[32m'droite'\u001b[0m\u001b[39m>\u001b[0m\n",
       "\u001b[39m    \u001b[0m\u001b[1;39m)\u001b[0m\u001b[39m,\u001b[0m\n",
       "\u001b[39m    \u001b[0m\u001b[1;35mEtat\u001b[0m\u001b[1;39m(\u001b[0m\n",
       "\u001b[39m        \u001b[0m\u001b[33mberger\u001b[0m\u001b[39m=<Rive.DROITE: \u001b[0m\u001b[32m'droite'\u001b[0m\u001b[39m>,\u001b[0m\n",
       "\u001b[39m        \u001b[0m\u001b[33mloup\u001b[0m\u001b[39m=<Rive.GAUCHE: \u001b[0m\u001b[32m'gauche'\u001b[0m\u001b[39m>,\u001b[0m\n",
       "\u001b[39m        \u001b[0m\u001b[33mmouton\u001b[0m\u001b[39m=<Rive.DROITE: \u001b[0m\u001b[32m'droite'\u001b[0m\u001b[39m>,\u001b[0m\n",
       "\u001b[39m        \u001b[0m\u001b[33mchou\u001b[0m\u001b[39m=<Rive.GAUCHE: \u001b[0m\u001b[32m'gauche'\u001b[0m\u001b[39m>\u001b[0m\n",
       "\u001b[39m    \u001b[0m\u001b[1;39m)\u001b[0m\u001b[39m,\u001b[0m\n",
       "\u001b[39m    \u001b[0m\u001b[1;35mEtat\u001b[0m\u001b[1;39m(\u001b[0m\n",
       "\u001b[39m        \u001b[0m\u001b[33mberger\u001b[0m\u001b[39m=<Rive.DROITE: \u001b[0m\u001b[32m'droite'\u001b[0m\u001b[39m>,\u001b[0m\n",
       "\u001b[39m        \u001b[0m\u001b[33mloup\u001b[0m\u001b[39m=<Rive.GAUCHE: \u001b[0m\u001b[32m'gauche'\u001b[0m\u001b[39m>,\u001b[0m\n",
       "\u001b[39m        \u001b[0m\u001b[33mmouton\u001b[0m\u001b[39m=<Rive.DROITE: \u001b[0m\u001b[32m'droite'\u001b[0m\u001b[39m>,\u001b[0m\n",
       "\u001b[39m        \u001b[0m\u001b[33mchou\u001b[0m\u001b[39m=<Rive.DROITE: \u001b[0m\u001b[32m'droite'\u001b[0m\u001b[39m>\u001b[0m\n",
       "\u001b[39m    \u001b[0m\u001b[1;39m)\u001b[0m\u001b[39m,\u001b[0m\n",
       "\u001b[39m    \u001b[0m\u001b[1;35mEtat\u001b[0m\u001b[1;39m(\u001b[0m\n",
       "\u001b[39m        \u001b[0m\u001b[33mberger\u001b[0m\u001b[39m=<Rive.DROITE: \u001b[0m\u001b[32m'droite'\u001b[0m\u001b[39m>,\u001b[0m\n",
       "\u001b[39m        \u001b[0m\u001b[33mloup\u001b[0m\u001b[39m=<Rive.DROITE: \u001b[0m\u001b[32m'droite'\u001b[0m\u001b[39m>,\u001b[0m\n",
       "\u001b[39m        \u001b[0m\u001b[33mmouton\u001b[0m\u001b[39m=<Rive.GAUCHE: \u001b[0m\u001b[32m'gauche'\u001b[0m\u001b[39m>,\u001b[0m\n",
       "\u001b[39m        \u001b[0m\u001b[33mchou\u001b[0m\u001b[39m=<Rive.GAUCHE: \u001b[0m\u001b[32m'gauche'\u001b[0m\u001b[39m>\u001b[0m\n",
       "\u001b[39m    \u001b[0m\u001b[1;39m)\u001b[0m\u001b[39m,\u001b[0m\n",
       "\u001b[39m    \u001b[0m\u001b[1;35mEtat\u001b[0m\u001b[1;39m(\u001b[0m\n",
       "\u001b[39m        \u001b[0m\u001b[33mberger\u001b[0m\u001b[39m=<Rive.DROITE: \u001b[0m\u001b[32m'droite'\u001b[0m\u001b[39m>,\u001b[0m\n",
       "\u001b[39m        \u001b[0m\u001b[33mloup\u001b[0m\u001b[39m=<Rive.DROITE: \u001b[0m\u001b[32m'droite'\u001b[0m\u001b[39m>,\u001b[0m\n",
       "\u001b[39m        \u001b[0m\u001b[33mmouton\u001b[0m\u001b[39m=<Rive.GAUCHE: \u001b[0m\u001b[32m'gauche'\u001b[0m\u001b[39m>,\u001b[0m\n",
       "\u001b[39m        \u001b[0m\u001b[33mchou\u001b[0m\u001b[39m=<Rive.DROITE: \u001b[0m\u001b[32m'droite'\u001b[0m\u001b[39m>\u001b[0m\n",
       "\u001b[39m    \u001b[0m\u001b[1;39m)\u001b[0m\u001b[39m,\u001b[0m\n",
       "\u001b[39m    \u001b[0m\u001b[1;35mEtat\u001b[0m\u001b[1;39m(\u001b[0m\n",
       "\u001b[39m        \u001b[0m\u001b[33mberger\u001b[0m\u001b[39m=<Rive.DROITE: \u001b[0m\u001b[32m'droite'\u001b[0m\u001b[39m>,\u001b[0m\n",
       "\u001b[39m        \u001b[0m\u001b[33mloup\u001b[0m\u001b[39m=<Rive.DROITE: \u001b[0m\u001b[32m'droite'\u001b[0m\u001b[39m>,\u001b[0m\n",
       "\u001b[39m        \u001b[0m\u001b[33mmouton\u001b[0m\u001b[39m=<Rive.DROITE: \u001b[0m\u001b[32m'droite'\u001b[0m\u001b[39m>,\u001b[0m\n",
       "\u001b[39m        \u001b[0m\u001b[33mchou\u001b[0m\u001b[39m=<Rive.GAUCHE: \u001b[0m\u001b[32m'gauche'\u001b[0m\u001b[39m>\u001b[0m\n",
       "\u001b[39m    \u001b[0m\u001b[1;39m)\u001b[0m\u001b[39m,\u001b[0m\n",
       "\u001b[39m    \u001b[0m\u001b[1;35mEtat\u001b[0m\u001b[1;39m(\u001b[0m\n",
       "\u001b[39m        \u001b[0m\u001b[33mberger\u001b[0m\u001b[39m=<Rive.DROITE: \u001b[0m\u001b[32m'droite'\u001b[0m\u001b[39m>,\u001b[0m\n",
       "\u001b[39m        \u001b[0m\u001b[33mloup\u001b[0m\u001b[39m=<Rive.DROITE: \u001b[0m\u001b[32m'droite'\u001b[0m\u001b[39m>,\u001b[0m\n",
       "\u001b[39m        \u001b[0m\u001b[33mmouton\u001b[0m\u001b[39m=<Rive.DROITE: \u001b[0m\u001b[32m'droite'\u001b[0m\u001b[39m>,\u001b[0m\n",
       "\u001b[39m        \u001b[0m\u001b[33mchou\u001b[0m\u001b[39m=<Rive.DROITE: \u001b[0m\u001b[32m'droite'\u001b[0m\u001b[1m>\u001b[0m\n",
       "    \u001b[1m)\u001b[0m\n",
       "\u001b[1m]\u001b[0m\n"
      ]
     },
     "metadata": {},
     "output_type": "display_data"
    }
   ],
   "source": [
    "print(etats)"
   ]
  },
  {
   "cell_type": "markdown",
   "id": "f1c79965-dbd1-4377-bedb-11d9a02f0d4c",
   "metadata": {},
   "source": [
    "## Exercice\n",
    "\n",
    "Codez une fonction `est_valide` prenant un état en entrée et renvoyant un booléen vrai ou faux suivant que les règles de **surveillances** du problème sont respectées."
   ]
  },
  {
   "cell_type": "code",
   "execution_count": 18,
   "id": "f7e00844-1545-454a-b085-cc6a219b106b",
   "metadata": {},
   "outputs": [],
   "source": [
    "def est_valide(etat: Etat) -> bool:\n",
    "    if etat.loup == etat.mouton and etat.loup != etat.berger:\n",
    "        return False\n",
    "    if etat.mouton == etat.chou and etat.mouton != etat.berger:\n",
    "        return False\n",
    "    return True"
   ]
  },
  {
   "cell_type": "code",
   "execution_count": 19,
   "id": "e48cbbc0-e993-4d09-a24e-84b47d972d46",
   "metadata": {},
   "outputs": [],
   "source": [
    "assert est_valide(etat=DEPART)"
   ]
  },
  {
   "cell_type": "code",
   "execution_count": 20,
   "id": "143eb363-5280-4c50-adc2-6e430d0166ae",
   "metadata": {},
   "outputs": [],
   "source": [
    "probleme = Etat(\n",
    "    berger=Rive.GAUCHE,\n",
    "    loup=Rive.DROITE,\n",
    "    mouton=Rive.DROITE,\n",
    "    chou=Rive.GAUCHE,\n",
    ")"
   ]
  },
  {
   "cell_type": "code",
   "execution_count": 22,
   "id": "12fd94b8-fef1-46c2-9409-f5512c98e3db",
   "metadata": {},
   "outputs": [],
   "source": [
    "assert not est_valide(etat=probleme)"
   ]
  },
  {
   "cell_type": "markdown",
   "id": "7474eb31-3b7c-490e-bcf1-0891cbb62f3e",
   "metadata": {},
   "source": [
    "## Exercice\n",
    "\n",
    "Créez la liste des états valides qu'on appellera `sommets`"
   ]
  },
  {
   "cell_type": "code",
   "execution_count": 25,
   "id": "f3004391-c2ae-4a46-b568-e50f3db5aa82",
   "metadata": {
    "collapsed": true,
    "jupyter": {
     "outputs_hidden": true
    },
    "tags": []
   },
   "outputs": [
    {
     "data": {
      "text/html": [
       "<pre style=\"white-space:pre;overflow-x:auto;line-height:normal;font-family:Menlo,'DejaVu Sans Mono',consolas,'Courier New',monospace\"><span style=\"font-weight: bold\">[</span>\n",
       "    <span style=\"color: #800080; text-decoration-color: #800080; font-weight: bold\">Etat</span><span style=\"font-weight: bold\">(</span>\n",
       "        <span style=\"color: #808000; text-decoration-color: #808000\">berger</span>=<span style=\"font-weight: bold\">&lt;</span><span style=\"color: #ff00ff; text-decoration-color: #ff00ff; font-weight: bold\">Rive.GAUCHE:</span><span style=\"color: #000000; text-decoration-color: #000000\"> </span><span style=\"color: #008000; text-decoration-color: #008000\">'gauche'</span><span style=\"color: #000000; text-decoration-color: #000000\">&gt;,</span>\n",
       "<span style=\"color: #000000; text-decoration-color: #000000\">        </span><span style=\"color: #808000; text-decoration-color: #808000\">loup</span><span style=\"color: #000000; text-decoration-color: #000000\">=&lt;Rive.GAUCHE: </span><span style=\"color: #008000; text-decoration-color: #008000\">'gauche'</span><span style=\"color: #000000; text-decoration-color: #000000\">&gt;,</span>\n",
       "<span style=\"color: #000000; text-decoration-color: #000000\">        </span><span style=\"color: #808000; text-decoration-color: #808000\">mouton</span><span style=\"color: #000000; text-decoration-color: #000000\">=&lt;Rive.GAUCHE: </span><span style=\"color: #008000; text-decoration-color: #008000\">'gauche'</span><span style=\"color: #000000; text-decoration-color: #000000\">&gt;,</span>\n",
       "<span style=\"color: #000000; text-decoration-color: #000000\">        </span><span style=\"color: #808000; text-decoration-color: #808000\">chou</span><span style=\"color: #000000; text-decoration-color: #000000\">=&lt;Rive.GAUCHE: </span><span style=\"color: #008000; text-decoration-color: #008000\">'gauche'</span><span style=\"color: #000000; text-decoration-color: #000000\">&gt;</span>\n",
       "<span style=\"color: #000000; text-decoration-color: #000000\">    </span><span style=\"color: #000000; text-decoration-color: #000000; font-weight: bold\">)</span><span style=\"color: #000000; text-decoration-color: #000000\">,</span>\n",
       "<span style=\"color: #000000; text-decoration-color: #000000\">    </span><span style=\"color: #800080; text-decoration-color: #800080; font-weight: bold\">Etat</span><span style=\"color: #000000; text-decoration-color: #000000; font-weight: bold\">(</span>\n",
       "<span style=\"color: #000000; text-decoration-color: #000000\">        </span><span style=\"color: #808000; text-decoration-color: #808000\">berger</span><span style=\"color: #000000; text-decoration-color: #000000\">=&lt;Rive.GAUCHE: </span><span style=\"color: #008000; text-decoration-color: #008000\">'gauche'</span><span style=\"color: #000000; text-decoration-color: #000000\">&gt;,</span>\n",
       "<span style=\"color: #000000; text-decoration-color: #000000\">        </span><span style=\"color: #808000; text-decoration-color: #808000\">loup</span><span style=\"color: #000000; text-decoration-color: #000000\">=&lt;Rive.GAUCHE: </span><span style=\"color: #008000; text-decoration-color: #008000\">'gauche'</span><span style=\"color: #000000; text-decoration-color: #000000\">&gt;,</span>\n",
       "<span style=\"color: #000000; text-decoration-color: #000000\">        </span><span style=\"color: #808000; text-decoration-color: #808000\">mouton</span><span style=\"color: #000000; text-decoration-color: #000000\">=&lt;Rive.GAUCHE: </span><span style=\"color: #008000; text-decoration-color: #008000\">'gauche'</span><span style=\"color: #000000; text-decoration-color: #000000\">&gt;,</span>\n",
       "<span style=\"color: #000000; text-decoration-color: #000000\">        </span><span style=\"color: #808000; text-decoration-color: #808000\">chou</span><span style=\"color: #000000; text-decoration-color: #000000\">=&lt;Rive.DROITE: </span><span style=\"color: #008000; text-decoration-color: #008000\">'droite'</span><span style=\"color: #000000; text-decoration-color: #000000\">&gt;</span>\n",
       "<span style=\"color: #000000; text-decoration-color: #000000\">    </span><span style=\"color: #000000; text-decoration-color: #000000; font-weight: bold\">)</span><span style=\"color: #000000; text-decoration-color: #000000\">,</span>\n",
       "<span style=\"color: #000000; text-decoration-color: #000000\">    </span><span style=\"color: #800080; text-decoration-color: #800080; font-weight: bold\">Etat</span><span style=\"color: #000000; text-decoration-color: #000000; font-weight: bold\">(</span>\n",
       "<span style=\"color: #000000; text-decoration-color: #000000\">        </span><span style=\"color: #808000; text-decoration-color: #808000\">berger</span><span style=\"color: #000000; text-decoration-color: #000000\">=&lt;Rive.GAUCHE: </span><span style=\"color: #008000; text-decoration-color: #008000\">'gauche'</span><span style=\"color: #000000; text-decoration-color: #000000\">&gt;,</span>\n",
       "<span style=\"color: #000000; text-decoration-color: #000000\">        </span><span style=\"color: #808000; text-decoration-color: #808000\">loup</span><span style=\"color: #000000; text-decoration-color: #000000\">=&lt;Rive.GAUCHE: </span><span style=\"color: #008000; text-decoration-color: #008000\">'gauche'</span><span style=\"color: #000000; text-decoration-color: #000000\">&gt;,</span>\n",
       "<span style=\"color: #000000; text-decoration-color: #000000\">        </span><span style=\"color: #808000; text-decoration-color: #808000\">mouton</span><span style=\"color: #000000; text-decoration-color: #000000\">=&lt;Rive.DROITE: </span><span style=\"color: #008000; text-decoration-color: #008000\">'droite'</span><span style=\"color: #000000; text-decoration-color: #000000\">&gt;,</span>\n",
       "<span style=\"color: #000000; text-decoration-color: #000000\">        </span><span style=\"color: #808000; text-decoration-color: #808000\">chou</span><span style=\"color: #000000; text-decoration-color: #000000\">=&lt;Rive.GAUCHE: </span><span style=\"color: #008000; text-decoration-color: #008000\">'gauche'</span><span style=\"color: #000000; text-decoration-color: #000000\">&gt;</span>\n",
       "<span style=\"color: #000000; text-decoration-color: #000000\">    </span><span style=\"color: #000000; text-decoration-color: #000000; font-weight: bold\">)</span><span style=\"color: #000000; text-decoration-color: #000000\">,</span>\n",
       "<span style=\"color: #000000; text-decoration-color: #000000\">    </span><span style=\"color: #800080; text-decoration-color: #800080; font-weight: bold\">Etat</span><span style=\"color: #000000; text-decoration-color: #000000; font-weight: bold\">(</span>\n",
       "<span style=\"color: #000000; text-decoration-color: #000000\">        </span><span style=\"color: #808000; text-decoration-color: #808000\">berger</span><span style=\"color: #000000; text-decoration-color: #000000\">=&lt;Rive.GAUCHE: </span><span style=\"color: #008000; text-decoration-color: #008000\">'gauche'</span><span style=\"color: #000000; text-decoration-color: #000000\">&gt;,</span>\n",
       "<span style=\"color: #000000; text-decoration-color: #000000\">        </span><span style=\"color: #808000; text-decoration-color: #808000\">loup</span><span style=\"color: #000000; text-decoration-color: #000000\">=&lt;Rive.DROITE: </span><span style=\"color: #008000; text-decoration-color: #008000\">'droite'</span><span style=\"color: #000000; text-decoration-color: #000000\">&gt;,</span>\n",
       "<span style=\"color: #000000; text-decoration-color: #000000\">        </span><span style=\"color: #808000; text-decoration-color: #808000\">mouton</span><span style=\"color: #000000; text-decoration-color: #000000\">=&lt;Rive.GAUCHE: </span><span style=\"color: #008000; text-decoration-color: #008000\">'gauche'</span><span style=\"color: #000000; text-decoration-color: #000000\">&gt;,</span>\n",
       "<span style=\"color: #000000; text-decoration-color: #000000\">        </span><span style=\"color: #808000; text-decoration-color: #808000\">chou</span><span style=\"color: #000000; text-decoration-color: #000000\">=&lt;Rive.GAUCHE: </span><span style=\"color: #008000; text-decoration-color: #008000\">'gauche'</span><span style=\"color: #000000; text-decoration-color: #000000\">&gt;</span>\n",
       "<span style=\"color: #000000; text-decoration-color: #000000\">    </span><span style=\"color: #000000; text-decoration-color: #000000; font-weight: bold\">)</span><span style=\"color: #000000; text-decoration-color: #000000\">,</span>\n",
       "<span style=\"color: #000000; text-decoration-color: #000000\">    </span><span style=\"color: #800080; text-decoration-color: #800080; font-weight: bold\">Etat</span><span style=\"color: #000000; text-decoration-color: #000000; font-weight: bold\">(</span>\n",
       "<span style=\"color: #000000; text-decoration-color: #000000\">        </span><span style=\"color: #808000; text-decoration-color: #808000\">berger</span><span style=\"color: #000000; text-decoration-color: #000000\">=&lt;Rive.GAUCHE: </span><span style=\"color: #008000; text-decoration-color: #008000\">'gauche'</span><span style=\"color: #000000; text-decoration-color: #000000\">&gt;,</span>\n",
       "<span style=\"color: #000000; text-decoration-color: #000000\">        </span><span style=\"color: #808000; text-decoration-color: #808000\">loup</span><span style=\"color: #000000; text-decoration-color: #000000\">=&lt;Rive.DROITE: </span><span style=\"color: #008000; text-decoration-color: #008000\">'droite'</span><span style=\"color: #000000; text-decoration-color: #000000\">&gt;,</span>\n",
       "<span style=\"color: #000000; text-decoration-color: #000000\">        </span><span style=\"color: #808000; text-decoration-color: #808000\">mouton</span><span style=\"color: #000000; text-decoration-color: #000000\">=&lt;Rive.GAUCHE: </span><span style=\"color: #008000; text-decoration-color: #008000\">'gauche'</span><span style=\"color: #000000; text-decoration-color: #000000\">&gt;,</span>\n",
       "<span style=\"color: #000000; text-decoration-color: #000000\">        </span><span style=\"color: #808000; text-decoration-color: #808000\">chou</span><span style=\"color: #000000; text-decoration-color: #000000\">=&lt;Rive.DROITE: </span><span style=\"color: #008000; text-decoration-color: #008000\">'droite'</span><span style=\"color: #000000; text-decoration-color: #000000\">&gt;</span>\n",
       "<span style=\"color: #000000; text-decoration-color: #000000\">    </span><span style=\"color: #000000; text-decoration-color: #000000; font-weight: bold\">)</span><span style=\"color: #000000; text-decoration-color: #000000\">,</span>\n",
       "<span style=\"color: #000000; text-decoration-color: #000000\">    </span><span style=\"color: #800080; text-decoration-color: #800080; font-weight: bold\">Etat</span><span style=\"color: #000000; text-decoration-color: #000000; font-weight: bold\">(</span>\n",
       "<span style=\"color: #000000; text-decoration-color: #000000\">        </span><span style=\"color: #808000; text-decoration-color: #808000\">berger</span><span style=\"color: #000000; text-decoration-color: #000000\">=&lt;Rive.DROITE: </span><span style=\"color: #008000; text-decoration-color: #008000\">'droite'</span><span style=\"color: #000000; text-decoration-color: #000000\">&gt;,</span>\n",
       "<span style=\"color: #000000; text-decoration-color: #000000\">        </span><span style=\"color: #808000; text-decoration-color: #808000\">loup</span><span style=\"color: #000000; text-decoration-color: #000000\">=&lt;Rive.GAUCHE: </span><span style=\"color: #008000; text-decoration-color: #008000\">'gauche'</span><span style=\"color: #000000; text-decoration-color: #000000\">&gt;,</span>\n",
       "<span style=\"color: #000000; text-decoration-color: #000000\">        </span><span style=\"color: #808000; text-decoration-color: #808000\">mouton</span><span style=\"color: #000000; text-decoration-color: #000000\">=&lt;Rive.DROITE: </span><span style=\"color: #008000; text-decoration-color: #008000\">'droite'</span><span style=\"color: #000000; text-decoration-color: #000000\">&gt;,</span>\n",
       "<span style=\"color: #000000; text-decoration-color: #000000\">        </span><span style=\"color: #808000; text-decoration-color: #808000\">chou</span><span style=\"color: #000000; text-decoration-color: #000000\">=&lt;Rive.GAUCHE: </span><span style=\"color: #008000; text-decoration-color: #008000\">'gauche'</span><span style=\"color: #000000; text-decoration-color: #000000\">&gt;</span>\n",
       "<span style=\"color: #000000; text-decoration-color: #000000\">    </span><span style=\"color: #000000; text-decoration-color: #000000; font-weight: bold\">)</span><span style=\"color: #000000; text-decoration-color: #000000\">,</span>\n",
       "<span style=\"color: #000000; text-decoration-color: #000000\">    </span><span style=\"color: #800080; text-decoration-color: #800080; font-weight: bold\">Etat</span><span style=\"color: #000000; text-decoration-color: #000000; font-weight: bold\">(</span>\n",
       "<span style=\"color: #000000; text-decoration-color: #000000\">        </span><span style=\"color: #808000; text-decoration-color: #808000\">berger</span><span style=\"color: #000000; text-decoration-color: #000000\">=&lt;Rive.DROITE: </span><span style=\"color: #008000; text-decoration-color: #008000\">'droite'</span><span style=\"color: #000000; text-decoration-color: #000000\">&gt;,</span>\n",
       "<span style=\"color: #000000; text-decoration-color: #000000\">        </span><span style=\"color: #808000; text-decoration-color: #808000\">loup</span><span style=\"color: #000000; text-decoration-color: #000000\">=&lt;Rive.GAUCHE: </span><span style=\"color: #008000; text-decoration-color: #008000\">'gauche'</span><span style=\"color: #000000; text-decoration-color: #000000\">&gt;,</span>\n",
       "<span style=\"color: #000000; text-decoration-color: #000000\">        </span><span style=\"color: #808000; text-decoration-color: #808000\">mouton</span><span style=\"color: #000000; text-decoration-color: #000000\">=&lt;Rive.DROITE: </span><span style=\"color: #008000; text-decoration-color: #008000\">'droite'</span><span style=\"color: #000000; text-decoration-color: #000000\">&gt;,</span>\n",
       "<span style=\"color: #000000; text-decoration-color: #000000\">        </span><span style=\"color: #808000; text-decoration-color: #808000\">chou</span><span style=\"color: #000000; text-decoration-color: #000000\">=&lt;Rive.DROITE: </span><span style=\"color: #008000; text-decoration-color: #008000\">'droite'</span><span style=\"color: #000000; text-decoration-color: #000000\">&gt;</span>\n",
       "<span style=\"color: #000000; text-decoration-color: #000000\">    </span><span style=\"color: #000000; text-decoration-color: #000000; font-weight: bold\">)</span><span style=\"color: #000000; text-decoration-color: #000000\">,</span>\n",
       "<span style=\"color: #000000; text-decoration-color: #000000\">    </span><span style=\"color: #800080; text-decoration-color: #800080; font-weight: bold\">Etat</span><span style=\"color: #000000; text-decoration-color: #000000; font-weight: bold\">(</span>\n",
       "<span style=\"color: #000000; text-decoration-color: #000000\">        </span><span style=\"color: #808000; text-decoration-color: #808000\">berger</span><span style=\"color: #000000; text-decoration-color: #000000\">=&lt;Rive.DROITE: </span><span style=\"color: #008000; text-decoration-color: #008000\">'droite'</span><span style=\"color: #000000; text-decoration-color: #000000\">&gt;,</span>\n",
       "<span style=\"color: #000000; text-decoration-color: #000000\">        </span><span style=\"color: #808000; text-decoration-color: #808000\">loup</span><span style=\"color: #000000; text-decoration-color: #000000\">=&lt;Rive.DROITE: </span><span style=\"color: #008000; text-decoration-color: #008000\">'droite'</span><span style=\"color: #000000; text-decoration-color: #000000\">&gt;,</span>\n",
       "<span style=\"color: #000000; text-decoration-color: #000000\">        </span><span style=\"color: #808000; text-decoration-color: #808000\">mouton</span><span style=\"color: #000000; text-decoration-color: #000000\">=&lt;Rive.GAUCHE: </span><span style=\"color: #008000; text-decoration-color: #008000\">'gauche'</span><span style=\"color: #000000; text-decoration-color: #000000\">&gt;,</span>\n",
       "<span style=\"color: #000000; text-decoration-color: #000000\">        </span><span style=\"color: #808000; text-decoration-color: #808000\">chou</span><span style=\"color: #000000; text-decoration-color: #000000\">=&lt;Rive.DROITE: </span><span style=\"color: #008000; text-decoration-color: #008000\">'droite'</span><span style=\"color: #000000; text-decoration-color: #000000\">&gt;</span>\n",
       "<span style=\"color: #000000; text-decoration-color: #000000\">    </span><span style=\"color: #000000; text-decoration-color: #000000; font-weight: bold\">)</span><span style=\"color: #000000; text-decoration-color: #000000\">,</span>\n",
       "<span style=\"color: #000000; text-decoration-color: #000000\">    </span><span style=\"color: #800080; text-decoration-color: #800080; font-weight: bold\">Etat</span><span style=\"color: #000000; text-decoration-color: #000000; font-weight: bold\">(</span>\n",
       "<span style=\"color: #000000; text-decoration-color: #000000\">        </span><span style=\"color: #808000; text-decoration-color: #808000\">berger</span><span style=\"color: #000000; text-decoration-color: #000000\">=&lt;Rive.DROITE: </span><span style=\"color: #008000; text-decoration-color: #008000\">'droite'</span><span style=\"color: #000000; text-decoration-color: #000000\">&gt;,</span>\n",
       "<span style=\"color: #000000; text-decoration-color: #000000\">        </span><span style=\"color: #808000; text-decoration-color: #808000\">loup</span><span style=\"color: #000000; text-decoration-color: #000000\">=&lt;Rive.DROITE: </span><span style=\"color: #008000; text-decoration-color: #008000\">'droite'</span><span style=\"color: #000000; text-decoration-color: #000000\">&gt;,</span>\n",
       "<span style=\"color: #000000; text-decoration-color: #000000\">        </span><span style=\"color: #808000; text-decoration-color: #808000\">mouton</span><span style=\"color: #000000; text-decoration-color: #000000\">=&lt;Rive.DROITE: </span><span style=\"color: #008000; text-decoration-color: #008000\">'droite'</span><span style=\"color: #000000; text-decoration-color: #000000\">&gt;,</span>\n",
       "<span style=\"color: #000000; text-decoration-color: #000000\">        </span><span style=\"color: #808000; text-decoration-color: #808000\">chou</span><span style=\"color: #000000; text-decoration-color: #000000\">=&lt;Rive.GAUCHE: </span><span style=\"color: #008000; text-decoration-color: #008000\">'gauche'</span><span style=\"color: #000000; text-decoration-color: #000000\">&gt;</span>\n",
       "<span style=\"color: #000000; text-decoration-color: #000000\">    </span><span style=\"color: #000000; text-decoration-color: #000000; font-weight: bold\">)</span><span style=\"color: #000000; text-decoration-color: #000000\">,</span>\n",
       "<span style=\"color: #000000; text-decoration-color: #000000\">    </span><span style=\"color: #800080; text-decoration-color: #800080; font-weight: bold\">Etat</span><span style=\"color: #000000; text-decoration-color: #000000; font-weight: bold\">(</span>\n",
       "<span style=\"color: #000000; text-decoration-color: #000000\">        </span><span style=\"color: #808000; text-decoration-color: #808000\">berger</span><span style=\"color: #000000; text-decoration-color: #000000\">=&lt;Rive.DROITE: </span><span style=\"color: #008000; text-decoration-color: #008000\">'droite'</span><span style=\"color: #000000; text-decoration-color: #000000\">&gt;,</span>\n",
       "<span style=\"color: #000000; text-decoration-color: #000000\">        </span><span style=\"color: #808000; text-decoration-color: #808000\">loup</span><span style=\"color: #000000; text-decoration-color: #000000\">=&lt;Rive.DROITE: </span><span style=\"color: #008000; text-decoration-color: #008000\">'droite'</span><span style=\"color: #000000; text-decoration-color: #000000\">&gt;,</span>\n",
       "<span style=\"color: #000000; text-decoration-color: #000000\">        </span><span style=\"color: #808000; text-decoration-color: #808000\">mouton</span><span style=\"color: #000000; text-decoration-color: #000000\">=&lt;Rive.DROITE: </span><span style=\"color: #008000; text-decoration-color: #008000\">'droite'</span><span style=\"color: #000000; text-decoration-color: #000000\">&gt;,</span>\n",
       "<span style=\"color: #000000; text-decoration-color: #000000\">        </span><span style=\"color: #808000; text-decoration-color: #808000\">chou</span><span style=\"color: #000000; text-decoration-color: #000000\">=&lt;Rive.DROITE: </span><span style=\"color: #008000; text-decoration-color: #008000\">'droite'</span><span style=\"font-weight: bold\">&gt;</span>\n",
       "    <span style=\"font-weight: bold\">)</span>\n",
       "<span style=\"font-weight: bold\">]</span>\n",
       "</pre>\n"
      ],
      "text/plain": [
       "\u001b[1m[\u001b[0m\n",
       "    \u001b[1;35mEtat\u001b[0m\u001b[1m(\u001b[0m\n",
       "        \u001b[33mberger\u001b[0m=\u001b[1m<\u001b[0m\u001b[1;95mRive.GAUCHE:\u001b[0m\u001b[39m \u001b[0m\u001b[32m'gauche'\u001b[0m\u001b[39m>,\u001b[0m\n",
       "\u001b[39m        \u001b[0m\u001b[33mloup\u001b[0m\u001b[39m=<Rive.GAUCHE: \u001b[0m\u001b[32m'gauche'\u001b[0m\u001b[39m>,\u001b[0m\n",
       "\u001b[39m        \u001b[0m\u001b[33mmouton\u001b[0m\u001b[39m=<Rive.GAUCHE: \u001b[0m\u001b[32m'gauche'\u001b[0m\u001b[39m>,\u001b[0m\n",
       "\u001b[39m        \u001b[0m\u001b[33mchou\u001b[0m\u001b[39m=<Rive.GAUCHE: \u001b[0m\u001b[32m'gauche'\u001b[0m\u001b[39m>\u001b[0m\n",
       "\u001b[39m    \u001b[0m\u001b[1;39m)\u001b[0m\u001b[39m,\u001b[0m\n",
       "\u001b[39m    \u001b[0m\u001b[1;35mEtat\u001b[0m\u001b[1;39m(\u001b[0m\n",
       "\u001b[39m        \u001b[0m\u001b[33mberger\u001b[0m\u001b[39m=<Rive.GAUCHE: \u001b[0m\u001b[32m'gauche'\u001b[0m\u001b[39m>,\u001b[0m\n",
       "\u001b[39m        \u001b[0m\u001b[33mloup\u001b[0m\u001b[39m=<Rive.GAUCHE: \u001b[0m\u001b[32m'gauche'\u001b[0m\u001b[39m>,\u001b[0m\n",
       "\u001b[39m        \u001b[0m\u001b[33mmouton\u001b[0m\u001b[39m=<Rive.GAUCHE: \u001b[0m\u001b[32m'gauche'\u001b[0m\u001b[39m>,\u001b[0m\n",
       "\u001b[39m        \u001b[0m\u001b[33mchou\u001b[0m\u001b[39m=<Rive.DROITE: \u001b[0m\u001b[32m'droite'\u001b[0m\u001b[39m>\u001b[0m\n",
       "\u001b[39m    \u001b[0m\u001b[1;39m)\u001b[0m\u001b[39m,\u001b[0m\n",
       "\u001b[39m    \u001b[0m\u001b[1;35mEtat\u001b[0m\u001b[1;39m(\u001b[0m\n",
       "\u001b[39m        \u001b[0m\u001b[33mberger\u001b[0m\u001b[39m=<Rive.GAUCHE: \u001b[0m\u001b[32m'gauche'\u001b[0m\u001b[39m>,\u001b[0m\n",
       "\u001b[39m        \u001b[0m\u001b[33mloup\u001b[0m\u001b[39m=<Rive.GAUCHE: \u001b[0m\u001b[32m'gauche'\u001b[0m\u001b[39m>,\u001b[0m\n",
       "\u001b[39m        \u001b[0m\u001b[33mmouton\u001b[0m\u001b[39m=<Rive.DROITE: \u001b[0m\u001b[32m'droite'\u001b[0m\u001b[39m>,\u001b[0m\n",
       "\u001b[39m        \u001b[0m\u001b[33mchou\u001b[0m\u001b[39m=<Rive.GAUCHE: \u001b[0m\u001b[32m'gauche'\u001b[0m\u001b[39m>\u001b[0m\n",
       "\u001b[39m    \u001b[0m\u001b[1;39m)\u001b[0m\u001b[39m,\u001b[0m\n",
       "\u001b[39m    \u001b[0m\u001b[1;35mEtat\u001b[0m\u001b[1;39m(\u001b[0m\n",
       "\u001b[39m        \u001b[0m\u001b[33mberger\u001b[0m\u001b[39m=<Rive.GAUCHE: \u001b[0m\u001b[32m'gauche'\u001b[0m\u001b[39m>,\u001b[0m\n",
       "\u001b[39m        \u001b[0m\u001b[33mloup\u001b[0m\u001b[39m=<Rive.DROITE: \u001b[0m\u001b[32m'droite'\u001b[0m\u001b[39m>,\u001b[0m\n",
       "\u001b[39m        \u001b[0m\u001b[33mmouton\u001b[0m\u001b[39m=<Rive.GAUCHE: \u001b[0m\u001b[32m'gauche'\u001b[0m\u001b[39m>,\u001b[0m\n",
       "\u001b[39m        \u001b[0m\u001b[33mchou\u001b[0m\u001b[39m=<Rive.GAUCHE: \u001b[0m\u001b[32m'gauche'\u001b[0m\u001b[39m>\u001b[0m\n",
       "\u001b[39m    \u001b[0m\u001b[1;39m)\u001b[0m\u001b[39m,\u001b[0m\n",
       "\u001b[39m    \u001b[0m\u001b[1;35mEtat\u001b[0m\u001b[1;39m(\u001b[0m\n",
       "\u001b[39m        \u001b[0m\u001b[33mberger\u001b[0m\u001b[39m=<Rive.GAUCHE: \u001b[0m\u001b[32m'gauche'\u001b[0m\u001b[39m>,\u001b[0m\n",
       "\u001b[39m        \u001b[0m\u001b[33mloup\u001b[0m\u001b[39m=<Rive.DROITE: \u001b[0m\u001b[32m'droite'\u001b[0m\u001b[39m>,\u001b[0m\n",
       "\u001b[39m        \u001b[0m\u001b[33mmouton\u001b[0m\u001b[39m=<Rive.GAUCHE: \u001b[0m\u001b[32m'gauche'\u001b[0m\u001b[39m>,\u001b[0m\n",
       "\u001b[39m        \u001b[0m\u001b[33mchou\u001b[0m\u001b[39m=<Rive.DROITE: \u001b[0m\u001b[32m'droite'\u001b[0m\u001b[39m>\u001b[0m\n",
       "\u001b[39m    \u001b[0m\u001b[1;39m)\u001b[0m\u001b[39m,\u001b[0m\n",
       "\u001b[39m    \u001b[0m\u001b[1;35mEtat\u001b[0m\u001b[1;39m(\u001b[0m\n",
       "\u001b[39m        \u001b[0m\u001b[33mberger\u001b[0m\u001b[39m=<Rive.DROITE: \u001b[0m\u001b[32m'droite'\u001b[0m\u001b[39m>,\u001b[0m\n",
       "\u001b[39m        \u001b[0m\u001b[33mloup\u001b[0m\u001b[39m=<Rive.GAUCHE: \u001b[0m\u001b[32m'gauche'\u001b[0m\u001b[39m>,\u001b[0m\n",
       "\u001b[39m        \u001b[0m\u001b[33mmouton\u001b[0m\u001b[39m=<Rive.DROITE: \u001b[0m\u001b[32m'droite'\u001b[0m\u001b[39m>,\u001b[0m\n",
       "\u001b[39m        \u001b[0m\u001b[33mchou\u001b[0m\u001b[39m=<Rive.GAUCHE: \u001b[0m\u001b[32m'gauche'\u001b[0m\u001b[39m>\u001b[0m\n",
       "\u001b[39m    \u001b[0m\u001b[1;39m)\u001b[0m\u001b[39m,\u001b[0m\n",
       "\u001b[39m    \u001b[0m\u001b[1;35mEtat\u001b[0m\u001b[1;39m(\u001b[0m\n",
       "\u001b[39m        \u001b[0m\u001b[33mberger\u001b[0m\u001b[39m=<Rive.DROITE: \u001b[0m\u001b[32m'droite'\u001b[0m\u001b[39m>,\u001b[0m\n",
       "\u001b[39m        \u001b[0m\u001b[33mloup\u001b[0m\u001b[39m=<Rive.GAUCHE: \u001b[0m\u001b[32m'gauche'\u001b[0m\u001b[39m>,\u001b[0m\n",
       "\u001b[39m        \u001b[0m\u001b[33mmouton\u001b[0m\u001b[39m=<Rive.DROITE: \u001b[0m\u001b[32m'droite'\u001b[0m\u001b[39m>,\u001b[0m\n",
       "\u001b[39m        \u001b[0m\u001b[33mchou\u001b[0m\u001b[39m=<Rive.DROITE: \u001b[0m\u001b[32m'droite'\u001b[0m\u001b[39m>\u001b[0m\n",
       "\u001b[39m    \u001b[0m\u001b[1;39m)\u001b[0m\u001b[39m,\u001b[0m\n",
       "\u001b[39m    \u001b[0m\u001b[1;35mEtat\u001b[0m\u001b[1;39m(\u001b[0m\n",
       "\u001b[39m        \u001b[0m\u001b[33mberger\u001b[0m\u001b[39m=<Rive.DROITE: \u001b[0m\u001b[32m'droite'\u001b[0m\u001b[39m>,\u001b[0m\n",
       "\u001b[39m        \u001b[0m\u001b[33mloup\u001b[0m\u001b[39m=<Rive.DROITE: \u001b[0m\u001b[32m'droite'\u001b[0m\u001b[39m>,\u001b[0m\n",
       "\u001b[39m        \u001b[0m\u001b[33mmouton\u001b[0m\u001b[39m=<Rive.GAUCHE: \u001b[0m\u001b[32m'gauche'\u001b[0m\u001b[39m>,\u001b[0m\n",
       "\u001b[39m        \u001b[0m\u001b[33mchou\u001b[0m\u001b[39m=<Rive.DROITE: \u001b[0m\u001b[32m'droite'\u001b[0m\u001b[39m>\u001b[0m\n",
       "\u001b[39m    \u001b[0m\u001b[1;39m)\u001b[0m\u001b[39m,\u001b[0m\n",
       "\u001b[39m    \u001b[0m\u001b[1;35mEtat\u001b[0m\u001b[1;39m(\u001b[0m\n",
       "\u001b[39m        \u001b[0m\u001b[33mberger\u001b[0m\u001b[39m=<Rive.DROITE: \u001b[0m\u001b[32m'droite'\u001b[0m\u001b[39m>,\u001b[0m\n",
       "\u001b[39m        \u001b[0m\u001b[33mloup\u001b[0m\u001b[39m=<Rive.DROITE: \u001b[0m\u001b[32m'droite'\u001b[0m\u001b[39m>,\u001b[0m\n",
       "\u001b[39m        \u001b[0m\u001b[33mmouton\u001b[0m\u001b[39m=<Rive.DROITE: \u001b[0m\u001b[32m'droite'\u001b[0m\u001b[39m>,\u001b[0m\n",
       "\u001b[39m        \u001b[0m\u001b[33mchou\u001b[0m\u001b[39m=<Rive.GAUCHE: \u001b[0m\u001b[32m'gauche'\u001b[0m\u001b[39m>\u001b[0m\n",
       "\u001b[39m    \u001b[0m\u001b[1;39m)\u001b[0m\u001b[39m,\u001b[0m\n",
       "\u001b[39m    \u001b[0m\u001b[1;35mEtat\u001b[0m\u001b[1;39m(\u001b[0m\n",
       "\u001b[39m        \u001b[0m\u001b[33mberger\u001b[0m\u001b[39m=<Rive.DROITE: \u001b[0m\u001b[32m'droite'\u001b[0m\u001b[39m>,\u001b[0m\n",
       "\u001b[39m        \u001b[0m\u001b[33mloup\u001b[0m\u001b[39m=<Rive.DROITE: \u001b[0m\u001b[32m'droite'\u001b[0m\u001b[39m>,\u001b[0m\n",
       "\u001b[39m        \u001b[0m\u001b[33mmouton\u001b[0m\u001b[39m=<Rive.DROITE: \u001b[0m\u001b[32m'droite'\u001b[0m\u001b[39m>,\u001b[0m\n",
       "\u001b[39m        \u001b[0m\u001b[33mchou\u001b[0m\u001b[39m=<Rive.DROITE: \u001b[0m\u001b[32m'droite'\u001b[0m\u001b[1m>\u001b[0m\n",
       "    \u001b[1m)\u001b[0m\n",
       "\u001b[1m]\u001b[0m\n"
      ]
     },
     "metadata": {},
     "output_type": "display_data"
    }
   ],
   "source": [
    "# Construction par accumulation\n",
    "sommets = list()\n",
    "for etat in etats:\n",
    "    if est_valide(etat):\n",
    "        sommets.append(etat)\n",
    "print(sommets)"
   ]
  },
  {
   "cell_type": "code",
   "execution_count": 24,
   "id": "e60ef454-966c-4c05-bf1a-727e9d50b93e",
   "metadata": {
    "collapsed": true,
    "jupyter": {
     "outputs_hidden": true
    },
    "tags": []
   },
   "outputs": [
    {
     "data": {
      "text/html": [
       "<pre style=\"white-space:pre;overflow-x:auto;line-height:normal;font-family:Menlo,'DejaVu Sans Mono',consolas,'Courier New',monospace\"><span style=\"font-weight: bold\">[</span>\n",
       "    <span style=\"color: #800080; text-decoration-color: #800080; font-weight: bold\">Etat</span><span style=\"font-weight: bold\">(</span>\n",
       "        <span style=\"color: #808000; text-decoration-color: #808000\">berger</span>=<span style=\"font-weight: bold\">&lt;</span><span style=\"color: #ff00ff; text-decoration-color: #ff00ff; font-weight: bold\">Rive.GAUCHE:</span><span style=\"color: #000000; text-decoration-color: #000000\"> </span><span style=\"color: #008000; text-decoration-color: #008000\">'gauche'</span><span style=\"color: #000000; text-decoration-color: #000000\">&gt;,</span>\n",
       "<span style=\"color: #000000; text-decoration-color: #000000\">        </span><span style=\"color: #808000; text-decoration-color: #808000\">loup</span><span style=\"color: #000000; text-decoration-color: #000000\">=&lt;Rive.GAUCHE: </span><span style=\"color: #008000; text-decoration-color: #008000\">'gauche'</span><span style=\"color: #000000; text-decoration-color: #000000\">&gt;,</span>\n",
       "<span style=\"color: #000000; text-decoration-color: #000000\">        </span><span style=\"color: #808000; text-decoration-color: #808000\">mouton</span><span style=\"color: #000000; text-decoration-color: #000000\">=&lt;Rive.GAUCHE: </span><span style=\"color: #008000; text-decoration-color: #008000\">'gauche'</span><span style=\"color: #000000; text-decoration-color: #000000\">&gt;,</span>\n",
       "<span style=\"color: #000000; text-decoration-color: #000000\">        </span><span style=\"color: #808000; text-decoration-color: #808000\">chou</span><span style=\"color: #000000; text-decoration-color: #000000\">=&lt;Rive.GAUCHE: </span><span style=\"color: #008000; text-decoration-color: #008000\">'gauche'</span><span style=\"color: #000000; text-decoration-color: #000000\">&gt;</span>\n",
       "<span style=\"color: #000000; text-decoration-color: #000000\">    </span><span style=\"color: #000000; text-decoration-color: #000000; font-weight: bold\">)</span><span style=\"color: #000000; text-decoration-color: #000000\">,</span>\n",
       "<span style=\"color: #000000; text-decoration-color: #000000\">    </span><span style=\"color: #800080; text-decoration-color: #800080; font-weight: bold\">Etat</span><span style=\"color: #000000; text-decoration-color: #000000; font-weight: bold\">(</span>\n",
       "<span style=\"color: #000000; text-decoration-color: #000000\">        </span><span style=\"color: #808000; text-decoration-color: #808000\">berger</span><span style=\"color: #000000; text-decoration-color: #000000\">=&lt;Rive.GAUCHE: </span><span style=\"color: #008000; text-decoration-color: #008000\">'gauche'</span><span style=\"color: #000000; text-decoration-color: #000000\">&gt;,</span>\n",
       "<span style=\"color: #000000; text-decoration-color: #000000\">        </span><span style=\"color: #808000; text-decoration-color: #808000\">loup</span><span style=\"color: #000000; text-decoration-color: #000000\">=&lt;Rive.GAUCHE: </span><span style=\"color: #008000; text-decoration-color: #008000\">'gauche'</span><span style=\"color: #000000; text-decoration-color: #000000\">&gt;,</span>\n",
       "<span style=\"color: #000000; text-decoration-color: #000000\">        </span><span style=\"color: #808000; text-decoration-color: #808000\">mouton</span><span style=\"color: #000000; text-decoration-color: #000000\">=&lt;Rive.GAUCHE: </span><span style=\"color: #008000; text-decoration-color: #008000\">'gauche'</span><span style=\"color: #000000; text-decoration-color: #000000\">&gt;,</span>\n",
       "<span style=\"color: #000000; text-decoration-color: #000000\">        </span><span style=\"color: #808000; text-decoration-color: #808000\">chou</span><span style=\"color: #000000; text-decoration-color: #000000\">=&lt;Rive.DROITE: </span><span style=\"color: #008000; text-decoration-color: #008000\">'droite'</span><span style=\"color: #000000; text-decoration-color: #000000\">&gt;</span>\n",
       "<span style=\"color: #000000; text-decoration-color: #000000\">    </span><span style=\"color: #000000; text-decoration-color: #000000; font-weight: bold\">)</span><span style=\"color: #000000; text-decoration-color: #000000\">,</span>\n",
       "<span style=\"color: #000000; text-decoration-color: #000000\">    </span><span style=\"color: #800080; text-decoration-color: #800080; font-weight: bold\">Etat</span><span style=\"color: #000000; text-decoration-color: #000000; font-weight: bold\">(</span>\n",
       "<span style=\"color: #000000; text-decoration-color: #000000\">        </span><span style=\"color: #808000; text-decoration-color: #808000\">berger</span><span style=\"color: #000000; text-decoration-color: #000000\">=&lt;Rive.GAUCHE: </span><span style=\"color: #008000; text-decoration-color: #008000\">'gauche'</span><span style=\"color: #000000; text-decoration-color: #000000\">&gt;,</span>\n",
       "<span style=\"color: #000000; text-decoration-color: #000000\">        </span><span style=\"color: #808000; text-decoration-color: #808000\">loup</span><span style=\"color: #000000; text-decoration-color: #000000\">=&lt;Rive.GAUCHE: </span><span style=\"color: #008000; text-decoration-color: #008000\">'gauche'</span><span style=\"color: #000000; text-decoration-color: #000000\">&gt;,</span>\n",
       "<span style=\"color: #000000; text-decoration-color: #000000\">        </span><span style=\"color: #808000; text-decoration-color: #808000\">mouton</span><span style=\"color: #000000; text-decoration-color: #000000\">=&lt;Rive.DROITE: </span><span style=\"color: #008000; text-decoration-color: #008000\">'droite'</span><span style=\"color: #000000; text-decoration-color: #000000\">&gt;,</span>\n",
       "<span style=\"color: #000000; text-decoration-color: #000000\">        </span><span style=\"color: #808000; text-decoration-color: #808000\">chou</span><span style=\"color: #000000; text-decoration-color: #000000\">=&lt;Rive.GAUCHE: </span><span style=\"color: #008000; text-decoration-color: #008000\">'gauche'</span><span style=\"color: #000000; text-decoration-color: #000000\">&gt;</span>\n",
       "<span style=\"color: #000000; text-decoration-color: #000000\">    </span><span style=\"color: #000000; text-decoration-color: #000000; font-weight: bold\">)</span><span style=\"color: #000000; text-decoration-color: #000000\">,</span>\n",
       "<span style=\"color: #000000; text-decoration-color: #000000\">    </span><span style=\"color: #800080; text-decoration-color: #800080; font-weight: bold\">Etat</span><span style=\"color: #000000; text-decoration-color: #000000; font-weight: bold\">(</span>\n",
       "<span style=\"color: #000000; text-decoration-color: #000000\">        </span><span style=\"color: #808000; text-decoration-color: #808000\">berger</span><span style=\"color: #000000; text-decoration-color: #000000\">=&lt;Rive.GAUCHE: </span><span style=\"color: #008000; text-decoration-color: #008000\">'gauche'</span><span style=\"color: #000000; text-decoration-color: #000000\">&gt;,</span>\n",
       "<span style=\"color: #000000; text-decoration-color: #000000\">        </span><span style=\"color: #808000; text-decoration-color: #808000\">loup</span><span style=\"color: #000000; text-decoration-color: #000000\">=&lt;Rive.DROITE: </span><span style=\"color: #008000; text-decoration-color: #008000\">'droite'</span><span style=\"color: #000000; text-decoration-color: #000000\">&gt;,</span>\n",
       "<span style=\"color: #000000; text-decoration-color: #000000\">        </span><span style=\"color: #808000; text-decoration-color: #808000\">mouton</span><span style=\"color: #000000; text-decoration-color: #000000\">=&lt;Rive.GAUCHE: </span><span style=\"color: #008000; text-decoration-color: #008000\">'gauche'</span><span style=\"color: #000000; text-decoration-color: #000000\">&gt;,</span>\n",
       "<span style=\"color: #000000; text-decoration-color: #000000\">        </span><span style=\"color: #808000; text-decoration-color: #808000\">chou</span><span style=\"color: #000000; text-decoration-color: #000000\">=&lt;Rive.GAUCHE: </span><span style=\"color: #008000; text-decoration-color: #008000\">'gauche'</span><span style=\"color: #000000; text-decoration-color: #000000\">&gt;</span>\n",
       "<span style=\"color: #000000; text-decoration-color: #000000\">    </span><span style=\"color: #000000; text-decoration-color: #000000; font-weight: bold\">)</span><span style=\"color: #000000; text-decoration-color: #000000\">,</span>\n",
       "<span style=\"color: #000000; text-decoration-color: #000000\">    </span><span style=\"color: #800080; text-decoration-color: #800080; font-weight: bold\">Etat</span><span style=\"color: #000000; text-decoration-color: #000000; font-weight: bold\">(</span>\n",
       "<span style=\"color: #000000; text-decoration-color: #000000\">        </span><span style=\"color: #808000; text-decoration-color: #808000\">berger</span><span style=\"color: #000000; text-decoration-color: #000000\">=&lt;Rive.GAUCHE: </span><span style=\"color: #008000; text-decoration-color: #008000\">'gauche'</span><span style=\"color: #000000; text-decoration-color: #000000\">&gt;,</span>\n",
       "<span style=\"color: #000000; text-decoration-color: #000000\">        </span><span style=\"color: #808000; text-decoration-color: #808000\">loup</span><span style=\"color: #000000; text-decoration-color: #000000\">=&lt;Rive.DROITE: </span><span style=\"color: #008000; text-decoration-color: #008000\">'droite'</span><span style=\"color: #000000; text-decoration-color: #000000\">&gt;,</span>\n",
       "<span style=\"color: #000000; text-decoration-color: #000000\">        </span><span style=\"color: #808000; text-decoration-color: #808000\">mouton</span><span style=\"color: #000000; text-decoration-color: #000000\">=&lt;Rive.GAUCHE: </span><span style=\"color: #008000; text-decoration-color: #008000\">'gauche'</span><span style=\"color: #000000; text-decoration-color: #000000\">&gt;,</span>\n",
       "<span style=\"color: #000000; text-decoration-color: #000000\">        </span><span style=\"color: #808000; text-decoration-color: #808000\">chou</span><span style=\"color: #000000; text-decoration-color: #000000\">=&lt;Rive.DROITE: </span><span style=\"color: #008000; text-decoration-color: #008000\">'droite'</span><span style=\"color: #000000; text-decoration-color: #000000\">&gt;</span>\n",
       "<span style=\"color: #000000; text-decoration-color: #000000\">    </span><span style=\"color: #000000; text-decoration-color: #000000; font-weight: bold\">)</span><span style=\"color: #000000; text-decoration-color: #000000\">,</span>\n",
       "<span style=\"color: #000000; text-decoration-color: #000000\">    </span><span style=\"color: #800080; text-decoration-color: #800080; font-weight: bold\">Etat</span><span style=\"color: #000000; text-decoration-color: #000000; font-weight: bold\">(</span>\n",
       "<span style=\"color: #000000; text-decoration-color: #000000\">        </span><span style=\"color: #808000; text-decoration-color: #808000\">berger</span><span style=\"color: #000000; text-decoration-color: #000000\">=&lt;Rive.DROITE: </span><span style=\"color: #008000; text-decoration-color: #008000\">'droite'</span><span style=\"color: #000000; text-decoration-color: #000000\">&gt;,</span>\n",
       "<span style=\"color: #000000; text-decoration-color: #000000\">        </span><span style=\"color: #808000; text-decoration-color: #808000\">loup</span><span style=\"color: #000000; text-decoration-color: #000000\">=&lt;Rive.GAUCHE: </span><span style=\"color: #008000; text-decoration-color: #008000\">'gauche'</span><span style=\"color: #000000; text-decoration-color: #000000\">&gt;,</span>\n",
       "<span style=\"color: #000000; text-decoration-color: #000000\">        </span><span style=\"color: #808000; text-decoration-color: #808000\">mouton</span><span style=\"color: #000000; text-decoration-color: #000000\">=&lt;Rive.DROITE: </span><span style=\"color: #008000; text-decoration-color: #008000\">'droite'</span><span style=\"color: #000000; text-decoration-color: #000000\">&gt;,</span>\n",
       "<span style=\"color: #000000; text-decoration-color: #000000\">        </span><span style=\"color: #808000; text-decoration-color: #808000\">chou</span><span style=\"color: #000000; text-decoration-color: #000000\">=&lt;Rive.GAUCHE: </span><span style=\"color: #008000; text-decoration-color: #008000\">'gauche'</span><span style=\"color: #000000; text-decoration-color: #000000\">&gt;</span>\n",
       "<span style=\"color: #000000; text-decoration-color: #000000\">    </span><span style=\"color: #000000; text-decoration-color: #000000; font-weight: bold\">)</span><span style=\"color: #000000; text-decoration-color: #000000\">,</span>\n",
       "<span style=\"color: #000000; text-decoration-color: #000000\">    </span><span style=\"color: #800080; text-decoration-color: #800080; font-weight: bold\">Etat</span><span style=\"color: #000000; text-decoration-color: #000000; font-weight: bold\">(</span>\n",
       "<span style=\"color: #000000; text-decoration-color: #000000\">        </span><span style=\"color: #808000; text-decoration-color: #808000\">berger</span><span style=\"color: #000000; text-decoration-color: #000000\">=&lt;Rive.DROITE: </span><span style=\"color: #008000; text-decoration-color: #008000\">'droite'</span><span style=\"color: #000000; text-decoration-color: #000000\">&gt;,</span>\n",
       "<span style=\"color: #000000; text-decoration-color: #000000\">        </span><span style=\"color: #808000; text-decoration-color: #808000\">loup</span><span style=\"color: #000000; text-decoration-color: #000000\">=&lt;Rive.GAUCHE: </span><span style=\"color: #008000; text-decoration-color: #008000\">'gauche'</span><span style=\"color: #000000; text-decoration-color: #000000\">&gt;,</span>\n",
       "<span style=\"color: #000000; text-decoration-color: #000000\">        </span><span style=\"color: #808000; text-decoration-color: #808000\">mouton</span><span style=\"color: #000000; text-decoration-color: #000000\">=&lt;Rive.DROITE: </span><span style=\"color: #008000; text-decoration-color: #008000\">'droite'</span><span style=\"color: #000000; text-decoration-color: #000000\">&gt;,</span>\n",
       "<span style=\"color: #000000; text-decoration-color: #000000\">        </span><span style=\"color: #808000; text-decoration-color: #808000\">chou</span><span style=\"color: #000000; text-decoration-color: #000000\">=&lt;Rive.DROITE: </span><span style=\"color: #008000; text-decoration-color: #008000\">'droite'</span><span style=\"color: #000000; text-decoration-color: #000000\">&gt;</span>\n",
       "<span style=\"color: #000000; text-decoration-color: #000000\">    </span><span style=\"color: #000000; text-decoration-color: #000000; font-weight: bold\">)</span><span style=\"color: #000000; text-decoration-color: #000000\">,</span>\n",
       "<span style=\"color: #000000; text-decoration-color: #000000\">    </span><span style=\"color: #800080; text-decoration-color: #800080; font-weight: bold\">Etat</span><span style=\"color: #000000; text-decoration-color: #000000; font-weight: bold\">(</span>\n",
       "<span style=\"color: #000000; text-decoration-color: #000000\">        </span><span style=\"color: #808000; text-decoration-color: #808000\">berger</span><span style=\"color: #000000; text-decoration-color: #000000\">=&lt;Rive.DROITE: </span><span style=\"color: #008000; text-decoration-color: #008000\">'droite'</span><span style=\"color: #000000; text-decoration-color: #000000\">&gt;,</span>\n",
       "<span style=\"color: #000000; text-decoration-color: #000000\">        </span><span style=\"color: #808000; text-decoration-color: #808000\">loup</span><span style=\"color: #000000; text-decoration-color: #000000\">=&lt;Rive.DROITE: </span><span style=\"color: #008000; text-decoration-color: #008000\">'droite'</span><span style=\"color: #000000; text-decoration-color: #000000\">&gt;,</span>\n",
       "<span style=\"color: #000000; text-decoration-color: #000000\">        </span><span style=\"color: #808000; text-decoration-color: #808000\">mouton</span><span style=\"color: #000000; text-decoration-color: #000000\">=&lt;Rive.GAUCHE: </span><span style=\"color: #008000; text-decoration-color: #008000\">'gauche'</span><span style=\"color: #000000; text-decoration-color: #000000\">&gt;,</span>\n",
       "<span style=\"color: #000000; text-decoration-color: #000000\">        </span><span style=\"color: #808000; text-decoration-color: #808000\">chou</span><span style=\"color: #000000; text-decoration-color: #000000\">=&lt;Rive.DROITE: </span><span style=\"color: #008000; text-decoration-color: #008000\">'droite'</span><span style=\"color: #000000; text-decoration-color: #000000\">&gt;</span>\n",
       "<span style=\"color: #000000; text-decoration-color: #000000\">    </span><span style=\"color: #000000; text-decoration-color: #000000; font-weight: bold\">)</span><span style=\"color: #000000; text-decoration-color: #000000\">,</span>\n",
       "<span style=\"color: #000000; text-decoration-color: #000000\">    </span><span style=\"color: #800080; text-decoration-color: #800080; font-weight: bold\">Etat</span><span style=\"color: #000000; text-decoration-color: #000000; font-weight: bold\">(</span>\n",
       "<span style=\"color: #000000; text-decoration-color: #000000\">        </span><span style=\"color: #808000; text-decoration-color: #808000\">berger</span><span style=\"color: #000000; text-decoration-color: #000000\">=&lt;Rive.DROITE: </span><span style=\"color: #008000; text-decoration-color: #008000\">'droite'</span><span style=\"color: #000000; text-decoration-color: #000000\">&gt;,</span>\n",
       "<span style=\"color: #000000; text-decoration-color: #000000\">        </span><span style=\"color: #808000; text-decoration-color: #808000\">loup</span><span style=\"color: #000000; text-decoration-color: #000000\">=&lt;Rive.DROITE: </span><span style=\"color: #008000; text-decoration-color: #008000\">'droite'</span><span style=\"color: #000000; text-decoration-color: #000000\">&gt;,</span>\n",
       "<span style=\"color: #000000; text-decoration-color: #000000\">        </span><span style=\"color: #808000; text-decoration-color: #808000\">mouton</span><span style=\"color: #000000; text-decoration-color: #000000\">=&lt;Rive.DROITE: </span><span style=\"color: #008000; text-decoration-color: #008000\">'droite'</span><span style=\"color: #000000; text-decoration-color: #000000\">&gt;,</span>\n",
       "<span style=\"color: #000000; text-decoration-color: #000000\">        </span><span style=\"color: #808000; text-decoration-color: #808000\">chou</span><span style=\"color: #000000; text-decoration-color: #000000\">=&lt;Rive.GAUCHE: </span><span style=\"color: #008000; text-decoration-color: #008000\">'gauche'</span><span style=\"color: #000000; text-decoration-color: #000000\">&gt;</span>\n",
       "<span style=\"color: #000000; text-decoration-color: #000000\">    </span><span style=\"color: #000000; text-decoration-color: #000000; font-weight: bold\">)</span><span style=\"color: #000000; text-decoration-color: #000000\">,</span>\n",
       "<span style=\"color: #000000; text-decoration-color: #000000\">    </span><span style=\"color: #800080; text-decoration-color: #800080; font-weight: bold\">Etat</span><span style=\"color: #000000; text-decoration-color: #000000; font-weight: bold\">(</span>\n",
       "<span style=\"color: #000000; text-decoration-color: #000000\">        </span><span style=\"color: #808000; text-decoration-color: #808000\">berger</span><span style=\"color: #000000; text-decoration-color: #000000\">=&lt;Rive.DROITE: </span><span style=\"color: #008000; text-decoration-color: #008000\">'droite'</span><span style=\"color: #000000; text-decoration-color: #000000\">&gt;,</span>\n",
       "<span style=\"color: #000000; text-decoration-color: #000000\">        </span><span style=\"color: #808000; text-decoration-color: #808000\">loup</span><span style=\"color: #000000; text-decoration-color: #000000\">=&lt;Rive.DROITE: </span><span style=\"color: #008000; text-decoration-color: #008000\">'droite'</span><span style=\"color: #000000; text-decoration-color: #000000\">&gt;,</span>\n",
       "<span style=\"color: #000000; text-decoration-color: #000000\">        </span><span style=\"color: #808000; text-decoration-color: #808000\">mouton</span><span style=\"color: #000000; text-decoration-color: #000000\">=&lt;Rive.DROITE: </span><span style=\"color: #008000; text-decoration-color: #008000\">'droite'</span><span style=\"color: #000000; text-decoration-color: #000000\">&gt;,</span>\n",
       "<span style=\"color: #000000; text-decoration-color: #000000\">        </span><span style=\"color: #808000; text-decoration-color: #808000\">chou</span><span style=\"color: #000000; text-decoration-color: #000000\">=&lt;Rive.DROITE: </span><span style=\"color: #008000; text-decoration-color: #008000\">'droite'</span><span style=\"font-weight: bold\">&gt;</span>\n",
       "    <span style=\"font-weight: bold\">)</span>\n",
       "<span style=\"font-weight: bold\">]</span>\n",
       "</pre>\n"
      ],
      "text/plain": [
       "\u001b[1m[\u001b[0m\n",
       "    \u001b[1;35mEtat\u001b[0m\u001b[1m(\u001b[0m\n",
       "        \u001b[33mberger\u001b[0m=\u001b[1m<\u001b[0m\u001b[1;95mRive.GAUCHE:\u001b[0m\u001b[39m \u001b[0m\u001b[32m'gauche'\u001b[0m\u001b[39m>,\u001b[0m\n",
       "\u001b[39m        \u001b[0m\u001b[33mloup\u001b[0m\u001b[39m=<Rive.GAUCHE: \u001b[0m\u001b[32m'gauche'\u001b[0m\u001b[39m>,\u001b[0m\n",
       "\u001b[39m        \u001b[0m\u001b[33mmouton\u001b[0m\u001b[39m=<Rive.GAUCHE: \u001b[0m\u001b[32m'gauche'\u001b[0m\u001b[39m>,\u001b[0m\n",
       "\u001b[39m        \u001b[0m\u001b[33mchou\u001b[0m\u001b[39m=<Rive.GAUCHE: \u001b[0m\u001b[32m'gauche'\u001b[0m\u001b[39m>\u001b[0m\n",
       "\u001b[39m    \u001b[0m\u001b[1;39m)\u001b[0m\u001b[39m,\u001b[0m\n",
       "\u001b[39m    \u001b[0m\u001b[1;35mEtat\u001b[0m\u001b[1;39m(\u001b[0m\n",
       "\u001b[39m        \u001b[0m\u001b[33mberger\u001b[0m\u001b[39m=<Rive.GAUCHE: \u001b[0m\u001b[32m'gauche'\u001b[0m\u001b[39m>,\u001b[0m\n",
       "\u001b[39m        \u001b[0m\u001b[33mloup\u001b[0m\u001b[39m=<Rive.GAUCHE: \u001b[0m\u001b[32m'gauche'\u001b[0m\u001b[39m>,\u001b[0m\n",
       "\u001b[39m        \u001b[0m\u001b[33mmouton\u001b[0m\u001b[39m=<Rive.GAUCHE: \u001b[0m\u001b[32m'gauche'\u001b[0m\u001b[39m>,\u001b[0m\n",
       "\u001b[39m        \u001b[0m\u001b[33mchou\u001b[0m\u001b[39m=<Rive.DROITE: \u001b[0m\u001b[32m'droite'\u001b[0m\u001b[39m>\u001b[0m\n",
       "\u001b[39m    \u001b[0m\u001b[1;39m)\u001b[0m\u001b[39m,\u001b[0m\n",
       "\u001b[39m    \u001b[0m\u001b[1;35mEtat\u001b[0m\u001b[1;39m(\u001b[0m\n",
       "\u001b[39m        \u001b[0m\u001b[33mberger\u001b[0m\u001b[39m=<Rive.GAUCHE: \u001b[0m\u001b[32m'gauche'\u001b[0m\u001b[39m>,\u001b[0m\n",
       "\u001b[39m        \u001b[0m\u001b[33mloup\u001b[0m\u001b[39m=<Rive.GAUCHE: \u001b[0m\u001b[32m'gauche'\u001b[0m\u001b[39m>,\u001b[0m\n",
       "\u001b[39m        \u001b[0m\u001b[33mmouton\u001b[0m\u001b[39m=<Rive.DROITE: \u001b[0m\u001b[32m'droite'\u001b[0m\u001b[39m>,\u001b[0m\n",
       "\u001b[39m        \u001b[0m\u001b[33mchou\u001b[0m\u001b[39m=<Rive.GAUCHE: \u001b[0m\u001b[32m'gauche'\u001b[0m\u001b[39m>\u001b[0m\n",
       "\u001b[39m    \u001b[0m\u001b[1;39m)\u001b[0m\u001b[39m,\u001b[0m\n",
       "\u001b[39m    \u001b[0m\u001b[1;35mEtat\u001b[0m\u001b[1;39m(\u001b[0m\n",
       "\u001b[39m        \u001b[0m\u001b[33mberger\u001b[0m\u001b[39m=<Rive.GAUCHE: \u001b[0m\u001b[32m'gauche'\u001b[0m\u001b[39m>,\u001b[0m\n",
       "\u001b[39m        \u001b[0m\u001b[33mloup\u001b[0m\u001b[39m=<Rive.DROITE: \u001b[0m\u001b[32m'droite'\u001b[0m\u001b[39m>,\u001b[0m\n",
       "\u001b[39m        \u001b[0m\u001b[33mmouton\u001b[0m\u001b[39m=<Rive.GAUCHE: \u001b[0m\u001b[32m'gauche'\u001b[0m\u001b[39m>,\u001b[0m\n",
       "\u001b[39m        \u001b[0m\u001b[33mchou\u001b[0m\u001b[39m=<Rive.GAUCHE: \u001b[0m\u001b[32m'gauche'\u001b[0m\u001b[39m>\u001b[0m\n",
       "\u001b[39m    \u001b[0m\u001b[1;39m)\u001b[0m\u001b[39m,\u001b[0m\n",
       "\u001b[39m    \u001b[0m\u001b[1;35mEtat\u001b[0m\u001b[1;39m(\u001b[0m\n",
       "\u001b[39m        \u001b[0m\u001b[33mberger\u001b[0m\u001b[39m=<Rive.GAUCHE: \u001b[0m\u001b[32m'gauche'\u001b[0m\u001b[39m>,\u001b[0m\n",
       "\u001b[39m        \u001b[0m\u001b[33mloup\u001b[0m\u001b[39m=<Rive.DROITE: \u001b[0m\u001b[32m'droite'\u001b[0m\u001b[39m>,\u001b[0m\n",
       "\u001b[39m        \u001b[0m\u001b[33mmouton\u001b[0m\u001b[39m=<Rive.GAUCHE: \u001b[0m\u001b[32m'gauche'\u001b[0m\u001b[39m>,\u001b[0m\n",
       "\u001b[39m        \u001b[0m\u001b[33mchou\u001b[0m\u001b[39m=<Rive.DROITE: \u001b[0m\u001b[32m'droite'\u001b[0m\u001b[39m>\u001b[0m\n",
       "\u001b[39m    \u001b[0m\u001b[1;39m)\u001b[0m\u001b[39m,\u001b[0m\n",
       "\u001b[39m    \u001b[0m\u001b[1;35mEtat\u001b[0m\u001b[1;39m(\u001b[0m\n",
       "\u001b[39m        \u001b[0m\u001b[33mberger\u001b[0m\u001b[39m=<Rive.DROITE: \u001b[0m\u001b[32m'droite'\u001b[0m\u001b[39m>,\u001b[0m\n",
       "\u001b[39m        \u001b[0m\u001b[33mloup\u001b[0m\u001b[39m=<Rive.GAUCHE: \u001b[0m\u001b[32m'gauche'\u001b[0m\u001b[39m>,\u001b[0m\n",
       "\u001b[39m        \u001b[0m\u001b[33mmouton\u001b[0m\u001b[39m=<Rive.DROITE: \u001b[0m\u001b[32m'droite'\u001b[0m\u001b[39m>,\u001b[0m\n",
       "\u001b[39m        \u001b[0m\u001b[33mchou\u001b[0m\u001b[39m=<Rive.GAUCHE: \u001b[0m\u001b[32m'gauche'\u001b[0m\u001b[39m>\u001b[0m\n",
       "\u001b[39m    \u001b[0m\u001b[1;39m)\u001b[0m\u001b[39m,\u001b[0m\n",
       "\u001b[39m    \u001b[0m\u001b[1;35mEtat\u001b[0m\u001b[1;39m(\u001b[0m\n",
       "\u001b[39m        \u001b[0m\u001b[33mberger\u001b[0m\u001b[39m=<Rive.DROITE: \u001b[0m\u001b[32m'droite'\u001b[0m\u001b[39m>,\u001b[0m\n",
       "\u001b[39m        \u001b[0m\u001b[33mloup\u001b[0m\u001b[39m=<Rive.GAUCHE: \u001b[0m\u001b[32m'gauche'\u001b[0m\u001b[39m>,\u001b[0m\n",
       "\u001b[39m        \u001b[0m\u001b[33mmouton\u001b[0m\u001b[39m=<Rive.DROITE: \u001b[0m\u001b[32m'droite'\u001b[0m\u001b[39m>,\u001b[0m\n",
       "\u001b[39m        \u001b[0m\u001b[33mchou\u001b[0m\u001b[39m=<Rive.DROITE: \u001b[0m\u001b[32m'droite'\u001b[0m\u001b[39m>\u001b[0m\n",
       "\u001b[39m    \u001b[0m\u001b[1;39m)\u001b[0m\u001b[39m,\u001b[0m\n",
       "\u001b[39m    \u001b[0m\u001b[1;35mEtat\u001b[0m\u001b[1;39m(\u001b[0m\n",
       "\u001b[39m        \u001b[0m\u001b[33mberger\u001b[0m\u001b[39m=<Rive.DROITE: \u001b[0m\u001b[32m'droite'\u001b[0m\u001b[39m>,\u001b[0m\n",
       "\u001b[39m        \u001b[0m\u001b[33mloup\u001b[0m\u001b[39m=<Rive.DROITE: \u001b[0m\u001b[32m'droite'\u001b[0m\u001b[39m>,\u001b[0m\n",
       "\u001b[39m        \u001b[0m\u001b[33mmouton\u001b[0m\u001b[39m=<Rive.GAUCHE: \u001b[0m\u001b[32m'gauche'\u001b[0m\u001b[39m>,\u001b[0m\n",
       "\u001b[39m        \u001b[0m\u001b[33mchou\u001b[0m\u001b[39m=<Rive.DROITE: \u001b[0m\u001b[32m'droite'\u001b[0m\u001b[39m>\u001b[0m\n",
       "\u001b[39m    \u001b[0m\u001b[1;39m)\u001b[0m\u001b[39m,\u001b[0m\n",
       "\u001b[39m    \u001b[0m\u001b[1;35mEtat\u001b[0m\u001b[1;39m(\u001b[0m\n",
       "\u001b[39m        \u001b[0m\u001b[33mberger\u001b[0m\u001b[39m=<Rive.DROITE: \u001b[0m\u001b[32m'droite'\u001b[0m\u001b[39m>,\u001b[0m\n",
       "\u001b[39m        \u001b[0m\u001b[33mloup\u001b[0m\u001b[39m=<Rive.DROITE: \u001b[0m\u001b[32m'droite'\u001b[0m\u001b[39m>,\u001b[0m\n",
       "\u001b[39m        \u001b[0m\u001b[33mmouton\u001b[0m\u001b[39m=<Rive.DROITE: \u001b[0m\u001b[32m'droite'\u001b[0m\u001b[39m>,\u001b[0m\n",
       "\u001b[39m        \u001b[0m\u001b[33mchou\u001b[0m\u001b[39m=<Rive.GAUCHE: \u001b[0m\u001b[32m'gauche'\u001b[0m\u001b[39m>\u001b[0m\n",
       "\u001b[39m    \u001b[0m\u001b[1;39m)\u001b[0m\u001b[39m,\u001b[0m\n",
       "\u001b[39m    \u001b[0m\u001b[1;35mEtat\u001b[0m\u001b[1;39m(\u001b[0m\n",
       "\u001b[39m        \u001b[0m\u001b[33mberger\u001b[0m\u001b[39m=<Rive.DROITE: \u001b[0m\u001b[32m'droite'\u001b[0m\u001b[39m>,\u001b[0m\n",
       "\u001b[39m        \u001b[0m\u001b[33mloup\u001b[0m\u001b[39m=<Rive.DROITE: \u001b[0m\u001b[32m'droite'\u001b[0m\u001b[39m>,\u001b[0m\n",
       "\u001b[39m        \u001b[0m\u001b[33mmouton\u001b[0m\u001b[39m=<Rive.DROITE: \u001b[0m\u001b[32m'droite'\u001b[0m\u001b[39m>,\u001b[0m\n",
       "\u001b[39m        \u001b[0m\u001b[33mchou\u001b[0m\u001b[39m=<Rive.DROITE: \u001b[0m\u001b[32m'droite'\u001b[0m\u001b[1m>\u001b[0m\n",
       "    \u001b[1m)\u001b[0m\n",
       "\u001b[1m]\u001b[0m\n"
      ]
     },
     "metadata": {},
     "output_type": "display_data"
    }
   ],
   "source": [
    "# Construction par compréhension\n",
    "sommets = [etat for etat in etats if est_valide(etat)]\n",
    "print(sommets)"
   ]
  },
  {
   "cell_type": "markdown",
   "id": "04d3d16b-cdac-4654-b9f0-52567936346e",
   "metadata": {},
   "source": [
    "## Exercice\n",
    "\n",
    "Codez une fonction `sont_relies` prenant en entrée deux états et renvoyant un booléen Vrai ou Faux suivant que l'on peut passer d'un état à l'autre par **une** traversée de barque."
   ]
  },
  {
   "cell_type": "code",
   "execution_count": 33,
   "id": "33c8c8b4-d3f0-4803-9ca2-1f0b7a384a7d",
   "metadata": {},
   "outputs": [],
   "source": [
    "def sont_relies(etat1: Etat, etat2: Etat) -> bool:\n",
    "    if etat1.berger == etat2.berger:\n",
    "        return False\n",
    "    nombre_changements = 0\n",
    "    if etat1.loup != etat2.loup:\n",
    "        nombre_changements = nombre_changements + 1\n",
    "    if etat1.mouton != etat2.mouton:\n",
    "        nombre_changements = nombre_changements + 1\n",
    "    if etat1.chou != etat2.chou:\n",
    "        nombre_changements = nombre_changements + 1\n",
    "    if nombre_changements < 2:\n",
    "        return True\n",
    "    else:\n",
    "        return False"
   ]
  },
  {
   "cell_type": "code",
   "execution_count": 34,
   "id": "1ff5844e-69a1-46cf-9766-9077e54d352d",
   "metadata": {},
   "outputs": [],
   "source": [
    "assert not sont_relies(\n",
    "    etat1=Etat(\n",
    "        berger=Rive.GAUCHE,\n",
    "        loup=Rive.GAUCHE,\n",
    "        mouton=Rive.GAUCHE,\n",
    "        chou=Rive.GAUCHE,\n",
    "    ),\n",
    "    etat2=Etat(\n",
    "        berger=Rive.GAUCHE,\n",
    "        loup=Rive.GAUCHE,\n",
    "        mouton=Rive.GAUCHE,\n",
    "        chou=Rive.GAUCHE,\n",
    "    ),\n",
    ")\n",
    "    "
   ]
  },
  {
   "cell_type": "code",
   "execution_count": 35,
   "id": "1525bcd9-8358-4316-9ff4-5489de823e28",
   "metadata": {},
   "outputs": [],
   "source": [
    "assert sont_relies(\n",
    "    etat1=Etat(\n",
    "        berger=Rive.GAUCHE,\n",
    "        loup=Rive.GAUCHE,\n",
    "        mouton=Rive.GAUCHE,\n",
    "        chou=Rive.GAUCHE,\n",
    "    ),\n",
    "    etat2=Etat(\n",
    "        berger=Rive.DROITE,\n",
    "        loup=Rive.GAUCHE,\n",
    "        mouton=Rive.DROITE,\n",
    "        chou=Rive.GAUCHE,\n",
    "    ),\n",
    ")\n",
    "    "
   ]
  },
  {
   "cell_type": "markdown",
   "id": "69fb59de-bf0c-4f04-a3c6-2ac1a53f98a7",
   "metadata": {},
   "source": [
    "**REMARQUE**: reprendre la fonction `sont_relies` pour éviter les copier/coller qui rendent le code peu robuste à la maintenance."
   ]
  },
  {
   "cell_type": "markdown",
   "id": "d3ca5968-0869-48ba-9610-d75f940ee918",
   "metadata": {},
   "source": [
    "## Exercice\n",
    "\n",
    "Créez la liste des couples de sommets qui sont reliés par une traversée.\n",
    "On l'appelera `arretes`."
   ]
  },
  {
   "cell_type": "code",
   "execution_count": 37,
   "id": "abca4cc8-29a8-4ceb-8b9d-42deb3b39be1",
   "metadata": {},
   "outputs": [],
   "source": [
    "# Par accumulation\n",
    "arretes = list()\n",
    "for sommet1 in sommets:\n",
    "    for sommet2 in sommets:\n",
    "        if sont_relies(sommet1, sommet2):\n",
    "            arretes.append((sommet1, sommet2))\n",
    "assert len(arretes) == 20"
   ]
  },
  {
   "cell_type": "code",
   "execution_count": 38,
   "id": "789af826-9dc1-4a8e-82df-b4f9d64a07f7",
   "metadata": {},
   "outputs": [],
   "source": [
    "# Par compréhension\n",
    "\n",
    "arretes = [\n",
    "    (sommet1, sommet2)\n",
    "    for sommet1 in sommets\n",
    "    for sommet2 in sommets\n",
    "    if sont_relies(sommet1, sommet2)\n",
    "]\n",
    "assert len(arretes) == 20"
   ]
  },
  {
   "cell_type": "markdown",
   "id": "cd7e56d0-f726-4b05-8fa6-c7a209c2c8ed",
   "metadata": {},
   "source": [
    "## Exercice\n",
    "\n",
    "Codez une fonction `cherche_chemin` prenant en entrée\n",
    "- un etat `depart`\n",
    "- un etat `arrivee`\n",
    "- une liste d'etat `sommets`\n",
    "- une liste d'état `arretes`\n",
    "\n",
    "Et renvoyant un chemin dans le graphe encodé par sommets et arretes qui relie depart et arrivee."
   ]
  },
  {
   "cell_type": "code",
   "execution_count": 40,
   "id": "7fcedcce-2a42-4a39-ac64-4c752f210ff9",
   "metadata": {},
   "outputs": [],
   "source": [
    "S = TypeVar(\"Sommet\")"
   ]
  },
  {
   "cell_type": "code",
   "execution_count": 42,
   "id": "96787462-0efb-4df3-9040-45309d21402c",
   "metadata": {},
   "outputs": [],
   "source": [
    "def recupere_voisins(sommet: S, arretes: list[tuple[S, S]]) -> list[S]:\n",
    "    ..."
   ]
  },
  {
   "cell_type": "code",
   "execution_count": 43,
   "id": "00feab10-912e-4ef8-beb7-a1e7763066c2",
   "metadata": {},
   "outputs": [],
   "source": [
    "def cherche_chemin(\n",
    "    depart: S, \n",
    "    arrivee: S,\n",
    "    sommets: list[S],\n",
    "    arretes: list[tuple[S, S]],\n",
    ") -> bool:\n",
    "    a_visiter = [depart]\n",
    "    visites = []\n",
    "    while a_visiter:\n",
    "        sommet_courant = a_visiter.pop()\n",
    "        visites.append(sommet_courant)\n",
    "        for voisin in recupere_voisins(sommet=sommet_courant, arretes=arretes):\n",
    "            if voisin not in visites:\n",
    "                a_visiter.append(voisin)\n",
    "        if sommet_courant == arrivee:\n",
    "            return True\n",
    "    return False\n",
    "    \n",
    "                "
   ]
  },
  {
   "cell_type": "code",
   "execution_count": null,
   "id": "1cbd5319-3042-4774-9b0d-93faf9a208e3",
   "metadata": {},
   "outputs": [],
   "source": [
    "sommets = [1, 2, 3, 4, 5, 6, 7, 8]\n",
    "arretes = [(1, 2), (2, 3), (2, 5), (3, 4), (4, 5), (5, 6), (6, 7), (8, 6)]\n",
    "assert cherche_chemin(depart=1, arrivee=7, sommets=sommets, arretes=arretes)\n",
    "assert not cherche_chemin(depart=1, arrivee=8, sommets=sommets, arretes=arretes)\n"
   ]
  }
 ],
 "metadata": {
  "kernelspec": {
   "display_name": "Python 3 (ipykernel)",
   "language": "python",
   "name": "python3"
  },
  "language_info": {
   "codemirror_mode": {
    "name": "ipython",
    "version": 3
   },
   "file_extension": ".py",
   "mimetype": "text/x-python",
   "name": "python",
   "nbconvert_exporter": "python",
   "pygments_lexer": "ipython3",
   "version": "3.10.8"
  }
 },
 "nbformat": 4,
 "nbformat_minor": 5
}
