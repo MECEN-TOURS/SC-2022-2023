{
 "cells": [
  {
   "cell_type": "markdown",
   "id": "12ff0082-4fbc-4367-ae49-d60d55585355",
   "metadata": {},
   "source": [
    "# Interactions avec le système"
   ]
  },
  {
   "cell_type": "markdown",
   "id": "6873d9e3-8b95-4e21-86b8-fd7958e7f56a",
   "metadata": {},
   "source": [
    "## Système de fichiers: `pathlib`"
   ]
  },
  {
   "cell_type": "code",
   "execution_count": 1,
   "id": "b5a6c25d-144d-41f3-9447-01bf754a1ac2",
   "metadata": {},
   "outputs": [],
   "source": [
    "from pathlib import Path"
   ]
  },
  {
   "cell_type": "code",
   "execution_count": 2,
   "id": "3ce1ddeb-05f4-4068-8d06-0615bc704a6a",
   "metadata": {},
   "outputs": [
    {
     "data": {
      "text/plain": [
       "WindowsPath('.')"
      ]
     },
     "execution_count": 2,
     "metadata": {},
     "output_type": "execute_result"
    }
   ],
   "source": [
    "# Notation relative\n",
    "ici = Path(\".\")\n",
    "ici"
   ]
  },
  {
   "cell_type": "code",
   "execution_count": 3,
   "id": "48bff0b7-f10e-4e4e-ab0c-6b141dd6ddba",
   "metadata": {},
   "outputs": [
    {
     "data": {
      "text/plain": [
       "WindowsPath('C:/Users/perrollaz/Documents/sc10')"
      ]
     },
     "execution_count": 3,
     "metadata": {},
     "output_type": "execute_result"
    }
   ],
   "source": [
    "# Récupération chemin absolu\n",
    "ici = Path(\".\").resolve()\n",
    "ici"
   ]
  },
  {
   "cell_type": "code",
   "execution_count": 4,
   "id": "aa8dce23-b457-4575-9d26-a6405f306611",
   "metadata": {},
   "outputs": [
    {
     "data": {
      "text/plain": [
       "WindowsPath('C:/Users/perrollaz/Documents')"
      ]
     },
     "execution_count": 4,
     "metadata": {},
     "output_type": "execute_result"
    }
   ],
   "source": [
    "# dossier parent en notation relative\n",
    "au_dessus = Path(\"..\").resolve()\n",
    "au_dessus"
   ]
  },
  {
   "cell_type": "markdown",
   "id": "30b10bed-68cd-41fd-9306-ed52a0bdb514",
   "metadata": {},
   "source": [
    "**ATTENTION** le chemin ne signifie pas que le dossier ou le fichier existe."
   ]
  },
  {
   "cell_type": "code",
   "execution_count": 5,
   "id": "cccecee0-48e3-4bce-a549-57e79c783704",
   "metadata": {},
   "outputs": [
    {
     "data": {
      "text/plain": [
       "True"
      ]
     },
     "execution_count": 5,
     "metadata": {},
     "output_type": "execute_result"
    }
   ],
   "source": [
    "ici.exists()"
   ]
  },
  {
   "cell_type": "code",
   "execution_count": 7,
   "id": "f8d11d3d-0ce7-48ef-8b6f-f585d276ff85",
   "metadata": {},
   "outputs": [
    {
     "data": {
      "text/plain": [
       "False"
      ]
     },
     "execution_count": 7,
     "metadata": {},
     "output_type": "execute_result"
    }
   ],
   "source": [
    "Path(\".\\\\blabla\").exists()"
   ]
  },
  {
   "cell_type": "markdown",
   "id": "83b0f437-a5e3-4c47-9001-b082791596da",
   "metadata": {},
   "source": [
    "On peut faire la différence entre fichier et dossier."
   ]
  },
  {
   "cell_type": "code",
   "execution_count": 8,
   "id": "163370fa-bf72-462d-98e2-a142a1de4787",
   "metadata": {},
   "outputs": [
    {
     "data": {
      "text/plain": [
       "True"
      ]
     },
     "execution_count": 8,
     "metadata": {},
     "output_type": "execute_result"
    }
   ],
   "source": [
    "ici.is_dir()"
   ]
  },
  {
   "cell_type": "code",
   "execution_count": 9,
   "id": "a2590a7f-7c40-43bd-b1d3-48d06253d222",
   "metadata": {},
   "outputs": [
    {
     "data": {
      "text/plain": [
       "False"
      ]
     },
     "execution_count": 9,
     "metadata": {},
     "output_type": "execute_result"
    }
   ],
   "source": [
    "ici.is_file()"
   ]
  },
  {
   "cell_type": "markdown",
   "id": "c2d4ce5d-1bfb-429c-a5fb-4f17124052d6",
   "metadata": {},
   "source": [
    "On peut lister le contenu d'un répertoire."
   ]
  },
  {
   "cell_type": "code",
   "execution_count": 12,
   "id": "ad16e5d8-f2e8-4e6d-b766-064e7def1cca",
   "metadata": {},
   "outputs": [
    {
     "name": "stdout",
     "output_type": "stream",
     "text": [
      "C:\\Users\\perrollaz\\Documents\\sc10\\.ipynb_checkpoints\n",
      "False\n",
      "C:\\Users\\perrollaz\\Documents\\sc10\\lib_graphe.py\n",
      "True\n",
      "C:\\Users\\perrollaz\\Documents\\sc10\\test_graphe.py\n",
      "True\n",
      "C:\\Users\\perrollaz\\Documents\\sc10\\topo.ipynb\n",
      "True\n"
     ]
    }
   ],
   "source": [
    "# * correspond à n'importe quelle séquence de caractères\n",
    "for contenu in ici.glob(\"*\"):\n",
    "    print(contenu)\n",
    "    print(contenu.is_file())"
   ]
  },
  {
   "cell_type": "code",
   "execution_count": 13,
   "id": "7443c746-feb8-4def-877a-70c613bc246c",
   "metadata": {},
   "outputs": [
    {
     "name": "stdout",
     "output_type": "stream",
     "text": [
      "C:\\Users\\perrollaz\\Documents\\sc10\\lib_graphe.py\n",
      "True\n",
      "C:\\Users\\perrollaz\\Documents\\sc10\\test_graphe.py\n",
      "True\n"
     ]
    }
   ],
   "source": [
    "for contenu in ici.glob(\"*.py\"):\n",
    "    print(contenu)\n",
    "    print(contenu.is_file())"
   ]
  },
  {
   "cell_type": "code",
   "execution_count": 14,
   "id": "5f2766fd-0ce2-4933-afa4-a84e4b948300",
   "metadata": {},
   "outputs": [],
   "source": [
    "lib, test = ici.glob(\"*.py\")"
   ]
  },
  {
   "cell_type": "code",
   "execution_count": 15,
   "id": "4f32f4f8-86bd-481f-8b61-29b878f72d1e",
   "metadata": {},
   "outputs": [
    {
     "name": "stdout",
     "output_type": "stream",
     "text": [
      "\"\"\"Description.\n",
      "\n",
      "Classe permettant de reprÃ©senter un graphe pondÃ©rÃ©.\n",
      "On devra articuler cette classe avec l'algorithme de Bellman-Ford.\n",
      "\"\"\"\n",
      "from dataclasses import dataclass\n",
      "from typing import Generator\n",
      "\n",
      "\n",
      "@dataclass\n",
      "class GraphePondere:\n",
      "    sommets: list[str]\n",
      "    arretes: list[tuple[str, str, float]]\n",
      "\n",
      "    def __post_init__(self):\n",
      "        sommets_a_tester = set(self.sommets)\n",
      "        for depart, arrivee, poids in self.arretes:\n",
      "            if poids < 0:\n",
      "                raise ValueError(\"Les poids doivent Ãªtre positifs ou nuls!\")\n",
      "            if depart not in sommets_a_tester or arrivee not in sommets_a_tester:\n",
      "                raise ValueError(\"Les arrÃªtes doivent relier des sommets valables.\")\n",
      "\n",
      "    @classmethod\n",
      "    def symetrique(cls, sommets, arretes):\n",
      "        doublees = list()\n",
      "        for depart, arrivee, poids in arretes:\n",
      "            doublees.append((depart, arrivee, poids))\n",
      "            doublees.append((arrivee, depart, poids))\n",
      "        return cls(sommets=sommets, arretes=doublees)\n",
      "\n",
      "    def __eq__(self, autre) -> bool:\n",
      "        if type(autre) != type(self):\n",
      "            print(\"type\")\n",
      "            return False\n",
      "        if set(self.sommets) != set(autre.sommets):\n",
      "            print(\"sommets\")\n",
      "            return False\n",
      "        if set(self.arretes) != set(autre.arretes):\n",
      "            print(\"arretes\")\n",
      "            return False\n",
      "        return True\n",
      "    \n",
      "    def voisinage(self, sommet: str) -> Generator[tuple[str, float], None, None]:\n",
      "        for depart, arrivee, poids in self.arretes:\n",
      "            if sommet == depart:\n",
      "                yield (arrivee, poids)\n",
      "\n"
     ]
    }
   ],
   "source": [
    "code_lib = lib.read_text()\n",
    "print(code_lib)"
   ]
  },
  {
   "cell_type": "markdown",
   "id": "a3e1a15c-f8e9-422d-b40a-ed84245a49b9",
   "metadata": {},
   "source": [
    "On peut aussi créer des fichier et écrire dedans."
   ]
  },
  {
   "cell_type": "code",
   "execution_count": 16,
   "id": "9fe1b14e-0c14-44f5-8be8-4fc699661ed3",
   "metadata": {},
   "outputs": [
    {
     "data": {
      "text/plain": [
       "WindowsPath('C:/Users/perrollaz/Documents/sc10/mon_fichier')"
      ]
     },
     "execution_count": 16,
     "metadata": {},
     "output_type": "execute_result"
    }
   ],
   "source": [
    "# la barre de fraction sert de séparateur entre dossiers, sous dossiers et fichiers\n",
    "mon_chemin = ici / \"mon_fichier\"\n",
    "mon_chemin"
   ]
  },
  {
   "cell_type": "code",
   "execution_count": 17,
   "id": "44bba4ee-1d80-40e2-a599-16726adf06c0",
   "metadata": {},
   "outputs": [
    {
     "data": {
      "text/plain": [
       "False"
      ]
     },
     "execution_count": 17,
     "metadata": {},
     "output_type": "execute_result"
    }
   ],
   "source": [
    "mon_chemin.exists()"
   ]
  },
  {
   "cell_type": "code",
   "execution_count": 18,
   "id": "e92e1c50-20db-42ae-831c-47083c703f35",
   "metadata": {},
   "outputs": [],
   "source": [
    "mon_chemin.touch()"
   ]
  },
  {
   "cell_type": "code",
   "execution_count": 19,
   "id": "8fab6546-4d0a-4ad8-b17d-1780d77494a5",
   "metadata": {},
   "outputs": [
    {
     "data": {
      "text/plain": [
       "True"
      ]
     },
     "execution_count": 19,
     "metadata": {},
     "output_type": "execute_result"
    }
   ],
   "source": [
    "mon_chemin.exists()"
   ]
  },
  {
   "cell_type": "code",
   "execution_count": 22,
   "id": "a2338482-b2d7-4872-8a2f-dfbbb65359cb",
   "metadata": {},
   "outputs": [
    {
     "data": {
      "text/plain": [
       "45"
      ]
     },
     "execution_count": 22,
     "metadata": {},
     "output_type": "execute_result"
    }
   ],
   "source": [
    "contenu = \"\"\"première ligne\n",
    "deuxième ligne\n",
    "dernière ligne.\"\"\"\n",
    "mon_chemin.write_text(contenu, encoding=\"utf8\")"
   ]
  },
  {
   "cell_type": "markdown",
   "id": "d5a9d847-4322-4c58-b605-e98ae9ca9316",
   "metadata": {},
   "source": [
    "**ATTENTION** à l'encodage, on privilégiera utf8!"
   ]
  },
  {
   "cell_type": "code",
   "execution_count": 23,
   "id": "2ec0933b-30d0-4758-a4ae-fe1d500c9dda",
   "metadata": {},
   "outputs": [
    {
     "name": "stdout",
     "output_type": "stream",
     "text": [
      "\"\"\"Description.\n",
      "\n",
      "Classe permettant de représenter un graphe pondéré.\n",
      "On devra articuler cette classe avec l'algorithme de Bellman-Ford.\n",
      "\"\"\"\n",
      "from dataclasses import dataclass\n",
      "from typing import Generator\n",
      "\n",
      "\n",
      "@dataclass\n",
      "class GraphePondere:\n",
      "    sommets: list[str]\n",
      "    arretes: list[tuple[str, str, float]]\n",
      "\n",
      "    def __post_init__(self):\n",
      "        sommets_a_tester = set(self.sommets)\n",
      "        for depart, arrivee, poids in self.arretes:\n",
      "            if poids < 0:\n",
      "                raise ValueError(\"Les poids doivent être positifs ou nuls!\")\n",
      "            if depart not in sommets_a_tester or arrivee not in sommets_a_tester:\n",
      "                raise ValueError(\"Les arrêtes doivent relier des sommets valables.\")\n",
      "\n",
      "    @classmethod\n",
      "    def symetrique(cls, sommets, arretes):\n",
      "        doublees = list()\n",
      "        for depart, arrivee, poids in arretes:\n",
      "            doublees.append((depart, arrivee, poids))\n",
      "            doublees.append((arrivee, depart, poids))\n",
      "        return cls(sommets=sommets, arretes=doublees)\n",
      "\n",
      "    def __eq__(self, autre) -> bool:\n",
      "        if type(autre) != type(self):\n",
      "            print(\"type\")\n",
      "            return False\n",
      "        if set(self.sommets) != set(autre.sommets):\n",
      "            print(\"sommets\")\n",
      "            return False\n",
      "        if set(self.arretes) != set(autre.arretes):\n",
      "            print(\"arretes\")\n",
      "            return False\n",
      "        return True\n",
      "    \n",
      "    def voisinage(self, sommet: str) -> Generator[tuple[str, float], None, None]:\n",
      "        for depart, arrivee, poids in self.arretes:\n",
      "            if sommet == depart:\n",
      "                yield (arrivee, poids)\n",
      "\n"
     ]
    }
   ],
   "source": [
    "# Reprise du code de la librairie pour décoder les accents proprement!\n",
    "code_lib = lib.read_text(encoding='utf8')\n",
    "print(code_lib)"
   ]
  },
  {
   "cell_type": "code",
   "execution_count": 24,
   "id": "177d819c-97a5-43b9-b7b1-cfd8e66777d4",
   "metadata": {},
   "outputs": [
    {
     "name": "stdout",
     "output_type": "stream",
     "text": [
      "b'\"\"\"Description.\\n\\nClasse permettant de repr\\xc3\\xa9senter un graphe pond\\xc3\\xa9r\\xc3\\xa9.\\nOn devra articuler cette classe avec l\\'algorithme de Bellman-Ford.\\n\"\"\"\\nfrom dataclasses import dataclass\\nfrom typing import Generator\\n\\n\\n@dataclass\\nclass GraphePondere:\\n    sommets: list[str]\\n    arretes: list[tuple[str, str, float]]\\n\\n    def __post_init__(self):\\n        sommets_a_tester = set(self.sommets)\\n        for depart, arrivee, poids in self.arretes:\\n            if poids < 0:\\n                raise ValueError(\"Les poids doivent \\xc3\\xaatre positifs ou nuls!\")\\n            if depart not in sommets_a_tester or arrivee not in sommets_a_tester:\\n                raise ValueError(\"Les arr\\xc3\\xaates doivent relier des sommets valables.\")\\n\\n    @classmethod\\n    def symetrique(cls, sommets, arretes):\\n        doublees = list()\\n        for depart, arrivee, poids in arretes:\\n            doublees.append((depart, arrivee, poids))\\n            doublees.append((arrivee, depart, poids))\\n        return cls(sommets=sommets, arretes=doublees)\\n\\n    def __eq__(self, autre) -> bool:\\n        if type(autre) != type(self):\\n            print(\"type\")\\n            return False\\n        if set(self.sommets) != set(autre.sommets):\\n            print(\"sommets\")\\n            return False\\n        if set(self.arretes) != set(autre.arretes):\\n            print(\"arretes\")\\n            return False\\n        return True\\n    \\n    def voisinage(self, sommet: str) -> Generator[tuple[str, float], None, None]:\\n        for depart, arrivee, poids in self.arretes:\\n            if sommet == depart:\\n                yield (arrivee, poids)\\n'\n"
     ]
    }
   ],
   "source": [
    "# si on veut le contenu brut du fichier.\n",
    "code_lib = lib.read_bytes()\n",
    "print(code_lib)"
   ]
  },
  {
   "cell_type": "markdown",
   "id": "d27400e3-8b96-47eb-a672-6309efcb8db6",
   "metadata": {},
   "source": [
    "**REMARQUE** pour supprimer des fichiers."
   ]
  },
  {
   "cell_type": "code",
   "execution_count": 51,
   "id": "6a7f57bf-6d5d-4c7e-8cc1-2397789fcbf9",
   "metadata": {},
   "outputs": [
    {
     "data": {
      "text/plain": [
       "True"
      ]
     },
     "execution_count": 51,
     "metadata": {},
     "output_type": "execute_result"
    }
   ],
   "source": [
    "chemin_test = ici / \"mon_fichier_test\"\n",
    "chemin_test.touch()\n",
    "chemin_test.exists()"
   ]
  },
  {
   "cell_type": "code",
   "execution_count": 52,
   "id": "be6b8dbe-98ec-4d20-854c-2efd5ad01762",
   "metadata": {},
   "outputs": [
    {
     "data": {
      "text/plain": [
       "False"
      ]
     },
     "execution_count": 52,
     "metadata": {},
     "output_type": "execute_result"
    }
   ],
   "source": [
    "chemin_test.unlink()\n",
    "chemin_test.exists()"
   ]
  },
  {
   "cell_type": "markdown",
   "id": "1249029d-a75e-43db-b2e1-d9fdd5fc82d1",
   "metadata": {},
   "source": [
    "## Manipulation de fichiers: shutil"
   ]
  },
  {
   "cell_type": "code",
   "execution_count": 25,
   "id": "7c1e361c-ff8b-472b-b73d-a3694aa0d096",
   "metadata": {},
   "outputs": [],
   "source": [
    "import shutil"
   ]
  },
  {
   "cell_type": "code",
   "execution_count": 26,
   "id": "bb8ed17f-cb60-4794-874f-57d63bb97455",
   "metadata": {},
   "outputs": [
    {
     "data": {
      "text/plain": [
       "'.\\\\autre_nom'"
      ]
     },
     "execution_count": 26,
     "metadata": {},
     "output_type": "execute_result"
    }
   ],
   "source": [
    "# renommer\n",
    "shutil.move(\".\\\\mon_fichier\", \".\\\\autre_nom\")"
   ]
  },
  {
   "cell_type": "code",
   "execution_count": 27,
   "id": "76c1db02-1b2d-4677-ab31-fcaf1f738e5e",
   "metadata": {},
   "outputs": [
    {
     "data": {
      "text/plain": [
       "'..\\\\autre_nom'"
      ]
     },
     "execution_count": 27,
     "metadata": {},
     "output_type": "execute_result"
    }
   ],
   "source": [
    "# couper/coller\n",
    "shutil.move(\".\\\\autre_nom\", \"..\\\\autre_nom\")"
   ]
  },
  {
   "cell_type": "code",
   "execution_count": 28,
   "id": "0344e5e6-01bd-49b9-b3e4-a37e80e916f4",
   "metadata": {},
   "outputs": [
    {
     "data": {
      "text/plain": [
       "'.\\\\autre_nom'"
      ]
     },
     "execution_count": 28,
     "metadata": {},
     "output_type": "execute_result"
    }
   ],
   "source": [
    "# copier/coller\n",
    "shutil.copy(\"..\\\\autre_nom\", \".\")"
   ]
  },
  {
   "cell_type": "markdown",
   "id": "99901f79-8a74-4e49-96e3-db987a1ec790",
   "metadata": {},
   "source": [
    "## Exécuter une commande: subprocess"
   ]
  },
  {
   "cell_type": "code",
   "execution_count": 30,
   "id": "9462acf0-baf2-4ae5-9780-73a44eebd4fc",
   "metadata": {},
   "outputs": [],
   "source": [
    "import subprocess as sp"
   ]
  },
  {
   "cell_type": "code",
   "execution_count": 32,
   "id": "f44223ae-5961-4c09-bbf3-3ad168b1466d",
   "metadata": {},
   "outputs": [
    {
     "data": {
      "text/plain": [
       "CompletedProcess(args=['pytest'], returncode=0)"
      ]
     },
     "execution_count": 32,
     "metadata": {},
     "output_type": "execute_result"
    }
   ],
   "source": [
    "# lancer une commande\n",
    "# les éléments séparés dans le terminal par des espaces sont passés\n",
    "# comme des éléments distincts d'une liste\n",
    "sp.run([\"pytest\"])"
   ]
  },
  {
   "cell_type": "markdown",
   "id": "696b0ef2-ccdf-4110-a4c8-d12b64bdd09c",
   "metadata": {},
   "source": [
    "**REMARQUE** si returncode n'est pas 0, c'est qu'il y a eu une erreur!"
   ]
  },
  {
   "cell_type": "code",
   "execution_count": 33,
   "id": "f9595c6e-e35c-4f37-97da-7e9c5e64c5a8",
   "metadata": {},
   "outputs": [
    {
     "data": {
      "text/plain": [
       "CompletedProcess(args=['python', '-m', 'pytest'], returncode=0)"
      ]
     },
     "execution_count": 33,
     "metadata": {},
     "output_type": "execute_result"
    }
   ],
   "source": [
    "sp.run([\"python\", \"-m\", \"pytest\"])"
   ]
  },
  {
   "cell_type": "code",
   "execution_count": 34,
   "id": "2b0341eb-e2ab-4eee-8346-6bbb5a545def",
   "metadata": {},
   "outputs": [],
   "source": [
    "resultat = sp.run([\"python\", \"-m\", \"pytest\"])"
   ]
  },
  {
   "cell_type": "code",
   "execution_count": 35,
   "id": "ac0ebd6a-6947-4e4a-a29f-6451ee8d56da",
   "metadata": {},
   "outputs": [
    {
     "data": {
      "text/plain": [
       "subprocess.CompletedProcess"
      ]
     },
     "execution_count": 35,
     "metadata": {},
     "output_type": "execute_result"
    }
   ],
   "source": [
    "type(resultat)"
   ]
  },
  {
   "cell_type": "code",
   "execution_count": 37,
   "id": "1e1c222b-bd0f-46a8-90c8-56a6599844ca",
   "metadata": {},
   "outputs": [
    {
     "data": {
      "text/plain": [
       "0"
      ]
     },
     "execution_count": 37,
     "metadata": {},
     "output_type": "execute_result"
    }
   ],
   "source": [
    "resultat.returncode"
   ]
  },
  {
   "cell_type": "code",
   "execution_count": 38,
   "id": "c069cfd4-65b5-4899-9ae6-fadb433f8f9f",
   "metadata": {},
   "outputs": [],
   "source": [
    "resultat.stdout"
   ]
  },
  {
   "cell_type": "code",
   "execution_count": 39,
   "id": "6bbf8e23-5365-410a-9879-3ed763a2c0d6",
   "metadata": {},
   "outputs": [],
   "source": [
    "# pour récupérer l'affichage d'une commande\n",
    "# on passe l'option catpure_output\n",
    "resultat = sp.run([\"python\", \"-m\", \"pytest\"], capture_output=True)"
   ]
  },
  {
   "cell_type": "code",
   "execution_count": 40,
   "id": "d89b8bc7-c0e6-4c15-bbfb-6981feb63649",
   "metadata": {},
   "outputs": [
    {
     "data": {
      "text/plain": [
       "b'\\x1b[1m============================= test session starts =============================\\x1b[0m\\r\\nplatform win32 -- Python 3.10.8, pytest-7.2.0, pluggy-1.0.0\\r\\nrootdir: C:\\\\Users\\\\perrollaz\\\\Documents\\\\sc10\\r\\nplugins: anyio-3.6.2, pylama-8.4.1\\r\\ncollected 5 items\\r\\n\\r\\ntest_graphe.py \\x1b[32m.\\x1b[0m\\x1b[32m.\\x1b[0m\\x1b[32m.\\x1b[0m\\x1b[32m.\\x1b[0m\\x1b[32m.\\x1b[0m\\x1b[32m                                                     [100%]\\x1b[0m\\r\\n\\r\\n\\x1b[32m============================== \\x1b[32m\\x1b[1m5 passed\\x1b[0m\\x1b[32m in 0.02s\\x1b[0m\\x1b[32m ==============================\\x1b[0m\\r\\n'"
      ]
     },
     "execution_count": 40,
     "metadata": {},
     "output_type": "execute_result"
    }
   ],
   "source": [
    "# et on récupère l'attribut stdout\n",
    "resultat.stdout"
   ]
  },
  {
   "cell_type": "code",
   "execution_count": 41,
   "id": "9261dfe1-7496-4d8d-a124-2b87397f23e8",
   "metadata": {},
   "outputs": [
    {
     "data": {
      "text/plain": [
       "b''"
      ]
     },
     "execution_count": 41,
     "metadata": {},
     "output_type": "execute_result"
    }
   ],
   "source": [
    "# les messages d'erreurs sont eux dans l'attribut stderr\n",
    "resultat.stderr"
   ]
  },
  {
   "cell_type": "markdown",
   "id": "14e2e9df-ec5e-4c11-83f4-aa81c97662f3",
   "metadata": {},
   "source": [
    "**ATTENTION** on récupères des bytes et pas des str, il faut décoder."
   ]
  },
  {
   "cell_type": "code",
   "execution_count": 45,
   "id": "a1870371-cdee-4b69-9f2a-047b451cdd71",
   "metadata": {},
   "outputs": [
    {
     "name": "stdout",
     "output_type": "stream",
     "text": [
      "b'\\x1b[1m============================= test session starts =============================\\x1b[0m\\r\\nplatform win32 -- Python 3.10.8, pytest-7.2.0, pluggy-1.0.0\\r\\nrootdir: C:\\\\Users\\\\perrollaz\\\\Documents\\\\sc10\\r\\nplugins: anyio-3.6.2, pylama-8.4.1\\r\\ncollected 5 items\\r\\n\\r\\ntest_graphe.py \\x1b[32m.\\x1b[0m\\x1b[32m.\\x1b[0m\\x1b[32m.\\x1b[0m\\x1b[32m.\\x1b[0m\\x1b[32m.\\x1b[0m\\x1b[32m                                                     [100%]\\x1b[0m\\r\\n\\r\\n\\x1b[32m============================== \\x1b[32m\\x1b[1m5 passed\\x1b[0m\\x1b[32m in 0.02s\\x1b[0m\\x1b[32m ==============================\\x1b[0m\\r\\n'\n"
     ]
    }
   ],
   "source": [
    "print(resultat.stdout)"
   ]
  },
  {
   "cell_type": "code",
   "execution_count": 46,
   "id": "159a99e1-2d17-49eb-82c5-271f3ff4eff3",
   "metadata": {},
   "outputs": [
    {
     "name": "stdout",
     "output_type": "stream",
     "text": [
      "\u001b[1m============================= test session starts =============================\u001b[0m\n",
      "platform win32 -- Python 3.10.8, pytest-7.2.0, pluggy-1.0.0\n",
      "rootdir: C:\\Users\\perrollaz\\Documents\\sc10\n",
      "plugins: anyio-3.6.2, pylama-8.4.1\n",
      "collected 5 items\n",
      "\n",
      "test_graphe.py \u001b[32m.\u001b[0m\u001b[32m.\u001b[0m\u001b[32m.\u001b[0m\u001b[32m.\u001b[0m\u001b[32m.\u001b[0m\u001b[32m                                                     [100%]\u001b[0m\n",
      "\n",
      "\u001b[32m============================== \u001b[32m\u001b[1m5 passed\u001b[0m\u001b[32m in 0.02s\u001b[0m\u001b[32m ==============================\u001b[0m\n",
      "\n"
     ]
    }
   ],
   "source": [
    "print(resultat.stdout.decode(encoding=\"utf8\"))"
   ]
  },
  {
   "cell_type": "code",
   "execution_count": 47,
   "id": "ee930510-3caa-4e23-84c3-639394e10cea",
   "metadata": {},
   "outputs": [
    {
     "name": "stdout",
     "output_type": "stream",
     "text": [
      "\n"
     ]
    }
   ],
   "source": [
    "print(sp.run([\"python\", \"-m\", \"mypy\"], capture_output=True).stdout.decode())"
   ]
  },
  {
   "cell_type": "code",
   "execution_count": 48,
   "id": "7273e5fe-a68b-4334-8da7-32276c7ef46a",
   "metadata": {},
   "outputs": [
    {
     "name": "stdout",
     "output_type": "stream",
     "text": [
      "usage: mypy [-h] [-v] [-V] [more options; see below]\n",
      "            [-m MODULE] [-p PACKAGE] [-c PROGRAM_TEXT] [files ...]\n",
      "mypy: error: Missing target module, package, files, or command.\n",
      "\n"
     ]
    }
   ],
   "source": [
    "print(sp.run([\"python\", \"-m\", \"mypy\"], capture_output=True).stderr.decode())"
   ]
  },
  {
   "cell_type": "code",
   "execution_count": 49,
   "id": "e24f5f03-7ddd-40ff-9011-a02830dd1ca8",
   "metadata": {},
   "outputs": [
    {
     "name": "stdout",
     "output_type": "stream",
     "text": [
      "\n"
     ]
    }
   ],
   "source": [
    "print(sp.run([\"python\", \"-m\", \"mypy\", \".\"], capture_output=True).stderr.decode())"
   ]
  },
  {
   "cell_type": "code",
   "execution_count": 50,
   "id": "5167c502-4b52-414c-863d-35fb70f7a3c0",
   "metadata": {},
   "outputs": [
    {
     "name": "stdout",
     "output_type": "stream",
     "text": [
      "\u001b[1m\u001b[92mSuccess: no issues found in 2 source files\u001b[0m\n",
      "\n"
     ]
    }
   ],
   "source": [
    "print(sp.run([\"python\", \"-m\", \"mypy\", \".\"], capture_output=True).stdout.decode())"
   ]
  }
 ],
 "metadata": {
  "kernelspec": {
   "display_name": "Python 3 (ipykernel)",
   "language": "python",
   "name": "python3"
  },
  "language_info": {
   "codemirror_mode": {
    "name": "ipython",
    "version": 3
   },
   "file_extension": ".py",
   "mimetype": "text/x-python",
   "name": "python",
   "nbconvert_exporter": "python",
   "pygments_lexer": "ipython3",
   "version": "3.10.8"
  }
 },
 "nbformat": 4,
 "nbformat_minor": 5
}
