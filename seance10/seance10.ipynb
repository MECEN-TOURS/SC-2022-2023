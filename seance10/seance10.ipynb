{
 "cells": [
  {
   "cell_type": "markdown",
   "id": "7a66d562-1bca-4a99-9837-210445deec17",
   "metadata": {},
   "source": [
    "# Prise en main de networkx"
   ]
  },
  {
   "cell_type": "markdown",
   "id": "f41bdde8-f6fb-4c07-8b3a-77fb9a50a3d7",
   "metadata": {},
   "source": [
    "**REMARQUE** de manière générale, pour résoudre un problème donné *concret* on a rarement à implémenter soit même un algorithme. \n",
    "On essaye plutôt de modéliser le problème à l'aide de structures de données classiques (ici graphes) et en terme de problèmes classiques (trouver un chemin, trouver le chemin le plus *court*, ...).\n",
    "On codera alors juste la passerelle entre la description du problème concret et la librairie existante qu'on importera juste.\n",
    "On va ici explorer une librairie classique pour traiter de graphes."
   ]
  },
  {
   "cell_type": "code",
   "execution_count": 1,
   "id": "7dab61b2-3631-47fe-90f7-d772ba00b4da",
   "metadata": {},
   "outputs": [],
   "source": [
    "import networkx as nx"
   ]
  },
  {
   "cell_type": "markdown",
   "id": "5bbc15ec-e2b3-4ad6-9eaa-73165fbce8a4",
   "metadata": {},
   "source": [
    "## Exercice\n",
    "\n",
    "1. Trouver comment encoder le graphe de la carte de france de la séance précédente.\n",
    "2. Trouver le chemin le plus court entre Paris et Montpellier"
   ]
  },
  {
   "cell_type": "markdown",
   "id": "26b95caa-08f7-40a8-a715-61a41c73d0ef",
   "metadata": {},
   "source": [
    "## Question 1"
   ]
  },
  {
   "cell_type": "code",
   "execution_count": 2,
   "id": "77352660-2af8-41f2-b8db-ea788ce6a7e9",
   "metadata": {},
   "outputs": [
    {
     "data": {
      "text/plain": [
       "<networkx.classes.graph.Graph at 0x1ae533d71f0>"
      ]
     },
     "execution_count": 2,
     "metadata": {},
     "output_type": "execute_result"
    }
   ],
   "source": [
    "g = nx.Graph()\n",
    "g"
   ]
  },
  {
   "cell_type": "code",
   "execution_count": 3,
   "id": "23dc59c3-ed85-407c-b7eb-8382d56afb1e",
   "metadata": {},
   "outputs": [],
   "source": [
    "g.add_node(\"Paris\")"
   ]
  },
  {
   "cell_type": "code",
   "execution_count": 4,
   "id": "f4f1bd23-f89e-4036-8ef6-97d7c454d8a1",
   "metadata": {},
   "outputs": [
    {
     "data": {
      "text/plain": [
       "<networkx.classes.graph.Graph at 0x1ae533d71f0>"
      ]
     },
     "execution_count": 4,
     "metadata": {},
     "output_type": "execute_result"
    }
   ],
   "source": [
    "g"
   ]
  },
  {
   "cell_type": "code",
   "execution_count": 5,
   "id": "fb81f6af-714e-4ac4-808b-7647d455971d",
   "metadata": {},
   "outputs": [
    {
     "name": "stdout",
     "output_type": "stream",
     "text": [
      "Graph with 1 nodes and 0 edges\n"
     ]
    }
   ],
   "source": [
    "print(g)"
   ]
  },
  {
   "cell_type": "code",
   "execution_count": 6,
   "id": "d1990bd7-caa1-453b-8d57-477b87333c35",
   "metadata": {},
   "outputs": [],
   "source": [
    "g.add_nodes_from(\n",
    "    [\n",
    "        \"Paris\", \n",
    "        \"Lyon\", \n",
    "        \"Tours\", \n",
    "        \"Nantes\", \n",
    "        \"StEtienne\", \n",
    "        \"Bordeaux\", \n",
    "        \"Clermont\", \n",
    "        \"Toulouse\", \n",
    "        \"Montpellier\", \n",
    "        \"Avignon\", \n",
    "        \"Marseille\", \n",
    "        \"Nice\"\n",
    "    ]\n",
    ")"
   ]
  },
  {
   "cell_type": "code",
   "execution_count": 7,
   "id": "da1b95af-1ed1-4016-bfd5-222c519d6bcb",
   "metadata": {},
   "outputs": [
    {
     "name": "stdout",
     "output_type": "stream",
     "text": [
      "Graph with 12 nodes and 0 edges\n"
     ]
    }
   ],
   "source": [
    "print(g)"
   ]
  },
  {
   "cell_type": "code",
   "execution_count": 8,
   "id": "b2cbb6b2-f8b1-46eb-8d48-632354eca94e",
   "metadata": {},
   "outputs": [],
   "source": [
    "g.add_edges_from(\n",
    "    [\n",
    "        (\"Paris\", \"Tours\"),\n",
    "        (\"Paris\", \"Lyon\"),\n",
    "        (\"Paris\", \"StEtienne\"),\n",
    "        (\"Tours\", \"Nantes\"),\n",
    "        (\"Tours\", \"Bordeaux\"),\n",
    "        (\"Nantes\", \"Bordeaux\"),\n",
    "        (\"Bordeaux\", \"Toulouse\"),\n",
    "        (\"Toulouse\", \"Montpellier\"),\n",
    "        (\"Montpellier\", \"Clermont\"),\n",
    "        (\"Montpellier\", \"Avignon\"),\n",
    "        (\"Clermont\", \"StEtienne\"),\n",
    "        (\"Avignon\", \"Marseille\"),\n",
    "        (\"Marseille\", \"Nice\"),\n",
    "        (\"Avignon\", \"Lyon\"),\n",
    "        (\"StEtienne\", \"Lyon\"),\n",
    "    ]\n",
    ")"
   ]
  },
  {
   "cell_type": "code",
   "execution_count": 9,
   "id": "9c63c227-4f11-4809-ab11-99badc305168",
   "metadata": {},
   "outputs": [
    {
     "name": "stdout",
     "output_type": "stream",
     "text": [
      "Graph with 12 nodes and 15 edges\n"
     ]
    }
   ],
   "source": [
    "print(g)"
   ]
  },
  {
   "cell_type": "code",
   "execution_count": 10,
   "id": "6003625c-ca3e-404d-8cd7-720e4c4771ed",
   "metadata": {},
   "outputs": [
    {
     "data": {
      "text/plain": [
       "NodeView(('Paris', 'Lyon', 'Tours', 'Nantes', 'StEtienne', 'Bordeaux', 'Clermont', 'Toulouse', 'Montpellier', 'Avignon', 'Marseille', 'Nice'))"
      ]
     },
     "execution_count": 10,
     "metadata": {},
     "output_type": "execute_result"
    }
   ],
   "source": [
    "g.nodes"
   ]
  },
  {
   "cell_type": "code",
   "execution_count": 11,
   "id": "3bc4905f-34a9-47c7-a148-0d2838624b40",
   "metadata": {},
   "outputs": [
    {
     "data": {
      "text/plain": [
       "EdgeView([('Paris', 'Tours'), ('Paris', 'Lyon'), ('Paris', 'StEtienne'), ('Lyon', 'Avignon'), ('Lyon', 'StEtienne'), ('Tours', 'Nantes'), ('Tours', 'Bordeaux'), ('Nantes', 'Bordeaux'), ('StEtienne', 'Clermont'), ('Bordeaux', 'Toulouse'), ('Clermont', 'Montpellier'), ('Toulouse', 'Montpellier'), ('Montpellier', 'Avignon'), ('Avignon', 'Marseille'), ('Marseille', 'Nice')])"
      ]
     },
     "execution_count": 11,
     "metadata": {},
     "output_type": "execute_result"
    }
   ],
   "source": [
    "g.edges"
   ]
  },
  {
   "cell_type": "code",
   "execution_count": 12,
   "id": "9facfe32-40e7-431b-9d4c-c9ac53bba581",
   "metadata": {},
   "outputs": [
    {
     "data": {
      "text/plain": [
       "AtlasView({'Tours': {}, 'Lyon': {}, 'StEtienne': {}})"
      ]
     },
     "execution_count": 12,
     "metadata": {},
     "output_type": "execute_result"
    }
   ],
   "source": [
    "g[\"Paris\"]"
   ]
  },
  {
   "cell_type": "code",
   "execution_count": 13,
   "id": "b7be1a53-073c-46ed-a8ca-f4f6c611a08e",
   "metadata": {},
   "outputs": [],
   "source": [
    "france = nx.Graph()\n",
    "france.add_edges_from(\n",
    "    [\n",
    "        (\"Paris\", \"Tours\", {\"temps\": 1}),\n",
    "        (\"Paris\", \"Lyon\", {\"temps\": 2}),\n",
    "        (\"Paris\", \"StEtienne\", {\"temps\": 1}),\n",
    "        (\"Tours\", \"Nantes\", {\"temps\": 1}),\n",
    "        (\"Tours\", \"Bordeaux\", {\"temps\": 1}),\n",
    "        (\"Nantes\", \"Bordeaux\", {\"temps\": 1}),\n",
    "        (\"Bordeaux\", \"Toulouse\", {\"temps\": 2}),\n",
    "        (\"Toulouse\", \"Montpellier\", {\"temps\": 4}),\n",
    "        (\"Montpellier\", \"Clermont\", {\"temps\": 1}),\n",
    "        (\"Montpellier\", \"Avignon\", {\"temps\": 2}),\n",
    "        (\"Clermont\", \"StEtienne\", {\"temps\": 1}),\n",
    "        (\"Avignon\", \"Marseille\", {\"temps\": 1}),\n",
    "        (\"Marseille\", \"Nice\", {\"temps\": 10}),\n",
    "        (\"Avignon\", \"Lyon\", {\"temps\": 3}),\n",
    "        (\"StEtienne\", \"Lyon\", {\"temps\": 2}),\n",
    "    ]\n",
    ")"
   ]
  },
  {
   "cell_type": "code",
   "execution_count": 14,
   "id": "5621bfb9-a1e4-44d9-aba7-076762a7b572",
   "metadata": {},
   "outputs": [
    {
     "name": "stdout",
     "output_type": "stream",
     "text": [
      "Graph with 12 nodes and 15 edges\n"
     ]
    }
   ],
   "source": [
    "print(france)"
   ]
  },
  {
   "cell_type": "code",
   "execution_count": 15,
   "id": "e6e62ae7-8538-493f-b4aa-1123a9b68b9c",
   "metadata": {},
   "outputs": [
    {
     "data": {
      "text/plain": [
       "AtlasView({'Tours': {'temps': 1}, 'Lyon': {'temps': 2}, 'StEtienne': {'temps': 1}})"
      ]
     },
     "execution_count": 15,
     "metadata": {},
     "output_type": "execute_result"
    }
   ],
   "source": [
    "france[\"Paris\"]"
   ]
  },
  {
   "cell_type": "code",
   "execution_count": 16,
   "id": "15d8f6d9-24f9-422a-bb30-f74405eedfd6",
   "metadata": {},
   "outputs": [
    {
     "data": {
      "text/plain": [
       "AtlasView({'Paris': {'temps': 1}, 'Nantes': {'temps': 1}, 'Bordeaux': {'temps': 1}})"
      ]
     },
     "execution_count": 16,
     "metadata": {},
     "output_type": "execute_result"
    }
   ],
   "source": [
    "france[\"Tours\"]"
   ]
  },
  {
   "cell_type": "markdown",
   "id": "30c0876b-0279-47b9-a24a-6ee97f6331e0",
   "metadata": {},
   "source": [
    "## Question 2"
   ]
  },
  {
   "cell_type": "code",
   "execution_count": 20,
   "id": "82ede111-0621-4691-a57c-529c3ed7791f",
   "metadata": {},
   "outputs": [
    {
     "data": {
      "text/plain": [
       "['Paris', 'StEtienne', 'Clermont', 'Montpellier']"
      ]
     },
     "execution_count": 20,
     "metadata": {},
     "output_type": "execute_result"
    }
   ],
   "source": [
    "nx.shortest_path(france, source=\"Paris\", target=\"Montpellier\", weight=\"temps\")"
   ]
  },
  {
   "cell_type": "code",
   "execution_count": null,
   "id": "a3753276-a099-458e-9d21-998ebd68a66c",
   "metadata": {},
   "outputs": [],
   "source": [
    "# Attention le graphe doit être le premier argument et sans keywords"
   ]
  },
  {
   "cell_type": "code",
   "execution_count": 21,
   "id": "b1154a0f-430a-497e-a7a5-327a0f310b10",
   "metadata": {},
   "outputs": [
    {
     "ename": "IndexError",
     "evalue": "tuple index out of range",
     "output_type": "error",
     "traceback": [
      "\u001b[1;31m---------------------------------------------------------------------------\u001b[0m",
      "\u001b[1;31mIndexError\u001b[0m                                Traceback (most recent call last)",
      "Cell \u001b[1;32mIn[21], line 1\u001b[0m\n\u001b[1;32m----> 1\u001b[0m \u001b[43mnx\u001b[49m\u001b[38;5;241;43m.\u001b[39;49m\u001b[43mshortest_path\u001b[49m\u001b[43m(\u001b[49m\u001b[43mG\u001b[49m\u001b[38;5;241;43m=\u001b[39;49m\u001b[43mfrance\u001b[49m\u001b[43m,\u001b[49m\u001b[43m \u001b[49m\u001b[43msource\u001b[49m\u001b[38;5;241;43m=\u001b[39;49m\u001b[38;5;124;43m\"\u001b[39;49m\u001b[38;5;124;43mParis\u001b[39;49m\u001b[38;5;124;43m\"\u001b[39;49m\u001b[43m,\u001b[49m\u001b[43m \u001b[49m\u001b[43mtarget\u001b[49m\u001b[38;5;241;43m=\u001b[39;49m\u001b[38;5;124;43m\"\u001b[39;49m\u001b[38;5;124;43mMontpellier\u001b[39;49m\u001b[38;5;124;43m\"\u001b[39;49m\u001b[43m,\u001b[49m\u001b[43m \u001b[49m\u001b[43mweight\u001b[49m\u001b[38;5;241;43m=\u001b[39;49m\u001b[38;5;124;43m\"\u001b[39;49m\u001b[38;5;124;43mtemps\u001b[39;49m\u001b[38;5;124;43m\"\u001b[39;49m\u001b[43m)\u001b[49m\n",
      "File \u001b[1;32m~\\.conda\\envs\\ajour\\lib\\site-packages\\networkx\\classes\\backends.py:134\u001b[0m, in \u001b[0;36m_dispatch.<locals>.wrapper\u001b[1;34m(*args, **kwds)\u001b[0m\n\u001b[0;32m    132\u001b[0m \u001b[38;5;129m@functools\u001b[39m\u001b[38;5;241m.\u001b[39mwraps(func)\n\u001b[0;32m    133\u001b[0m \u001b[38;5;28;01mdef\u001b[39;00m \u001b[38;5;21mwrapper\u001b[39m(\u001b[38;5;241m*\u001b[39margs, \u001b[38;5;241m*\u001b[39m\u001b[38;5;241m*\u001b[39mkwds):\n\u001b[1;32m--> 134\u001b[0m     graph \u001b[38;5;241m=\u001b[39m \u001b[43margs\u001b[49m\u001b[43m[\u001b[49m\u001b[38;5;241;43m0\u001b[39;49m\u001b[43m]\u001b[49m\n\u001b[0;32m    135\u001b[0m     \u001b[38;5;28;01mif\u001b[39;00m \u001b[38;5;28mhasattr\u001b[39m(graph, \u001b[38;5;124m\"\u001b[39m\u001b[38;5;124m__networkx_plugin__\u001b[39m\u001b[38;5;124m\"\u001b[39m) \u001b[38;5;129;01mand\u001b[39;00m plugins:\n\u001b[0;32m    136\u001b[0m         plugin_name \u001b[38;5;241m=\u001b[39m graph\u001b[38;5;241m.\u001b[39m__networkx_plugin__\n",
      "\u001b[1;31mIndexError\u001b[0m: tuple index out of range"
     ]
    }
   ],
   "source": [
    "nx.shortest_path(G=france, source=\"Paris\", target=\"Montpellier\", weight=\"temps\")"
   ]
  },
  {
   "cell_type": "code",
   "execution_count": 24,
   "id": "7cb4d5bc-b1d2-422b-8512-cb1a2d8cdd66",
   "metadata": {},
   "outputs": [
    {
     "data": {
      "image/png": "[encoded data removed]",
      "text/plain": [
       "<Figure size 640x480 with 1 Axes>"
      ]
     },
     "metadata": {},
     "output_type": "display_data"
    }
   ],
   "source": [
    "# A suivre\n",
    "nx.draw(france)"
   ]
  },
  {
   "cell_type": "code",
   "execution_count": null,
   "id": "694baac6-ad46-4fe0-a367-e2c0ebada1d1",
   "metadata": {},
   "outputs": [],
   "source": []
  }
 ],
 "metadata": {
  "kernelspec": {
   "display_name": "Python 3 (ipykernel)",
   "language": "python",
   "name": "python3"
  },
  "language_info": {
   "codemirror_mode": {
    "name": "ipython",
    "version": 3
   },
   "file_extension": ".py",
   "mimetype": "text/x-python",
   "name": "python",
   "nbconvert_exporter": "python",
   "pygments_lexer": "ipython3",
   "version": "3.10.8"
  }
 },
 "nbformat": 4,
 "nbformat_minor": 5
}
